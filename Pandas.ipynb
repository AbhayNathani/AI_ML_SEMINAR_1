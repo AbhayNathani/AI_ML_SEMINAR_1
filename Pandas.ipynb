{
 "cells": [
  {
   "cell_type": "markdown",
   "id": "38dfd3fe",
   "metadata": {},
   "source": [
    "# Pandas"
   ]
  },
  {
   "cell_type": "markdown",
   "id": "9da5d730",
   "metadata": {},
   "source": [
    "---\n",
    "![pandas](./img/pandas.jpg)\n",
    "### A powerful Python library for data manipulation and analysis, providing easy-to-use data structures like DataFrame and Series, ideal for handling structured data and performing complex operations efficiently."
   ]
  },
  {
   "cell_type": "code",
   "execution_count": null,
   "id": "5b560f2c",
   "metadata": {},
   "outputs": [],
   "source": [
    "# Importing Pandas library\n",
    "import pandas as pd\n",
    "\n",
    "# Creating a Pandas Series\n",
    "data = [1, 2, 3, 4, 5]\n",
    "series = pd.Series(data)\n",
    "series\n"
   ]
  },
  {
   "cell_type": "code",
   "execution_count": null,
   "id": "45bce53a",
   "metadata": {},
   "outputs": [],
   "source": [
    "# Creating a Pandas DataFrame from a dictionary\n",
    "data_dict = {\n",
    "    'Name': ['Alice', 'Bob', 'Charlie', 'David', 'Eva'],\n",
    "    'Age': [25, 30, 35, 40, 45],\n",
    "    'City': ['New York', 'London', 'Paris', 'Tokyo', 'Sydney']\n",
    "}\n",
    "data_frame = pd.DataFrame(data_dict)\n",
    "data_frame"
   ]
  },
  {
   "cell_type": "code",
   "execution_count": null,
   "id": "e874b861",
   "metadata": {},
   "outputs": [],
   "source": [
    "# Accessing columns of a DataFrame\n",
    "names = data_frame['Name']\n",
    "ages = data_frame['Age']\n",
    "print(names)\n",
    "print(ages)\n"
   ]
  },
  {
   "cell_type": "code",
   "execution_count": null,
   "id": "77521cbc",
   "metadata": {},
   "outputs": [],
   "source": [
    "# Reading data from a CSV file into a DataFrame\n",
    "df = pd.read_csv('./data/Iris.csv')\n",
    "\n",
    "# Let's see Basic DataFrame operations"
   ]
  },
  {
   "cell_type": "code",
   "execution_count": null,
   "id": "9a10ab01",
   "metadata": {},
   "outputs": [],
   "source": [
    "df.shape # Shape of the DataFrame (rows, columns)"
   ]
  },
  {
   "cell_type": "code",
   "execution_count": null,
   "id": "c3ce0c23",
   "metadata": {},
   "outputs": [],
   "source": [
    "df.info()  # Information about the DataFrame"
   ]
  },
  {
   "cell_type": "code",
   "execution_count": null,
   "id": "0b9574d3",
   "metadata": {},
   "outputs": [],
   "source": [
    "df.describe()  # Summary statistics of numerical columns"
   ]
  },
  {
   "cell_type": "code",
   "execution_count": null,
   "id": "9a43d6b7",
   "metadata": {},
   "outputs": [],
   "source": [
    "# Filtering rows in a DataFrame\n",
    "filtered = df[ (6.5 < df['SepalLengthCm'] ) & (6.8 >= df['SepalLengthCm'] ) ]\n",
    "filtered"
   ]
  },
  {
   "cell_type": "code",
   "execution_count": null,
   "id": "c533ce90",
   "metadata": {},
   "outputs": [],
   "source": [
    "# Filtering rows in a DataFrame\n",
    "filtered = df[(df['SepalLengthCm'] > 7) & (df['PetalLengthCm']<6) ]\n",
    "filtered"
   ]
  },
  {
   "cell_type": "code",
   "execution_count": null,
   "id": "ffdec634",
   "metadata": {},
   "outputs": [],
   "source": [
    "# Sorting a DataFrame\n",
    "sorted = filtered.sort_values(by='SepalWidthCm', ascending=True)\n",
    "sorted"
   ]
  },
  {
   "cell_type": "code",
   "execution_count": null,
   "id": "7584a6a1",
   "metadata": {},
   "outputs": [],
   "source": [
    "df['Long'] = df['SepalLengthCm'] > 7\n",
    "df\n",
    "# df[df[\"SepalLengthCm\"]>6.8]"
   ]
  },
  {
   "cell_type": "code",
   "execution_count": null,
   "id": "89f71b6e",
   "metadata": {},
   "outputs": [],
   "source": [
    "df[\"SepalxPetal_Length\"] = df['SepalLengthCm'] * df['PetalLengthCm']\n",
    "df[\"SepalxPetal_Width\"] = df['SepalWidthCm'] * df['PetalWidthCm']\n",
    "df"
   ]
  },
  {
   "cell_type": "code",
   "execution_count": null,
   "id": "ed101027",
   "metadata": {},
   "outputs": [],
   "source": [
    "df.to_csv('output.csv', index=False)\n",
    "sorted.to_csv('filtered_and_sorted.csv',index=False)"
   ]
  },
  {
   "cell_type": "code",
   "execution_count": null,
   "id": "6a7483ae",
   "metadata": {},
   "outputs": [],
   "source": []
  }
 ],
 "metadata": {
  "kernelspec": {
   "display_name": "Python 3 (ipykernel)",
   "language": "python",
   "name": "python3"
  },
  "language_info": {
   "codemirror_mode": {
    "name": "ipython",
    "version": 3
   },
   "file_extension": ".py",
   "mimetype": "text/x-python",
   "name": "python",
   "nbconvert_exporter": "python",
   "pygments_lexer": "ipython3",
   "version": "3.10.12"
  }
 },
 "nbformat": 4,
 "nbformat_minor": 5
}
