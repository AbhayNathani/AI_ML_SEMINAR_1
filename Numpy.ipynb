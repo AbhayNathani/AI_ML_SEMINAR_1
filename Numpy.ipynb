{
 "cells": [
  {
   "cell_type": "markdown",
   "id": "bc3a706f",
   "metadata": {},
   "source": [
    "# NumPy\n",
    "---\n",
    "### The fundamental package for numerical computing in Python.\n",
    "\n",
    "![numpy](./img/numpy.png)\n",
    "\n",
    "#### It provides support for large, multi-dimensional arrays and matrices, along with a variety of mathematical functions, making it essential for scientific computing, data analysis, and machine learning applications. NumPy's efficient array operations and broadcasting capabilities simplify complex computations and enhance overall computational performance."
   ]
  },
  {
   "cell_type": "code",
   "execution_count": null,
   "id": "2d9e1986",
   "metadata": {},
   "outputs": [],
   "source": [
    "# Importing NumPy library\n",
    "import numpy as np\n",
    "\n",
    "# Creating a NumPy array\n",
    "array = np.array([1, 2, 3, 4, 5])\n",
    "\n",
    "array"
   ]
  },
  {
   "cell_type": "code",
   "execution_count": null,
   "id": "bae3266b",
   "metadata": {},
   "outputs": [],
   "source": [
    "type(array)"
   ]
  },
  {
   "cell_type": "code",
   "execution_count": null,
   "id": "13ef33a8",
   "metadata": {},
   "outputs": [],
   "source": [
    "# Accessing elements of a NumPy array\n",
    "print(\"First Element:\", array[0])\n",
    "print(\"Last Element:\", array[-1])"
   ]
  },
  {
   "cell_type": "code",
   "execution_count": null,
   "id": "5cbc3e0b",
   "metadata": {},
   "outputs": [],
   "source": [
    "# Creating a 2D NumPy array\n",
    "matrix = np.array([[1, 2], [4, 5], [7, 8]])\n",
    "matrix"
   ]
  },
  {
   "cell_type": "code",
   "execution_count": null,
   "id": "21f7dd44",
   "metadata": {},
   "outputs": [],
   "source": [
    "# Shape of the array\n",
    "print(\"Shape of 1D Array:\", array.shape)\n",
    "print(\"Shape of 2D Array:\", matrix.shape)"
   ]
  },
  {
   "cell_type": "code",
   "execution_count": null,
   "id": "a7b432ae",
   "metadata": {},
   "outputs": [],
   "source": [
    "matrix[0]"
   ]
  },
  {
   "cell_type": "code",
   "execution_count": null,
   "id": "4f7abec5",
   "metadata": {},
   "outputs": [],
   "source": [
    "# NumPy array operations\n",
    "array_sum = np.sum(array)\n",
    "array_mean = np.mean(array)\n",
    "array_std_dev = np.std(array)\n",
    "print(\"Array Sum:\",array_sum)\n",
    "print(\"Array Mean:\",array_mean)\n",
    "print(\"Array Standard Deviation:\",array_std_dev)"
   ]
  },
  {
   "cell_type": "code",
   "execution_count": null,
   "id": "4b25cb33",
   "metadata": {},
   "outputs": [],
   "source": [
    "# NumPy array operations on 2D arrays\n",
    "matrix_sum = np.sum(matrix, axis=1)  # Sum along columns\n",
    "matrix_sum"
   ]
  },
  {
   "cell_type": "code",
   "execution_count": null,
   "id": "1be38dea",
   "metadata": {},
   "outputs": [],
   "source": [
    "# NumPy functions\n",
    "array_square = np.square(array)\n",
    "array_sqrt = np.sqrt(array)\n",
    "array_exp = np.exp(array)\n",
    "print(\"Array Square:\",array_square)\n",
    "print(\"Array Square Root:\",array_sqrt)\n",
    "print(\"Array Exponent:\",array_exp)"
   ]
  },
  {
   "cell_type": "code",
   "execution_count": null,
   "id": "65b3ff00",
   "metadata": {},
   "outputs": [],
   "source": [
    "sliced_array = array[1:4]  # Slices elements from index 1 to 3 (exclusive)\n",
    "sliced_array"
   ]
  },
  {
   "cell_type": "code",
   "execution_count": null,
   "id": "5122df46",
   "metadata": {},
   "outputs": [],
   "source": [
    "# NumPy array reshaping\n",
    "reshaped_array = array.reshape(1, 5)  # Reshapes the array to a 2D array with 1 row and 5 columns\n",
    "reshaped_array"
   ]
  },
  {
   "cell_type": "code",
   "execution_count": null,
   "id": "399be9d0",
   "metadata": {},
   "outputs": [],
   "source": [
    "# NumPy random functions\n",
    "random_array = np.random.randint(1, 100, size=(3, 3))  # Generates a 3x3 random integer array between 1 and 100\n",
    "random_array"
   ]
  },
  {
   "cell_type": "code",
   "execution_count": null,
   "id": "7561b0a0",
   "metadata": {},
   "outputs": [],
   "source": [
    "# NumPy array slicing\n",
    "random_array[1:4]  # Slicing elements from index 1 to 3 (exclusive)"
   ]
  },
  {
   "cell_type": "code",
   "execution_count": null,
   "id": "f2c67c85",
   "metadata": {},
   "outputs": [],
   "source": [
    "random_array[0:2, 1:3]  # Slicing sub-matrix from 2D array"
   ]
  },
  {
   "cell_type": "code",
   "execution_count": null,
   "id": "135c25b3",
   "metadata": {},
   "outputs": [],
   "source": [
    "# NumPy broadcasting\n",
    "broadcasted_array = array + 10  # Adds 10 to each element of the array\n",
    "broadcasted_array"
   ]
  },
  {
   "cell_type": "code",
   "execution_count": null,
   "id": "cd12b0c5",
   "metadata": {},
   "outputs": [],
   "source": [
    "# NumPy linear algebra\n",
    "matrix_inverse = np.linalg.inv(random_array)  # Computes the inverse of a matrix\n",
    "matrix_inverse "
   ]
  },
  {
   "cell_type": "code",
   "execution_count": null,
   "id": "b4895dc6",
   "metadata": {},
   "outputs": [],
   "source": [
    "# NumPy boolean indexing\n",
    "bool_array = random_array >50  # Creates a boolean array based on the condition\n",
    "bool_array"
   ]
  },
  {
   "cell_type": "code",
   "execution_count": null,
   "id": "d201b7db",
   "metadata": {},
   "outputs": [],
   "source": [
    "array = np.array([[1,6,1,5],\n",
    "                 [4,6,4,8],\n",
    "                 [6,8,6,1]])\n",
    "# NumPy aggregate functions\n",
    "unique_values = np.unique(array)  # Returns unique elements of the array\n",
    "unique_values"
   ]
  },
  {
   "cell_type": "code",
   "execution_count": null,
   "id": "e5a9e6d7",
   "metadata": {},
   "outputs": [],
   "source": [
    "# NumPy statistical functions\n",
    "array_median = np.median(random_array)  # Median of elements\n",
    "array_median"
   ]
  },
  {
   "cell_type": "code",
   "execution_count": null,
   "id": "c18766bc",
   "metadata": {},
   "outputs": [],
   "source": [
    "array_percentile = np.percentile(random_array, 50)  # 50th percentile (median)\n",
    "array_percentile"
   ]
  },
  {
   "cell_type": "code",
   "execution_count": null,
   "id": "15734191",
   "metadata": {},
   "outputs": [],
   "source": []
  }
 ],
 "metadata": {
  "kernelspec": {
   "display_name": "Python 3 (ipykernel)",
   "language": "python",
   "name": "python3"
  },
  "language_info": {
   "codemirror_mode": {
    "name": "ipython",
    "version": 3
   },
   "file_extension": ".py",
   "mimetype": "text/x-python",
   "name": "python",
   "nbconvert_exporter": "python",
   "pygments_lexer": "ipython3",
   "version": "3.10.12"
  }
 },
 "nbformat": 4,
 "nbformat_minor": 5
}
