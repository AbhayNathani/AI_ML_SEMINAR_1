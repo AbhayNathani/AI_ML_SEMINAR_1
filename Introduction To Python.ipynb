{
 "cells": [
  {
   "cell_type": "code",
   "execution_count": 1,
   "id": "8e7a7cea",
   "metadata": {},
   "outputs": [
    {
     "name": "stdout",
     "output_type": "stream",
     "text": [
      "Hello World\n"
     ]
    }
   ],
   "source": [
    "print(\"Hello World\")"
   ]
  },
  {
   "cell_type": "code",
   "execution_count": 2,
   "id": "80665d99",
   "metadata": {},
   "outputs": [
    {
     "data": {
      "text/plain": [
       "'Hello World'"
      ]
     },
     "execution_count": 2,
     "metadata": {},
     "output_type": "execute_result"
    }
   ],
   "source": [
    "\"Hello \" + \"World\""
   ]
  },
  {
   "cell_type": "code",
   "execution_count": 3,
   "id": "b18585b6",
   "metadata": {},
   "outputs": [
    {
     "name": "stdout",
     "output_type": "stream",
     "text": [
      "What is Your Good Name?ab\n",
      "Hello! ab. Nice to Meet You\n"
     ]
    }
   ],
   "source": [
    "goodname = input(\"What is Your Good Name?\")\n",
    "print(\"Hello!\",goodname +\". Nice to Meet You\")"
   ]
  },
  {
   "cell_type": "markdown",
   "id": "d3293624",
   "metadata": {},
   "source": [
    "## 1. Simple Maths\n",
    "\n",
    "(Arithmetic Operator)"
   ]
  },
  {
   "cell_type": "code",
   "execution_count": 4,
   "id": "cfb73f05",
   "metadata": {},
   "outputs": [
    {
     "data": {
      "text/plain": [
       "2"
      ]
     },
     "execution_count": 4,
     "metadata": {},
     "output_type": "execute_result"
    }
   ],
   "source": [
    "1+1"
   ]
  },
  {
   "cell_type": "code",
   "execution_count": 5,
   "id": "79b6dc65",
   "metadata": {},
   "outputs": [
    {
     "name": "stdout",
     "output_type": "stream",
     "text": [
      "10\n"
     ]
    }
   ],
   "source": [
    "print(5*2)"
   ]
  },
  {
   "cell_type": "code",
   "execution_count": 6,
   "id": "4b67fd4a",
   "metadata": {},
   "outputs": [
    {
     "name": "stdout",
     "output_type": "stream",
     "text": [
      "Addition: 4\n",
      "Subtraction: 18\n",
      "Division: 7.5\n",
      "Floor Division: 7\n",
      "Modulus: 5\n",
      "Multiplication: 6\n",
      "Exponential: 8\n"
     ]
    }
   ],
   "source": [
    "print(\"Addition:\",2+2)\n",
    "print(\"Subtraction:\",20-2)\n",
    "print(\"Division:\",15/2)\n",
    "print(\"Floor Division:\",15//2)\n",
    "print(\"Modulus:\",75%7)  # Reminder\n",
    "print(\"Multiplication:\",2*3)\n",
    "print(\"Exponential:\",2**3)"
   ]
  },
  {
   "cell_type": "markdown",
   "id": "e4aedc23",
   "metadata": {},
   "source": [
    "## 2. Intermediate Maths\n",
    "(Math Variables!)"
   ]
  },
  {
   "cell_type": "code",
   "execution_count": 7,
   "id": "9ef36dbb",
   "metadata": {},
   "outputs": [],
   "source": [
    "a = 85\n",
    "b = 7"
   ]
  },
  {
   "cell_type": "code",
   "execution_count": 8,
   "id": "42ab523f",
   "metadata": {},
   "outputs": [
    {
     "name": "stdout",
     "output_type": "stream",
     "text": [
      "Addition: 92\n",
      "Subtraction: 78\n",
      "Division: 12.142857142857142\n",
      "Floor Division: 12\n",
      "Modulus: 1\n",
      "Multiplication: 595\n",
      "Exponential: 32057708828125\n"
     ]
    }
   ],
   "source": [
    "print(\"Addition:\",a+b)\n",
    "print(\"Subtraction:\",a-b)\n",
    "print(\"Division:\",a/b)\n",
    "print(\"Floor Division:\",a//b)\n",
    "print(\"Modulus:\",a%b)  # Reminder\n",
    "print(\"Multiplication:\",a*b)\n",
    "print(\"Exponential:\",a**b)"
   ]
  },
  {
   "cell_type": "code",
   "execution_count": 9,
   "id": "4ac38c68",
   "metadata": {},
   "outputs": [
    {
     "name": "stdout",
     "output_type": "stream",
     "text": [
      "My Value is: 12.142857142857142\n",
      "My size is: 24\n"
     ]
    }
   ],
   "source": [
    "import sys\n",
    "a = 85/7\n",
    "print(\"My Value is:\",a)\n",
    "print(\"My size is:\",sys.getsizeof(a))"
   ]
  },
  {
   "cell_type": "markdown",
   "id": "92ed9dc1",
   "metadata": {},
   "source": [
    "### 2.1 Variables \n",
    "\n",
    "![Var?](./img/var%3F.jpg)\n",
    "\n",
    "\n",
    "![Var_Bin](./img/Variable_bin.jpg)\n",
    "\n",
    "![Var_Assign](./img/Var_Assign.png)\n",
    "\n",
    "### Let's try !!!"
   ]
  },
  {
   "cell_type": "markdown",
   "id": "53648739",
   "metadata": {},
   "source": [
    "-----\n",
    "\n",
    "### Let's do Assignments"
   ]
  },
  {
   "cell_type": "code",
   "execution_count": 10,
   "id": "01146f19",
   "metadata": {},
   "outputs": [
    {
     "data": {
      "text/plain": [
       "(True, 15, 15.15, 'Fifteen point Fifteen')"
      ]
     },
     "execution_count": 10,
     "metadata": {},
     "output_type": "execute_result"
    }
   ],
   "source": [
    "w = True\n",
    "x = 15\n",
    "y = 15.15\n",
    "z = \"Fifteen point Fifteen\"\n",
    "w,x,y,z"
   ]
  },
  {
   "cell_type": "markdown",
   "id": "69b0814b",
   "metadata": {},
   "source": [
    "----\n",
    "### Type Checking / Verification "
   ]
  },
  {
   "cell_type": "code",
   "execution_count": 11,
   "id": "fbc4452a",
   "metadata": {},
   "outputs": [
    {
     "name": "stdout",
     "output_type": "stream",
     "text": [
      "I am w with a value of True and My type is <class 'bool'>\n",
      "I am x with a value of 15 and My type is <class 'int'>\n",
      "I am y with a value of 15.15 and My type is <class 'float'>\n",
      "I am z with a value of Fifteen point Fifteen and My type is <class 'str'>\n"
     ]
    }
   ],
   "source": [
    "print(\"I am w with a value of\",w,\"and My type is\", type(w))\n",
    "print(\"I am x with a value of\",x,\"and My type is\", type(x))\n",
    "print(\"I am y with a value of\",y,\"and My type is\", type(y))\n",
    "print(\"I am z with a value of\",z,\"and My type is\", type(z))"
   ]
  },
  {
   "cell_type": "code",
   "execution_count": 12,
   "id": "89f0d901",
   "metadata": {},
   "outputs": [
    {
     "data": {
      "text/plain": [
       "int"
      ]
     },
     "execution_count": 12,
     "metadata": {},
     "output_type": "execute_result"
    }
   ],
   "source": [
    "type(x)"
   ]
  },
  {
   "cell_type": "code",
   "execution_count": 13,
   "id": "a6a1570c",
   "metadata": {},
   "outputs": [
    {
     "data": {
      "text/plain": [
       "(bool, int, float, str)"
      ]
     },
     "execution_count": 13,
     "metadata": {},
     "output_type": "execute_result"
    }
   ],
   "source": [
    "type(w),type(x),type(y),type(z)"
   ]
  },
  {
   "cell_type": "code",
   "execution_count": 14,
   "id": "dc861e0d",
   "metadata": {},
   "outputs": [
    {
     "data": {
      "text/plain": [
       "(False, 'Abhay', 2721, 99.999)"
      ]
     },
     "execution_count": 14,
     "metadata": {},
     "output_type": "execute_result"
    }
   ],
   "source": [
    "w,x,y,z = False,\"Abhay\",2721,99.999\n",
    "w,x,y,z"
   ]
  },
  {
   "cell_type": "code",
   "execution_count": 16,
   "id": "443b83f5",
   "metadata": {},
   "outputs": [],
   "source": [
    "w=x=y=z=\"God\""
   ]
  },
  {
   "cell_type": "markdown",
   "id": "ce5eb21b",
   "metadata": {},
   "source": [
    "----\n",
    "#### We learnt Simple Data Types\n",
    "    1. String  / str\n",
    "    2. Integer / int\n",
    "    3. Float   / float\n",
    "    4. Boolean / bool\n",
    "----    \n",
    "\n",
    "### Other Datatypes\n",
    "\n",
    "![Func](./img/pyDT.jpg)\n"
   ]
  },
  {
   "cell_type": "code",
   "execution_count": 15,
   "id": "3182e577",
   "metadata": {},
   "outputs": [
    {
     "data": {
      "text/plain": [
       "(11-1j)"
      ]
     },
     "execution_count": 15,
     "metadata": {},
     "output_type": "execute_result"
    }
   ],
   "source": [
    "# Complex Numbers\n",
    "import cmath,math\n",
    "a = 5+2j\n",
    "b = 6-3j\n",
    "a+b"
   ]
  },
  {
   "cell_type": "markdown",
   "id": "e5db74b3",
   "metadata": {},
   "source": [
    "### List \n",
    "\n",
    "![A](./img/python-list.jpg)"
   ]
  },
  {
   "cell_type": "code",
   "execution_count": 34,
   "id": "991e063c",
   "metadata": {},
   "outputs": [
    {
     "data": {
      "text/plain": [
       "[1, 2, 3, 4, 5]"
      ]
     },
     "execution_count": 34,
     "metadata": {},
     "output_type": "execute_result"
    }
   ],
   "source": [
    "# Introduction to Python Lists\n",
    "\n",
    "# Creating a list\n",
    "my_list = [1, 2, 3, 4, 5]\n",
    "my_list\n"
   ]
  },
  {
   "cell_type": "code",
   "execution_count": 17,
   "id": "9b6d64e2",
   "metadata": {},
   "outputs": [
    {
     "name": "stdout",
     "output_type": "stream",
     "text": [
      "1\n",
      "5\n"
     ]
    }
   ],
   "source": [
    "# Accessing elements\n",
    "first_element = my_list[0]\n",
    "last_element = my_list[-1]\n",
    "print(first_element)\n",
    "print(last_element)"
   ]
  },
  {
   "cell_type": "code",
   "execution_count": 18,
   "id": "fc976841",
   "metadata": {},
   "outputs": [
    {
     "data": {
      "text/plain": [
       "[2, 3, 4]"
      ]
     },
     "execution_count": 18,
     "metadata": {},
     "output_type": "execute_result"
    }
   ],
   "source": [
    "# Slicing a list\n",
    "sliced_list = my_list[1:4]  # Returns [2, 3, 4]\n",
    "\n",
    "sliced_list"
   ]
  },
  {
   "cell_type": "code",
   "execution_count": 19,
   "id": "fd7a6576",
   "metadata": {},
   "outputs": [
    {
     "data": {
      "text/plain": [
       "[1, 2, 10, 4, 5]"
      ]
     },
     "execution_count": 19,
     "metadata": {},
     "output_type": "execute_result"
    }
   ],
   "source": [
    "# Modifying elements\n",
    "my_list[2] = 10\n",
    "my_list"
   ]
  },
  {
   "cell_type": "code",
   "execution_count": 20,
   "id": "3963ae8e",
   "metadata": {},
   "outputs": [
    {
     "data": {
      "text/plain": [
       "[1, 2, 10, 4, 5, 6]"
      ]
     },
     "execution_count": 20,
     "metadata": {},
     "output_type": "execute_result"
    }
   ],
   "source": [
    "# Appending elements\n",
    "my_list.append(6)  # Adds 6 to the end of the list\n",
    "my_list"
   ]
  },
  {
   "cell_type": "code",
   "execution_count": 21,
   "id": "0a72435d",
   "metadata": {},
   "outputs": [
    {
     "data": {
      "text/plain": [
       "[1, 2, 7, 10, 4, 5, 6]"
      ]
     },
     "execution_count": 21,
     "metadata": {},
     "output_type": "execute_result"
    }
   ],
   "source": [
    "# Inserting elements\n",
    "my_list.insert(2, 7)  # Inserts 7 at index 2\n",
    "my_list"
   ]
  },
  {
   "cell_type": "code",
   "execution_count": 22,
   "id": "242eb85c",
   "metadata": {},
   "outputs": [
    {
     "data": {
      "text/plain": [
       "[1, 2, 7, 10, 5, 6]"
      ]
     },
     "execution_count": 22,
     "metadata": {},
     "output_type": "execute_result"
    }
   ],
   "source": [
    "\n",
    "# Removing elements\n",
    "my_list.remove(4)  # Removes the first occurrence of 4\n",
    "\n",
    "my_list"
   ]
  },
  {
   "cell_type": "code",
   "execution_count": 23,
   "id": "f192ddcb",
   "metadata": {},
   "outputs": [
    {
     "data": {
      "text/plain": [
       "6"
      ]
     },
     "execution_count": 23,
     "metadata": {},
     "output_type": "execute_result"
    }
   ],
   "source": [
    "# Popping elements\n",
    "popped_element = my_list.pop()  # Removes and returns the last element\n",
    "\n",
    "popped_element"
   ]
  },
  {
   "cell_type": "code",
   "execution_count": 24,
   "id": "6e569d58",
   "metadata": {},
   "outputs": [
    {
     "name": "stdout",
     "output_type": "stream",
     "text": [
      "5\n"
     ]
    }
   ],
   "source": [
    "# List length\n",
    "list_length = len(my_list)\n",
    "print(list_length)\n",
    "\n"
   ]
  },
  {
   "cell_type": "code",
   "execution_count": 14,
   "id": "a9a3c3a9",
   "metadata": {},
   "outputs": [
    {
     "data": {
      "text/plain": [
       "[]"
      ]
     },
     "execution_count": 14,
     "metadata": {},
     "output_type": "execute_result"
    }
   ],
   "source": [
    "# Sorting a list\n",
    "my_list.sort()  # Sorts the list in ascending order\n",
    "my_list.sort(reverse=True)  # Sorts the list in descending order\n",
    "my_list\n"
   ]
  },
  {
   "cell_type": "code",
   "execution_count": 25,
   "id": "a75b0c09",
   "metadata": {},
   "outputs": [],
   "source": [
    "# Reversing a list\n",
    "my_list.reverse()  # Reverses the list\n"
   ]
  },
  {
   "cell_type": "code",
   "execution_count": 27,
   "id": "1fb36f26",
   "metadata": {},
   "outputs": [
    {
     "data": {
      "text/plain": [
       "[[1, 2, 3], [4, 5, 6], [7, 8, 9]]"
      ]
     },
     "execution_count": 27,
     "metadata": {},
     "output_type": "execute_result"
    }
   ],
   "source": [
    "# Nested lists\n",
    "nested_list = [[1, 2, 3], [4, 5, 6], [7, 8, 9]]\n",
    "nested_list\n"
   ]
  },
  {
   "cell_type": "code",
   "execution_count": 33,
   "id": "d56726ec",
   "metadata": {},
   "outputs": [
    {
     "name": "stdout",
     "output_type": "stream",
     "text": [
      "[]\n"
     ]
    }
   ],
   "source": [
    "# List comprehension\n",
    "squared_numbers = [x**2 for x in my_list]\n",
    "print(squared_numbers)"
   ]
  },
  {
   "cell_type": "code",
   "execution_count": 37,
   "id": "a386717e",
   "metadata": {},
   "outputs": [
    {
     "data": {
      "text/plain": [
       "[1, 3, 5]"
      ]
     },
     "execution_count": 37,
     "metadata": {},
     "output_type": "execute_result"
    }
   ],
   "source": [
    "mysterious = [x for x in my_list if x & 1 ]\n",
    "mysterious"
   ]
  },
  {
   "cell_type": "code",
   "execution_count": 30,
   "id": "c4093179",
   "metadata": {},
   "outputs": [
    {
     "data": {
      "text/plain": [
       "True"
      ]
     },
     "execution_count": 30,
     "metadata": {},
     "output_type": "execute_result"
    }
   ],
   "source": [
    "# Checking if an element is in the list\n",
    "is_present = 10 in my_list\n",
    "is_present"
   ]
  },
  {
   "cell_type": "code",
   "execution_count": 31,
   "id": "6a39a61b",
   "metadata": {},
   "outputs": [
    {
     "name": "stdout",
     "output_type": "stream",
     "text": [
      "10\n",
      "1\n"
     ]
    }
   ],
   "source": [
    "# Maximum and minimum elements\n",
    "maximum_element = max(my_list)\n",
    "minimum_element = min(my_list)\n",
    "print(maximum_element)\n",
    "print(minimum_element)"
   ]
  },
  {
   "cell_type": "code",
   "execution_count": 32,
   "id": "dd87a6ad",
   "metadata": {},
   "outputs": [
    {
     "name": "stdout",
     "output_type": "stream",
     "text": [
      "Before: [5, 10, 7, 2, 1]\n",
      "After: []\n"
     ]
    }
   ],
   "source": [
    "print(\"Before:\",my_list)\n",
    "my_list.clear()  # Removes all elements from the list\n",
    "print(\"After:\",my_list)\n"
   ]
  },
  {
   "cell_type": "markdown",
   "id": "3f50d367",
   "metadata": {},
   "source": [
    "### Tuple \n",
    "\n",
    "![A](./img/python-tuple.jpg)"
   ]
  },
  {
   "cell_type": "code",
   "execution_count": null,
   "id": "cec1254f",
   "metadata": {},
   "outputs": [],
   "source": [
    "# Creating a tuple\n",
    "my_tuple = (1, 2, 3, 4, 5)"
   ]
  },
  {
   "cell_type": "code",
   "execution_count": null,
   "id": "c7e7907b",
   "metadata": {},
   "outputs": [],
   "source": [
    "# Accessing elements\n",
    "first_element = my_tuple[0]\n",
    "last_element = my_tuple[-1]\n"
   ]
  },
  {
   "cell_type": "code",
   "execution_count": null,
   "id": "5ae8aa76",
   "metadata": {},
   "outputs": [],
   "source": [
    "# Slicing a tuple\n",
    "sliced_tuple = my_tuple[1:4]  # Returns (2, 3, 4)\n"
   ]
  },
  {
   "cell_type": "code",
   "execution_count": null,
   "id": "e40ab05c",
   "metadata": {},
   "outputs": [],
   "source": [
    "# Tuple unpacking\n",
    "a, b, c, d, e = my_tuple  # Unpacks the tuple into individual variables\n"
   ]
  },
  {
   "cell_type": "code",
   "execution_count": null,
   "id": "cbdc0d02",
   "metadata": {},
   "outputs": [],
   "source": [
    "# Length of a tuple\n",
    "tuple_length = len(my_tuple)\n"
   ]
  },
  {
   "cell_type": "code",
   "execution_count": null,
   "id": "b39e61c7",
   "metadata": {},
   "outputs": [],
   "source": [
    "# Concatenating tuples\n",
    "concatenated_tuple = my_tuple + (6, 7, 8)\n"
   ]
  },
  {
   "cell_type": "code",
   "execution_count": null,
   "id": "31b2f956",
   "metadata": {},
   "outputs": [],
   "source": [
    "# Repetition\n",
    "repeated_tuple = my_tuple * 2  # Repeats the tuple (1, 2, 3, 4, 5, 1, 2, 3, 4, 5)\n"
   ]
  },
  {
   "cell_type": "code",
   "execution_count": null,
   "id": "05eef6b7",
   "metadata": {},
   "outputs": [],
   "source": [
    "# Nested tuples\n",
    "nested_tuple = ((1, 2), (3, 4), (5, 6))\n"
   ]
  },
  {
   "cell_type": "code",
   "execution_count": null,
   "id": "10ec6715",
   "metadata": {},
   "outputs": [],
   "source": [
    "# Checking if an element is in the tuple\n",
    "is_present = 3 in my_tuple\n"
   ]
  },
  {
   "cell_type": "code",
   "execution_count": null,
   "id": "82e44797",
   "metadata": {},
   "outputs": [],
   "source": [
    "# Maximum and minimum elements\n",
    "maximum_element = max(my_tuple)\n",
    "minimum_element = min(my_tuple)\n"
   ]
  },
  {
   "cell_type": "code",
   "execution_count": null,
   "id": "cd7dd57e",
   "metadata": {},
   "outputs": [],
   "source": [
    "# Index of an element\n",
    "# Returns the index of the first occurrence of 3\n",
    "index_of_element = my_tuple.index(3)\n"
   ]
  },
  {
   "cell_type": "code",
   "execution_count": null,
   "id": "cf275545",
   "metadata": {},
   "outputs": [],
   "source": [
    "# Count occurrences of an element\n",
    "count_of_element = my_tuple.count(3)  # Returns the number of occurrences of 3\n"
   ]
  },
  {
   "cell_type": "code",
   "execution_count": null,
   "id": "63156f73",
   "metadata": {},
   "outputs": [],
   "source": [
    "# Converting a list to a tuple\n",
    "my_list = [1, 2, 3]\n",
    "tuple_from_list = tuple(my_list)\n",
    "\n",
    "# Note: Tuples are immutable, so you cannot modify, add, or remove elements after creation.\n"
   ]
  },
  {
   "cell_type": "markdown",
   "id": "a1484a83",
   "metadata": {},
   "source": [
    "### Strings \n",
    "\n",
    "![A](./img/python-strings.png)"
   ]
  },
  {
   "cell_type": "code",
   "execution_count": null,
   "id": "f99dd329",
   "metadata": {},
   "outputs": [],
   "source": [
    "\n",
    "# Introduction to Python Strings\n",
    "\n",
    "# Creating strings\n",
    "string1 = \"Hello, World!\"\n",
    "string2 = 'Python Programming'\n"
   ]
  },
  {
   "cell_type": "code",
   "execution_count": null,
   "id": "e04922a0",
   "metadata": {},
   "outputs": [],
   "source": [
    "\n",
    "# Accessing characters\n",
    "first_char = string1[0]\n",
    "last_char = string1[-1]\n"
   ]
  },
  {
   "cell_type": "code",
   "execution_count": null,
   "id": "c20664a1",
   "metadata": {},
   "outputs": [],
   "source": [
    "\n",
    "# Note: Strings in Python are immutable, so methods that modify strings actually return new strings.\n",
    "\n",
    "# Slicing strings\n",
    "sliced_string = string1[7:]  # Returns \"World!\"\n"
   ]
  },
  {
   "cell_type": "code",
   "execution_count": null,
   "id": "8be755a7",
   "metadata": {},
   "outputs": [],
   "source": [
    "# Concatenation\n",
    "concatenated_string = string1 + \" \" + string2  # Combines the two strings\n"
   ]
  },
  {
   "cell_type": "code",
   "execution_count": null,
   "id": "945c04ec",
   "metadata": {},
   "outputs": [],
   "source": [
    "\n",
    "# String repetition\n",
    "repeated_string = string1 * 3  # Repeats the string \"Hello, World!\" three times\n"
   ]
  },
  {
   "cell_type": "code",
   "execution_count": null,
   "id": "f786bdfc",
   "metadata": {},
   "outputs": [],
   "source": [
    "# Length of a string\n",
    "string_length = len(string1)\n"
   ]
  },
  {
   "cell_type": "code",
   "execution_count": null,
   "id": "c9484e2d",
   "metadata": {},
   "outputs": [],
   "source": [
    "\n",
    "# String methods\n",
    "uppercase_string = string1.upper()  # Converts to uppercase: \"HELLO, WORLD!\"\n",
    "lowercase_string = string2.lower()  # Converts to lowercase: \"python programming\"\n",
    "# Capitalizes the first letter: \"Python programming\"\n",
    "capitalized_string = string2.capitalize()\n",
    "# Converts to titlecase: \"Python Programming\"\n",
    "titlecased_string = string2.title()\n"
   ]
  },
  {
   "cell_type": "code",
   "execution_count": null,
   "id": "d3151f59",
   "metadata": {},
   "outputs": [],
   "source": [
    "# Checking if a string contains a substring\n",
    "contains_substring = \"Hello\" in string1"
   ]
  },
  {
   "cell_type": "code",
   "execution_count": null,
   "id": "dffac08a",
   "metadata": {},
   "outputs": [],
   "source": [
    "# String formatting\n",
    "name = \"Alice\"\n",
    "age = 30\n",
    "formatted_string = f\"My name is {name} and I am {age} years old.\"\n"
   ]
  },
  {
   "cell_type": "code",
   "execution_count": null,
   "id": "ffcef75e",
   "metadata": {},
   "outputs": [],
   "source": [
    "# String splitting\n",
    "sentence = \"This is a sample sentence.\"\n",
    "# Splits the sentence into words: [\"This\", \"is\", \"a\", \"sample\", \"sentence.\"]\n",
    "words = sentence.split()\n"
   ]
  },
  {
   "cell_type": "code",
   "execution_count": null,
   "id": "623ebcd7",
   "metadata": {},
   "outputs": [],
   "source": [
    "# Joining strings\n",
    "word_list = [\"Hello\", \"World\"]\n",
    "# Joins the list into a string: \"Hello World\"\n",
    "joined_string = \" \".join(word_list)\n"
   ]
  },
  {
   "cell_type": "code",
   "execution_count": null,
   "id": "fab56e81",
   "metadata": {},
   "outputs": [],
   "source": [
    "# Stripping whitespace\n",
    "whitespace_string = \"  This is a string with whitespace around it.  \"\n",
    "# Removes leading and trailing whitespace\n",
    "stripped_string = whitespace_string.strip()\n"
   ]
  },
  {
   "cell_type": "code",
   "execution_count": null,
   "id": "925a9017",
   "metadata": {},
   "outputs": [],
   "source": [
    "# Replacing substrings\n",
    "original_string = \"I like cats.\"\n",
    "# Replaces \"cats\" with \"dogs\": \"I like dogs.\"\n",
    "new_string = original_string.replace(\"cats\", \"dogs\")\n"
   ]
  },
  {
   "cell_type": "code",
   "execution_count": null,
   "id": "05f4bd42",
   "metadata": {},
   "outputs": [],
   "source": [
    "# Checking string start and end\n",
    "starts_with = original_string.startswith(\"I like\")  # True if the string starts with \"I like\"\n",
    "ends_with = original_string.endswith(\"dogs.\")  # True if the string ends with \"dogs.\"\n"
   ]
  },
  {
   "cell_type": "code",
   "execution_count": null,
   "id": "9a23ac1f",
   "metadata": {},
   "outputs": [],
   "source": [
    "\n",
    "# String formatting with placeholders\n",
    "formatted_string = \"Hello, {}!\".format(\n",
    "    \"Alice\")  # Formats the string with \"Alice\"\n"
   ]
  },
  {
   "cell_type": "code",
   "execution_count": null,
   "id": "506cfb5b",
   "metadata": {},
   "outputs": [],
   "source": [
    "# String indexing\n",
    "# Returns the index of 'W' in \"Hello, World!\"\n",
    "char_at_index = string1.index('W')\n"
   ]
  },
  {
   "cell_type": "code",
   "execution_count": null,
   "id": "0055f3d3",
   "metadata": {},
   "outputs": [],
   "source": [
    "# Removing specific characters from a string\n",
    "string_with_chars = \"Hello, [World]!\"\n",
    "chars_to_remove = \"[!]\"\n",
    "cleaned_string = ''.join(\n",
    "    char for char in string_with_chars if char not in chars_to_remove)\n"
   ]
  },
  {
   "cell_type": "markdown",
   "id": "8dce9051",
   "metadata": {},
   "source": [
    "### Dictionary \n",
    "\n",
    "![A](./img/python-dict.jpg)"
   ]
  },
  {
   "cell_type": "code",
   "execution_count": null,
   "id": "dbe34c6a",
   "metadata": {},
   "outputs": [],
   "source": [
    "# Introduction to Python Dictionaries\n",
    "\n",
    "# Creating a dictionary\n",
    "my_dict = {\n",
    "    \"name\": \"Alice\",\n",
    "    \"age\": 30,\n",
    "    \"city\": \"Wonderland\"\n",
    "}\n"
   ]
  },
  {
   "cell_type": "code",
   "execution_count": null,
   "id": "31df66df",
   "metadata": {},
   "outputs": [],
   "source": [
    "\n",
    "# Accessing values using keys\n",
    "name = my_dict[\"name\"]\n",
    "age = my_dict[\"age\"]\n"
   ]
  },
  {
   "cell_type": "code",
   "execution_count": null,
   "id": "e17abf29",
   "metadata": {},
   "outputs": [],
   "source": [
    "\n",
    "# Modifying values\n",
    "my_dict[\"age\"] = 31\n",
    "\n",
    "# Adding new key-value pairs\n",
    "my_dict[\"gender\"] = \"Female\"\n"
   ]
  },
  {
   "cell_type": "code",
   "execution_count": null,
   "id": "a4ca880c",
   "metadata": {},
   "outputs": [],
   "source": [
    "# Removing a key-value pair\n",
    "# Removes the key \"city\" and returns its value\n",
    "removed_value = my_dict.pop(\"city\")\n",
    "\n",
    "# Dictionary length\n",
    "dict_length = len(my_dict)\n"
   ]
  },
  {
   "cell_type": "code",
   "execution_count": null,
   "id": "5d54291a",
   "metadata": {},
   "outputs": [],
   "source": [
    "\n",
    "\n",
    "# Checking if a key is in the dictionary\n",
    "is_present = \"name\" in my_dict\n"
   ]
  },
  {
   "cell_type": "code",
   "execution_count": null,
   "id": "f85c6fcc",
   "metadata": {},
   "outputs": [],
   "source": [
    "\n",
    "\n",
    "# Dictionary keys, values, and items\n",
    "keys = my_dict.keys()  # Returns a list of keys: [\"name\", \"age\", \"gender\"]\n",
    "values = my_dict.values()  # Returns a list of values: [\"Alice\", 31, \"Female\"]\n",
    "# Returns a list of key-value tuples: [(\"name\", \"Alice\"), (\"age\", 31), (\"gender\", \"Female\")]\n",
    "items = my_dict.items()\n"
   ]
  },
  {
   "cell_type": "code",
   "execution_count": null,
   "id": "90f01d8f",
   "metadata": {},
   "outputs": [],
   "source": [
    "\n",
    "# Copying a dictionary\n",
    "new_dict = my_dict.copy()\n"
   ]
  },
  {
   "cell_type": "code",
   "execution_count": null,
   "id": "7b3cc447",
   "metadata": {},
   "outputs": [],
   "source": [
    "# Nested dictionaries\n",
    "nested_dict = {\n",
    "    \"person\": {\n",
    "        \"name\": \"Bob\",\n",
    "        \"age\": 25\n",
    "    },\n",
    "    \"address\": {\n",
    "        \"city\": \"Exampleville\",\n",
    "        \"zip\": \"12345\"\n",
    "    }\n",
    "}\n"
   ]
  },
  {
   "cell_type": "code",
   "execution_count": null,
   "id": "a0e2fe01",
   "metadata": {},
   "outputs": [],
   "source": [
    "\n",
    "# Dictionary comprehension\n",
    "# {1: 1, 2: 4, 3: 9, 4: 16, 5: 25}\n",
    "squared_numbers = {x: x**2 for x in range(1, 6)}\n"
   ]
  },
  {
   "cell_type": "code",
   "execution_count": null,
   "id": "d2a20f1f",
   "metadata": {},
   "outputs": [],
   "source": [
    "# Clearing a dictionary\n",
    "my_dict.clear()  # Removes all key-value pairs from the dictionary\n"
   ]
  },
  {
   "cell_type": "code",
   "execution_count": 40,
   "id": "25705b07",
   "metadata": {},
   "outputs": [
    {
     "data": {
      "text/plain": [
       "{0: 'Even',\n",
       " 1: 'Odd',\n",
       " 2: 'Even',\n",
       " 3: 'Odd',\n",
       " 4: 'Even',\n",
       " 5: 'Odd',\n",
       " 6: 'Even',\n",
       " 7: 'Odd',\n",
       " 8: 'Even',\n",
       " 9: 'Odd',\n",
       " 10: 'Even',\n",
       " 11: 'Odd',\n",
       " 12: 'Even',\n",
       " 13: 'Odd',\n",
       " 14: 'Even',\n",
       " 15: 'Odd',\n",
       " 16: 'Even',\n",
       " 17: 'Odd',\n",
       " 18: 'Even',\n",
       " 19: 'Odd'}"
      ]
     },
     "execution_count": 40,
     "metadata": {},
     "output_type": "execute_result"
    }
   ],
   "source": [
    "numbers = [i for i in range(0,20)]\n",
    "labeled = {i:\"Odd\" if i & 1 else \"Even\" for i in numbers }\n",
    "labeled"
   ]
  },
  {
   "cell_type": "code",
   "execution_count": null,
   "id": "256c7c7a",
   "metadata": {},
   "outputs": [],
   "source": []
  }
 ],
 "metadata": {
  "kernelspec": {
   "display_name": "Python 3.10.12 64-bit",
   "language": "python",
   "name": "python3"
  },
  "language_info": {
   "codemirror_mode": {
    "name": "ipython",
    "version": 3
   },
   "file_extension": ".py",
   "mimetype": "text/x-python",
   "name": "python",
   "nbconvert_exporter": "python",
   "pygments_lexer": "ipython3",
   "version": "3.10.12"
  },
  "vscode": {
   "interpreter": {
    "hash": "e7370f93d1d0cde622a1f8e1c04877d8463912d04d973331ad4851f04de6915a"
   }
  }
 },
 "nbformat": 4,
 "nbformat_minor": 5
}
