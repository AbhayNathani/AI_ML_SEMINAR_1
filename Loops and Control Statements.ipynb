{
 "cells": [
  {
   "cell_type": "markdown",
   "id": "b3477a71",
   "metadata": {},
   "source": [
    "# Python Loops And Control Statements"
   ]
  },
  {
   "cell_type": "markdown",
   "id": "04281b3b",
   "metadata": {},
   "source": [
    "## 1. Python If statement\n",
    "\n",
    "![IFELSE](./img/if-else.jpg)"
   ]
  },
  {
   "cell_type": "code",
   "execution_count": 11,
   "id": "1bdbb57f",
   "metadata": {},
   "outputs": [],
   "source": [
    "# Basic if statement\n",
    "x = -10\n",
    "if x > 0:\n",
    "    print(\"x is positive\")\n",
    "\n"
   ]
  },
  {
   "cell_type": "code",
   "execution_count": 14,
   "id": "9d9777d2",
   "metadata": {},
   "outputs": [
    {
     "name": "stdout",
     "output_type": "stream",
     "text": [
      "y is positive\n"
     ]
    }
   ],
   "source": [
    "# If-else statement\n",
    "y = 15\n",
    "if y > 0:\n",
    "    print(\"y is positive\")\n",
    "else:\n",
    "    print(\"y is non-positive\")\n"
   ]
  },
  {
   "cell_type": "code",
   "execution_count": 17,
   "id": "9d355b38",
   "metadata": {},
   "outputs": [
    {
     "name": "stdout",
     "output_type": "stream",
     "text": [
      "z is negative\n"
     ]
    }
   ],
   "source": [
    "\n",
    "# If-elif-else statement\n",
    "z = -10\n",
    "if z > 0:\n",
    "    print(\"z is positive\")\n",
    "elif z == 0:\n",
    "    print(\"z is zero\")\n",
    "else:\n",
    "    print(\"z is negative\")\n",
    "\n"
   ]
  },
  {
   "cell_type": "code",
   "execution_count": 18,
   "id": "68ba39c8",
   "metadata": {},
   "outputs": [
    {
     "name": "stdout",
     "output_type": "stream",
     "text": [
      "a is positive and odd\n"
     ]
    }
   ],
   "source": [
    "# Nested if statements\n",
    "a = 15\n",
    "if a > 0:\n",
    "    if a % 2 == 0:\n",
    "        print(\"a is positive and even\")\n",
    "    else:\n",
    "        print(\"a is positive and odd\")\n",
    "else:\n",
    "    print(\"a is non-positive\")\n",
    "\n"
   ]
  },
  {
   "cell_type": "code",
   "execution_count": 20,
   "id": "05eb57a2",
   "metadata": {},
   "outputs": [
    {
     "name": "stdout",
     "output_type": "stream",
     "text": [
      "b is positive and divisible by 5\n"
     ]
    }
   ],
   "source": [
    "# Multiple conditions in an if statement\n",
    "b = 25\n",
    "if b > 0 and b % 5 == 0:\n",
    "    print(\"b is positive and divisible by 5\")\n",
    "\n"
   ]
  },
  {
   "cell_type": "code",
   "execution_count": 28,
   "id": "3f08012d",
   "metadata": {},
   "outputs": [
    {
     "name": "stdout",
     "output_type": "stream",
     "text": [
      "orange is in the list of colors\n"
     ]
    }
   ],
   "source": [
    "# Using 'in' keyword to check membership\n",
    "colors = ['red','orange', 'green', 'blue']\n",
    "color = 'orange'\n",
    "if color in colors:\n",
    "    print(f\"{color} is in the list of colors\")\n",
    "#A\n",
    "\n"
   ]
  },
  {
   "cell_type": "code",
   "execution_count": 34,
   "id": "75c01939",
   "metadata": {},
   "outputs": [
    {
     "name": "stdout",
     "output_type": "stream",
     "text": [
      "Status: adult\n"
     ]
    }
   ],
   "source": [
    "# Ternary conditional expression\n",
    "age = 19\n",
    "status = \"minor\" if age < 18 else \"adult\"\n",
    "print(\"Status:\", status)\n"
   ]
  },
  {
   "cell_type": "markdown",
   "id": "37e32a52",
   "metadata": {},
   "source": [
    "# Python for loop"
   ]
  },
  {
   "cell_type": "code",
   "execution_count": 35,
   "id": "0fbbea18",
   "metadata": {},
   "outputs": [
    {
     "name": "stdout",
     "output_type": "stream",
     "text": [
      "1\n",
      "2\n",
      "3\n",
      "4\n",
      "5\n"
     ]
    }
   ],
   "source": [
    "# Basic for loop with a list\n",
    "numbers = [1, 2, 3, 4, 5]\n",
    "for number in numbers:\n",
    "    print(number)\n"
   ]
  },
  {
   "cell_type": "code",
   "execution_count": 36,
   "id": "ec8e465b",
   "metadata": {},
   "outputs": [
    {
     "name": "stdout",
     "output_type": "stream",
     "text": [
      "1\n",
      "2\n",
      "3\n",
      "4\n",
      "5\n"
     ]
    }
   ],
   "source": [
    "# For loop with a range\n",
    "for i in range(1, 6):  # Range from 1 to 5 (inclusive)\n",
    "    print(i)"
   ]
  },
  {
   "cell_type": "code",
   "execution_count": 37,
   "id": "1834bea5",
   "metadata": {},
   "outputs": [
    {
     "name": "stdout",
     "output_type": "stream",
     "text": [
      "0\n",
      "2\n",
      "4\n",
      "6\n",
      "8\n"
     ]
    }
   ],
   "source": [
    "# For loop with step\n",
    "for i in range(0, 10, 2):  # Range from 0 to 9 with a step of 2\n",
    "    print(i)"
   ]
  },
  {
   "cell_type": "code",
   "execution_count": 38,
   "id": "3a10c479",
   "metadata": {},
   "outputs": [
    {
     "name": "stdout",
     "output_type": "stream",
     "text": [
      "(0, 0)\n",
      "(0, 1)\n",
      "(1, 0)\n",
      "(1, 1)\n",
      "(2, 0)\n",
      "(2, 1)\n"
     ]
    }
   ],
   "source": [
    "# Nested for loops\n",
    "for i in range(3):\n",
    "    for j in range(2):\n",
    "        print(f\"({i}, {j})\")"
   ]
  },
  {
   "cell_type": "code",
   "execution_count": 39,
   "id": "ae0d3545",
   "metadata": {},
   "outputs": [
    {
     "name": "stdout",
     "output_type": "stream",
     "text": [
      "name Alice\n",
      "age 30\n",
      "city Wonderland\n"
     ]
    }
   ],
   "source": [
    "# Iterating over dictionary keys\n",
    "person = {\n",
    "    \"name\": \"Alice\",\n",
    "    \"age\": 30,\n",
    "    \"city\": \"Wonderland\"\n",
    "}\n",
    "for key in person:\n",
    "    print(key, person[key])"
   ]
  },
  {
   "cell_type": "code",
   "execution_count": 40,
   "id": "025d4ab4",
   "metadata": {},
   "outputs": [
    {
     "name": "stdout",
     "output_type": "stream",
     "text": [
      "name Alice\n",
      "age 30\n",
      "city Wonderland\n"
     ]
    }
   ],
   "source": [
    "# Iterating over dictionary items\n",
    "for key, value in person.items():\n",
    "    print(key, value)"
   ]
  },
  {
   "cell_type": "code",
   "execution_count": 41,
   "id": "8d3457e1",
   "metadata": {},
   "outputs": [
    {
     "name": "stdout",
     "output_type": "stream",
     "text": [
      "Index: 0, Fruit: apple\n",
      "Index: 1, Fruit: banana\n",
      "Index: 2, Fruit: cherry\n"
     ]
    }
   ],
   "source": [
    "# Using enumerate to get index and value\n",
    "fruits = [\"apple\", \"banana\", \"cherry\"]\n",
    "for index, fruit in enumerate(fruits):\n",
    "    print(f\"Index: {index}, Fruit: {fruit}\")"
   ]
  },
  {
   "cell_type": "code",
   "execution_count": 43,
   "id": "3bec86b5",
   "metadata": {},
   "outputs": [
    {
     "name": "stdout",
     "output_type": "stream",
     "text": [
      "Name: Alice, Age: 25\n",
      "Name: Bob, Age: 30\n",
      "Name: Charlie, Age: 35\n"
     ]
    }
   ],
   "source": [
    "# Using zip to iterate over multiple iterables\n",
    "names = [\"Alice\", \"Bob\", \"Charlie\"]\n",
    "ages = [25, 30, 35]\n",
    "for name, age in zip(names, ages):\n",
    "    print(f\"Name: {name}, Age: {age}\")"
   ]
  },
  {
   "cell_type": "code",
   "execution_count": 44,
   "id": "ffc199b7",
   "metadata": {},
   "outputs": [
    {
     "data": {
      "text/plain": [
       "[1, 4, 9, 16, 25]"
      ]
     },
     "execution_count": 44,
     "metadata": {},
     "output_type": "execute_result"
    }
   ],
   "source": [
    "# List comprehension with for loop\n",
    "squared_numbers = [x**2 for x in range(1, 6)]  # [1, 4, 9, 16, 25]\n",
    "\n",
    "squared_numbers"
   ]
  },
  {
   "cell_type": "code",
   "execution_count": 45,
   "id": "a178d780",
   "metadata": {},
   "outputs": [
    {
     "name": "stdout",
     "output_type": "stream",
     "text": [
      "0\n",
      "1\n",
      "2\n",
      "3\n",
      "4\n"
     ]
    }
   ],
   "source": [
    "# Using break statement to exit the loop early\n",
    "for number in range(10):\n",
    "    if number == 5:\n",
    "        break\n",
    "    print(number)"
   ]
  },
  {
   "cell_type": "code",
   "execution_count": 46,
   "id": "3687e0e8",
   "metadata": {},
   "outputs": [
    {
     "name": "stdout",
     "output_type": "stream",
     "text": [
      "1\n",
      "3\n",
      "5\n",
      "7\n",
      "9\n"
     ]
    }
   ],
   "source": [
    "# Using continue statement to skip certain iterations\n",
    "for number in range(10):\n",
    "    if number % 2 == 0:\n",
    "        continue\n",
    "    print(number)\n"
   ]
  },
  {
   "cell_type": "code",
   "execution_count": 47,
   "id": "822c5776",
   "metadata": {},
   "outputs": [
    {
     "name": "stdout",
     "output_type": "stream",
     "text": [
      "Skipping even number: 0\n",
      "Processing odd number: 1\n",
      "Skipping even number: 2\n",
      "Processing odd number: 3\n",
      "Skipping even number: 4\n",
      "Processing odd number: 5\n",
      "Skipping even number: 6\n",
      "Processing odd number: 7\n",
      "Skipping even number: 8\n",
      "Processing odd number: 9\n"
     ]
    }
   ],
   "source": [
    "# Using 'continue' statement to skip certain iterations\n",
    "for number in range(10):\n",
    "    if number % 2 == 0:\n",
    "        print(f\"Skipping even number: {number}\")\n",
    "        continue\n",
    "    print(f\"Processing odd number: {number}\")"
   ]
  },
  {
   "cell_type": "code",
   "execution_count": 48,
   "id": "79dad88b",
   "metadata": {},
   "outputs": [
    {
     "name": "stdout",
     "output_type": "stream",
     "text": [
      "Current number: 1\n",
      "Current number: 2\n",
      "Current number: 3\n",
      "Current number: 4\n",
      "Current number: 5\n",
      "Found the search value 6!\n"
     ]
    }
   ],
   "source": [
    "# Using 'break' statement to exit the loop early\n",
    "search_value = 6\n",
    "numbers = [1, 2, 3, 4, 5, 6, 7, 8, 9, 10]\n",
    "for number in numbers:\n",
    "    if number == search_value:\n",
    "        print(f\"Found the search value {search_value}!\")\n",
    "        break\n",
    "    print(f\"Current number: {number}\")"
   ]
  },
  {
   "cell_type": "code",
   "execution_count": 49,
   "id": "1ff990f5",
   "metadata": {},
   "outputs": [
    {
     "name": "stdout",
     "output_type": "stream",
     "text": [
      "Outer loop iteration: 0\n",
      "Inner loop iteration: 0\n",
      "Inner loop iteration: 1\n",
      "Breaking inner loop\n",
      "Outer loop iteration: 1\n",
      "Inner loop iteration: 0\n",
      "Inner loop iteration: 1\n",
      "Breaking inner loop\n",
      "Outer loop iteration: 2\n",
      "Inner loop iteration: 0\n",
      "Inner loop iteration: 1\n",
      "Breaking inner loop\n"
     ]
    }
   ],
   "source": [
    "# Using 'break' in nested loops\n",
    "for i in range(3):\n",
    "    print(f\"Outer loop iteration: {i}\")\n",
    "    for j in range(2):\n",
    "        print(f\"Inner loop iteration: {j}\")\n",
    "        if j == 1:\n",
    "            print(\"Breaking inner loop\")\n",
    "            break"
   ]
  },
  {
   "cell_type": "markdown",
   "id": "9cb177a4",
   "metadata": {},
   "source": [
    "## Python While"
   ]
  },
  {
   "cell_type": "code",
   "execution_count": 50,
   "id": "6654ad86",
   "metadata": {},
   "outputs": [
    {
     "name": "stdout",
     "output_type": "stream",
     "text": [
      "Count is 0\n",
      "Count is 1\n",
      "Count is 2\n",
      "Count is 3\n",
      "Count is 4\n"
     ]
    }
   ],
   "source": [
    "# Basic while loop\n",
    "count = 0\n",
    "while count < 5:\n",
    "    print(\"Count is\", count)\n",
    "    count += 1"
   ]
  },
  {
   "cell_type": "code",
   "execution_count": 51,
   "id": "25e9ca09",
   "metadata": {},
   "outputs": [
    {
     "name": "stdout",
     "output_type": "stream",
     "text": [
      "Enter 'quit' to exit: quit\n"
     ]
    }
   ],
   "source": [
    "# While loop with condition and user input\n",
    "user_input = input(\"Enter 'quit' to exit: \")\n",
    "while user_input != 'quit':\n",
    "    print(\"You entered:\", user_input)\n",
    "    user_input = input(\"Enter 'quit' to exit: \")"
   ]
  },
  {
   "cell_type": "code",
   "execution_count": 52,
   "id": "0eecd92b",
   "metadata": {},
   "outputs": [
    {
     "name": "stdout",
     "output_type": "stream",
     "text": [
      "Count is 0\n",
      "Count is 1\n",
      "Count is 2\n",
      "Count is not less than 3 anymore\n"
     ]
    }
   ],
   "source": [
    "# While loop with else block\n",
    "count = 0\n",
    "while count < 3:\n",
    "    print(\"Count is\", count)\n",
    "    count += 1\n",
    "else:\n",
    "    print(\"Count is not less than 3 anymore\")"
   ]
  },
  {
   "cell_type": "code",
   "execution_count": 53,
   "id": "863f4f7b",
   "metadata": {},
   "outputs": [
    {
     "name": "stdout",
     "output_type": "stream",
     "text": [
      "Enter 'quit' to exit: quit\n"
     ]
    }
   ],
   "source": [
    "# Infinite loop with break statement\n",
    "while True:\n",
    "    user_input = input(\"Enter 'quit' to exit: \")\n",
    "    if user_input == 'quit':\n",
    "        break"
   ]
  },
  {
   "cell_type": "code",
   "execution_count": 54,
   "id": "c9dfbb44",
   "metadata": {},
   "outputs": [
    {
     "name": "stdout",
     "output_type": "stream",
     "text": [
      "Count is 1\n",
      "Count is 2\n",
      "Count is 4\n",
      "Count is 5\n"
     ]
    }
   ],
   "source": [
    "# While loop with continue statement\n",
    "count = 0\n",
    "while count < 5:\n",
    "    count += 1\n",
    "    if count == 3:\n",
    "        continue\n",
    "    print(\"Count is\", count)"
   ]
  },
  {
   "cell_type": "code",
   "execution_count": 55,
   "id": "762c51c7",
   "metadata": {},
   "outputs": [
    {
     "name": "stdout",
     "output_type": "stream",
     "text": [
      "Outer: 0 Inner: 0\n",
      "Outer: 0 Inner: 1\n",
      "Outer: 0 Inner: 2\n",
      "Outer: 1 Inner: 0\n",
      "Outer: 1 Inner: 1\n",
      "Outer: 1 Inner: 2\n",
      "Outer: 2 Inner: 0\n",
      "Outer: 2 Inner: 1\n",
      "Outer: 2 Inner: 2\n"
     ]
    }
   ],
   "source": [
    "# Nested while loops\n",
    "outer_count = 0\n",
    "while outer_count < 3:\n",
    "    inner_count = 0\n",
    "    while inner_count < 3:\n",
    "        print(\"Outer:\", outer_count, \"Inner:\", inner_count)\n",
    "        inner_count += 1\n",
    "    outer_count += 1"
   ]
  },
  {
   "cell_type": "code",
   "execution_count": null,
   "id": "d065ade5",
   "metadata": {},
   "outputs": [],
   "source": []
  }
 ],
 "metadata": {
  "kernelspec": {
   "display_name": "Python 3 (ipykernel)",
   "language": "python",
   "name": "python3"
  },
  "language_info": {
   "codemirror_mode": {
    "name": "ipython",
    "version": 3
   },
   "file_extension": ".py",
   "mimetype": "text/x-python",
   "name": "python",
   "nbconvert_exporter": "python",
   "pygments_lexer": "ipython3",
   "version": "3.9.12"
  }
 },
 "nbformat": 4,
 "nbformat_minor": 5
}
