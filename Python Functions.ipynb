{
 "cells": [
  {
   "cell_type": "markdown",
   "id": "232b2e91",
   "metadata": {},
   "source": [
    "# Python Functions\n",
    "\n",
    "![Func](./img/function.png)\n",
    "\n",
    "![Func](./img/fn.png)\n",
    "\n",
    "---\n",
    "\n",
    "![Func](./img/fn1.jpg)\n",
    "\n",
    "---\n",
    "\n",
    "![Func](./img/fn2.jpg)\n",
    "\n",
    "---\n",
    "![Func](./img/function_calls.gif)\n",
    "\n",
    "---\n",
    "### Let's Design A Function\n",
    "![Func](./img/square_function.gif)\n",
    "\n",
    "---"
   ]
  },
  {
   "cell_type": "code",
   "execution_count": null,
   "id": "3d4d3d6f",
   "metadata": {},
   "outputs": [],
   "source": [
    "# define a function f(x): x**2\n",
    "def f(x): print(x**2)"
   ]
  },
  {
   "cell_type": "code",
   "execution_count": null,
   "id": "25f3da96",
   "metadata": {},
   "outputs": [],
   "source": [
    "x=15\n",
    "f(x)"
   ]
  },
  {
   "cell_type": "markdown",
   "id": "1ecf54e0",
   "metadata": {},
   "source": [
    "### Function In Python\n",
    "---\n",
    "\n",
    "![Func](./img/fn3.png)\n",
    "\n"
   ]
  },
  {
   "cell_type": "code",
   "execution_count": null,
   "id": "3f624d12",
   "metadata": {},
   "outputs": [],
   "source": [
    "def add(a,b):\n",
    "    \"\"\" \n",
    "    I can add two numbers\n",
    "    Arguments: a,b\n",
    "    Return: a+b\n",
    "    \"\"\"\n",
    "    result = a+b\n",
    "    \n",
    "    # Return The Result\n",
    "    return \"Addition: \" + str(result)"
   ]
  },
  {
   "cell_type": "code",
   "execution_count": null,
   "id": "13293ded",
   "metadata": {},
   "outputs": [],
   "source": [
    "print(add(5,6))"
   ]
  },
  {
   "cell_type": "code",
   "execution_count": null,
   "id": "7d3b5450",
   "metadata": {},
   "outputs": [],
   "source": [
    "def add(a,b):\n",
    "    return \"Addition: \" + str(a+b)\n",
    "def subtract(a,b):\n",
    "    return \"Subtraction: \" + str(a-b)\n",
    "def divide(a,b):\n",
    "    return \"Division: \" + str(a/b)\n",
    "def idivide(a,b):\n",
    "    return \"Division: \" + str(a//b)\n",
    "def multiply(a,b):\n",
    "    return \"Multiplication: \" + str(a*b)\n",
    "def power(a,b):\n",
    "    return \"Power: \" + str(a**b)\n",
    "def reminder(a,b):\n",
    "    return \"Reminder: \" + str(a%b)"
   ]
  },
  {
   "cell_type": "code",
   "execution_count": null,
   "id": "3c16ef85",
   "metadata": {},
   "outputs": [],
   "source": [
    "a,b = 52,3\n",
    "print(add(a,b))\n",
    "print(subtract(a,b))\n",
    "print(divide(a,b))\n",
    "print(idivide(a,b))\n",
    "print(multiply(a,b))\n",
    "print(power(a,b))\n",
    "print(reminder(a,b))"
   ]
  },
  {
   "cell_type": "code",
   "execution_count": null,
   "id": "7f5c2543",
   "metadata": {},
   "outputs": [],
   "source": [
    "import cmath\n",
    "def find_roots(a, b, c):\n",
    "    \n",
    "    a,b,c=complex(a),complex(b),complex(c)\n",
    "    \n",
    "    # Calculate the discriminant\n",
    "    D = b**2 - 4*a*c\n",
    "    \n",
    "    # root of Discriminant D\n",
    "    rD = cmath.sqrt(D)\n",
    "    \n",
    "    root1,root2 = (-b+rD)/(2*a),(-b-rD)/(2*a)\n",
    "    \n",
    "    return root1,root2\n",
    "\n",
    "\n",
    "find_roots(1,0,5)\n",
    "# find_roots(1,2,5)\n",
    "# r1,r2 = find_roots(5,6,2)\n",
    "# print(r1,r2)"
   ]
  },
  {
   "cell_type": "code",
   "execution_count": null,
   "id": "d412d328",
   "metadata": {},
   "outputs": [],
   "source": [
    "def reverse_string(input_string):\n",
    "    return input_string[::-1]\n",
    "reverse_string(\"12345\")"
   ]
  },
  {
   "cell_type": "code",
   "execution_count": null,
   "id": "3aba0b21",
   "metadata": {},
   "outputs": [],
   "source": [
    "def palindrome(s):\n",
    "    \"\"\"A palindrome is a word, phrase, number,\n",
    "    or another sequence of characters that reads\n",
    "    the same backward as forward.\n",
    "    \n",
    "    Check Palindrome And Return the result\n",
    "    \"\"\"\n",
    "    return None"
   ]
  },
  {
   "cell_type": "code",
   "execution_count": null,
   "id": "2927e1d5",
   "metadata": {},
   "outputs": [],
   "source": [
    "# Function with default parameter value\n",
    "def greet(name=\"User\"):\n",
    "    print(f\"Hello, {name}!\")"
   ]
  },
  {
   "cell_type": "code",
   "execution_count": null,
   "id": "0f53964b",
   "metadata": {},
   "outputs": [],
   "source": [
    "# Function with variable number of arguments\n",
    "def total(*args):\n",
    "    total = 0\n",
    "    for num in args:\n",
    "        total += num\n",
    "    return total\n"
   ]
  },
  {
   "cell_type": "code",
   "execution_count": null,
   "id": "fcb7344c",
   "metadata": {},
   "outputs": [],
   "source": [
    "# Recursion: Function calling itself\n",
    "def factorial(n):\n",
    "    if n == 1:\n",
    "        print(\"Last Value Came 1\")\n",
    "        return 1\n",
    "    else:\n",
    "        print(\"I'm at\",n,\"Let me Call Again Function for\",n-1)\n",
    "        return n * factorial(n - 1)"
   ]
  },
  {
   "cell_type": "code",
   "execution_count": null,
   "id": "a2d038de",
   "metadata": {},
   "outputs": [],
   "source": [
    "factorial(5)"
   ]
  },
  {
   "cell_type": "code",
   "execution_count": null,
   "id": "02277f68",
   "metadata": {},
   "outputs": [],
   "source": [
    "# Use Function as a argument\n",
    "def f(x): return x**2\n",
    "def cube(x): return x**3\n",
    "def change(function,*values):\n",
    "    res = []\n",
    "    for i in values:\n",
    "        res.append(f(i))\n",
    "    return res\n"
   ]
  },
  {
   "cell_type": "code",
   "execution_count": null,
   "id": "906323cb",
   "metadata": {},
   "outputs": [],
   "source": [
    "change(f,1,2,6,4,5,32,16)"
   ]
  },
  {
   "cell_type": "code",
   "execution_count": null,
   "id": "8e03ba06",
   "metadata": {},
   "outputs": [],
   "source": [
    "change(cube,1,56,9,4,6,1,3,4)"
   ]
  },
  {
   "cell_type": "code",
   "execution_count": null,
   "id": "df541d72",
   "metadata": {},
   "outputs": [],
   "source": []
  }
 ],
 "metadata": {
  "kernelspec": {
   "display_name": "Python 3 (ipykernel)",
   "language": "python",
   "name": "python3"
  },
  "language_info": {
   "codemirror_mode": {
    "name": "ipython",
    "version": 3
   },
   "file_extension": ".py",
   "mimetype": "text/x-python",
   "name": "python",
   "nbconvert_exporter": "python",
   "pygments_lexer": "ipython3",
   "version": "3.10.12"
  }
 },
 "nbformat": 4,
 "nbformat_minor": 5
}
