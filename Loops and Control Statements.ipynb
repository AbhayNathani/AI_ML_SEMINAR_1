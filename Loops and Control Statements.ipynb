{
 "cells": [
  {
   "cell_type": "markdown",
   "id": "b3477a71",
   "metadata": {},
   "source": [
    "# Python Loops And Control Statements"
   ]
  },
  {
   "cell_type": "markdown",
   "id": "04281b3b",
   "metadata": {},
   "source": [
    "## 1. Python If statement\n",
    "\n",
    "![IFELSE](./img/if-else.jpg)"
   ]
  },
  {
   "cell_type": "code",
   "execution_count": null,
   "id": "1bdbb57f",
   "metadata": {},
   "outputs": [],
   "source": [
    "# Basic if statement\n",
    "x = -10\n",
    "if x > 0:\n",
    "    print(\"x is positive\")\n",
    "\n"
   ]
  },
  {
   "cell_type": "code",
   "execution_count": null,
   "id": "9d9777d2",
   "metadata": {},
   "outputs": [],
   "source": [
    "# If-else statement\n",
    "y = 15\n",
    "if y > 0:\n",
    "    print(\"y is positive\")\n",
    "else:\n",
    "    print(\"y is non-positive\")\n"
   ]
  },
  {
   "cell_type": "code",
   "execution_count": null,
   "id": "9d355b38",
   "metadata": {},
   "outputs": [],
   "source": [
    "\n",
    "# If-elif-else statement\n",
    "z = -10\n",
    "if z > 0:\n",
    "    print(\"z is positive\")\n",
    "elif z == 0:\n",
    "    print(\"z is zero\")\n",
    "else:\n",
    "    print(\"z is negative\")\n",
    "\n"
   ]
  },
  {
   "cell_type": "code",
   "execution_count": null,
   "id": "68ba39c8",
   "metadata": {},
   "outputs": [],
   "source": [
    "# Nested if statements\n",
    "a = 15\n",
    "if a > 0:\n",
    "    if a % 2 == 0:\n",
    "        print(\"a is positive and even\")\n",
    "    else:\n",
    "        print(\"a is positive and odd\")\n",
    "else:\n",
    "    print(\"a is non-positive\")\n",
    "\n"
   ]
  },
  {
   "cell_type": "code",
   "execution_count": null,
   "id": "05eb57a2",
   "metadata": {},
   "outputs": [],
   "source": [
    "# Multiple conditions in an if statement\n",
    "b = 25\n",
    "if b > 0 and b % 5 == 0:\n",
    "    print(\"b is positive and divisible by 5\")\n",
    "\n"
   ]
  },
  {
   "cell_type": "code",
   "execution_count": null,
   "id": "3f08012d",
   "metadata": {},
   "outputs": [],
   "source": [
    "# Using 'in' keyword to check membership\n",
    "colors = ['red','orange', 'green', 'blue']\n",
    "color = 'orange'\n",
    "if color in colors:\n",
    "    print(f\"{color} is in the list of colors\")\n",
    "#A\n",
    "\n"
   ]
  },
  {
   "cell_type": "code",
   "execution_count": null,
   "id": "75c01939",
   "metadata": {},
   "outputs": [],
   "source": [
    "# Ternary conditional expression\n",
    "age = 19\n",
    "status = \"minor\" if age < 18 else \"adult\"\n",
    "print(\"Status:\", status)\n"
   ]
  },
  {
   "cell_type": "markdown",
   "id": "37e32a52",
   "metadata": {},
   "source": [
    "# Python for loop"
   ]
  },
  {
   "cell_type": "code",
   "execution_count": null,
   "id": "0fbbea18",
   "metadata": {},
   "outputs": [],
   "source": [
    "# Basic for loop with a list\n",
    "numbers = [1, 2, 3, 4, 5]\n",
    "for number in numbers:\n",
    "    print(number)\n"
   ]
  },
  {
   "cell_type": "code",
   "execution_count": null,
   "id": "ec8e465b",
   "metadata": {},
   "outputs": [],
   "source": [
    "# For loop with a range\n",
    "for i in range(1, 6):  # Range from 1 to 5 (inclusive)\n",
    "    print(i)"
   ]
  },
  {
   "cell_type": "code",
   "execution_count": null,
   "id": "1834bea5",
   "metadata": {},
   "outputs": [],
   "source": [
    "# For loop with step\n",
    "for i in range(0, 10, 2):  # Range from 0 to 9 with a step of 2\n",
    "    print(i)"
   ]
  },
  {
   "cell_type": "code",
   "execution_count": null,
   "id": "3a10c479",
   "metadata": {},
   "outputs": [],
   "source": [
    "# Nested for loops\n",
    "for i in range(3):\n",
    "    for j in range(2):\n",
    "        print(f\"({i}, {j})\")"
   ]
  },
  {
   "cell_type": "code",
   "execution_count": null,
   "id": "ae0d3545",
   "metadata": {},
   "outputs": [],
   "source": [
    "# Iterating over dictionary keys\n",
    "person = {\n",
    "    \"name\": \"Alice\",\n",
    "    \"age\": 30,\n",
    "    \"city\": \"Wonderland\"\n",
    "}\n",
    "for key in person:\n",
    "    print(key, person[key])"
   ]
  },
  {
   "cell_type": "code",
   "execution_count": null,
   "id": "025d4ab4",
   "metadata": {},
   "outputs": [],
   "source": [
    "# Iterating over dictionary items\n",
    "for key, value in person.items():\n",
    "    print(key, value)"
   ]
  },
  {
   "cell_type": "code",
   "execution_count": null,
   "id": "8d3457e1",
   "metadata": {},
   "outputs": [],
   "source": [
    "# Using enumerate to get index and value\n",
    "fruits = [\"apple\", \"banana\", \"cherry\"]\n",
    "for index, fruit in enumerate(fruits):\n",
    "    print(f\"Index: {index}, Fruit: {fruit}\")"
   ]
  },
  {
   "cell_type": "code",
   "execution_count": null,
   "id": "3bec86b5",
   "metadata": {},
   "outputs": [],
   "source": [
    "# Using zip to iterate over multiple iterables\n",
    "names = [\"Alice\", \"Bob\", \"Charlie\"]\n",
    "ages = [25, 30, 35]\n",
    "for name, age in zip(names, ages):\n",
    "    print(f\"Name: {name}, Age: {age}\")"
   ]
  },
  {
   "cell_type": "code",
   "execution_count": null,
   "id": "ffc199b7",
   "metadata": {},
   "outputs": [],
   "source": [
    "# List comprehension with for loop\n",
    "squared_numbers = [x**2 for x in range(1, 6)]  # [1, 4, 9, 16, 25]\n",
    "\n",
    "squared_numbers"
   ]
  },
  {
   "cell_type": "code",
   "execution_count": null,
   "id": "a178d780",
   "metadata": {},
   "outputs": [],
   "source": [
    "# Using break statement to exit the loop early\n",
    "for number in range(10):\n",
    "    if number == 5:\n",
    "        break\n",
    "    print(number)"
   ]
  },
  {
   "cell_type": "code",
   "execution_count": null,
   "id": "3687e0e8",
   "metadata": {},
   "outputs": [],
   "source": [
    "# Using continue statement to skip certain iterations\n",
    "for number in range(10):\n",
    "    if number % 2 == 0:\n",
    "        continue\n",
    "    print(number)\n"
   ]
  },
  {
   "cell_type": "code",
   "execution_count": null,
   "id": "822c5776",
   "metadata": {},
   "outputs": [],
   "source": [
    "# Using 'continue' statement to skip certain iterations\n",
    "for number in range(10):\n",
    "    if number % 2 == 0:\n",
    "        print(f\"Skipping even number: {number}\")\n",
    "        continue\n",
    "    print(f\"Processing odd number: {number}\")"
   ]
  },
  {
   "cell_type": "code",
   "execution_count": null,
   "id": "79dad88b",
   "metadata": {},
   "outputs": [],
   "source": [
    "# Using 'break' statement to exit the loop early\n",
    "search_value = 6\n",
    "numbers = [1, 2, 3, 4, 5, 6, 7, 8, 9, 10]\n",
    "for number in numbers:\n",
    "    if number == search_value:\n",
    "        print(f\"Found the search value {search_value}!\")\n",
    "        break\n",
    "    print(f\"Current number: {number}\")"
   ]
  },
  {
   "cell_type": "code",
   "execution_count": null,
   "id": "1ff990f5",
   "metadata": {},
   "outputs": [],
   "source": [
    "# Using 'break' in nested loops\n",
    "for i in range(3):\n",
    "    print(f\"Outer loop iteration: {i}\")\n",
    "    for j in range(2):\n",
    "        print(f\"Inner loop iteration: {j}\")\n",
    "        if j == 1:\n",
    "            print(\"Breaking inner loop\")\n",
    "            break"
   ]
  },
  {
   "cell_type": "markdown",
   "id": "9cb177a4",
   "metadata": {},
   "source": [
    "## Python While"
   ]
  },
  {
   "cell_type": "code",
   "execution_count": null,
   "id": "6654ad86",
   "metadata": {},
   "outputs": [],
   "source": [
    "# Basic while loop\n",
    "count = 0\n",
    "while count < 5:\n",
    "    print(\"Count is\", count)\n",
    "    count += 1"
   ]
  },
  {
   "cell_type": "code",
   "execution_count": null,
   "id": "25e9ca09",
   "metadata": {},
   "outputs": [],
   "source": [
    "# While loop with condition and user input\n",
    "user_input = input(\"Enter 'quit' to exit: \")\n",
    "while user_input != 'quit':\n",
    "    print(\"You entered:\", user_input)\n",
    "    user_input = input(\"Enter 'quit' to exit: \")"
   ]
  },
  {
   "cell_type": "code",
   "execution_count": null,
   "id": "0eecd92b",
   "metadata": {},
   "outputs": [],
   "source": [
    "# While loop with else block\n",
    "count = 0\n",
    "while count < 3:\n",
    "    print(\"Count is\", count)\n",
    "    count += 1\n",
    "else:\n",
    "    print(\"Count is not less than 3 anymore\")"
   ]
  },
  {
   "cell_type": "code",
   "execution_count": null,
   "id": "863f4f7b",
   "metadata": {},
   "outputs": [],
   "source": [
    "# Infinite loop with break statement\n",
    "while True:\n",
    "    user_input = input(\"Enter 'quit' to exit: \")\n",
    "    if user_input == 'quit':\n",
    "        break"
   ]
  },
  {
   "cell_type": "code",
   "execution_count": null,
   "id": "c9dfbb44",
   "metadata": {},
   "outputs": [],
   "source": [
    "# While loop with continue statement\n",
    "count = 0\n",
    "while count < 5:\n",
    "    count += 1\n",
    "    if count == 3:\n",
    "        continue\n",
    "    print(\"Count is\", count)"
   ]
  },
  {
   "cell_type": "code",
   "execution_count": null,
   "id": "762c51c7",
   "metadata": {},
   "outputs": [],
   "source": [
    "# Nested while loops\n",
    "outer_count = 0\n",
    "while outer_count < 3:\n",
    "    inner_count = 0\n",
    "    while inner_count < 3:\n",
    "        print(\"Outer:\", outer_count, \"Inner:\", inner_count)\n",
    "        inner_count += 1\n",
    "    outer_count += 1"
   ]
  },
  {
   "cell_type": "code",
   "execution_count": null,
   "id": "d065ade5",
   "metadata": {},
   "outputs": [],
   "source": []
  }
 ],
 "metadata": {
  "kernelspec": {
   "display_name": "Python 3 (ipykernel)",
   "language": "python",
   "name": "python3"
  },
  "language_info": {
   "codemirror_mode": {
    "name": "ipython",
    "version": 3
   },
   "file_extension": ".py",
   "mimetype": "text/x-python",
   "name": "python",
   "nbconvert_exporter": "python",
   "pygments_lexer": "ipython3",
   "version": "3.9.12"
  }
 },
 "nbformat": 4,
 "nbformat_minor": 5
}
