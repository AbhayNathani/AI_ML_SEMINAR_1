{
 "cells": [
  {
   "cell_type": "markdown",
   "id": "d2b83b34",
   "metadata": {},
   "source": [
    "# Graphs In Python Using PLOTLY\n",
    "---\n",
    "![plotly](./img/Plotly-logo.png)\n",
    "![plotly](./img/1_plotly.png)\n",
    "\n",
    "\n",
    "#### Plotly is a Python graphing library that produces interactive, publication-quality visualizations in a variety of formats, including charts, plots, and dashboards, ideal for data analysis and exploration.\n"
   ]
  },
  {
   "cell_type": "code",
   "execution_count": 1,
   "id": "39cd2327",
   "metadata": {},
   "outputs": [],
   "source": [
    "# Import PLotly Library\n",
    "import plotly.express as px\n",
    "\n",
    "import pandas as pd"
   ]
  },
  {
   "cell_type": "code",
   "execution_count": 2,
   "id": "653fd99e",
   "metadata": {},
   "outputs": [
    {
     "data": {
      "text/html": [
       "<div>\n",
       "<style scoped>\n",
       "    .dataframe tbody tr th:only-of-type {\n",
       "        vertical-align: middle;\n",
       "    }\n",
       "\n",
       "    .dataframe tbody tr th {\n",
       "        vertical-align: top;\n",
       "    }\n",
       "\n",
       "    .dataframe thead th {\n",
       "        text-align: right;\n",
       "    }\n",
       "</style>\n",
       "<table border=\"1\" class=\"dataframe\">\n",
       "  <thead>\n",
       "    <tr style=\"text-align: right;\">\n",
       "      <th></th>\n",
       "      <th>Id</th>\n",
       "      <th>SepalLengthCm</th>\n",
       "      <th>SepalWidthCm</th>\n",
       "      <th>PetalLengthCm</th>\n",
       "      <th>PetalWidthCm</th>\n",
       "      <th>Species</th>\n",
       "    </tr>\n",
       "  </thead>\n",
       "  <tbody>\n",
       "    <tr>\n",
       "      <th>0</th>\n",
       "      <td>1</td>\n",
       "      <td>5.1</td>\n",
       "      <td>3.5</td>\n",
       "      <td>1.4</td>\n",
       "      <td>0.2</td>\n",
       "      <td>Iris-setosa</td>\n",
       "    </tr>\n",
       "    <tr>\n",
       "      <th>1</th>\n",
       "      <td>2</td>\n",
       "      <td>4.9</td>\n",
       "      <td>3.0</td>\n",
       "      <td>1.4</td>\n",
       "      <td>0.2</td>\n",
       "      <td>Iris-setosa</td>\n",
       "    </tr>\n",
       "    <tr>\n",
       "      <th>2</th>\n",
       "      <td>3</td>\n",
       "      <td>4.7</td>\n",
       "      <td>3.2</td>\n",
       "      <td>1.3</td>\n",
       "      <td>0.2</td>\n",
       "      <td>Iris-setosa</td>\n",
       "    </tr>\n",
       "    <tr>\n",
       "      <th>3</th>\n",
       "      <td>4</td>\n",
       "      <td>4.6</td>\n",
       "      <td>3.1</td>\n",
       "      <td>1.5</td>\n",
       "      <td>0.2</td>\n",
       "      <td>Iris-setosa</td>\n",
       "    </tr>\n",
       "    <tr>\n",
       "      <th>4</th>\n",
       "      <td>5</td>\n",
       "      <td>5.0</td>\n",
       "      <td>3.6</td>\n",
       "      <td>1.4</td>\n",
       "      <td>0.2</td>\n",
       "      <td>Iris-setosa</td>\n",
       "    </tr>\n",
       "  </tbody>\n",
       "</table>\n",
       "</div>"
      ],
      "text/plain": [
       "   Id  SepalLengthCm  SepalWidthCm  PetalLengthCm  PetalWidthCm      Species\n",
       "0   1            5.1           3.5            1.4           0.2  Iris-setosa\n",
       "1   2            4.9           3.0            1.4           0.2  Iris-setosa\n",
       "2   3            4.7           3.2            1.3           0.2  Iris-setosa\n",
       "3   4            4.6           3.1            1.5           0.2  Iris-setosa\n",
       "4   5            5.0           3.6            1.4           0.2  Iris-setosa"
      ]
     },
     "execution_count": 2,
     "metadata": {},
     "output_type": "execute_result"
    }
   ],
   "source": [
    "df = pd.read_csv(\"./data/Iris.csv\")\n",
    "df.head()"
   ]
  },
  {
   "cell_type": "code",
   "execution_count": 3,
   "id": "000005bf",
   "metadata": {},
   "outputs": [
    {
     "data": {
      "text/html": [
       "<div>\n",
       "<style scoped>\n",
       "    .dataframe tbody tr th:only-of-type {\n",
       "        vertical-align: middle;\n",
       "    }\n",
       "\n",
       "    .dataframe tbody tr th {\n",
       "        vertical-align: top;\n",
       "    }\n",
       "\n",
       "    .dataframe thead th {\n",
       "        text-align: right;\n",
       "    }\n",
       "</style>\n",
       "<table border=\"1\" class=\"dataframe\">\n",
       "  <thead>\n",
       "    <tr style=\"text-align: right;\">\n",
       "      <th></th>\n",
       "      <th>Id</th>\n",
       "      <th>SepalLengthCm</th>\n",
       "      <th>SepalWidthCm</th>\n",
       "      <th>PetalLengthCm</th>\n",
       "      <th>PetalWidthCm</th>\n",
       "    </tr>\n",
       "  </thead>\n",
       "  <tbody>\n",
       "    <tr>\n",
       "      <th>count</th>\n",
       "      <td>150.000000</td>\n",
       "      <td>150.000000</td>\n",
       "      <td>150.000000</td>\n",
       "      <td>150.000000</td>\n",
       "      <td>150.000000</td>\n",
       "    </tr>\n",
       "    <tr>\n",
       "      <th>mean</th>\n",
       "      <td>75.500000</td>\n",
       "      <td>5.843333</td>\n",
       "      <td>3.054000</td>\n",
       "      <td>3.758667</td>\n",
       "      <td>1.198667</td>\n",
       "    </tr>\n",
       "    <tr>\n",
       "      <th>std</th>\n",
       "      <td>43.445368</td>\n",
       "      <td>0.828066</td>\n",
       "      <td>0.433594</td>\n",
       "      <td>1.764420</td>\n",
       "      <td>0.763161</td>\n",
       "    </tr>\n",
       "    <tr>\n",
       "      <th>min</th>\n",
       "      <td>1.000000</td>\n",
       "      <td>4.300000</td>\n",
       "      <td>2.000000</td>\n",
       "      <td>1.000000</td>\n",
       "      <td>0.100000</td>\n",
       "    </tr>\n",
       "    <tr>\n",
       "      <th>25%</th>\n",
       "      <td>38.250000</td>\n",
       "      <td>5.100000</td>\n",
       "      <td>2.800000</td>\n",
       "      <td>1.600000</td>\n",
       "      <td>0.300000</td>\n",
       "    </tr>\n",
       "    <tr>\n",
       "      <th>50%</th>\n",
       "      <td>75.500000</td>\n",
       "      <td>5.800000</td>\n",
       "      <td>3.000000</td>\n",
       "      <td>4.350000</td>\n",
       "      <td>1.300000</td>\n",
       "    </tr>\n",
       "    <tr>\n",
       "      <th>75%</th>\n",
       "      <td>112.750000</td>\n",
       "      <td>6.400000</td>\n",
       "      <td>3.300000</td>\n",
       "      <td>5.100000</td>\n",
       "      <td>1.800000</td>\n",
       "    </tr>\n",
       "    <tr>\n",
       "      <th>max</th>\n",
       "      <td>150.000000</td>\n",
       "      <td>7.900000</td>\n",
       "      <td>4.400000</td>\n",
       "      <td>6.900000</td>\n",
       "      <td>2.500000</td>\n",
       "    </tr>\n",
       "  </tbody>\n",
       "</table>\n",
       "</div>"
      ],
      "text/plain": [
       "               Id  SepalLengthCm  SepalWidthCm  PetalLengthCm  PetalWidthCm\n",
       "count  150.000000     150.000000    150.000000     150.000000    150.000000\n",
       "mean    75.500000       5.843333      3.054000       3.758667      1.198667\n",
       "std     43.445368       0.828066      0.433594       1.764420      0.763161\n",
       "min      1.000000       4.300000      2.000000       1.000000      0.100000\n",
       "25%     38.250000       5.100000      2.800000       1.600000      0.300000\n",
       "50%     75.500000       5.800000      3.000000       4.350000      1.300000\n",
       "75%    112.750000       6.400000      3.300000       5.100000      1.800000\n",
       "max    150.000000       7.900000      4.400000       6.900000      2.500000"
      ]
     },
     "execution_count": 3,
     "metadata": {},
     "output_type": "execute_result"
    }
   ],
   "source": [
    "df.describe()"
   ]
  },
  {
   "cell_type": "code",
   "execution_count": 4,
   "id": "7511ef5a",
   "metadata": {},
   "outputs": [
    {
     "data": {
      "application/vnd.plotly.v1+json": {
       "config": {
        "plotlyServerURL": "https://plot.ly"
       },
       "data": [
        {
         "hovertemplate": "PetalLengthCm=%{x}<br>Species=%{y}<extra></extra>",
         "legendgroup": "",
         "line": {
          "color": "#636efa",
          "dash": "solid"
         },
         "marker": {
          "symbol": "circle"
         },
         "mode": "lines",
         "name": "",
         "orientation": "h",
         "showlegend": false,
         "type": "scatter",
         "x": [
          1.4,
          1.4,
          1.3,
          1.5,
          1.4,
          1.7,
          1.4,
          1.5,
          1.4,
          1.5,
          1.5,
          1.6,
          1.4,
          1.1,
          1.2,
          1.5,
          1.3,
          1.4,
          1.7,
          1.5,
          1.7,
          1.5,
          1,
          1.7,
          1.9,
          1.6,
          1.6,
          1.5,
          1.4,
          1.6,
          1.6,
          1.5,
          1.5,
          1.4,
          1.5,
          1.2,
          1.3,
          1.5,
          1.3,
          1.5,
          1.3,
          1.3,
          1.3,
          1.6,
          1.9,
          1.4,
          1.6,
          1.4,
          1.5,
          1.4,
          4.7,
          4.5,
          4.9,
          4,
          4.6,
          4.5,
          4.7,
          3.3,
          4.6,
          3.9,
          3.5,
          4.2,
          4,
          4.7,
          3.6,
          4.4,
          4.5,
          4.1,
          4.5,
          3.9,
          4.8,
          4,
          4.9,
          4.7,
          4.3,
          4.4,
          4.8,
          5,
          4.5,
          3.5,
          3.8,
          3.7,
          3.9,
          5.1,
          4.5,
          4.5,
          4.7,
          4.4,
          4.1,
          4,
          4.4,
          4.6,
          4,
          3.3,
          4.2,
          4.2,
          4.2,
          4.3,
          3,
          4.1,
          6,
          5.1,
          5.9,
          5.6,
          5.8,
          6.6,
          4.5,
          6.3,
          5.8,
          6.1,
          5.1,
          5.3,
          5.5,
          5,
          5.1,
          5.3,
          5.5,
          6.7,
          6.9,
          5,
          5.7,
          4.9,
          6.7,
          4.9,
          5.7,
          6,
          4.8,
          4.9,
          5.6,
          5.8,
          6.1,
          6.4,
          5.6,
          5.1,
          5.6,
          6.1,
          5.6,
          5.5,
          4.8,
          5.4,
          5.6,
          5.1,
          5.1,
          5.9,
          5.7,
          5.2,
          5,
          5.2,
          5.4,
          5.1
         ],
         "xaxis": "x",
         "y": [
          "Iris-setosa",
          "Iris-setosa",
          "Iris-setosa",
          "Iris-setosa",
          "Iris-setosa",
          "Iris-setosa",
          "Iris-setosa",
          "Iris-setosa",
          "Iris-setosa",
          "Iris-setosa",
          "Iris-setosa",
          "Iris-setosa",
          "Iris-setosa",
          "Iris-setosa",
          "Iris-setosa",
          "Iris-setosa",
          "Iris-setosa",
          "Iris-setosa",
          "Iris-setosa",
          "Iris-setosa",
          "Iris-setosa",
          "Iris-setosa",
          "Iris-setosa",
          "Iris-setosa",
          "Iris-setosa",
          "Iris-setosa",
          "Iris-setosa",
          "Iris-setosa",
          "Iris-setosa",
          "Iris-setosa",
          "Iris-setosa",
          "Iris-setosa",
          "Iris-setosa",
          "Iris-setosa",
          "Iris-setosa",
          "Iris-setosa",
          "Iris-setosa",
          "Iris-setosa",
          "Iris-setosa",
          "Iris-setosa",
          "Iris-setosa",
          "Iris-setosa",
          "Iris-setosa",
          "Iris-setosa",
          "Iris-setosa",
          "Iris-setosa",
          "Iris-setosa",
          "Iris-setosa",
          "Iris-setosa",
          "Iris-setosa",
          "Iris-versicolor",
          "Iris-versicolor",
          "Iris-versicolor",
          "Iris-versicolor",
          "Iris-versicolor",
          "Iris-versicolor",
          "Iris-versicolor",
          "Iris-versicolor",
          "Iris-versicolor",
          "Iris-versicolor",
          "Iris-versicolor",
          "Iris-versicolor",
          "Iris-versicolor",
          "Iris-versicolor",
          "Iris-versicolor",
          "Iris-versicolor",
          "Iris-versicolor",
          "Iris-versicolor",
          "Iris-versicolor",
          "Iris-versicolor",
          "Iris-versicolor",
          "Iris-versicolor",
          "Iris-versicolor",
          "Iris-versicolor",
          "Iris-versicolor",
          "Iris-versicolor",
          "Iris-versicolor",
          "Iris-versicolor",
          "Iris-versicolor",
          "Iris-versicolor",
          "Iris-versicolor",
          "Iris-versicolor",
          "Iris-versicolor",
          "Iris-versicolor",
          "Iris-versicolor",
          "Iris-versicolor",
          "Iris-versicolor",
          "Iris-versicolor",
          "Iris-versicolor",
          "Iris-versicolor",
          "Iris-versicolor",
          "Iris-versicolor",
          "Iris-versicolor",
          "Iris-versicolor",
          "Iris-versicolor",
          "Iris-versicolor",
          "Iris-versicolor",
          "Iris-versicolor",
          "Iris-versicolor",
          "Iris-versicolor",
          "Iris-virginica",
          "Iris-virginica",
          "Iris-virginica",
          "Iris-virginica",
          "Iris-virginica",
          "Iris-virginica",
          "Iris-virginica",
          "Iris-virginica",
          "Iris-virginica",
          "Iris-virginica",
          "Iris-virginica",
          "Iris-virginica",
          "Iris-virginica",
          "Iris-virginica",
          "Iris-virginica",
          "Iris-virginica",
          "Iris-virginica",
          "Iris-virginica",
          "Iris-virginica",
          "Iris-virginica",
          "Iris-virginica",
          "Iris-virginica",
          "Iris-virginica",
          "Iris-virginica",
          "Iris-virginica",
          "Iris-virginica",
          "Iris-virginica",
          "Iris-virginica",
          "Iris-virginica",
          "Iris-virginica",
          "Iris-virginica",
          "Iris-virginica",
          "Iris-virginica",
          "Iris-virginica",
          "Iris-virginica",
          "Iris-virginica",
          "Iris-virginica",
          "Iris-virginica",
          "Iris-virginica",
          "Iris-virginica",
          "Iris-virginica",
          "Iris-virginica",
          "Iris-virginica",
          "Iris-virginica",
          "Iris-virginica",
          "Iris-virginica",
          "Iris-virginica",
          "Iris-virginica",
          "Iris-virginica",
          "Iris-virginica"
         ],
         "yaxis": "y"
        }
       ],
       "layout": {
        "legend": {
         "tracegroupgap": 0
        },
        "margin": {
         "t": 60
        },
        "template": {
         "data": {
          "bar": [
           {
            "error_x": {
             "color": "#2a3f5f"
            },
            "error_y": {
             "color": "#2a3f5f"
            },
            "marker": {
             "line": {
              "color": "#E5ECF6",
              "width": 0.5
             },
             "pattern": {
              "fillmode": "overlay",
              "size": 10,
              "solidity": 0.2
             }
            },
            "type": "bar"
           }
          ],
          "barpolar": [
           {
            "marker": {
             "line": {
              "color": "#E5ECF6",
              "width": 0.5
             },
             "pattern": {
              "fillmode": "overlay",
              "size": 10,
              "solidity": 0.2
             }
            },
            "type": "barpolar"
           }
          ],
          "carpet": [
           {
            "aaxis": {
             "endlinecolor": "#2a3f5f",
             "gridcolor": "white",
             "linecolor": "white",
             "minorgridcolor": "white",
             "startlinecolor": "#2a3f5f"
            },
            "baxis": {
             "endlinecolor": "#2a3f5f",
             "gridcolor": "white",
             "linecolor": "white",
             "minorgridcolor": "white",
             "startlinecolor": "#2a3f5f"
            },
            "type": "carpet"
           }
          ],
          "choropleth": [
           {
            "colorbar": {
             "outlinewidth": 0,
             "ticks": ""
            },
            "type": "choropleth"
           }
          ],
          "contour": [
           {
            "colorbar": {
             "outlinewidth": 0,
             "ticks": ""
            },
            "colorscale": [
             [
              0,
              "#0d0887"
             ],
             [
              0.1111111111111111,
              "#46039f"
             ],
             [
              0.2222222222222222,
              "#7201a8"
             ],
             [
              0.3333333333333333,
              "#9c179e"
             ],
             [
              0.4444444444444444,
              "#bd3786"
             ],
             [
              0.5555555555555556,
              "#d8576b"
             ],
             [
              0.6666666666666666,
              "#ed7953"
             ],
             [
              0.7777777777777778,
              "#fb9f3a"
             ],
             [
              0.8888888888888888,
              "#fdca26"
             ],
             [
              1,
              "#f0f921"
             ]
            ],
            "type": "contour"
           }
          ],
          "contourcarpet": [
           {
            "colorbar": {
             "outlinewidth": 0,
             "ticks": ""
            },
            "type": "contourcarpet"
           }
          ],
          "heatmap": [
           {
            "colorbar": {
             "outlinewidth": 0,
             "ticks": ""
            },
            "colorscale": [
             [
              0,
              "#0d0887"
             ],
             [
              0.1111111111111111,
              "#46039f"
             ],
             [
              0.2222222222222222,
              "#7201a8"
             ],
             [
              0.3333333333333333,
              "#9c179e"
             ],
             [
              0.4444444444444444,
              "#bd3786"
             ],
             [
              0.5555555555555556,
              "#d8576b"
             ],
             [
              0.6666666666666666,
              "#ed7953"
             ],
             [
              0.7777777777777778,
              "#fb9f3a"
             ],
             [
              0.8888888888888888,
              "#fdca26"
             ],
             [
              1,
              "#f0f921"
             ]
            ],
            "type": "heatmap"
           }
          ],
          "heatmapgl": [
           {
            "colorbar": {
             "outlinewidth": 0,
             "ticks": ""
            },
            "colorscale": [
             [
              0,
              "#0d0887"
             ],
             [
              0.1111111111111111,
              "#46039f"
             ],
             [
              0.2222222222222222,
              "#7201a8"
             ],
             [
              0.3333333333333333,
              "#9c179e"
             ],
             [
              0.4444444444444444,
              "#bd3786"
             ],
             [
              0.5555555555555556,
              "#d8576b"
             ],
             [
              0.6666666666666666,
              "#ed7953"
             ],
             [
              0.7777777777777778,
              "#fb9f3a"
             ],
             [
              0.8888888888888888,
              "#fdca26"
             ],
             [
              1,
              "#f0f921"
             ]
            ],
            "type": "heatmapgl"
           }
          ],
          "histogram": [
           {
            "marker": {
             "pattern": {
              "fillmode": "overlay",
              "size": 10,
              "solidity": 0.2
             }
            },
            "type": "histogram"
           }
          ],
          "histogram2d": [
           {
            "colorbar": {
             "outlinewidth": 0,
             "ticks": ""
            },
            "colorscale": [
             [
              0,
              "#0d0887"
             ],
             [
              0.1111111111111111,
              "#46039f"
             ],
             [
              0.2222222222222222,
              "#7201a8"
             ],
             [
              0.3333333333333333,
              "#9c179e"
             ],
             [
              0.4444444444444444,
              "#bd3786"
             ],
             [
              0.5555555555555556,
              "#d8576b"
             ],
             [
              0.6666666666666666,
              "#ed7953"
             ],
             [
              0.7777777777777778,
              "#fb9f3a"
             ],
             [
              0.8888888888888888,
              "#fdca26"
             ],
             [
              1,
              "#f0f921"
             ]
            ],
            "type": "histogram2d"
           }
          ],
          "histogram2dcontour": [
           {
            "colorbar": {
             "outlinewidth": 0,
             "ticks": ""
            },
            "colorscale": [
             [
              0,
              "#0d0887"
             ],
             [
              0.1111111111111111,
              "#46039f"
             ],
             [
              0.2222222222222222,
              "#7201a8"
             ],
             [
              0.3333333333333333,
              "#9c179e"
             ],
             [
              0.4444444444444444,
              "#bd3786"
             ],
             [
              0.5555555555555556,
              "#d8576b"
             ],
             [
              0.6666666666666666,
              "#ed7953"
             ],
             [
              0.7777777777777778,
              "#fb9f3a"
             ],
             [
              0.8888888888888888,
              "#fdca26"
             ],
             [
              1,
              "#f0f921"
             ]
            ],
            "type": "histogram2dcontour"
           }
          ],
          "mesh3d": [
           {
            "colorbar": {
             "outlinewidth": 0,
             "ticks": ""
            },
            "type": "mesh3d"
           }
          ],
          "parcoords": [
           {
            "line": {
             "colorbar": {
              "outlinewidth": 0,
              "ticks": ""
             }
            },
            "type": "parcoords"
           }
          ],
          "pie": [
           {
            "automargin": true,
            "type": "pie"
           }
          ],
          "scatter": [
           {
            "fillpattern": {
             "fillmode": "overlay",
             "size": 10,
             "solidity": 0.2
            },
            "type": "scatter"
           }
          ],
          "scatter3d": [
           {
            "line": {
             "colorbar": {
              "outlinewidth": 0,
              "ticks": ""
             }
            },
            "marker": {
             "colorbar": {
              "outlinewidth": 0,
              "ticks": ""
             }
            },
            "type": "scatter3d"
           }
          ],
          "scattercarpet": [
           {
            "marker": {
             "colorbar": {
              "outlinewidth": 0,
              "ticks": ""
             }
            },
            "type": "scattercarpet"
           }
          ],
          "scattergeo": [
           {
            "marker": {
             "colorbar": {
              "outlinewidth": 0,
              "ticks": ""
             }
            },
            "type": "scattergeo"
           }
          ],
          "scattergl": [
           {
            "marker": {
             "colorbar": {
              "outlinewidth": 0,
              "ticks": ""
             }
            },
            "type": "scattergl"
           }
          ],
          "scattermapbox": [
           {
            "marker": {
             "colorbar": {
              "outlinewidth": 0,
              "ticks": ""
             }
            },
            "type": "scattermapbox"
           }
          ],
          "scatterpolar": [
           {
            "marker": {
             "colorbar": {
              "outlinewidth": 0,
              "ticks": ""
             }
            },
            "type": "scatterpolar"
           }
          ],
          "scatterpolargl": [
           {
            "marker": {
             "colorbar": {
              "outlinewidth": 0,
              "ticks": ""
             }
            },
            "type": "scatterpolargl"
           }
          ],
          "scatterternary": [
           {
            "marker": {
             "colorbar": {
              "outlinewidth": 0,
              "ticks": ""
             }
            },
            "type": "scatterternary"
           }
          ],
          "surface": [
           {
            "colorbar": {
             "outlinewidth": 0,
             "ticks": ""
            },
            "colorscale": [
             [
              0,
              "#0d0887"
             ],
             [
              0.1111111111111111,
              "#46039f"
             ],
             [
              0.2222222222222222,
              "#7201a8"
             ],
             [
              0.3333333333333333,
              "#9c179e"
             ],
             [
              0.4444444444444444,
              "#bd3786"
             ],
             [
              0.5555555555555556,
              "#d8576b"
             ],
             [
              0.6666666666666666,
              "#ed7953"
             ],
             [
              0.7777777777777778,
              "#fb9f3a"
             ],
             [
              0.8888888888888888,
              "#fdca26"
             ],
             [
              1,
              "#f0f921"
             ]
            ],
            "type": "surface"
           }
          ],
          "table": [
           {
            "cells": {
             "fill": {
              "color": "#EBF0F8"
             },
             "line": {
              "color": "white"
             }
            },
            "header": {
             "fill": {
              "color": "#C8D4E3"
             },
             "line": {
              "color": "white"
             }
            },
            "type": "table"
           }
          ]
         },
         "layout": {
          "annotationdefaults": {
           "arrowcolor": "#2a3f5f",
           "arrowhead": 0,
           "arrowwidth": 1
          },
          "autotypenumbers": "strict",
          "coloraxis": {
           "colorbar": {
            "outlinewidth": 0,
            "ticks": ""
           }
          },
          "colorscale": {
           "diverging": [
            [
             0,
             "#8e0152"
            ],
            [
             0.1,
             "#c51b7d"
            ],
            [
             0.2,
             "#de77ae"
            ],
            [
             0.3,
             "#f1b6da"
            ],
            [
             0.4,
             "#fde0ef"
            ],
            [
             0.5,
             "#f7f7f7"
            ],
            [
             0.6,
             "#e6f5d0"
            ],
            [
             0.7,
             "#b8e186"
            ],
            [
             0.8,
             "#7fbc41"
            ],
            [
             0.9,
             "#4d9221"
            ],
            [
             1,
             "#276419"
            ]
           ],
           "sequential": [
            [
             0,
             "#0d0887"
            ],
            [
             0.1111111111111111,
             "#46039f"
            ],
            [
             0.2222222222222222,
             "#7201a8"
            ],
            [
             0.3333333333333333,
             "#9c179e"
            ],
            [
             0.4444444444444444,
             "#bd3786"
            ],
            [
             0.5555555555555556,
             "#d8576b"
            ],
            [
             0.6666666666666666,
             "#ed7953"
            ],
            [
             0.7777777777777778,
             "#fb9f3a"
            ],
            [
             0.8888888888888888,
             "#fdca26"
            ],
            [
             1,
             "#f0f921"
            ]
           ],
           "sequentialminus": [
            [
             0,
             "#0d0887"
            ],
            [
             0.1111111111111111,
             "#46039f"
            ],
            [
             0.2222222222222222,
             "#7201a8"
            ],
            [
             0.3333333333333333,
             "#9c179e"
            ],
            [
             0.4444444444444444,
             "#bd3786"
            ],
            [
             0.5555555555555556,
             "#d8576b"
            ],
            [
             0.6666666666666666,
             "#ed7953"
            ],
            [
             0.7777777777777778,
             "#fb9f3a"
            ],
            [
             0.8888888888888888,
             "#fdca26"
            ],
            [
             1,
             "#f0f921"
            ]
           ]
          },
          "colorway": [
           "#636efa",
           "#EF553B",
           "#00cc96",
           "#ab63fa",
           "#FFA15A",
           "#19d3f3",
           "#FF6692",
           "#B6E880",
           "#FF97FF",
           "#FECB52"
          ],
          "font": {
           "color": "#2a3f5f"
          },
          "geo": {
           "bgcolor": "white",
           "lakecolor": "white",
           "landcolor": "#E5ECF6",
           "showlakes": true,
           "showland": true,
           "subunitcolor": "white"
          },
          "hoverlabel": {
           "align": "left"
          },
          "hovermode": "closest",
          "mapbox": {
           "style": "light"
          },
          "paper_bgcolor": "white",
          "plot_bgcolor": "#E5ECF6",
          "polar": {
           "angularaxis": {
            "gridcolor": "white",
            "linecolor": "white",
            "ticks": ""
           },
           "bgcolor": "#E5ECF6",
           "radialaxis": {
            "gridcolor": "white",
            "linecolor": "white",
            "ticks": ""
           }
          },
          "scene": {
           "xaxis": {
            "backgroundcolor": "#E5ECF6",
            "gridcolor": "white",
            "gridwidth": 2,
            "linecolor": "white",
            "showbackground": true,
            "ticks": "",
            "zerolinecolor": "white"
           },
           "yaxis": {
            "backgroundcolor": "#E5ECF6",
            "gridcolor": "white",
            "gridwidth": 2,
            "linecolor": "white",
            "showbackground": true,
            "ticks": "",
            "zerolinecolor": "white"
           },
           "zaxis": {
            "backgroundcolor": "#E5ECF6",
            "gridcolor": "white",
            "gridwidth": 2,
            "linecolor": "white",
            "showbackground": true,
            "ticks": "",
            "zerolinecolor": "white"
           }
          },
          "shapedefaults": {
           "line": {
            "color": "#2a3f5f"
           }
          },
          "ternary": {
           "aaxis": {
            "gridcolor": "white",
            "linecolor": "white",
            "ticks": ""
           },
           "baxis": {
            "gridcolor": "white",
            "linecolor": "white",
            "ticks": ""
           },
           "bgcolor": "#E5ECF6",
           "caxis": {
            "gridcolor": "white",
            "linecolor": "white",
            "ticks": ""
           }
          },
          "title": {
           "x": 0.05
          },
          "xaxis": {
           "automargin": true,
           "gridcolor": "white",
           "linecolor": "white",
           "ticks": "",
           "title": {
            "standoff": 15
           },
           "zerolinecolor": "white",
           "zerolinewidth": 2
          },
          "yaxis": {
           "automargin": true,
           "gridcolor": "white",
           "linecolor": "white",
           "ticks": "",
           "title": {
            "standoff": 15
           },
           "zerolinecolor": "white",
           "zerolinewidth": 2
          }
         }
        },
        "xaxis": {
         "anchor": "y",
         "domain": [
          0,
          1
         ],
         "title": {
          "text": "PetalLengthCm"
         }
        },
        "yaxis": {
         "anchor": "x",
         "domain": [
          0,
          1
         ],
         "title": {
          "text": "Species"
         }
        }
       }
      }
     },
     "metadata": {},
     "output_type": "display_data"
    }
   ],
   "source": [
    "fig = px.line(df,x=\"PetalLengthCm\",y=\"Species\")\n",
    "fig.show()"
   ]
  },
  {
   "cell_type": "code",
   "execution_count": 5,
   "id": "f41b9f87",
   "metadata": {},
   "outputs": [
    {
     "data": {
      "application/vnd.plotly.v1+json": {
       "config": {
        "plotlyServerURL": "https://plot.ly"
       },
       "data": [
        {
         "alignmentgroup": "True",
         "bingroup": "x",
         "histfunc": "sum",
         "hovertemplate": "SepalLengthCm=%{x}<br>sum of PetalLengthCm=%{y}<extra></extra>",
         "legendgroup": "",
         "marker": {
          "color": "#636efa",
          "pattern": {
           "shape": ""
          }
         },
         "name": "",
         "offsetgroup": "",
         "orientation": "v",
         "showlegend": false,
         "type": "histogram",
         "x": [
          5.1,
          4.9,
          4.7,
          4.6,
          5,
          5.4,
          4.6,
          5,
          4.4,
          4.9,
          5.4,
          4.8,
          4.8,
          4.3,
          5.8,
          5.7,
          5.4,
          5.1,
          5.7,
          5.1,
          5.4,
          5.1,
          4.6,
          5.1,
          4.8,
          5,
          5,
          5.2,
          5.2,
          4.7,
          4.8,
          5.4,
          5.2,
          5.5,
          4.9,
          5,
          5.5,
          4.9,
          4.4,
          5.1,
          5,
          4.5,
          4.4,
          5,
          5.1,
          4.8,
          5.1,
          4.6,
          5.3,
          5,
          7,
          6.4,
          6.9,
          5.5,
          6.5,
          5.7,
          6.3,
          4.9,
          6.6,
          5.2,
          5,
          5.9,
          6,
          6.1,
          5.6,
          6.7,
          5.6,
          5.8,
          6.2,
          5.6,
          5.9,
          6.1,
          6.3,
          6.1,
          6.4,
          6.6,
          6.8,
          6.7,
          6,
          5.7,
          5.5,
          5.5,
          5.8,
          6,
          5.4,
          6,
          6.7,
          6.3,
          5.6,
          5.5,
          5.5,
          6.1,
          5.8,
          5,
          5.6,
          5.7,
          5.7,
          6.2,
          5.1,
          5.7,
          6.3,
          5.8,
          7.1,
          6.3,
          6.5,
          7.6,
          4.9,
          7.3,
          6.7,
          7.2,
          6.5,
          6.4,
          6.8,
          5.7,
          5.8,
          6.4,
          6.5,
          7.7,
          7.7,
          6,
          6.9,
          5.6,
          7.7,
          6.3,
          6.7,
          7.2,
          6.2,
          6.1,
          6.4,
          7.2,
          7.4,
          7.9,
          6.4,
          6.3,
          6.1,
          7.7,
          6.3,
          6.4,
          6,
          6.9,
          6.7,
          6.9,
          5.8,
          6.8,
          6.7,
          6.7,
          6.3,
          6.5,
          6.2,
          5.9
         ],
         "xaxis": "x",
         "y": [
          1.4,
          1.4,
          1.3,
          1.5,
          1.4,
          1.7,
          1.4,
          1.5,
          1.4,
          1.5,
          1.5,
          1.6,
          1.4,
          1.1,
          1.2,
          1.5,
          1.3,
          1.4,
          1.7,
          1.5,
          1.7,
          1.5,
          1,
          1.7,
          1.9,
          1.6,
          1.6,
          1.5,
          1.4,
          1.6,
          1.6,
          1.5,
          1.5,
          1.4,
          1.5,
          1.2,
          1.3,
          1.5,
          1.3,
          1.5,
          1.3,
          1.3,
          1.3,
          1.6,
          1.9,
          1.4,
          1.6,
          1.4,
          1.5,
          1.4,
          4.7,
          4.5,
          4.9,
          4,
          4.6,
          4.5,
          4.7,
          3.3,
          4.6,
          3.9,
          3.5,
          4.2,
          4,
          4.7,
          3.6,
          4.4,
          4.5,
          4.1,
          4.5,
          3.9,
          4.8,
          4,
          4.9,
          4.7,
          4.3,
          4.4,
          4.8,
          5,
          4.5,
          3.5,
          3.8,
          3.7,
          3.9,
          5.1,
          4.5,
          4.5,
          4.7,
          4.4,
          4.1,
          4,
          4.4,
          4.6,
          4,
          3.3,
          4.2,
          4.2,
          4.2,
          4.3,
          3,
          4.1,
          6,
          5.1,
          5.9,
          5.6,
          5.8,
          6.6,
          4.5,
          6.3,
          5.8,
          6.1,
          5.1,
          5.3,
          5.5,
          5,
          5.1,
          5.3,
          5.5,
          6.7,
          6.9,
          5,
          5.7,
          4.9,
          6.7,
          4.9,
          5.7,
          6,
          4.8,
          4.9,
          5.6,
          5.8,
          6.1,
          6.4,
          5.6,
          5.1,
          5.6,
          6.1,
          5.6,
          5.5,
          4.8,
          5.4,
          5.6,
          5.1,
          5.1,
          5.9,
          5.7,
          5.2,
          5,
          5.2,
          5.4,
          5.1
         ],
         "yaxis": "y"
        }
       ],
       "layout": {
        "barmode": "relative",
        "legend": {
         "tracegroupgap": 0
        },
        "margin": {
         "t": 60
        },
        "template": {
         "data": {
          "bar": [
           {
            "error_x": {
             "color": "#2a3f5f"
            },
            "error_y": {
             "color": "#2a3f5f"
            },
            "marker": {
             "line": {
              "color": "#E5ECF6",
              "width": 0.5
             },
             "pattern": {
              "fillmode": "overlay",
              "size": 10,
              "solidity": 0.2
             }
            },
            "type": "bar"
           }
          ],
          "barpolar": [
           {
            "marker": {
             "line": {
              "color": "#E5ECF6",
              "width": 0.5
             },
             "pattern": {
              "fillmode": "overlay",
              "size": 10,
              "solidity": 0.2
             }
            },
            "type": "barpolar"
           }
          ],
          "carpet": [
           {
            "aaxis": {
             "endlinecolor": "#2a3f5f",
             "gridcolor": "white",
             "linecolor": "white",
             "minorgridcolor": "white",
             "startlinecolor": "#2a3f5f"
            },
            "baxis": {
             "endlinecolor": "#2a3f5f",
             "gridcolor": "white",
             "linecolor": "white",
             "minorgridcolor": "white",
             "startlinecolor": "#2a3f5f"
            },
            "type": "carpet"
           }
          ],
          "choropleth": [
           {
            "colorbar": {
             "outlinewidth": 0,
             "ticks": ""
            },
            "type": "choropleth"
           }
          ],
          "contour": [
           {
            "colorbar": {
             "outlinewidth": 0,
             "ticks": ""
            },
            "colorscale": [
             [
              0,
              "#0d0887"
             ],
             [
              0.1111111111111111,
              "#46039f"
             ],
             [
              0.2222222222222222,
              "#7201a8"
             ],
             [
              0.3333333333333333,
              "#9c179e"
             ],
             [
              0.4444444444444444,
              "#bd3786"
             ],
             [
              0.5555555555555556,
              "#d8576b"
             ],
             [
              0.6666666666666666,
              "#ed7953"
             ],
             [
              0.7777777777777778,
              "#fb9f3a"
             ],
             [
              0.8888888888888888,
              "#fdca26"
             ],
             [
              1,
              "#f0f921"
             ]
            ],
            "type": "contour"
           }
          ],
          "contourcarpet": [
           {
            "colorbar": {
             "outlinewidth": 0,
             "ticks": ""
            },
            "type": "contourcarpet"
           }
          ],
          "heatmap": [
           {
            "colorbar": {
             "outlinewidth": 0,
             "ticks": ""
            },
            "colorscale": [
             [
              0,
              "#0d0887"
             ],
             [
              0.1111111111111111,
              "#46039f"
             ],
             [
              0.2222222222222222,
              "#7201a8"
             ],
             [
              0.3333333333333333,
              "#9c179e"
             ],
             [
              0.4444444444444444,
              "#bd3786"
             ],
             [
              0.5555555555555556,
              "#d8576b"
             ],
             [
              0.6666666666666666,
              "#ed7953"
             ],
             [
              0.7777777777777778,
              "#fb9f3a"
             ],
             [
              0.8888888888888888,
              "#fdca26"
             ],
             [
              1,
              "#f0f921"
             ]
            ],
            "type": "heatmap"
           }
          ],
          "heatmapgl": [
           {
            "colorbar": {
             "outlinewidth": 0,
             "ticks": ""
            },
            "colorscale": [
             [
              0,
              "#0d0887"
             ],
             [
              0.1111111111111111,
              "#46039f"
             ],
             [
              0.2222222222222222,
              "#7201a8"
             ],
             [
              0.3333333333333333,
              "#9c179e"
             ],
             [
              0.4444444444444444,
              "#bd3786"
             ],
             [
              0.5555555555555556,
              "#d8576b"
             ],
             [
              0.6666666666666666,
              "#ed7953"
             ],
             [
              0.7777777777777778,
              "#fb9f3a"
             ],
             [
              0.8888888888888888,
              "#fdca26"
             ],
             [
              1,
              "#f0f921"
             ]
            ],
            "type": "heatmapgl"
           }
          ],
          "histogram": [
           {
            "marker": {
             "pattern": {
              "fillmode": "overlay",
              "size": 10,
              "solidity": 0.2
             }
            },
            "type": "histogram"
           }
          ],
          "histogram2d": [
           {
            "colorbar": {
             "outlinewidth": 0,
             "ticks": ""
            },
            "colorscale": [
             [
              0,
              "#0d0887"
             ],
             [
              0.1111111111111111,
              "#46039f"
             ],
             [
              0.2222222222222222,
              "#7201a8"
             ],
             [
              0.3333333333333333,
              "#9c179e"
             ],
             [
              0.4444444444444444,
              "#bd3786"
             ],
             [
              0.5555555555555556,
              "#d8576b"
             ],
             [
              0.6666666666666666,
              "#ed7953"
             ],
             [
              0.7777777777777778,
              "#fb9f3a"
             ],
             [
              0.8888888888888888,
              "#fdca26"
             ],
             [
              1,
              "#f0f921"
             ]
            ],
            "type": "histogram2d"
           }
          ],
          "histogram2dcontour": [
           {
            "colorbar": {
             "outlinewidth": 0,
             "ticks": ""
            },
            "colorscale": [
             [
              0,
              "#0d0887"
             ],
             [
              0.1111111111111111,
              "#46039f"
             ],
             [
              0.2222222222222222,
              "#7201a8"
             ],
             [
              0.3333333333333333,
              "#9c179e"
             ],
             [
              0.4444444444444444,
              "#bd3786"
             ],
             [
              0.5555555555555556,
              "#d8576b"
             ],
             [
              0.6666666666666666,
              "#ed7953"
             ],
             [
              0.7777777777777778,
              "#fb9f3a"
             ],
             [
              0.8888888888888888,
              "#fdca26"
             ],
             [
              1,
              "#f0f921"
             ]
            ],
            "type": "histogram2dcontour"
           }
          ],
          "mesh3d": [
           {
            "colorbar": {
             "outlinewidth": 0,
             "ticks": ""
            },
            "type": "mesh3d"
           }
          ],
          "parcoords": [
           {
            "line": {
             "colorbar": {
              "outlinewidth": 0,
              "ticks": ""
             }
            },
            "type": "parcoords"
           }
          ],
          "pie": [
           {
            "automargin": true,
            "type": "pie"
           }
          ],
          "scatter": [
           {
            "fillpattern": {
             "fillmode": "overlay",
             "size": 10,
             "solidity": 0.2
            },
            "type": "scatter"
           }
          ],
          "scatter3d": [
           {
            "line": {
             "colorbar": {
              "outlinewidth": 0,
              "ticks": ""
             }
            },
            "marker": {
             "colorbar": {
              "outlinewidth": 0,
              "ticks": ""
             }
            },
            "type": "scatter3d"
           }
          ],
          "scattercarpet": [
           {
            "marker": {
             "colorbar": {
              "outlinewidth": 0,
              "ticks": ""
             }
            },
            "type": "scattercarpet"
           }
          ],
          "scattergeo": [
           {
            "marker": {
             "colorbar": {
              "outlinewidth": 0,
              "ticks": ""
             }
            },
            "type": "scattergeo"
           }
          ],
          "scattergl": [
           {
            "marker": {
             "colorbar": {
              "outlinewidth": 0,
              "ticks": ""
             }
            },
            "type": "scattergl"
           }
          ],
          "scattermapbox": [
           {
            "marker": {
             "colorbar": {
              "outlinewidth": 0,
              "ticks": ""
             }
            },
            "type": "scattermapbox"
           }
          ],
          "scatterpolar": [
           {
            "marker": {
             "colorbar": {
              "outlinewidth": 0,
              "ticks": ""
             }
            },
            "type": "scatterpolar"
           }
          ],
          "scatterpolargl": [
           {
            "marker": {
             "colorbar": {
              "outlinewidth": 0,
              "ticks": ""
             }
            },
            "type": "scatterpolargl"
           }
          ],
          "scatterternary": [
           {
            "marker": {
             "colorbar": {
              "outlinewidth": 0,
              "ticks": ""
             }
            },
            "type": "scatterternary"
           }
          ],
          "surface": [
           {
            "colorbar": {
             "outlinewidth": 0,
             "ticks": ""
            },
            "colorscale": [
             [
              0,
              "#0d0887"
             ],
             [
              0.1111111111111111,
              "#46039f"
             ],
             [
              0.2222222222222222,
              "#7201a8"
             ],
             [
              0.3333333333333333,
              "#9c179e"
             ],
             [
              0.4444444444444444,
              "#bd3786"
             ],
             [
              0.5555555555555556,
              "#d8576b"
             ],
             [
              0.6666666666666666,
              "#ed7953"
             ],
             [
              0.7777777777777778,
              "#fb9f3a"
             ],
             [
              0.8888888888888888,
              "#fdca26"
             ],
             [
              1,
              "#f0f921"
             ]
            ],
            "type": "surface"
           }
          ],
          "table": [
           {
            "cells": {
             "fill": {
              "color": "#EBF0F8"
             },
             "line": {
              "color": "white"
             }
            },
            "header": {
             "fill": {
              "color": "#C8D4E3"
             },
             "line": {
              "color": "white"
             }
            },
            "type": "table"
           }
          ]
         },
         "layout": {
          "annotationdefaults": {
           "arrowcolor": "#2a3f5f",
           "arrowhead": 0,
           "arrowwidth": 1
          },
          "autotypenumbers": "strict",
          "coloraxis": {
           "colorbar": {
            "outlinewidth": 0,
            "ticks": ""
           }
          },
          "colorscale": {
           "diverging": [
            [
             0,
             "#8e0152"
            ],
            [
             0.1,
             "#c51b7d"
            ],
            [
             0.2,
             "#de77ae"
            ],
            [
             0.3,
             "#f1b6da"
            ],
            [
             0.4,
             "#fde0ef"
            ],
            [
             0.5,
             "#f7f7f7"
            ],
            [
             0.6,
             "#e6f5d0"
            ],
            [
             0.7,
             "#b8e186"
            ],
            [
             0.8,
             "#7fbc41"
            ],
            [
             0.9,
             "#4d9221"
            ],
            [
             1,
             "#276419"
            ]
           ],
           "sequential": [
            [
             0,
             "#0d0887"
            ],
            [
             0.1111111111111111,
             "#46039f"
            ],
            [
             0.2222222222222222,
             "#7201a8"
            ],
            [
             0.3333333333333333,
             "#9c179e"
            ],
            [
             0.4444444444444444,
             "#bd3786"
            ],
            [
             0.5555555555555556,
             "#d8576b"
            ],
            [
             0.6666666666666666,
             "#ed7953"
            ],
            [
             0.7777777777777778,
             "#fb9f3a"
            ],
            [
             0.8888888888888888,
             "#fdca26"
            ],
            [
             1,
             "#f0f921"
            ]
           ],
           "sequentialminus": [
            [
             0,
             "#0d0887"
            ],
            [
             0.1111111111111111,
             "#46039f"
            ],
            [
             0.2222222222222222,
             "#7201a8"
            ],
            [
             0.3333333333333333,
             "#9c179e"
            ],
            [
             0.4444444444444444,
             "#bd3786"
            ],
            [
             0.5555555555555556,
             "#d8576b"
            ],
            [
             0.6666666666666666,
             "#ed7953"
            ],
            [
             0.7777777777777778,
             "#fb9f3a"
            ],
            [
             0.8888888888888888,
             "#fdca26"
            ],
            [
             1,
             "#f0f921"
            ]
           ]
          },
          "colorway": [
           "#636efa",
           "#EF553B",
           "#00cc96",
           "#ab63fa",
           "#FFA15A",
           "#19d3f3",
           "#FF6692",
           "#B6E880",
           "#FF97FF",
           "#FECB52"
          ],
          "font": {
           "color": "#2a3f5f"
          },
          "geo": {
           "bgcolor": "white",
           "lakecolor": "white",
           "landcolor": "#E5ECF6",
           "showlakes": true,
           "showland": true,
           "subunitcolor": "white"
          },
          "hoverlabel": {
           "align": "left"
          },
          "hovermode": "closest",
          "mapbox": {
           "style": "light"
          },
          "paper_bgcolor": "white",
          "plot_bgcolor": "#E5ECF6",
          "polar": {
           "angularaxis": {
            "gridcolor": "white",
            "linecolor": "white",
            "ticks": ""
           },
           "bgcolor": "#E5ECF6",
           "radialaxis": {
            "gridcolor": "white",
            "linecolor": "white",
            "ticks": ""
           }
          },
          "scene": {
           "xaxis": {
            "backgroundcolor": "#E5ECF6",
            "gridcolor": "white",
            "gridwidth": 2,
            "linecolor": "white",
            "showbackground": true,
            "ticks": "",
            "zerolinecolor": "white"
           },
           "yaxis": {
            "backgroundcolor": "#E5ECF6",
            "gridcolor": "white",
            "gridwidth": 2,
            "linecolor": "white",
            "showbackground": true,
            "ticks": "",
            "zerolinecolor": "white"
           },
           "zaxis": {
            "backgroundcolor": "#E5ECF6",
            "gridcolor": "white",
            "gridwidth": 2,
            "linecolor": "white",
            "showbackground": true,
            "ticks": "",
            "zerolinecolor": "white"
           }
          },
          "shapedefaults": {
           "line": {
            "color": "#2a3f5f"
           }
          },
          "ternary": {
           "aaxis": {
            "gridcolor": "white",
            "linecolor": "white",
            "ticks": ""
           },
           "baxis": {
            "gridcolor": "white",
            "linecolor": "white",
            "ticks": ""
           },
           "bgcolor": "#E5ECF6",
           "caxis": {
            "gridcolor": "white",
            "linecolor": "white",
            "ticks": ""
           }
          },
          "title": {
           "x": 0.05
          },
          "xaxis": {
           "automargin": true,
           "gridcolor": "white",
           "linecolor": "white",
           "ticks": "",
           "title": {
            "standoff": 15
           },
           "zerolinecolor": "white",
           "zerolinewidth": 2
          },
          "yaxis": {
           "automargin": true,
           "gridcolor": "white",
           "linecolor": "white",
           "ticks": "",
           "title": {
            "standoff": 15
           },
           "zerolinecolor": "white",
           "zerolinewidth": 2
          }
         }
        },
        "xaxis": {
         "anchor": "y",
         "domain": [
          0,
          1
         ],
         "title": {
          "text": "SepalLengthCm"
         }
        },
        "yaxis": {
         "anchor": "x",
         "domain": [
          0,
          1
         ],
         "title": {
          "text": "sum of PetalLengthCm"
         }
        }
       }
      }
     },
     "metadata": {},
     "output_type": "display_data"
    }
   ],
   "source": [
    "fig = px.histogram(df,x=\"SepalLengthCm\",y=\"PetalLengthCm\")\n",
    "fig.show()"
   ]
  },
  {
   "cell_type": "code",
   "execution_count": 6,
   "id": "79cb1615",
   "metadata": {},
   "outputs": [
    {
     "data": {
      "application/vnd.plotly.v1+json": {
       "config": {
        "plotlyServerURL": "https://plot.ly"
       },
       "data": [
        {
         "hovertemplate": "Species=Iris-setosa<br>SepalLengthCm=%{x}<br>PetalLengthCm=%{y}<br>SepalWidthCm=%{marker.size}<extra></extra>",
         "legendgroup": "Iris-setosa",
         "marker": {
          "color": "#636efa",
          "size": [
           3.5,
           3,
           3.2,
           3.1,
           3.6,
           3.9,
           3.4,
           3.4,
           2.9,
           3.1,
           3.7,
           3.4,
           3,
           3,
           4,
           4.4,
           3.9,
           3.5,
           3.8,
           3.8,
           3.4,
           3.7,
           3.6,
           3.3,
           3.4,
           3,
           3.4,
           3.5,
           3.4,
           3.2,
           3.1,
           3.4,
           4.1,
           4.2,
           3.1,
           3.2,
           3.5,
           3.1,
           3,
           3.4,
           3.5,
           2.3,
           3.2,
           3.5,
           3.8,
           3,
           3.8,
           3.2,
           3.7,
           3.3
          ],
          "sizemode": "area",
          "sizeref": 0.011000000000000001,
          "symbol": "circle"
         },
         "mode": "markers",
         "name": "Iris-setosa",
         "orientation": "v",
         "showlegend": true,
         "type": "scatter",
         "x": [
          5.1,
          4.9,
          4.7,
          4.6,
          5,
          5.4,
          4.6,
          5,
          4.4,
          4.9,
          5.4,
          4.8,
          4.8,
          4.3,
          5.8,
          5.7,
          5.4,
          5.1,
          5.7,
          5.1,
          5.4,
          5.1,
          4.6,
          5.1,
          4.8,
          5,
          5,
          5.2,
          5.2,
          4.7,
          4.8,
          5.4,
          5.2,
          5.5,
          4.9,
          5,
          5.5,
          4.9,
          4.4,
          5.1,
          5,
          4.5,
          4.4,
          5,
          5.1,
          4.8,
          5.1,
          4.6,
          5.3,
          5
         ],
         "xaxis": "x",
         "y": [
          1.4,
          1.4,
          1.3,
          1.5,
          1.4,
          1.7,
          1.4,
          1.5,
          1.4,
          1.5,
          1.5,
          1.6,
          1.4,
          1.1,
          1.2,
          1.5,
          1.3,
          1.4,
          1.7,
          1.5,
          1.7,
          1.5,
          1,
          1.7,
          1.9,
          1.6,
          1.6,
          1.5,
          1.4,
          1.6,
          1.6,
          1.5,
          1.5,
          1.4,
          1.5,
          1.2,
          1.3,
          1.5,
          1.3,
          1.5,
          1.3,
          1.3,
          1.3,
          1.6,
          1.9,
          1.4,
          1.6,
          1.4,
          1.5,
          1.4
         ],
         "yaxis": "y"
        },
        {
         "hovertemplate": "Species=Iris-versicolor<br>SepalLengthCm=%{x}<br>PetalLengthCm=%{y}<br>SepalWidthCm=%{marker.size}<extra></extra>",
         "legendgroup": "Iris-versicolor",
         "marker": {
          "color": "#EF553B",
          "size": [
           3.2,
           3.2,
           3.1,
           2.3,
           2.8,
           2.8,
           3.3,
           2.4,
           2.9,
           2.7,
           2,
           3,
           2.2,
           2.9,
           2.9,
           3.1,
           3,
           2.7,
           2.2,
           2.5,
           3.2,
           2.8,
           2.5,
           2.8,
           2.9,
           3,
           2.8,
           3,
           2.9,
           2.6,
           2.4,
           2.4,
           2.7,
           2.7,
           3,
           3.4,
           3.1,
           2.3,
           3,
           2.5,
           2.6,
           3,
           2.6,
           2.3,
           2.7,
           3,
           2.9,
           2.9,
           2.5,
           2.8
          ],
          "sizemode": "area",
          "sizeref": 0.011000000000000001,
          "symbol": "circle"
         },
         "mode": "markers",
         "name": "Iris-versicolor",
         "orientation": "v",
         "showlegend": true,
         "type": "scatter",
         "x": [
          7,
          6.4,
          6.9,
          5.5,
          6.5,
          5.7,
          6.3,
          4.9,
          6.6,
          5.2,
          5,
          5.9,
          6,
          6.1,
          5.6,
          6.7,
          5.6,
          5.8,
          6.2,
          5.6,
          5.9,
          6.1,
          6.3,
          6.1,
          6.4,
          6.6,
          6.8,
          6.7,
          6,
          5.7,
          5.5,
          5.5,
          5.8,
          6,
          5.4,
          6,
          6.7,
          6.3,
          5.6,
          5.5,
          5.5,
          6.1,
          5.8,
          5,
          5.6,
          5.7,
          5.7,
          6.2,
          5.1,
          5.7
         ],
         "xaxis": "x",
         "y": [
          4.7,
          4.5,
          4.9,
          4,
          4.6,
          4.5,
          4.7,
          3.3,
          4.6,
          3.9,
          3.5,
          4.2,
          4,
          4.7,
          3.6,
          4.4,
          4.5,
          4.1,
          4.5,
          3.9,
          4.8,
          4,
          4.9,
          4.7,
          4.3,
          4.4,
          4.8,
          5,
          4.5,
          3.5,
          3.8,
          3.7,
          3.9,
          5.1,
          4.5,
          4.5,
          4.7,
          4.4,
          4.1,
          4,
          4.4,
          4.6,
          4,
          3.3,
          4.2,
          4.2,
          4.2,
          4.3,
          3,
          4.1
         ],
         "yaxis": "y"
        },
        {
         "hovertemplate": "Species=Iris-virginica<br>SepalLengthCm=%{x}<br>PetalLengthCm=%{y}<br>SepalWidthCm=%{marker.size}<extra></extra>",
         "legendgroup": "Iris-virginica",
         "marker": {
          "color": "#00cc96",
          "size": [
           3.3,
           2.7,
           3,
           2.9,
           3,
           3,
           2.5,
           2.9,
           2.5,
           3.6,
           3.2,
           2.7,
           3,
           2.5,
           2.8,
           3.2,
           3,
           3.8,
           2.6,
           2.2,
           3.2,
           2.8,
           2.8,
           2.7,
           3.3,
           3.2,
           2.8,
           3,
           2.8,
           3,
           2.8,
           3.8,
           2.8,
           2.8,
           2.6,
           3,
           3.4,
           3.1,
           3,
           3.1,
           3.1,
           3.1,
           2.7,
           3.2,
           3.3,
           3,
           2.5,
           3,
           3.4,
           3
          ],
          "sizemode": "area",
          "sizeref": 0.011000000000000001,
          "symbol": "circle"
         },
         "mode": "markers",
         "name": "Iris-virginica",
         "orientation": "v",
         "showlegend": true,
         "type": "scatter",
         "x": [
          6.3,
          5.8,
          7.1,
          6.3,
          6.5,
          7.6,
          4.9,
          7.3,
          6.7,
          7.2,
          6.5,
          6.4,
          6.8,
          5.7,
          5.8,
          6.4,
          6.5,
          7.7,
          7.7,
          6,
          6.9,
          5.6,
          7.7,
          6.3,
          6.7,
          7.2,
          6.2,
          6.1,
          6.4,
          7.2,
          7.4,
          7.9,
          6.4,
          6.3,
          6.1,
          7.7,
          6.3,
          6.4,
          6,
          6.9,
          6.7,
          6.9,
          5.8,
          6.8,
          6.7,
          6.7,
          6.3,
          6.5,
          6.2,
          5.9
         ],
         "xaxis": "x",
         "y": [
          6,
          5.1,
          5.9,
          5.6,
          5.8,
          6.6,
          4.5,
          6.3,
          5.8,
          6.1,
          5.1,
          5.3,
          5.5,
          5,
          5.1,
          5.3,
          5.5,
          6.7,
          6.9,
          5,
          5.7,
          4.9,
          6.7,
          4.9,
          5.7,
          6,
          4.8,
          4.9,
          5.6,
          5.8,
          6.1,
          6.4,
          5.6,
          5.1,
          5.6,
          6.1,
          5.6,
          5.5,
          4.8,
          5.4,
          5.6,
          5.1,
          5.1,
          5.9,
          5.7,
          5.2,
          5,
          5.2,
          5.4,
          5.1
         ],
         "yaxis": "y"
        }
       ],
       "layout": {
        "legend": {
         "itemsizing": "constant",
         "title": {
          "text": "Species"
         },
         "tracegroupgap": 0
        },
        "margin": {
         "t": 60
        },
        "template": {
         "data": {
          "bar": [
           {
            "error_x": {
             "color": "#2a3f5f"
            },
            "error_y": {
             "color": "#2a3f5f"
            },
            "marker": {
             "line": {
              "color": "#E5ECF6",
              "width": 0.5
             },
             "pattern": {
              "fillmode": "overlay",
              "size": 10,
              "solidity": 0.2
             }
            },
            "type": "bar"
           }
          ],
          "barpolar": [
           {
            "marker": {
             "line": {
              "color": "#E5ECF6",
              "width": 0.5
             },
             "pattern": {
              "fillmode": "overlay",
              "size": 10,
              "solidity": 0.2
             }
            },
            "type": "barpolar"
           }
          ],
          "carpet": [
           {
            "aaxis": {
             "endlinecolor": "#2a3f5f",
             "gridcolor": "white",
             "linecolor": "white",
             "minorgridcolor": "white",
             "startlinecolor": "#2a3f5f"
            },
            "baxis": {
             "endlinecolor": "#2a3f5f",
             "gridcolor": "white",
             "linecolor": "white",
             "minorgridcolor": "white",
             "startlinecolor": "#2a3f5f"
            },
            "type": "carpet"
           }
          ],
          "choropleth": [
           {
            "colorbar": {
             "outlinewidth": 0,
             "ticks": ""
            },
            "type": "choropleth"
           }
          ],
          "contour": [
           {
            "colorbar": {
             "outlinewidth": 0,
             "ticks": ""
            },
            "colorscale": [
             [
              0,
              "#0d0887"
             ],
             [
              0.1111111111111111,
              "#46039f"
             ],
             [
              0.2222222222222222,
              "#7201a8"
             ],
             [
              0.3333333333333333,
              "#9c179e"
             ],
             [
              0.4444444444444444,
              "#bd3786"
             ],
             [
              0.5555555555555556,
              "#d8576b"
             ],
             [
              0.6666666666666666,
              "#ed7953"
             ],
             [
              0.7777777777777778,
              "#fb9f3a"
             ],
             [
              0.8888888888888888,
              "#fdca26"
             ],
             [
              1,
              "#f0f921"
             ]
            ],
            "type": "contour"
           }
          ],
          "contourcarpet": [
           {
            "colorbar": {
             "outlinewidth": 0,
             "ticks": ""
            },
            "type": "contourcarpet"
           }
          ],
          "heatmap": [
           {
            "colorbar": {
             "outlinewidth": 0,
             "ticks": ""
            },
            "colorscale": [
             [
              0,
              "#0d0887"
             ],
             [
              0.1111111111111111,
              "#46039f"
             ],
             [
              0.2222222222222222,
              "#7201a8"
             ],
             [
              0.3333333333333333,
              "#9c179e"
             ],
             [
              0.4444444444444444,
              "#bd3786"
             ],
             [
              0.5555555555555556,
              "#d8576b"
             ],
             [
              0.6666666666666666,
              "#ed7953"
             ],
             [
              0.7777777777777778,
              "#fb9f3a"
             ],
             [
              0.8888888888888888,
              "#fdca26"
             ],
             [
              1,
              "#f0f921"
             ]
            ],
            "type": "heatmap"
           }
          ],
          "heatmapgl": [
           {
            "colorbar": {
             "outlinewidth": 0,
             "ticks": ""
            },
            "colorscale": [
             [
              0,
              "#0d0887"
             ],
             [
              0.1111111111111111,
              "#46039f"
             ],
             [
              0.2222222222222222,
              "#7201a8"
             ],
             [
              0.3333333333333333,
              "#9c179e"
             ],
             [
              0.4444444444444444,
              "#bd3786"
             ],
             [
              0.5555555555555556,
              "#d8576b"
             ],
             [
              0.6666666666666666,
              "#ed7953"
             ],
             [
              0.7777777777777778,
              "#fb9f3a"
             ],
             [
              0.8888888888888888,
              "#fdca26"
             ],
             [
              1,
              "#f0f921"
             ]
            ],
            "type": "heatmapgl"
           }
          ],
          "histogram": [
           {
            "marker": {
             "pattern": {
              "fillmode": "overlay",
              "size": 10,
              "solidity": 0.2
             }
            },
            "type": "histogram"
           }
          ],
          "histogram2d": [
           {
            "colorbar": {
             "outlinewidth": 0,
             "ticks": ""
            },
            "colorscale": [
             [
              0,
              "#0d0887"
             ],
             [
              0.1111111111111111,
              "#46039f"
             ],
             [
              0.2222222222222222,
              "#7201a8"
             ],
             [
              0.3333333333333333,
              "#9c179e"
             ],
             [
              0.4444444444444444,
              "#bd3786"
             ],
             [
              0.5555555555555556,
              "#d8576b"
             ],
             [
              0.6666666666666666,
              "#ed7953"
             ],
             [
              0.7777777777777778,
              "#fb9f3a"
             ],
             [
              0.8888888888888888,
              "#fdca26"
             ],
             [
              1,
              "#f0f921"
             ]
            ],
            "type": "histogram2d"
           }
          ],
          "histogram2dcontour": [
           {
            "colorbar": {
             "outlinewidth": 0,
             "ticks": ""
            },
            "colorscale": [
             [
              0,
              "#0d0887"
             ],
             [
              0.1111111111111111,
              "#46039f"
             ],
             [
              0.2222222222222222,
              "#7201a8"
             ],
             [
              0.3333333333333333,
              "#9c179e"
             ],
             [
              0.4444444444444444,
              "#bd3786"
             ],
             [
              0.5555555555555556,
              "#d8576b"
             ],
             [
              0.6666666666666666,
              "#ed7953"
             ],
             [
              0.7777777777777778,
              "#fb9f3a"
             ],
             [
              0.8888888888888888,
              "#fdca26"
             ],
             [
              1,
              "#f0f921"
             ]
            ],
            "type": "histogram2dcontour"
           }
          ],
          "mesh3d": [
           {
            "colorbar": {
             "outlinewidth": 0,
             "ticks": ""
            },
            "type": "mesh3d"
           }
          ],
          "parcoords": [
           {
            "line": {
             "colorbar": {
              "outlinewidth": 0,
              "ticks": ""
             }
            },
            "type": "parcoords"
           }
          ],
          "pie": [
           {
            "automargin": true,
            "type": "pie"
           }
          ],
          "scatter": [
           {
            "fillpattern": {
             "fillmode": "overlay",
             "size": 10,
             "solidity": 0.2
            },
            "type": "scatter"
           }
          ],
          "scatter3d": [
           {
            "line": {
             "colorbar": {
              "outlinewidth": 0,
              "ticks": ""
             }
            },
            "marker": {
             "colorbar": {
              "outlinewidth": 0,
              "ticks": ""
             }
            },
            "type": "scatter3d"
           }
          ],
          "scattercarpet": [
           {
            "marker": {
             "colorbar": {
              "outlinewidth": 0,
              "ticks": ""
             }
            },
            "type": "scattercarpet"
           }
          ],
          "scattergeo": [
           {
            "marker": {
             "colorbar": {
              "outlinewidth": 0,
              "ticks": ""
             }
            },
            "type": "scattergeo"
           }
          ],
          "scattergl": [
           {
            "marker": {
             "colorbar": {
              "outlinewidth": 0,
              "ticks": ""
             }
            },
            "type": "scattergl"
           }
          ],
          "scattermapbox": [
           {
            "marker": {
             "colorbar": {
              "outlinewidth": 0,
              "ticks": ""
             }
            },
            "type": "scattermapbox"
           }
          ],
          "scatterpolar": [
           {
            "marker": {
             "colorbar": {
              "outlinewidth": 0,
              "ticks": ""
             }
            },
            "type": "scatterpolar"
           }
          ],
          "scatterpolargl": [
           {
            "marker": {
             "colorbar": {
              "outlinewidth": 0,
              "ticks": ""
             }
            },
            "type": "scatterpolargl"
           }
          ],
          "scatterternary": [
           {
            "marker": {
             "colorbar": {
              "outlinewidth": 0,
              "ticks": ""
             }
            },
            "type": "scatterternary"
           }
          ],
          "surface": [
           {
            "colorbar": {
             "outlinewidth": 0,
             "ticks": ""
            },
            "colorscale": [
             [
              0,
              "#0d0887"
             ],
             [
              0.1111111111111111,
              "#46039f"
             ],
             [
              0.2222222222222222,
              "#7201a8"
             ],
             [
              0.3333333333333333,
              "#9c179e"
             ],
             [
              0.4444444444444444,
              "#bd3786"
             ],
             [
              0.5555555555555556,
              "#d8576b"
             ],
             [
              0.6666666666666666,
              "#ed7953"
             ],
             [
              0.7777777777777778,
              "#fb9f3a"
             ],
             [
              0.8888888888888888,
              "#fdca26"
             ],
             [
              1,
              "#f0f921"
             ]
            ],
            "type": "surface"
           }
          ],
          "table": [
           {
            "cells": {
             "fill": {
              "color": "#EBF0F8"
             },
             "line": {
              "color": "white"
             }
            },
            "header": {
             "fill": {
              "color": "#C8D4E3"
             },
             "line": {
              "color": "white"
             }
            },
            "type": "table"
           }
          ]
         },
         "layout": {
          "annotationdefaults": {
           "arrowcolor": "#2a3f5f",
           "arrowhead": 0,
           "arrowwidth": 1
          },
          "autotypenumbers": "strict",
          "coloraxis": {
           "colorbar": {
            "outlinewidth": 0,
            "ticks": ""
           }
          },
          "colorscale": {
           "diverging": [
            [
             0,
             "#8e0152"
            ],
            [
             0.1,
             "#c51b7d"
            ],
            [
             0.2,
             "#de77ae"
            ],
            [
             0.3,
             "#f1b6da"
            ],
            [
             0.4,
             "#fde0ef"
            ],
            [
             0.5,
             "#f7f7f7"
            ],
            [
             0.6,
             "#e6f5d0"
            ],
            [
             0.7,
             "#b8e186"
            ],
            [
             0.8,
             "#7fbc41"
            ],
            [
             0.9,
             "#4d9221"
            ],
            [
             1,
             "#276419"
            ]
           ],
           "sequential": [
            [
             0,
             "#0d0887"
            ],
            [
             0.1111111111111111,
             "#46039f"
            ],
            [
             0.2222222222222222,
             "#7201a8"
            ],
            [
             0.3333333333333333,
             "#9c179e"
            ],
            [
             0.4444444444444444,
             "#bd3786"
            ],
            [
             0.5555555555555556,
             "#d8576b"
            ],
            [
             0.6666666666666666,
             "#ed7953"
            ],
            [
             0.7777777777777778,
             "#fb9f3a"
            ],
            [
             0.8888888888888888,
             "#fdca26"
            ],
            [
             1,
             "#f0f921"
            ]
           ],
           "sequentialminus": [
            [
             0,
             "#0d0887"
            ],
            [
             0.1111111111111111,
             "#46039f"
            ],
            [
             0.2222222222222222,
             "#7201a8"
            ],
            [
             0.3333333333333333,
             "#9c179e"
            ],
            [
             0.4444444444444444,
             "#bd3786"
            ],
            [
             0.5555555555555556,
             "#d8576b"
            ],
            [
             0.6666666666666666,
             "#ed7953"
            ],
            [
             0.7777777777777778,
             "#fb9f3a"
            ],
            [
             0.8888888888888888,
             "#fdca26"
            ],
            [
             1,
             "#f0f921"
            ]
           ]
          },
          "colorway": [
           "#636efa",
           "#EF553B",
           "#00cc96",
           "#ab63fa",
           "#FFA15A",
           "#19d3f3",
           "#FF6692",
           "#B6E880",
           "#FF97FF",
           "#FECB52"
          ],
          "font": {
           "color": "#2a3f5f"
          },
          "geo": {
           "bgcolor": "white",
           "lakecolor": "white",
           "landcolor": "#E5ECF6",
           "showlakes": true,
           "showland": true,
           "subunitcolor": "white"
          },
          "hoverlabel": {
           "align": "left"
          },
          "hovermode": "closest",
          "mapbox": {
           "style": "light"
          },
          "paper_bgcolor": "white",
          "plot_bgcolor": "#E5ECF6",
          "polar": {
           "angularaxis": {
            "gridcolor": "white",
            "linecolor": "white",
            "ticks": ""
           },
           "bgcolor": "#E5ECF6",
           "radialaxis": {
            "gridcolor": "white",
            "linecolor": "white",
            "ticks": ""
           }
          },
          "scene": {
           "xaxis": {
            "backgroundcolor": "#E5ECF6",
            "gridcolor": "white",
            "gridwidth": 2,
            "linecolor": "white",
            "showbackground": true,
            "ticks": "",
            "zerolinecolor": "white"
           },
           "yaxis": {
            "backgroundcolor": "#E5ECF6",
            "gridcolor": "white",
            "gridwidth": 2,
            "linecolor": "white",
            "showbackground": true,
            "ticks": "",
            "zerolinecolor": "white"
           },
           "zaxis": {
            "backgroundcolor": "#E5ECF6",
            "gridcolor": "white",
            "gridwidth": 2,
            "linecolor": "white",
            "showbackground": true,
            "ticks": "",
            "zerolinecolor": "white"
           }
          },
          "shapedefaults": {
           "line": {
            "color": "#2a3f5f"
           }
          },
          "ternary": {
           "aaxis": {
            "gridcolor": "white",
            "linecolor": "white",
            "ticks": ""
           },
           "baxis": {
            "gridcolor": "white",
            "linecolor": "white",
            "ticks": ""
           },
           "bgcolor": "#E5ECF6",
           "caxis": {
            "gridcolor": "white",
            "linecolor": "white",
            "ticks": ""
           }
          },
          "title": {
           "x": 0.05
          },
          "xaxis": {
           "automargin": true,
           "gridcolor": "white",
           "linecolor": "white",
           "ticks": "",
           "title": {
            "standoff": 15
           },
           "zerolinecolor": "white",
           "zerolinewidth": 2
          },
          "yaxis": {
           "automargin": true,
           "gridcolor": "white",
           "linecolor": "white",
           "ticks": "",
           "title": {
            "standoff": 15
           },
           "zerolinecolor": "white",
           "zerolinewidth": 2
          }
         }
        },
        "xaxis": {
         "anchor": "y",
         "domain": [
          0,
          1
         ],
         "title": {
          "text": "SepalLengthCm"
         }
        },
        "yaxis": {
         "anchor": "x",
         "domain": [
          0,
          1
         ],
         "title": {
          "text": "PetalLengthCm"
         }
        }
       }
      }
     },
     "metadata": {},
     "output_type": "display_data"
    }
   ],
   "source": [
    "fig = px.scatter(df,x=\"SepalLengthCm\",y=\"PetalLengthCm\",color=\"Species\",size=\"SepalWidthCm\")\n",
    "fig.show()"
   ]
  },
  {
   "cell_type": "code",
   "execution_count": 7,
   "id": "cc226036",
   "metadata": {},
   "outputs": [
    {
     "data": {
      "application/vnd.plotly.v1+json": {
       "config": {
        "plotlyServerURL": "https://plot.ly"
       },
       "data": [
        {
         "hovertemplate": "Species=%{y}<br>PetalWidthCm=%{x}<extra></extra>",
         "legendgroup": "Iris-setosa",
         "marker": {
          "color": "#636efa",
          "symbol": "circle"
         },
         "mode": "markers",
         "name": "Iris-setosa",
         "orientation": "h",
         "showlegend": true,
         "type": "scatter",
         "x": [
          0.2,
          0.2,
          0.2,
          0.2,
          0.2,
          0.4,
          0.3,
          0.2,
          0.2,
          0.1,
          0.2,
          0.2,
          0.1,
          0.1,
          0.2,
          0.4,
          0.4,
          0.3,
          0.3,
          0.3,
          0.2,
          0.4,
          0.2,
          0.5,
          0.2,
          0.2,
          0.4,
          0.2,
          0.2,
          0.2,
          0.2,
          0.4,
          0.1,
          0.2,
          0.1,
          0.2,
          0.2,
          0.1,
          0.2,
          0.2,
          0.3,
          0.3,
          0.2,
          0.6,
          0.4,
          0.3,
          0.2,
          0.2,
          0.2,
          0.2
         ],
         "xaxis": "x",
         "y": [
          "Iris-setosa",
          "Iris-setosa",
          "Iris-setosa",
          "Iris-setosa",
          "Iris-setosa",
          "Iris-setosa",
          "Iris-setosa",
          "Iris-setosa",
          "Iris-setosa",
          "Iris-setosa",
          "Iris-setosa",
          "Iris-setosa",
          "Iris-setosa",
          "Iris-setosa",
          "Iris-setosa",
          "Iris-setosa",
          "Iris-setosa",
          "Iris-setosa",
          "Iris-setosa",
          "Iris-setosa",
          "Iris-setosa",
          "Iris-setosa",
          "Iris-setosa",
          "Iris-setosa",
          "Iris-setosa",
          "Iris-setosa",
          "Iris-setosa",
          "Iris-setosa",
          "Iris-setosa",
          "Iris-setosa",
          "Iris-setosa",
          "Iris-setosa",
          "Iris-setosa",
          "Iris-setosa",
          "Iris-setosa",
          "Iris-setosa",
          "Iris-setosa",
          "Iris-setosa",
          "Iris-setosa",
          "Iris-setosa",
          "Iris-setosa",
          "Iris-setosa",
          "Iris-setosa",
          "Iris-setosa",
          "Iris-setosa",
          "Iris-setosa",
          "Iris-setosa",
          "Iris-setosa",
          "Iris-setosa",
          "Iris-setosa"
         ],
         "yaxis": "y"
        },
        {
         "hovertemplate": "Species=%{y}<br>PetalWidthCm=%{x}<extra></extra>",
         "legendgroup": "Iris-versicolor",
         "marker": {
          "color": "#EF553B",
          "symbol": "circle"
         },
         "mode": "markers",
         "name": "Iris-versicolor",
         "orientation": "h",
         "showlegend": true,
         "type": "scatter",
         "x": [
          1.4,
          1.5,
          1.5,
          1.3,
          1.5,
          1.3,
          1.6,
          1,
          1.3,
          1.4,
          1,
          1.5,
          1,
          1.4,
          1.3,
          1.4,
          1.5,
          1,
          1.5,
          1.1,
          1.8,
          1.3,
          1.5,
          1.2,
          1.3,
          1.4,
          1.4,
          1.7,
          1.5,
          1,
          1.1,
          1,
          1.2,
          1.6,
          1.5,
          1.6,
          1.5,
          1.3,
          1.3,
          1.3,
          1.2,
          1.4,
          1.2,
          1,
          1.3,
          1.2,
          1.3,
          1.3,
          1.1,
          1.3
         ],
         "xaxis": "x",
         "y": [
          "Iris-versicolor",
          "Iris-versicolor",
          "Iris-versicolor",
          "Iris-versicolor",
          "Iris-versicolor",
          "Iris-versicolor",
          "Iris-versicolor",
          "Iris-versicolor",
          "Iris-versicolor",
          "Iris-versicolor",
          "Iris-versicolor",
          "Iris-versicolor",
          "Iris-versicolor",
          "Iris-versicolor",
          "Iris-versicolor",
          "Iris-versicolor",
          "Iris-versicolor",
          "Iris-versicolor",
          "Iris-versicolor",
          "Iris-versicolor",
          "Iris-versicolor",
          "Iris-versicolor",
          "Iris-versicolor",
          "Iris-versicolor",
          "Iris-versicolor",
          "Iris-versicolor",
          "Iris-versicolor",
          "Iris-versicolor",
          "Iris-versicolor",
          "Iris-versicolor",
          "Iris-versicolor",
          "Iris-versicolor",
          "Iris-versicolor",
          "Iris-versicolor",
          "Iris-versicolor",
          "Iris-versicolor",
          "Iris-versicolor",
          "Iris-versicolor",
          "Iris-versicolor",
          "Iris-versicolor",
          "Iris-versicolor",
          "Iris-versicolor",
          "Iris-versicolor",
          "Iris-versicolor",
          "Iris-versicolor",
          "Iris-versicolor",
          "Iris-versicolor",
          "Iris-versicolor",
          "Iris-versicolor",
          "Iris-versicolor"
         ],
         "yaxis": "y"
        },
        {
         "hovertemplate": "Species=%{y}<br>PetalWidthCm=%{x}<extra></extra>",
         "legendgroup": "Iris-virginica",
         "marker": {
          "color": "#00cc96",
          "symbol": "circle"
         },
         "mode": "markers",
         "name": "Iris-virginica",
         "orientation": "h",
         "showlegend": true,
         "type": "scatter",
         "x": [
          2.5,
          1.9,
          2.1,
          1.8,
          2.2,
          2.1,
          1.7,
          1.8,
          1.8,
          2.5,
          2,
          1.9,
          2.1,
          2,
          2.4,
          2.3,
          1.8,
          2.2,
          2.3,
          1.5,
          2.3,
          2,
          2,
          1.8,
          2.1,
          1.8,
          1.8,
          1.8,
          2.1,
          1.6,
          1.9,
          2,
          2.2,
          1.5,
          1.4,
          2.3,
          2.4,
          1.8,
          1.8,
          2.1,
          2.4,
          2.3,
          1.9,
          2.3,
          2.5,
          2.3,
          1.9,
          2,
          2.3,
          1.8
         ],
         "xaxis": "x",
         "y": [
          "Iris-virginica",
          "Iris-virginica",
          "Iris-virginica",
          "Iris-virginica",
          "Iris-virginica",
          "Iris-virginica",
          "Iris-virginica",
          "Iris-virginica",
          "Iris-virginica",
          "Iris-virginica",
          "Iris-virginica",
          "Iris-virginica",
          "Iris-virginica",
          "Iris-virginica",
          "Iris-virginica",
          "Iris-virginica",
          "Iris-virginica",
          "Iris-virginica",
          "Iris-virginica",
          "Iris-virginica",
          "Iris-virginica",
          "Iris-virginica",
          "Iris-virginica",
          "Iris-virginica",
          "Iris-virginica",
          "Iris-virginica",
          "Iris-virginica",
          "Iris-virginica",
          "Iris-virginica",
          "Iris-virginica",
          "Iris-virginica",
          "Iris-virginica",
          "Iris-virginica",
          "Iris-virginica",
          "Iris-virginica",
          "Iris-virginica",
          "Iris-virginica",
          "Iris-virginica",
          "Iris-virginica",
          "Iris-virginica",
          "Iris-virginica",
          "Iris-virginica",
          "Iris-virginica",
          "Iris-virginica",
          "Iris-virginica",
          "Iris-virginica",
          "Iris-virginica",
          "Iris-virginica",
          "Iris-virginica",
          "Iris-virginica"
         ],
         "yaxis": "y"
        }
       ],
       "layout": {
        "legend": {
         "title": {
          "text": "Species"
         },
         "tracegroupgap": 0
        },
        "margin": {
         "t": 60
        },
        "template": {
         "data": {
          "bar": [
           {
            "error_x": {
             "color": "#2a3f5f"
            },
            "error_y": {
             "color": "#2a3f5f"
            },
            "marker": {
             "line": {
              "color": "#E5ECF6",
              "width": 0.5
             },
             "pattern": {
              "fillmode": "overlay",
              "size": 10,
              "solidity": 0.2
             }
            },
            "type": "bar"
           }
          ],
          "barpolar": [
           {
            "marker": {
             "line": {
              "color": "#E5ECF6",
              "width": 0.5
             },
             "pattern": {
              "fillmode": "overlay",
              "size": 10,
              "solidity": 0.2
             }
            },
            "type": "barpolar"
           }
          ],
          "carpet": [
           {
            "aaxis": {
             "endlinecolor": "#2a3f5f",
             "gridcolor": "white",
             "linecolor": "white",
             "minorgridcolor": "white",
             "startlinecolor": "#2a3f5f"
            },
            "baxis": {
             "endlinecolor": "#2a3f5f",
             "gridcolor": "white",
             "linecolor": "white",
             "minorgridcolor": "white",
             "startlinecolor": "#2a3f5f"
            },
            "type": "carpet"
           }
          ],
          "choropleth": [
           {
            "colorbar": {
             "outlinewidth": 0,
             "ticks": ""
            },
            "type": "choropleth"
           }
          ],
          "contour": [
           {
            "colorbar": {
             "outlinewidth": 0,
             "ticks": ""
            },
            "colorscale": [
             [
              0,
              "#0d0887"
             ],
             [
              0.1111111111111111,
              "#46039f"
             ],
             [
              0.2222222222222222,
              "#7201a8"
             ],
             [
              0.3333333333333333,
              "#9c179e"
             ],
             [
              0.4444444444444444,
              "#bd3786"
             ],
             [
              0.5555555555555556,
              "#d8576b"
             ],
             [
              0.6666666666666666,
              "#ed7953"
             ],
             [
              0.7777777777777778,
              "#fb9f3a"
             ],
             [
              0.8888888888888888,
              "#fdca26"
             ],
             [
              1,
              "#f0f921"
             ]
            ],
            "type": "contour"
           }
          ],
          "contourcarpet": [
           {
            "colorbar": {
             "outlinewidth": 0,
             "ticks": ""
            },
            "type": "contourcarpet"
           }
          ],
          "heatmap": [
           {
            "colorbar": {
             "outlinewidth": 0,
             "ticks": ""
            },
            "colorscale": [
             [
              0,
              "#0d0887"
             ],
             [
              0.1111111111111111,
              "#46039f"
             ],
             [
              0.2222222222222222,
              "#7201a8"
             ],
             [
              0.3333333333333333,
              "#9c179e"
             ],
             [
              0.4444444444444444,
              "#bd3786"
             ],
             [
              0.5555555555555556,
              "#d8576b"
             ],
             [
              0.6666666666666666,
              "#ed7953"
             ],
             [
              0.7777777777777778,
              "#fb9f3a"
             ],
             [
              0.8888888888888888,
              "#fdca26"
             ],
             [
              1,
              "#f0f921"
             ]
            ],
            "type": "heatmap"
           }
          ],
          "heatmapgl": [
           {
            "colorbar": {
             "outlinewidth": 0,
             "ticks": ""
            },
            "colorscale": [
             [
              0,
              "#0d0887"
             ],
             [
              0.1111111111111111,
              "#46039f"
             ],
             [
              0.2222222222222222,
              "#7201a8"
             ],
             [
              0.3333333333333333,
              "#9c179e"
             ],
             [
              0.4444444444444444,
              "#bd3786"
             ],
             [
              0.5555555555555556,
              "#d8576b"
             ],
             [
              0.6666666666666666,
              "#ed7953"
             ],
             [
              0.7777777777777778,
              "#fb9f3a"
             ],
             [
              0.8888888888888888,
              "#fdca26"
             ],
             [
              1,
              "#f0f921"
             ]
            ],
            "type": "heatmapgl"
           }
          ],
          "histogram": [
           {
            "marker": {
             "pattern": {
              "fillmode": "overlay",
              "size": 10,
              "solidity": 0.2
             }
            },
            "type": "histogram"
           }
          ],
          "histogram2d": [
           {
            "colorbar": {
             "outlinewidth": 0,
             "ticks": ""
            },
            "colorscale": [
             [
              0,
              "#0d0887"
             ],
             [
              0.1111111111111111,
              "#46039f"
             ],
             [
              0.2222222222222222,
              "#7201a8"
             ],
             [
              0.3333333333333333,
              "#9c179e"
             ],
             [
              0.4444444444444444,
              "#bd3786"
             ],
             [
              0.5555555555555556,
              "#d8576b"
             ],
             [
              0.6666666666666666,
              "#ed7953"
             ],
             [
              0.7777777777777778,
              "#fb9f3a"
             ],
             [
              0.8888888888888888,
              "#fdca26"
             ],
             [
              1,
              "#f0f921"
             ]
            ],
            "type": "histogram2d"
           }
          ],
          "histogram2dcontour": [
           {
            "colorbar": {
             "outlinewidth": 0,
             "ticks": ""
            },
            "colorscale": [
             [
              0,
              "#0d0887"
             ],
             [
              0.1111111111111111,
              "#46039f"
             ],
             [
              0.2222222222222222,
              "#7201a8"
             ],
             [
              0.3333333333333333,
              "#9c179e"
             ],
             [
              0.4444444444444444,
              "#bd3786"
             ],
             [
              0.5555555555555556,
              "#d8576b"
             ],
             [
              0.6666666666666666,
              "#ed7953"
             ],
             [
              0.7777777777777778,
              "#fb9f3a"
             ],
             [
              0.8888888888888888,
              "#fdca26"
             ],
             [
              1,
              "#f0f921"
             ]
            ],
            "type": "histogram2dcontour"
           }
          ],
          "mesh3d": [
           {
            "colorbar": {
             "outlinewidth": 0,
             "ticks": ""
            },
            "type": "mesh3d"
           }
          ],
          "parcoords": [
           {
            "line": {
             "colorbar": {
              "outlinewidth": 0,
              "ticks": ""
             }
            },
            "type": "parcoords"
           }
          ],
          "pie": [
           {
            "automargin": true,
            "type": "pie"
           }
          ],
          "scatter": [
           {
            "fillpattern": {
             "fillmode": "overlay",
             "size": 10,
             "solidity": 0.2
            },
            "type": "scatter"
           }
          ],
          "scatter3d": [
           {
            "line": {
             "colorbar": {
              "outlinewidth": 0,
              "ticks": ""
             }
            },
            "marker": {
             "colorbar": {
              "outlinewidth": 0,
              "ticks": ""
             }
            },
            "type": "scatter3d"
           }
          ],
          "scattercarpet": [
           {
            "marker": {
             "colorbar": {
              "outlinewidth": 0,
              "ticks": ""
             }
            },
            "type": "scattercarpet"
           }
          ],
          "scattergeo": [
           {
            "marker": {
             "colorbar": {
              "outlinewidth": 0,
              "ticks": ""
             }
            },
            "type": "scattergeo"
           }
          ],
          "scattergl": [
           {
            "marker": {
             "colorbar": {
              "outlinewidth": 0,
              "ticks": ""
             }
            },
            "type": "scattergl"
           }
          ],
          "scattermapbox": [
           {
            "marker": {
             "colorbar": {
              "outlinewidth": 0,
              "ticks": ""
             }
            },
            "type": "scattermapbox"
           }
          ],
          "scatterpolar": [
           {
            "marker": {
             "colorbar": {
              "outlinewidth": 0,
              "ticks": ""
             }
            },
            "type": "scatterpolar"
           }
          ],
          "scatterpolargl": [
           {
            "marker": {
             "colorbar": {
              "outlinewidth": 0,
              "ticks": ""
             }
            },
            "type": "scatterpolargl"
           }
          ],
          "scatterternary": [
           {
            "marker": {
             "colorbar": {
              "outlinewidth": 0,
              "ticks": ""
             }
            },
            "type": "scatterternary"
           }
          ],
          "surface": [
           {
            "colorbar": {
             "outlinewidth": 0,
             "ticks": ""
            },
            "colorscale": [
             [
              0,
              "#0d0887"
             ],
             [
              0.1111111111111111,
              "#46039f"
             ],
             [
              0.2222222222222222,
              "#7201a8"
             ],
             [
              0.3333333333333333,
              "#9c179e"
             ],
             [
              0.4444444444444444,
              "#bd3786"
             ],
             [
              0.5555555555555556,
              "#d8576b"
             ],
             [
              0.6666666666666666,
              "#ed7953"
             ],
             [
              0.7777777777777778,
              "#fb9f3a"
             ],
             [
              0.8888888888888888,
              "#fdca26"
             ],
             [
              1,
              "#f0f921"
             ]
            ],
            "type": "surface"
           }
          ],
          "table": [
           {
            "cells": {
             "fill": {
              "color": "#EBF0F8"
             },
             "line": {
              "color": "white"
             }
            },
            "header": {
             "fill": {
              "color": "#C8D4E3"
             },
             "line": {
              "color": "white"
             }
            },
            "type": "table"
           }
          ]
         },
         "layout": {
          "annotationdefaults": {
           "arrowcolor": "#2a3f5f",
           "arrowhead": 0,
           "arrowwidth": 1
          },
          "autotypenumbers": "strict",
          "coloraxis": {
           "colorbar": {
            "outlinewidth": 0,
            "ticks": ""
           }
          },
          "colorscale": {
           "diverging": [
            [
             0,
             "#8e0152"
            ],
            [
             0.1,
             "#c51b7d"
            ],
            [
             0.2,
             "#de77ae"
            ],
            [
             0.3,
             "#f1b6da"
            ],
            [
             0.4,
             "#fde0ef"
            ],
            [
             0.5,
             "#f7f7f7"
            ],
            [
             0.6,
             "#e6f5d0"
            ],
            [
             0.7,
             "#b8e186"
            ],
            [
             0.8,
             "#7fbc41"
            ],
            [
             0.9,
             "#4d9221"
            ],
            [
             1,
             "#276419"
            ]
           ],
           "sequential": [
            [
             0,
             "#0d0887"
            ],
            [
             0.1111111111111111,
             "#46039f"
            ],
            [
             0.2222222222222222,
             "#7201a8"
            ],
            [
             0.3333333333333333,
             "#9c179e"
            ],
            [
             0.4444444444444444,
             "#bd3786"
            ],
            [
             0.5555555555555556,
             "#d8576b"
            ],
            [
             0.6666666666666666,
             "#ed7953"
            ],
            [
             0.7777777777777778,
             "#fb9f3a"
            ],
            [
             0.8888888888888888,
             "#fdca26"
            ],
            [
             1,
             "#f0f921"
            ]
           ],
           "sequentialminus": [
            [
             0,
             "#0d0887"
            ],
            [
             0.1111111111111111,
             "#46039f"
            ],
            [
             0.2222222222222222,
             "#7201a8"
            ],
            [
             0.3333333333333333,
             "#9c179e"
            ],
            [
             0.4444444444444444,
             "#bd3786"
            ],
            [
             0.5555555555555556,
             "#d8576b"
            ],
            [
             0.6666666666666666,
             "#ed7953"
            ],
            [
             0.7777777777777778,
             "#fb9f3a"
            ],
            [
             0.8888888888888888,
             "#fdca26"
            ],
            [
             1,
             "#f0f921"
            ]
           ]
          },
          "colorway": [
           "#636efa",
           "#EF553B",
           "#00cc96",
           "#ab63fa",
           "#FFA15A",
           "#19d3f3",
           "#FF6692",
           "#B6E880",
           "#FF97FF",
           "#FECB52"
          ],
          "font": {
           "color": "#2a3f5f"
          },
          "geo": {
           "bgcolor": "white",
           "lakecolor": "white",
           "landcolor": "#E5ECF6",
           "showlakes": true,
           "showland": true,
           "subunitcolor": "white"
          },
          "hoverlabel": {
           "align": "left"
          },
          "hovermode": "closest",
          "mapbox": {
           "style": "light"
          },
          "paper_bgcolor": "white",
          "plot_bgcolor": "#E5ECF6",
          "polar": {
           "angularaxis": {
            "gridcolor": "white",
            "linecolor": "white",
            "ticks": ""
           },
           "bgcolor": "#E5ECF6",
           "radialaxis": {
            "gridcolor": "white",
            "linecolor": "white",
            "ticks": ""
           }
          },
          "scene": {
           "xaxis": {
            "backgroundcolor": "#E5ECF6",
            "gridcolor": "white",
            "gridwidth": 2,
            "linecolor": "white",
            "showbackground": true,
            "ticks": "",
            "zerolinecolor": "white"
           },
           "yaxis": {
            "backgroundcolor": "#E5ECF6",
            "gridcolor": "white",
            "gridwidth": 2,
            "linecolor": "white",
            "showbackground": true,
            "ticks": "",
            "zerolinecolor": "white"
           },
           "zaxis": {
            "backgroundcolor": "#E5ECF6",
            "gridcolor": "white",
            "gridwidth": 2,
            "linecolor": "white",
            "showbackground": true,
            "ticks": "",
            "zerolinecolor": "white"
           }
          },
          "shapedefaults": {
           "line": {
            "color": "#2a3f5f"
           }
          },
          "ternary": {
           "aaxis": {
            "gridcolor": "white",
            "linecolor": "white",
            "ticks": ""
           },
           "baxis": {
            "gridcolor": "white",
            "linecolor": "white",
            "ticks": ""
           },
           "bgcolor": "#E5ECF6",
           "caxis": {
            "gridcolor": "white",
            "linecolor": "white",
            "ticks": ""
           }
          },
          "title": {
           "x": 0.05
          },
          "xaxis": {
           "automargin": true,
           "gridcolor": "white",
           "linecolor": "white",
           "ticks": "",
           "title": {
            "standoff": 15
           },
           "zerolinecolor": "white",
           "zerolinewidth": 2
          },
          "yaxis": {
           "automargin": true,
           "gridcolor": "white",
           "linecolor": "white",
           "ticks": "",
           "title": {
            "standoff": 15
           },
           "zerolinecolor": "white",
           "zerolinewidth": 2
          }
         }
        },
        "xaxis": {
         "anchor": "y",
         "domain": [
          0,
          1
         ],
         "title": {
          "text": "PetalWidthCm"
         }
        },
        "yaxis": {
         "anchor": "x",
         "categoryarray": [
          "Iris-virginica",
          "Iris-versicolor",
          "Iris-setosa"
         ],
         "categoryorder": "array",
         "domain": [
          0,
          1
         ],
         "title": {
          "text": "Species"
         }
        }
       }
      }
     },
     "metadata": {},
     "output_type": "display_data"
    }
   ],
   "source": [
    "fig = px.scatter(df,x=\"PetalWidthCm\",y=\"Species\",color=\"Species\")\n",
    "fig.show()"
   ]
  },
  {
   "cell_type": "code",
   "execution_count": 8,
   "id": "2bb292e1",
   "metadata": {},
   "outputs": [
    {
     "data": {
      "application/vnd.plotly.v1+json": {
       "config": {
        "plotlyServerURL": "https://plot.ly"
       },
       "data": [
        {
         "hovertemplate": "Species=%{y}<br>SepalWidthCm=%{x}<extra></extra>",
         "legendgroup": "Iris-setosa",
         "marker": {
          "color": "#636efa",
          "symbol": "circle"
         },
         "mode": "markers",
         "name": "Iris-setosa",
         "orientation": "h",
         "showlegend": true,
         "type": "scatter",
         "x": [
          3.5,
          3,
          3.2,
          3.1,
          3.6,
          3.9,
          3.4,
          3.4,
          2.9,
          3.1,
          3.7,
          3.4,
          3,
          3,
          4,
          4.4,
          3.9,
          3.5,
          3.8,
          3.8,
          3.4,
          3.7,
          3.6,
          3.3,
          3.4,
          3,
          3.4,
          3.5,
          3.4,
          3.2,
          3.1,
          3.4,
          4.1,
          4.2,
          3.1,
          3.2,
          3.5,
          3.1,
          3,
          3.4,
          3.5,
          2.3,
          3.2,
          3.5,
          3.8,
          3,
          3.8,
          3.2,
          3.7,
          3.3
         ],
         "xaxis": "x",
         "y": [
          "Iris-setosa",
          "Iris-setosa",
          "Iris-setosa",
          "Iris-setosa",
          "Iris-setosa",
          "Iris-setosa",
          "Iris-setosa",
          "Iris-setosa",
          "Iris-setosa",
          "Iris-setosa",
          "Iris-setosa",
          "Iris-setosa",
          "Iris-setosa",
          "Iris-setosa",
          "Iris-setosa",
          "Iris-setosa",
          "Iris-setosa",
          "Iris-setosa",
          "Iris-setosa",
          "Iris-setosa",
          "Iris-setosa",
          "Iris-setosa",
          "Iris-setosa",
          "Iris-setosa",
          "Iris-setosa",
          "Iris-setosa",
          "Iris-setosa",
          "Iris-setosa",
          "Iris-setosa",
          "Iris-setosa",
          "Iris-setosa",
          "Iris-setosa",
          "Iris-setosa",
          "Iris-setosa",
          "Iris-setosa",
          "Iris-setosa",
          "Iris-setosa",
          "Iris-setosa",
          "Iris-setosa",
          "Iris-setosa",
          "Iris-setosa",
          "Iris-setosa",
          "Iris-setosa",
          "Iris-setosa",
          "Iris-setosa",
          "Iris-setosa",
          "Iris-setosa",
          "Iris-setosa",
          "Iris-setosa",
          "Iris-setosa"
         ],
         "yaxis": "y"
        },
        {
         "hovertemplate": "Species=%{y}<br>SepalWidthCm=%{x}<extra></extra>",
         "legendgroup": "Iris-versicolor",
         "marker": {
          "color": "#EF553B",
          "symbol": "circle"
         },
         "mode": "markers",
         "name": "Iris-versicolor",
         "orientation": "h",
         "showlegend": true,
         "type": "scatter",
         "x": [
          3.2,
          3.2,
          3.1,
          2.3,
          2.8,
          2.8,
          3.3,
          2.4,
          2.9,
          2.7,
          2,
          3,
          2.2,
          2.9,
          2.9,
          3.1,
          3,
          2.7,
          2.2,
          2.5,
          3.2,
          2.8,
          2.5,
          2.8,
          2.9,
          3,
          2.8,
          3,
          2.9,
          2.6,
          2.4,
          2.4,
          2.7,
          2.7,
          3,
          3.4,
          3.1,
          2.3,
          3,
          2.5,
          2.6,
          3,
          2.6,
          2.3,
          2.7,
          3,
          2.9,
          2.9,
          2.5,
          2.8
         ],
         "xaxis": "x",
         "y": [
          "Iris-versicolor",
          "Iris-versicolor",
          "Iris-versicolor",
          "Iris-versicolor",
          "Iris-versicolor",
          "Iris-versicolor",
          "Iris-versicolor",
          "Iris-versicolor",
          "Iris-versicolor",
          "Iris-versicolor",
          "Iris-versicolor",
          "Iris-versicolor",
          "Iris-versicolor",
          "Iris-versicolor",
          "Iris-versicolor",
          "Iris-versicolor",
          "Iris-versicolor",
          "Iris-versicolor",
          "Iris-versicolor",
          "Iris-versicolor",
          "Iris-versicolor",
          "Iris-versicolor",
          "Iris-versicolor",
          "Iris-versicolor",
          "Iris-versicolor",
          "Iris-versicolor",
          "Iris-versicolor",
          "Iris-versicolor",
          "Iris-versicolor",
          "Iris-versicolor",
          "Iris-versicolor",
          "Iris-versicolor",
          "Iris-versicolor",
          "Iris-versicolor",
          "Iris-versicolor",
          "Iris-versicolor",
          "Iris-versicolor",
          "Iris-versicolor",
          "Iris-versicolor",
          "Iris-versicolor",
          "Iris-versicolor",
          "Iris-versicolor",
          "Iris-versicolor",
          "Iris-versicolor",
          "Iris-versicolor",
          "Iris-versicolor",
          "Iris-versicolor",
          "Iris-versicolor",
          "Iris-versicolor",
          "Iris-versicolor"
         ],
         "yaxis": "y"
        },
        {
         "hovertemplate": "Species=%{y}<br>SepalWidthCm=%{x}<extra></extra>",
         "legendgroup": "Iris-virginica",
         "marker": {
          "color": "#00cc96",
          "symbol": "circle"
         },
         "mode": "markers",
         "name": "Iris-virginica",
         "orientation": "h",
         "showlegend": true,
         "type": "scatter",
         "x": [
          3.3,
          2.7,
          3,
          2.9,
          3,
          3,
          2.5,
          2.9,
          2.5,
          3.6,
          3.2,
          2.7,
          3,
          2.5,
          2.8,
          3.2,
          3,
          3.8,
          2.6,
          2.2,
          3.2,
          2.8,
          2.8,
          2.7,
          3.3,
          3.2,
          2.8,
          3,
          2.8,
          3,
          2.8,
          3.8,
          2.8,
          2.8,
          2.6,
          3,
          3.4,
          3.1,
          3,
          3.1,
          3.1,
          3.1,
          2.7,
          3.2,
          3.3,
          3,
          2.5,
          3,
          3.4,
          3
         ],
         "xaxis": "x",
         "y": [
          "Iris-virginica",
          "Iris-virginica",
          "Iris-virginica",
          "Iris-virginica",
          "Iris-virginica",
          "Iris-virginica",
          "Iris-virginica",
          "Iris-virginica",
          "Iris-virginica",
          "Iris-virginica",
          "Iris-virginica",
          "Iris-virginica",
          "Iris-virginica",
          "Iris-virginica",
          "Iris-virginica",
          "Iris-virginica",
          "Iris-virginica",
          "Iris-virginica",
          "Iris-virginica",
          "Iris-virginica",
          "Iris-virginica",
          "Iris-virginica",
          "Iris-virginica",
          "Iris-virginica",
          "Iris-virginica",
          "Iris-virginica",
          "Iris-virginica",
          "Iris-virginica",
          "Iris-virginica",
          "Iris-virginica",
          "Iris-virginica",
          "Iris-virginica",
          "Iris-virginica",
          "Iris-virginica",
          "Iris-virginica",
          "Iris-virginica",
          "Iris-virginica",
          "Iris-virginica",
          "Iris-virginica",
          "Iris-virginica",
          "Iris-virginica",
          "Iris-virginica",
          "Iris-virginica",
          "Iris-virginica",
          "Iris-virginica",
          "Iris-virginica",
          "Iris-virginica",
          "Iris-virginica",
          "Iris-virginica",
          "Iris-virginica"
         ],
         "yaxis": "y"
        }
       ],
       "layout": {
        "legend": {
         "title": {
          "text": "Species"
         },
         "tracegroupgap": 0
        },
        "margin": {
         "t": 60
        },
        "template": {
         "data": {
          "bar": [
           {
            "error_x": {
             "color": "#2a3f5f"
            },
            "error_y": {
             "color": "#2a3f5f"
            },
            "marker": {
             "line": {
              "color": "#E5ECF6",
              "width": 0.5
             },
             "pattern": {
              "fillmode": "overlay",
              "size": 10,
              "solidity": 0.2
             }
            },
            "type": "bar"
           }
          ],
          "barpolar": [
           {
            "marker": {
             "line": {
              "color": "#E5ECF6",
              "width": 0.5
             },
             "pattern": {
              "fillmode": "overlay",
              "size": 10,
              "solidity": 0.2
             }
            },
            "type": "barpolar"
           }
          ],
          "carpet": [
           {
            "aaxis": {
             "endlinecolor": "#2a3f5f",
             "gridcolor": "white",
             "linecolor": "white",
             "minorgridcolor": "white",
             "startlinecolor": "#2a3f5f"
            },
            "baxis": {
             "endlinecolor": "#2a3f5f",
             "gridcolor": "white",
             "linecolor": "white",
             "minorgridcolor": "white",
             "startlinecolor": "#2a3f5f"
            },
            "type": "carpet"
           }
          ],
          "choropleth": [
           {
            "colorbar": {
             "outlinewidth": 0,
             "ticks": ""
            },
            "type": "choropleth"
           }
          ],
          "contour": [
           {
            "colorbar": {
             "outlinewidth": 0,
             "ticks": ""
            },
            "colorscale": [
             [
              0,
              "#0d0887"
             ],
             [
              0.1111111111111111,
              "#46039f"
             ],
             [
              0.2222222222222222,
              "#7201a8"
             ],
             [
              0.3333333333333333,
              "#9c179e"
             ],
             [
              0.4444444444444444,
              "#bd3786"
             ],
             [
              0.5555555555555556,
              "#d8576b"
             ],
             [
              0.6666666666666666,
              "#ed7953"
             ],
             [
              0.7777777777777778,
              "#fb9f3a"
             ],
             [
              0.8888888888888888,
              "#fdca26"
             ],
             [
              1,
              "#f0f921"
             ]
            ],
            "type": "contour"
           }
          ],
          "contourcarpet": [
           {
            "colorbar": {
             "outlinewidth": 0,
             "ticks": ""
            },
            "type": "contourcarpet"
           }
          ],
          "heatmap": [
           {
            "colorbar": {
             "outlinewidth": 0,
             "ticks": ""
            },
            "colorscale": [
             [
              0,
              "#0d0887"
             ],
             [
              0.1111111111111111,
              "#46039f"
             ],
             [
              0.2222222222222222,
              "#7201a8"
             ],
             [
              0.3333333333333333,
              "#9c179e"
             ],
             [
              0.4444444444444444,
              "#bd3786"
             ],
             [
              0.5555555555555556,
              "#d8576b"
             ],
             [
              0.6666666666666666,
              "#ed7953"
             ],
             [
              0.7777777777777778,
              "#fb9f3a"
             ],
             [
              0.8888888888888888,
              "#fdca26"
             ],
             [
              1,
              "#f0f921"
             ]
            ],
            "type": "heatmap"
           }
          ],
          "heatmapgl": [
           {
            "colorbar": {
             "outlinewidth": 0,
             "ticks": ""
            },
            "colorscale": [
             [
              0,
              "#0d0887"
             ],
             [
              0.1111111111111111,
              "#46039f"
             ],
             [
              0.2222222222222222,
              "#7201a8"
             ],
             [
              0.3333333333333333,
              "#9c179e"
             ],
             [
              0.4444444444444444,
              "#bd3786"
             ],
             [
              0.5555555555555556,
              "#d8576b"
             ],
             [
              0.6666666666666666,
              "#ed7953"
             ],
             [
              0.7777777777777778,
              "#fb9f3a"
             ],
             [
              0.8888888888888888,
              "#fdca26"
             ],
             [
              1,
              "#f0f921"
             ]
            ],
            "type": "heatmapgl"
           }
          ],
          "histogram": [
           {
            "marker": {
             "pattern": {
              "fillmode": "overlay",
              "size": 10,
              "solidity": 0.2
             }
            },
            "type": "histogram"
           }
          ],
          "histogram2d": [
           {
            "colorbar": {
             "outlinewidth": 0,
             "ticks": ""
            },
            "colorscale": [
             [
              0,
              "#0d0887"
             ],
             [
              0.1111111111111111,
              "#46039f"
             ],
             [
              0.2222222222222222,
              "#7201a8"
             ],
             [
              0.3333333333333333,
              "#9c179e"
             ],
             [
              0.4444444444444444,
              "#bd3786"
             ],
             [
              0.5555555555555556,
              "#d8576b"
             ],
             [
              0.6666666666666666,
              "#ed7953"
             ],
             [
              0.7777777777777778,
              "#fb9f3a"
             ],
             [
              0.8888888888888888,
              "#fdca26"
             ],
             [
              1,
              "#f0f921"
             ]
            ],
            "type": "histogram2d"
           }
          ],
          "histogram2dcontour": [
           {
            "colorbar": {
             "outlinewidth": 0,
             "ticks": ""
            },
            "colorscale": [
             [
              0,
              "#0d0887"
             ],
             [
              0.1111111111111111,
              "#46039f"
             ],
             [
              0.2222222222222222,
              "#7201a8"
             ],
             [
              0.3333333333333333,
              "#9c179e"
             ],
             [
              0.4444444444444444,
              "#bd3786"
             ],
             [
              0.5555555555555556,
              "#d8576b"
             ],
             [
              0.6666666666666666,
              "#ed7953"
             ],
             [
              0.7777777777777778,
              "#fb9f3a"
             ],
             [
              0.8888888888888888,
              "#fdca26"
             ],
             [
              1,
              "#f0f921"
             ]
            ],
            "type": "histogram2dcontour"
           }
          ],
          "mesh3d": [
           {
            "colorbar": {
             "outlinewidth": 0,
             "ticks": ""
            },
            "type": "mesh3d"
           }
          ],
          "parcoords": [
           {
            "line": {
             "colorbar": {
              "outlinewidth": 0,
              "ticks": ""
             }
            },
            "type": "parcoords"
           }
          ],
          "pie": [
           {
            "automargin": true,
            "type": "pie"
           }
          ],
          "scatter": [
           {
            "fillpattern": {
             "fillmode": "overlay",
             "size": 10,
             "solidity": 0.2
            },
            "type": "scatter"
           }
          ],
          "scatter3d": [
           {
            "line": {
             "colorbar": {
              "outlinewidth": 0,
              "ticks": ""
             }
            },
            "marker": {
             "colorbar": {
              "outlinewidth": 0,
              "ticks": ""
             }
            },
            "type": "scatter3d"
           }
          ],
          "scattercarpet": [
           {
            "marker": {
             "colorbar": {
              "outlinewidth": 0,
              "ticks": ""
             }
            },
            "type": "scattercarpet"
           }
          ],
          "scattergeo": [
           {
            "marker": {
             "colorbar": {
              "outlinewidth": 0,
              "ticks": ""
             }
            },
            "type": "scattergeo"
           }
          ],
          "scattergl": [
           {
            "marker": {
             "colorbar": {
              "outlinewidth": 0,
              "ticks": ""
             }
            },
            "type": "scattergl"
           }
          ],
          "scattermapbox": [
           {
            "marker": {
             "colorbar": {
              "outlinewidth": 0,
              "ticks": ""
             }
            },
            "type": "scattermapbox"
           }
          ],
          "scatterpolar": [
           {
            "marker": {
             "colorbar": {
              "outlinewidth": 0,
              "ticks": ""
             }
            },
            "type": "scatterpolar"
           }
          ],
          "scatterpolargl": [
           {
            "marker": {
             "colorbar": {
              "outlinewidth": 0,
              "ticks": ""
             }
            },
            "type": "scatterpolargl"
           }
          ],
          "scatterternary": [
           {
            "marker": {
             "colorbar": {
              "outlinewidth": 0,
              "ticks": ""
             }
            },
            "type": "scatterternary"
           }
          ],
          "surface": [
           {
            "colorbar": {
             "outlinewidth": 0,
             "ticks": ""
            },
            "colorscale": [
             [
              0,
              "#0d0887"
             ],
             [
              0.1111111111111111,
              "#46039f"
             ],
             [
              0.2222222222222222,
              "#7201a8"
             ],
             [
              0.3333333333333333,
              "#9c179e"
             ],
             [
              0.4444444444444444,
              "#bd3786"
             ],
             [
              0.5555555555555556,
              "#d8576b"
             ],
             [
              0.6666666666666666,
              "#ed7953"
             ],
             [
              0.7777777777777778,
              "#fb9f3a"
             ],
             [
              0.8888888888888888,
              "#fdca26"
             ],
             [
              1,
              "#f0f921"
             ]
            ],
            "type": "surface"
           }
          ],
          "table": [
           {
            "cells": {
             "fill": {
              "color": "#EBF0F8"
             },
             "line": {
              "color": "white"
             }
            },
            "header": {
             "fill": {
              "color": "#C8D4E3"
             },
             "line": {
              "color": "white"
             }
            },
            "type": "table"
           }
          ]
         },
         "layout": {
          "annotationdefaults": {
           "arrowcolor": "#2a3f5f",
           "arrowhead": 0,
           "arrowwidth": 1
          },
          "autotypenumbers": "strict",
          "coloraxis": {
           "colorbar": {
            "outlinewidth": 0,
            "ticks": ""
           }
          },
          "colorscale": {
           "diverging": [
            [
             0,
             "#8e0152"
            ],
            [
             0.1,
             "#c51b7d"
            ],
            [
             0.2,
             "#de77ae"
            ],
            [
             0.3,
             "#f1b6da"
            ],
            [
             0.4,
             "#fde0ef"
            ],
            [
             0.5,
             "#f7f7f7"
            ],
            [
             0.6,
             "#e6f5d0"
            ],
            [
             0.7,
             "#b8e186"
            ],
            [
             0.8,
             "#7fbc41"
            ],
            [
             0.9,
             "#4d9221"
            ],
            [
             1,
             "#276419"
            ]
           ],
           "sequential": [
            [
             0,
             "#0d0887"
            ],
            [
             0.1111111111111111,
             "#46039f"
            ],
            [
             0.2222222222222222,
             "#7201a8"
            ],
            [
             0.3333333333333333,
             "#9c179e"
            ],
            [
             0.4444444444444444,
             "#bd3786"
            ],
            [
             0.5555555555555556,
             "#d8576b"
            ],
            [
             0.6666666666666666,
             "#ed7953"
            ],
            [
             0.7777777777777778,
             "#fb9f3a"
            ],
            [
             0.8888888888888888,
             "#fdca26"
            ],
            [
             1,
             "#f0f921"
            ]
           ],
           "sequentialminus": [
            [
             0,
             "#0d0887"
            ],
            [
             0.1111111111111111,
             "#46039f"
            ],
            [
             0.2222222222222222,
             "#7201a8"
            ],
            [
             0.3333333333333333,
             "#9c179e"
            ],
            [
             0.4444444444444444,
             "#bd3786"
            ],
            [
             0.5555555555555556,
             "#d8576b"
            ],
            [
             0.6666666666666666,
             "#ed7953"
            ],
            [
             0.7777777777777778,
             "#fb9f3a"
            ],
            [
             0.8888888888888888,
             "#fdca26"
            ],
            [
             1,
             "#f0f921"
            ]
           ]
          },
          "colorway": [
           "#636efa",
           "#EF553B",
           "#00cc96",
           "#ab63fa",
           "#FFA15A",
           "#19d3f3",
           "#FF6692",
           "#B6E880",
           "#FF97FF",
           "#FECB52"
          ],
          "font": {
           "color": "#2a3f5f"
          },
          "geo": {
           "bgcolor": "white",
           "lakecolor": "white",
           "landcolor": "#E5ECF6",
           "showlakes": true,
           "showland": true,
           "subunitcolor": "white"
          },
          "hoverlabel": {
           "align": "left"
          },
          "hovermode": "closest",
          "mapbox": {
           "style": "light"
          },
          "paper_bgcolor": "white",
          "plot_bgcolor": "#E5ECF6",
          "polar": {
           "angularaxis": {
            "gridcolor": "white",
            "linecolor": "white",
            "ticks": ""
           },
           "bgcolor": "#E5ECF6",
           "radialaxis": {
            "gridcolor": "white",
            "linecolor": "white",
            "ticks": ""
           }
          },
          "scene": {
           "xaxis": {
            "backgroundcolor": "#E5ECF6",
            "gridcolor": "white",
            "gridwidth": 2,
            "linecolor": "white",
            "showbackground": true,
            "ticks": "",
            "zerolinecolor": "white"
           },
           "yaxis": {
            "backgroundcolor": "#E5ECF6",
            "gridcolor": "white",
            "gridwidth": 2,
            "linecolor": "white",
            "showbackground": true,
            "ticks": "",
            "zerolinecolor": "white"
           },
           "zaxis": {
            "backgroundcolor": "#E5ECF6",
            "gridcolor": "white",
            "gridwidth": 2,
            "linecolor": "white",
            "showbackground": true,
            "ticks": "",
            "zerolinecolor": "white"
           }
          },
          "shapedefaults": {
           "line": {
            "color": "#2a3f5f"
           }
          },
          "ternary": {
           "aaxis": {
            "gridcolor": "white",
            "linecolor": "white",
            "ticks": ""
           },
           "baxis": {
            "gridcolor": "white",
            "linecolor": "white",
            "ticks": ""
           },
           "bgcolor": "#E5ECF6",
           "caxis": {
            "gridcolor": "white",
            "linecolor": "white",
            "ticks": ""
           }
          },
          "title": {
           "x": 0.05
          },
          "xaxis": {
           "automargin": true,
           "gridcolor": "white",
           "linecolor": "white",
           "ticks": "",
           "title": {
            "standoff": 15
           },
           "zerolinecolor": "white",
           "zerolinewidth": 2
          },
          "yaxis": {
           "automargin": true,
           "gridcolor": "white",
           "linecolor": "white",
           "ticks": "",
           "title": {
            "standoff": 15
           },
           "zerolinecolor": "white",
           "zerolinewidth": 2
          }
         }
        },
        "xaxis": {
         "anchor": "y",
         "domain": [
          0,
          1
         ],
         "title": {
          "text": "SepalWidthCm"
         }
        },
        "yaxis": {
         "anchor": "x",
         "categoryarray": [
          "Iris-virginica",
          "Iris-versicolor",
          "Iris-setosa"
         ],
         "categoryorder": "array",
         "domain": [
          0,
          1
         ],
         "title": {
          "text": "Species"
         }
        }
       }
      }
     },
     "metadata": {},
     "output_type": "display_data"
    }
   ],
   "source": [
    "fig = px.scatter(df,x=\"SepalWidthCm\",y=\"Species\",color=\"Species\")\n",
    "fig.show()"
   ]
  },
  {
   "cell_type": "code",
   "execution_count": 9,
   "id": "1b361238",
   "metadata": {},
   "outputs": [
    {
     "data": {
      "application/vnd.plotly.v1+json": {
       "config": {
        "plotlyServerURL": "https://plot.ly"
       },
       "data": [
        {
         "hovertemplate": "Species=%{y}<br>PetalLengthCm=%{x}<extra></extra>",
         "legendgroup": "Iris-setosa",
         "marker": {
          "color": "#636efa",
          "symbol": "circle"
         },
         "mode": "markers",
         "name": "Iris-setosa",
         "orientation": "h",
         "showlegend": true,
         "type": "scatter",
         "x": [
          1.4,
          1.4,
          1.3,
          1.5,
          1.4,
          1.7,
          1.4,
          1.5,
          1.4,
          1.5,
          1.5,
          1.6,
          1.4,
          1.1,
          1.2,
          1.5,
          1.3,
          1.4,
          1.7,
          1.5,
          1.7,
          1.5,
          1,
          1.7,
          1.9,
          1.6,
          1.6,
          1.5,
          1.4,
          1.6,
          1.6,
          1.5,
          1.5,
          1.4,
          1.5,
          1.2,
          1.3,
          1.5,
          1.3,
          1.5,
          1.3,
          1.3,
          1.3,
          1.6,
          1.9,
          1.4,
          1.6,
          1.4,
          1.5,
          1.4
         ],
         "xaxis": "x",
         "y": [
          "Iris-setosa",
          "Iris-setosa",
          "Iris-setosa",
          "Iris-setosa",
          "Iris-setosa",
          "Iris-setosa",
          "Iris-setosa",
          "Iris-setosa",
          "Iris-setosa",
          "Iris-setosa",
          "Iris-setosa",
          "Iris-setosa",
          "Iris-setosa",
          "Iris-setosa",
          "Iris-setosa",
          "Iris-setosa",
          "Iris-setosa",
          "Iris-setosa",
          "Iris-setosa",
          "Iris-setosa",
          "Iris-setosa",
          "Iris-setosa",
          "Iris-setosa",
          "Iris-setosa",
          "Iris-setosa",
          "Iris-setosa",
          "Iris-setosa",
          "Iris-setosa",
          "Iris-setosa",
          "Iris-setosa",
          "Iris-setosa",
          "Iris-setosa",
          "Iris-setosa",
          "Iris-setosa",
          "Iris-setosa",
          "Iris-setosa",
          "Iris-setosa",
          "Iris-setosa",
          "Iris-setosa",
          "Iris-setosa",
          "Iris-setosa",
          "Iris-setosa",
          "Iris-setosa",
          "Iris-setosa",
          "Iris-setosa",
          "Iris-setosa",
          "Iris-setosa",
          "Iris-setosa",
          "Iris-setosa",
          "Iris-setosa"
         ],
         "yaxis": "y"
        },
        {
         "hovertemplate": "Species=%{y}<br>PetalLengthCm=%{x}<extra></extra>",
         "legendgroup": "Iris-versicolor",
         "marker": {
          "color": "#EF553B",
          "symbol": "circle"
         },
         "mode": "markers",
         "name": "Iris-versicolor",
         "orientation": "h",
         "showlegend": true,
         "type": "scatter",
         "x": [
          4.7,
          4.5,
          4.9,
          4,
          4.6,
          4.5,
          4.7,
          3.3,
          4.6,
          3.9,
          3.5,
          4.2,
          4,
          4.7,
          3.6,
          4.4,
          4.5,
          4.1,
          4.5,
          3.9,
          4.8,
          4,
          4.9,
          4.7,
          4.3,
          4.4,
          4.8,
          5,
          4.5,
          3.5,
          3.8,
          3.7,
          3.9,
          5.1,
          4.5,
          4.5,
          4.7,
          4.4,
          4.1,
          4,
          4.4,
          4.6,
          4,
          3.3,
          4.2,
          4.2,
          4.2,
          4.3,
          3,
          4.1
         ],
         "xaxis": "x",
         "y": [
          "Iris-versicolor",
          "Iris-versicolor",
          "Iris-versicolor",
          "Iris-versicolor",
          "Iris-versicolor",
          "Iris-versicolor",
          "Iris-versicolor",
          "Iris-versicolor",
          "Iris-versicolor",
          "Iris-versicolor",
          "Iris-versicolor",
          "Iris-versicolor",
          "Iris-versicolor",
          "Iris-versicolor",
          "Iris-versicolor",
          "Iris-versicolor",
          "Iris-versicolor",
          "Iris-versicolor",
          "Iris-versicolor",
          "Iris-versicolor",
          "Iris-versicolor",
          "Iris-versicolor",
          "Iris-versicolor",
          "Iris-versicolor",
          "Iris-versicolor",
          "Iris-versicolor",
          "Iris-versicolor",
          "Iris-versicolor",
          "Iris-versicolor",
          "Iris-versicolor",
          "Iris-versicolor",
          "Iris-versicolor",
          "Iris-versicolor",
          "Iris-versicolor",
          "Iris-versicolor",
          "Iris-versicolor",
          "Iris-versicolor",
          "Iris-versicolor",
          "Iris-versicolor",
          "Iris-versicolor",
          "Iris-versicolor",
          "Iris-versicolor",
          "Iris-versicolor",
          "Iris-versicolor",
          "Iris-versicolor",
          "Iris-versicolor",
          "Iris-versicolor",
          "Iris-versicolor",
          "Iris-versicolor",
          "Iris-versicolor"
         ],
         "yaxis": "y"
        },
        {
         "hovertemplate": "Species=%{y}<br>PetalLengthCm=%{x}<extra></extra>",
         "legendgroup": "Iris-virginica",
         "marker": {
          "color": "#00cc96",
          "symbol": "circle"
         },
         "mode": "markers",
         "name": "Iris-virginica",
         "orientation": "h",
         "showlegend": true,
         "type": "scatter",
         "x": [
          6,
          5.1,
          5.9,
          5.6,
          5.8,
          6.6,
          4.5,
          6.3,
          5.8,
          6.1,
          5.1,
          5.3,
          5.5,
          5,
          5.1,
          5.3,
          5.5,
          6.7,
          6.9,
          5,
          5.7,
          4.9,
          6.7,
          4.9,
          5.7,
          6,
          4.8,
          4.9,
          5.6,
          5.8,
          6.1,
          6.4,
          5.6,
          5.1,
          5.6,
          6.1,
          5.6,
          5.5,
          4.8,
          5.4,
          5.6,
          5.1,
          5.1,
          5.9,
          5.7,
          5.2,
          5,
          5.2,
          5.4,
          5.1
         ],
         "xaxis": "x",
         "y": [
          "Iris-virginica",
          "Iris-virginica",
          "Iris-virginica",
          "Iris-virginica",
          "Iris-virginica",
          "Iris-virginica",
          "Iris-virginica",
          "Iris-virginica",
          "Iris-virginica",
          "Iris-virginica",
          "Iris-virginica",
          "Iris-virginica",
          "Iris-virginica",
          "Iris-virginica",
          "Iris-virginica",
          "Iris-virginica",
          "Iris-virginica",
          "Iris-virginica",
          "Iris-virginica",
          "Iris-virginica",
          "Iris-virginica",
          "Iris-virginica",
          "Iris-virginica",
          "Iris-virginica",
          "Iris-virginica",
          "Iris-virginica",
          "Iris-virginica",
          "Iris-virginica",
          "Iris-virginica",
          "Iris-virginica",
          "Iris-virginica",
          "Iris-virginica",
          "Iris-virginica",
          "Iris-virginica",
          "Iris-virginica",
          "Iris-virginica",
          "Iris-virginica",
          "Iris-virginica",
          "Iris-virginica",
          "Iris-virginica",
          "Iris-virginica",
          "Iris-virginica",
          "Iris-virginica",
          "Iris-virginica",
          "Iris-virginica",
          "Iris-virginica",
          "Iris-virginica",
          "Iris-virginica",
          "Iris-virginica",
          "Iris-virginica"
         ],
         "yaxis": "y"
        }
       ],
       "layout": {
        "legend": {
         "title": {
          "text": "Species"
         },
         "tracegroupgap": 0
        },
        "margin": {
         "t": 60
        },
        "template": {
         "data": {
          "bar": [
           {
            "error_x": {
             "color": "#2a3f5f"
            },
            "error_y": {
             "color": "#2a3f5f"
            },
            "marker": {
             "line": {
              "color": "#E5ECF6",
              "width": 0.5
             },
             "pattern": {
              "fillmode": "overlay",
              "size": 10,
              "solidity": 0.2
             }
            },
            "type": "bar"
           }
          ],
          "barpolar": [
           {
            "marker": {
             "line": {
              "color": "#E5ECF6",
              "width": 0.5
             },
             "pattern": {
              "fillmode": "overlay",
              "size": 10,
              "solidity": 0.2
             }
            },
            "type": "barpolar"
           }
          ],
          "carpet": [
           {
            "aaxis": {
             "endlinecolor": "#2a3f5f",
             "gridcolor": "white",
             "linecolor": "white",
             "minorgridcolor": "white",
             "startlinecolor": "#2a3f5f"
            },
            "baxis": {
             "endlinecolor": "#2a3f5f",
             "gridcolor": "white",
             "linecolor": "white",
             "minorgridcolor": "white",
             "startlinecolor": "#2a3f5f"
            },
            "type": "carpet"
           }
          ],
          "choropleth": [
           {
            "colorbar": {
             "outlinewidth": 0,
             "ticks": ""
            },
            "type": "choropleth"
           }
          ],
          "contour": [
           {
            "colorbar": {
             "outlinewidth": 0,
             "ticks": ""
            },
            "colorscale": [
             [
              0,
              "#0d0887"
             ],
             [
              0.1111111111111111,
              "#46039f"
             ],
             [
              0.2222222222222222,
              "#7201a8"
             ],
             [
              0.3333333333333333,
              "#9c179e"
             ],
             [
              0.4444444444444444,
              "#bd3786"
             ],
             [
              0.5555555555555556,
              "#d8576b"
             ],
             [
              0.6666666666666666,
              "#ed7953"
             ],
             [
              0.7777777777777778,
              "#fb9f3a"
             ],
             [
              0.8888888888888888,
              "#fdca26"
             ],
             [
              1,
              "#f0f921"
             ]
            ],
            "type": "contour"
           }
          ],
          "contourcarpet": [
           {
            "colorbar": {
             "outlinewidth": 0,
             "ticks": ""
            },
            "type": "contourcarpet"
           }
          ],
          "heatmap": [
           {
            "colorbar": {
             "outlinewidth": 0,
             "ticks": ""
            },
            "colorscale": [
             [
              0,
              "#0d0887"
             ],
             [
              0.1111111111111111,
              "#46039f"
             ],
             [
              0.2222222222222222,
              "#7201a8"
             ],
             [
              0.3333333333333333,
              "#9c179e"
             ],
             [
              0.4444444444444444,
              "#bd3786"
             ],
             [
              0.5555555555555556,
              "#d8576b"
             ],
             [
              0.6666666666666666,
              "#ed7953"
             ],
             [
              0.7777777777777778,
              "#fb9f3a"
             ],
             [
              0.8888888888888888,
              "#fdca26"
             ],
             [
              1,
              "#f0f921"
             ]
            ],
            "type": "heatmap"
           }
          ],
          "heatmapgl": [
           {
            "colorbar": {
             "outlinewidth": 0,
             "ticks": ""
            },
            "colorscale": [
             [
              0,
              "#0d0887"
             ],
             [
              0.1111111111111111,
              "#46039f"
             ],
             [
              0.2222222222222222,
              "#7201a8"
             ],
             [
              0.3333333333333333,
              "#9c179e"
             ],
             [
              0.4444444444444444,
              "#bd3786"
             ],
             [
              0.5555555555555556,
              "#d8576b"
             ],
             [
              0.6666666666666666,
              "#ed7953"
             ],
             [
              0.7777777777777778,
              "#fb9f3a"
             ],
             [
              0.8888888888888888,
              "#fdca26"
             ],
             [
              1,
              "#f0f921"
             ]
            ],
            "type": "heatmapgl"
           }
          ],
          "histogram": [
           {
            "marker": {
             "pattern": {
              "fillmode": "overlay",
              "size": 10,
              "solidity": 0.2
             }
            },
            "type": "histogram"
           }
          ],
          "histogram2d": [
           {
            "colorbar": {
             "outlinewidth": 0,
             "ticks": ""
            },
            "colorscale": [
             [
              0,
              "#0d0887"
             ],
             [
              0.1111111111111111,
              "#46039f"
             ],
             [
              0.2222222222222222,
              "#7201a8"
             ],
             [
              0.3333333333333333,
              "#9c179e"
             ],
             [
              0.4444444444444444,
              "#bd3786"
             ],
             [
              0.5555555555555556,
              "#d8576b"
             ],
             [
              0.6666666666666666,
              "#ed7953"
             ],
             [
              0.7777777777777778,
              "#fb9f3a"
             ],
             [
              0.8888888888888888,
              "#fdca26"
             ],
             [
              1,
              "#f0f921"
             ]
            ],
            "type": "histogram2d"
           }
          ],
          "histogram2dcontour": [
           {
            "colorbar": {
             "outlinewidth": 0,
             "ticks": ""
            },
            "colorscale": [
             [
              0,
              "#0d0887"
             ],
             [
              0.1111111111111111,
              "#46039f"
             ],
             [
              0.2222222222222222,
              "#7201a8"
             ],
             [
              0.3333333333333333,
              "#9c179e"
             ],
             [
              0.4444444444444444,
              "#bd3786"
             ],
             [
              0.5555555555555556,
              "#d8576b"
             ],
             [
              0.6666666666666666,
              "#ed7953"
             ],
             [
              0.7777777777777778,
              "#fb9f3a"
             ],
             [
              0.8888888888888888,
              "#fdca26"
             ],
             [
              1,
              "#f0f921"
             ]
            ],
            "type": "histogram2dcontour"
           }
          ],
          "mesh3d": [
           {
            "colorbar": {
             "outlinewidth": 0,
             "ticks": ""
            },
            "type": "mesh3d"
           }
          ],
          "parcoords": [
           {
            "line": {
             "colorbar": {
              "outlinewidth": 0,
              "ticks": ""
             }
            },
            "type": "parcoords"
           }
          ],
          "pie": [
           {
            "automargin": true,
            "type": "pie"
           }
          ],
          "scatter": [
           {
            "fillpattern": {
             "fillmode": "overlay",
             "size": 10,
             "solidity": 0.2
            },
            "type": "scatter"
           }
          ],
          "scatter3d": [
           {
            "line": {
             "colorbar": {
              "outlinewidth": 0,
              "ticks": ""
             }
            },
            "marker": {
             "colorbar": {
              "outlinewidth": 0,
              "ticks": ""
             }
            },
            "type": "scatter3d"
           }
          ],
          "scattercarpet": [
           {
            "marker": {
             "colorbar": {
              "outlinewidth": 0,
              "ticks": ""
             }
            },
            "type": "scattercarpet"
           }
          ],
          "scattergeo": [
           {
            "marker": {
             "colorbar": {
              "outlinewidth": 0,
              "ticks": ""
             }
            },
            "type": "scattergeo"
           }
          ],
          "scattergl": [
           {
            "marker": {
             "colorbar": {
              "outlinewidth": 0,
              "ticks": ""
             }
            },
            "type": "scattergl"
           }
          ],
          "scattermapbox": [
           {
            "marker": {
             "colorbar": {
              "outlinewidth": 0,
              "ticks": ""
             }
            },
            "type": "scattermapbox"
           }
          ],
          "scatterpolar": [
           {
            "marker": {
             "colorbar": {
              "outlinewidth": 0,
              "ticks": ""
             }
            },
            "type": "scatterpolar"
           }
          ],
          "scatterpolargl": [
           {
            "marker": {
             "colorbar": {
              "outlinewidth": 0,
              "ticks": ""
             }
            },
            "type": "scatterpolargl"
           }
          ],
          "scatterternary": [
           {
            "marker": {
             "colorbar": {
              "outlinewidth": 0,
              "ticks": ""
             }
            },
            "type": "scatterternary"
           }
          ],
          "surface": [
           {
            "colorbar": {
             "outlinewidth": 0,
             "ticks": ""
            },
            "colorscale": [
             [
              0,
              "#0d0887"
             ],
             [
              0.1111111111111111,
              "#46039f"
             ],
             [
              0.2222222222222222,
              "#7201a8"
             ],
             [
              0.3333333333333333,
              "#9c179e"
             ],
             [
              0.4444444444444444,
              "#bd3786"
             ],
             [
              0.5555555555555556,
              "#d8576b"
             ],
             [
              0.6666666666666666,
              "#ed7953"
             ],
             [
              0.7777777777777778,
              "#fb9f3a"
             ],
             [
              0.8888888888888888,
              "#fdca26"
             ],
             [
              1,
              "#f0f921"
             ]
            ],
            "type": "surface"
           }
          ],
          "table": [
           {
            "cells": {
             "fill": {
              "color": "#EBF0F8"
             },
             "line": {
              "color": "white"
             }
            },
            "header": {
             "fill": {
              "color": "#C8D4E3"
             },
             "line": {
              "color": "white"
             }
            },
            "type": "table"
           }
          ]
         },
         "layout": {
          "annotationdefaults": {
           "arrowcolor": "#2a3f5f",
           "arrowhead": 0,
           "arrowwidth": 1
          },
          "autotypenumbers": "strict",
          "coloraxis": {
           "colorbar": {
            "outlinewidth": 0,
            "ticks": ""
           }
          },
          "colorscale": {
           "diverging": [
            [
             0,
             "#8e0152"
            ],
            [
             0.1,
             "#c51b7d"
            ],
            [
             0.2,
             "#de77ae"
            ],
            [
             0.3,
             "#f1b6da"
            ],
            [
             0.4,
             "#fde0ef"
            ],
            [
             0.5,
             "#f7f7f7"
            ],
            [
             0.6,
             "#e6f5d0"
            ],
            [
             0.7,
             "#b8e186"
            ],
            [
             0.8,
             "#7fbc41"
            ],
            [
             0.9,
             "#4d9221"
            ],
            [
             1,
             "#276419"
            ]
           ],
           "sequential": [
            [
             0,
             "#0d0887"
            ],
            [
             0.1111111111111111,
             "#46039f"
            ],
            [
             0.2222222222222222,
             "#7201a8"
            ],
            [
             0.3333333333333333,
             "#9c179e"
            ],
            [
             0.4444444444444444,
             "#bd3786"
            ],
            [
             0.5555555555555556,
             "#d8576b"
            ],
            [
             0.6666666666666666,
             "#ed7953"
            ],
            [
             0.7777777777777778,
             "#fb9f3a"
            ],
            [
             0.8888888888888888,
             "#fdca26"
            ],
            [
             1,
             "#f0f921"
            ]
           ],
           "sequentialminus": [
            [
             0,
             "#0d0887"
            ],
            [
             0.1111111111111111,
             "#46039f"
            ],
            [
             0.2222222222222222,
             "#7201a8"
            ],
            [
             0.3333333333333333,
             "#9c179e"
            ],
            [
             0.4444444444444444,
             "#bd3786"
            ],
            [
             0.5555555555555556,
             "#d8576b"
            ],
            [
             0.6666666666666666,
             "#ed7953"
            ],
            [
             0.7777777777777778,
             "#fb9f3a"
            ],
            [
             0.8888888888888888,
             "#fdca26"
            ],
            [
             1,
             "#f0f921"
            ]
           ]
          },
          "colorway": [
           "#636efa",
           "#EF553B",
           "#00cc96",
           "#ab63fa",
           "#FFA15A",
           "#19d3f3",
           "#FF6692",
           "#B6E880",
           "#FF97FF",
           "#FECB52"
          ],
          "font": {
           "color": "#2a3f5f"
          },
          "geo": {
           "bgcolor": "white",
           "lakecolor": "white",
           "landcolor": "#E5ECF6",
           "showlakes": true,
           "showland": true,
           "subunitcolor": "white"
          },
          "hoverlabel": {
           "align": "left"
          },
          "hovermode": "closest",
          "mapbox": {
           "style": "light"
          },
          "paper_bgcolor": "white",
          "plot_bgcolor": "#E5ECF6",
          "polar": {
           "angularaxis": {
            "gridcolor": "white",
            "linecolor": "white",
            "ticks": ""
           },
           "bgcolor": "#E5ECF6",
           "radialaxis": {
            "gridcolor": "white",
            "linecolor": "white",
            "ticks": ""
           }
          },
          "scene": {
           "xaxis": {
            "backgroundcolor": "#E5ECF6",
            "gridcolor": "white",
            "gridwidth": 2,
            "linecolor": "white",
            "showbackground": true,
            "ticks": "",
            "zerolinecolor": "white"
           },
           "yaxis": {
            "backgroundcolor": "#E5ECF6",
            "gridcolor": "white",
            "gridwidth": 2,
            "linecolor": "white",
            "showbackground": true,
            "ticks": "",
            "zerolinecolor": "white"
           },
           "zaxis": {
            "backgroundcolor": "#E5ECF6",
            "gridcolor": "white",
            "gridwidth": 2,
            "linecolor": "white",
            "showbackground": true,
            "ticks": "",
            "zerolinecolor": "white"
           }
          },
          "shapedefaults": {
           "line": {
            "color": "#2a3f5f"
           }
          },
          "ternary": {
           "aaxis": {
            "gridcolor": "white",
            "linecolor": "white",
            "ticks": ""
           },
           "baxis": {
            "gridcolor": "white",
            "linecolor": "white",
            "ticks": ""
           },
           "bgcolor": "#E5ECF6",
           "caxis": {
            "gridcolor": "white",
            "linecolor": "white",
            "ticks": ""
           }
          },
          "title": {
           "x": 0.05
          },
          "xaxis": {
           "automargin": true,
           "gridcolor": "white",
           "linecolor": "white",
           "ticks": "",
           "title": {
            "standoff": 15
           },
           "zerolinecolor": "white",
           "zerolinewidth": 2
          },
          "yaxis": {
           "automargin": true,
           "gridcolor": "white",
           "linecolor": "white",
           "ticks": "",
           "title": {
            "standoff": 15
           },
           "zerolinecolor": "white",
           "zerolinewidth": 2
          }
         }
        },
        "xaxis": {
         "anchor": "y",
         "domain": [
          0,
          1
         ],
         "title": {
          "text": "PetalLengthCm"
         }
        },
        "yaxis": {
         "anchor": "x",
         "categoryarray": [
          "Iris-virginica",
          "Iris-versicolor",
          "Iris-setosa"
         ],
         "categoryorder": "array",
         "domain": [
          0,
          1
         ],
         "title": {
          "text": "Species"
         }
        }
       }
      }
     },
     "metadata": {},
     "output_type": "display_data"
    }
   ],
   "source": [
    "fig = px.scatter(df,x=\"PetalLengthCm\",y=\"Species\",color=\"Species\")\n",
    "fig.show()"
   ]
  },
  {
   "cell_type": "code",
   "execution_count": 10,
   "id": "02f11086",
   "metadata": {},
   "outputs": [
    {
     "data": {
      "application/vnd.plotly.v1+json": {
       "config": {
        "plotlyServerURL": "https://plot.ly"
       },
       "data": [
        {
         "hovertemplate": "Species=Iris-setosa<br>PetalLengthCm=%{x}<br>SepalLengthCm=%{y}<extra></extra>",
         "legendgroup": "Iris-setosa",
         "marker": {
          "color": "#636efa",
          "symbol": "circle"
         },
         "mode": "markers",
         "name": "Iris-setosa",
         "orientation": "v",
         "showlegend": true,
         "type": "scatter",
         "x": [
          1.4,
          1.4,
          1.3,
          1.5,
          1.4,
          1.7,
          1.4,
          1.5,
          1.4,
          1.5,
          1.5,
          1.6,
          1.4,
          1.1,
          1.2,
          1.5,
          1.3,
          1.4,
          1.7,
          1.5,
          1.7,
          1.5,
          1,
          1.7,
          1.9,
          1.6,
          1.6,
          1.5,
          1.4,
          1.6,
          1.6,
          1.5,
          1.5,
          1.4,
          1.5,
          1.2,
          1.3,
          1.5,
          1.3,
          1.5,
          1.3,
          1.3,
          1.3,
          1.6,
          1.9,
          1.4,
          1.6,
          1.4,
          1.5,
          1.4
         ],
         "xaxis": "x",
         "y": [
          5.1,
          4.9,
          4.7,
          4.6,
          5,
          5.4,
          4.6,
          5,
          4.4,
          4.9,
          5.4,
          4.8,
          4.8,
          4.3,
          5.8,
          5.7,
          5.4,
          5.1,
          5.7,
          5.1,
          5.4,
          5.1,
          4.6,
          5.1,
          4.8,
          5,
          5,
          5.2,
          5.2,
          4.7,
          4.8,
          5.4,
          5.2,
          5.5,
          4.9,
          5,
          5.5,
          4.9,
          4.4,
          5.1,
          5,
          4.5,
          4.4,
          5,
          5.1,
          4.8,
          5.1,
          4.6,
          5.3,
          5
         ],
         "yaxis": "y"
        },
        {
         "hovertemplate": "Species=Iris-versicolor<br>PetalLengthCm=%{x}<br>SepalLengthCm=%{y}<extra></extra>",
         "legendgroup": "Iris-versicolor",
         "marker": {
          "color": "#EF553B",
          "symbol": "circle"
         },
         "mode": "markers",
         "name": "Iris-versicolor",
         "orientation": "v",
         "showlegend": true,
         "type": "scatter",
         "x": [
          4.7,
          4.5,
          4.9,
          4,
          4.6,
          4.5,
          4.7,
          3.3,
          4.6,
          3.9,
          3.5,
          4.2,
          4,
          4.7,
          3.6,
          4.4,
          4.5,
          4.1,
          4.5,
          3.9,
          4.8,
          4,
          4.9,
          4.7,
          4.3,
          4.4,
          4.8,
          5,
          4.5,
          3.5,
          3.8,
          3.7,
          3.9,
          5.1,
          4.5,
          4.5,
          4.7,
          4.4,
          4.1,
          4,
          4.4,
          4.6,
          4,
          3.3,
          4.2,
          4.2,
          4.2,
          4.3,
          3,
          4.1
         ],
         "xaxis": "x",
         "y": [
          7,
          6.4,
          6.9,
          5.5,
          6.5,
          5.7,
          6.3,
          4.9,
          6.6,
          5.2,
          5,
          5.9,
          6,
          6.1,
          5.6,
          6.7,
          5.6,
          5.8,
          6.2,
          5.6,
          5.9,
          6.1,
          6.3,
          6.1,
          6.4,
          6.6,
          6.8,
          6.7,
          6,
          5.7,
          5.5,
          5.5,
          5.8,
          6,
          5.4,
          6,
          6.7,
          6.3,
          5.6,
          5.5,
          5.5,
          6.1,
          5.8,
          5,
          5.6,
          5.7,
          5.7,
          6.2,
          5.1,
          5.7
         ],
         "yaxis": "y"
        },
        {
         "hovertemplate": "Species=Iris-virginica<br>PetalLengthCm=%{x}<br>SepalLengthCm=%{y}<extra></extra>",
         "legendgroup": "Iris-virginica",
         "marker": {
          "color": "#00cc96",
          "symbol": "circle"
         },
         "mode": "markers",
         "name": "Iris-virginica",
         "orientation": "v",
         "showlegend": true,
         "type": "scatter",
         "x": [
          6,
          5.1,
          5.9,
          5.6,
          5.8,
          6.6,
          4.5,
          6.3,
          5.8,
          6.1,
          5.1,
          5.3,
          5.5,
          5,
          5.1,
          5.3,
          5.5,
          6.7,
          6.9,
          5,
          5.7,
          4.9,
          6.7,
          4.9,
          5.7,
          6,
          4.8,
          4.9,
          5.6,
          5.8,
          6.1,
          6.4,
          5.6,
          5.1,
          5.6,
          6.1,
          5.6,
          5.5,
          4.8,
          5.4,
          5.6,
          5.1,
          5.1,
          5.9,
          5.7,
          5.2,
          5,
          5.2,
          5.4,
          5.1
         ],
         "xaxis": "x",
         "y": [
          6.3,
          5.8,
          7.1,
          6.3,
          6.5,
          7.6,
          4.9,
          7.3,
          6.7,
          7.2,
          6.5,
          6.4,
          6.8,
          5.7,
          5.8,
          6.4,
          6.5,
          7.7,
          7.7,
          6,
          6.9,
          5.6,
          7.7,
          6.3,
          6.7,
          7.2,
          6.2,
          6.1,
          6.4,
          7.2,
          7.4,
          7.9,
          6.4,
          6.3,
          6.1,
          7.7,
          6.3,
          6.4,
          6,
          6.9,
          6.7,
          6.9,
          5.8,
          6.8,
          6.7,
          6.7,
          6.3,
          6.5,
          6.2,
          5.9
         ],
         "yaxis": "y"
        }
       ],
       "layout": {
        "legend": {
         "title": {
          "text": "Species"
         },
         "tracegroupgap": 0
        },
        "margin": {
         "t": 60
        },
        "template": {
         "data": {
          "bar": [
           {
            "error_x": {
             "color": "#2a3f5f"
            },
            "error_y": {
             "color": "#2a3f5f"
            },
            "marker": {
             "line": {
              "color": "#E5ECF6",
              "width": 0.5
             },
             "pattern": {
              "fillmode": "overlay",
              "size": 10,
              "solidity": 0.2
             }
            },
            "type": "bar"
           }
          ],
          "barpolar": [
           {
            "marker": {
             "line": {
              "color": "#E5ECF6",
              "width": 0.5
             },
             "pattern": {
              "fillmode": "overlay",
              "size": 10,
              "solidity": 0.2
             }
            },
            "type": "barpolar"
           }
          ],
          "carpet": [
           {
            "aaxis": {
             "endlinecolor": "#2a3f5f",
             "gridcolor": "white",
             "linecolor": "white",
             "minorgridcolor": "white",
             "startlinecolor": "#2a3f5f"
            },
            "baxis": {
             "endlinecolor": "#2a3f5f",
             "gridcolor": "white",
             "linecolor": "white",
             "minorgridcolor": "white",
             "startlinecolor": "#2a3f5f"
            },
            "type": "carpet"
           }
          ],
          "choropleth": [
           {
            "colorbar": {
             "outlinewidth": 0,
             "ticks": ""
            },
            "type": "choropleth"
           }
          ],
          "contour": [
           {
            "colorbar": {
             "outlinewidth": 0,
             "ticks": ""
            },
            "colorscale": [
             [
              0,
              "#0d0887"
             ],
             [
              0.1111111111111111,
              "#46039f"
             ],
             [
              0.2222222222222222,
              "#7201a8"
             ],
             [
              0.3333333333333333,
              "#9c179e"
             ],
             [
              0.4444444444444444,
              "#bd3786"
             ],
             [
              0.5555555555555556,
              "#d8576b"
             ],
             [
              0.6666666666666666,
              "#ed7953"
             ],
             [
              0.7777777777777778,
              "#fb9f3a"
             ],
             [
              0.8888888888888888,
              "#fdca26"
             ],
             [
              1,
              "#f0f921"
             ]
            ],
            "type": "contour"
           }
          ],
          "contourcarpet": [
           {
            "colorbar": {
             "outlinewidth": 0,
             "ticks": ""
            },
            "type": "contourcarpet"
           }
          ],
          "heatmap": [
           {
            "colorbar": {
             "outlinewidth": 0,
             "ticks": ""
            },
            "colorscale": [
             [
              0,
              "#0d0887"
             ],
             [
              0.1111111111111111,
              "#46039f"
             ],
             [
              0.2222222222222222,
              "#7201a8"
             ],
             [
              0.3333333333333333,
              "#9c179e"
             ],
             [
              0.4444444444444444,
              "#bd3786"
             ],
             [
              0.5555555555555556,
              "#d8576b"
             ],
             [
              0.6666666666666666,
              "#ed7953"
             ],
             [
              0.7777777777777778,
              "#fb9f3a"
             ],
             [
              0.8888888888888888,
              "#fdca26"
             ],
             [
              1,
              "#f0f921"
             ]
            ],
            "type": "heatmap"
           }
          ],
          "heatmapgl": [
           {
            "colorbar": {
             "outlinewidth": 0,
             "ticks": ""
            },
            "colorscale": [
             [
              0,
              "#0d0887"
             ],
             [
              0.1111111111111111,
              "#46039f"
             ],
             [
              0.2222222222222222,
              "#7201a8"
             ],
             [
              0.3333333333333333,
              "#9c179e"
             ],
             [
              0.4444444444444444,
              "#bd3786"
             ],
             [
              0.5555555555555556,
              "#d8576b"
             ],
             [
              0.6666666666666666,
              "#ed7953"
             ],
             [
              0.7777777777777778,
              "#fb9f3a"
             ],
             [
              0.8888888888888888,
              "#fdca26"
             ],
             [
              1,
              "#f0f921"
             ]
            ],
            "type": "heatmapgl"
           }
          ],
          "histogram": [
           {
            "marker": {
             "pattern": {
              "fillmode": "overlay",
              "size": 10,
              "solidity": 0.2
             }
            },
            "type": "histogram"
           }
          ],
          "histogram2d": [
           {
            "colorbar": {
             "outlinewidth": 0,
             "ticks": ""
            },
            "colorscale": [
             [
              0,
              "#0d0887"
             ],
             [
              0.1111111111111111,
              "#46039f"
             ],
             [
              0.2222222222222222,
              "#7201a8"
             ],
             [
              0.3333333333333333,
              "#9c179e"
             ],
             [
              0.4444444444444444,
              "#bd3786"
             ],
             [
              0.5555555555555556,
              "#d8576b"
             ],
             [
              0.6666666666666666,
              "#ed7953"
             ],
             [
              0.7777777777777778,
              "#fb9f3a"
             ],
             [
              0.8888888888888888,
              "#fdca26"
             ],
             [
              1,
              "#f0f921"
             ]
            ],
            "type": "histogram2d"
           }
          ],
          "histogram2dcontour": [
           {
            "colorbar": {
             "outlinewidth": 0,
             "ticks": ""
            },
            "colorscale": [
             [
              0,
              "#0d0887"
             ],
             [
              0.1111111111111111,
              "#46039f"
             ],
             [
              0.2222222222222222,
              "#7201a8"
             ],
             [
              0.3333333333333333,
              "#9c179e"
             ],
             [
              0.4444444444444444,
              "#bd3786"
             ],
             [
              0.5555555555555556,
              "#d8576b"
             ],
             [
              0.6666666666666666,
              "#ed7953"
             ],
             [
              0.7777777777777778,
              "#fb9f3a"
             ],
             [
              0.8888888888888888,
              "#fdca26"
             ],
             [
              1,
              "#f0f921"
             ]
            ],
            "type": "histogram2dcontour"
           }
          ],
          "mesh3d": [
           {
            "colorbar": {
             "outlinewidth": 0,
             "ticks": ""
            },
            "type": "mesh3d"
           }
          ],
          "parcoords": [
           {
            "line": {
             "colorbar": {
              "outlinewidth": 0,
              "ticks": ""
             }
            },
            "type": "parcoords"
           }
          ],
          "pie": [
           {
            "automargin": true,
            "type": "pie"
           }
          ],
          "scatter": [
           {
            "fillpattern": {
             "fillmode": "overlay",
             "size": 10,
             "solidity": 0.2
            },
            "type": "scatter"
           }
          ],
          "scatter3d": [
           {
            "line": {
             "colorbar": {
              "outlinewidth": 0,
              "ticks": ""
             }
            },
            "marker": {
             "colorbar": {
              "outlinewidth": 0,
              "ticks": ""
             }
            },
            "type": "scatter3d"
           }
          ],
          "scattercarpet": [
           {
            "marker": {
             "colorbar": {
              "outlinewidth": 0,
              "ticks": ""
             }
            },
            "type": "scattercarpet"
           }
          ],
          "scattergeo": [
           {
            "marker": {
             "colorbar": {
              "outlinewidth": 0,
              "ticks": ""
             }
            },
            "type": "scattergeo"
           }
          ],
          "scattergl": [
           {
            "marker": {
             "colorbar": {
              "outlinewidth": 0,
              "ticks": ""
             }
            },
            "type": "scattergl"
           }
          ],
          "scattermapbox": [
           {
            "marker": {
             "colorbar": {
              "outlinewidth": 0,
              "ticks": ""
             }
            },
            "type": "scattermapbox"
           }
          ],
          "scatterpolar": [
           {
            "marker": {
             "colorbar": {
              "outlinewidth": 0,
              "ticks": ""
             }
            },
            "type": "scatterpolar"
           }
          ],
          "scatterpolargl": [
           {
            "marker": {
             "colorbar": {
              "outlinewidth": 0,
              "ticks": ""
             }
            },
            "type": "scatterpolargl"
           }
          ],
          "scatterternary": [
           {
            "marker": {
             "colorbar": {
              "outlinewidth": 0,
              "ticks": ""
             }
            },
            "type": "scatterternary"
           }
          ],
          "surface": [
           {
            "colorbar": {
             "outlinewidth": 0,
             "ticks": ""
            },
            "colorscale": [
             [
              0,
              "#0d0887"
             ],
             [
              0.1111111111111111,
              "#46039f"
             ],
             [
              0.2222222222222222,
              "#7201a8"
             ],
             [
              0.3333333333333333,
              "#9c179e"
             ],
             [
              0.4444444444444444,
              "#bd3786"
             ],
             [
              0.5555555555555556,
              "#d8576b"
             ],
             [
              0.6666666666666666,
              "#ed7953"
             ],
             [
              0.7777777777777778,
              "#fb9f3a"
             ],
             [
              0.8888888888888888,
              "#fdca26"
             ],
             [
              1,
              "#f0f921"
             ]
            ],
            "type": "surface"
           }
          ],
          "table": [
           {
            "cells": {
             "fill": {
              "color": "#EBF0F8"
             },
             "line": {
              "color": "white"
             }
            },
            "header": {
             "fill": {
              "color": "#C8D4E3"
             },
             "line": {
              "color": "white"
             }
            },
            "type": "table"
           }
          ]
         },
         "layout": {
          "annotationdefaults": {
           "arrowcolor": "#2a3f5f",
           "arrowhead": 0,
           "arrowwidth": 1
          },
          "autotypenumbers": "strict",
          "coloraxis": {
           "colorbar": {
            "outlinewidth": 0,
            "ticks": ""
           }
          },
          "colorscale": {
           "diverging": [
            [
             0,
             "#8e0152"
            ],
            [
             0.1,
             "#c51b7d"
            ],
            [
             0.2,
             "#de77ae"
            ],
            [
             0.3,
             "#f1b6da"
            ],
            [
             0.4,
             "#fde0ef"
            ],
            [
             0.5,
             "#f7f7f7"
            ],
            [
             0.6,
             "#e6f5d0"
            ],
            [
             0.7,
             "#b8e186"
            ],
            [
             0.8,
             "#7fbc41"
            ],
            [
             0.9,
             "#4d9221"
            ],
            [
             1,
             "#276419"
            ]
           ],
           "sequential": [
            [
             0,
             "#0d0887"
            ],
            [
             0.1111111111111111,
             "#46039f"
            ],
            [
             0.2222222222222222,
             "#7201a8"
            ],
            [
             0.3333333333333333,
             "#9c179e"
            ],
            [
             0.4444444444444444,
             "#bd3786"
            ],
            [
             0.5555555555555556,
             "#d8576b"
            ],
            [
             0.6666666666666666,
             "#ed7953"
            ],
            [
             0.7777777777777778,
             "#fb9f3a"
            ],
            [
             0.8888888888888888,
             "#fdca26"
            ],
            [
             1,
             "#f0f921"
            ]
           ],
           "sequentialminus": [
            [
             0,
             "#0d0887"
            ],
            [
             0.1111111111111111,
             "#46039f"
            ],
            [
             0.2222222222222222,
             "#7201a8"
            ],
            [
             0.3333333333333333,
             "#9c179e"
            ],
            [
             0.4444444444444444,
             "#bd3786"
            ],
            [
             0.5555555555555556,
             "#d8576b"
            ],
            [
             0.6666666666666666,
             "#ed7953"
            ],
            [
             0.7777777777777778,
             "#fb9f3a"
            ],
            [
             0.8888888888888888,
             "#fdca26"
            ],
            [
             1,
             "#f0f921"
            ]
           ]
          },
          "colorway": [
           "#636efa",
           "#EF553B",
           "#00cc96",
           "#ab63fa",
           "#FFA15A",
           "#19d3f3",
           "#FF6692",
           "#B6E880",
           "#FF97FF",
           "#FECB52"
          ],
          "font": {
           "color": "#2a3f5f"
          },
          "geo": {
           "bgcolor": "white",
           "lakecolor": "white",
           "landcolor": "#E5ECF6",
           "showlakes": true,
           "showland": true,
           "subunitcolor": "white"
          },
          "hoverlabel": {
           "align": "left"
          },
          "hovermode": "closest",
          "mapbox": {
           "style": "light"
          },
          "paper_bgcolor": "white",
          "plot_bgcolor": "#E5ECF6",
          "polar": {
           "angularaxis": {
            "gridcolor": "white",
            "linecolor": "white",
            "ticks": ""
           },
           "bgcolor": "#E5ECF6",
           "radialaxis": {
            "gridcolor": "white",
            "linecolor": "white",
            "ticks": ""
           }
          },
          "scene": {
           "xaxis": {
            "backgroundcolor": "#E5ECF6",
            "gridcolor": "white",
            "gridwidth": 2,
            "linecolor": "white",
            "showbackground": true,
            "ticks": "",
            "zerolinecolor": "white"
           },
           "yaxis": {
            "backgroundcolor": "#E5ECF6",
            "gridcolor": "white",
            "gridwidth": 2,
            "linecolor": "white",
            "showbackground": true,
            "ticks": "",
            "zerolinecolor": "white"
           },
           "zaxis": {
            "backgroundcolor": "#E5ECF6",
            "gridcolor": "white",
            "gridwidth": 2,
            "linecolor": "white",
            "showbackground": true,
            "ticks": "",
            "zerolinecolor": "white"
           }
          },
          "shapedefaults": {
           "line": {
            "color": "#2a3f5f"
           }
          },
          "ternary": {
           "aaxis": {
            "gridcolor": "white",
            "linecolor": "white",
            "ticks": ""
           },
           "baxis": {
            "gridcolor": "white",
            "linecolor": "white",
            "ticks": ""
           },
           "bgcolor": "#E5ECF6",
           "caxis": {
            "gridcolor": "white",
            "linecolor": "white",
            "ticks": ""
           }
          },
          "title": {
           "x": 0.05
          },
          "xaxis": {
           "automargin": true,
           "gridcolor": "white",
           "linecolor": "white",
           "ticks": "",
           "title": {
            "standoff": 15
           },
           "zerolinecolor": "white",
           "zerolinewidth": 2
          },
          "yaxis": {
           "automargin": true,
           "gridcolor": "white",
           "linecolor": "white",
           "ticks": "",
           "title": {
            "standoff": 15
           },
           "zerolinecolor": "white",
           "zerolinewidth": 2
          }
         }
        },
        "xaxis": {
         "anchor": "y",
         "domain": [
          0,
          1
         ],
         "title": {
          "text": "PetalLengthCm"
         }
        },
        "yaxis": {
         "anchor": "x",
         "domain": [
          0,
          1
         ],
         "title": {
          "text": "SepalLengthCm"
         }
        }
       }
      }
     },
     "metadata": {},
     "output_type": "display_data"
    }
   ],
   "source": [
    "fig = px.scatter(df,x=\"PetalLengthCm\",y=\"SepalLengthCm\",color=\"Species\")\n",
    "fig.show()"
   ]
  },
  {
   "cell_type": "code",
   "execution_count": 11,
   "id": "81dc2fee",
   "metadata": {},
   "outputs": [
    {
     "data": {
      "application/vnd.plotly.v1+json": {
       "config": {
        "plotlyServerURL": "https://plot.ly"
       },
       "data": [
        {
         "alignmentgroup": "True",
         "hovertemplate": "Species=Iris-setosa<br>SepalLengthCm=%{y}<extra></extra>",
         "legendgroup": "Iris-setosa",
         "marker": {
          "color": "#636efa"
         },
         "name": "Iris-setosa",
         "notched": false,
         "offsetgroup": "Iris-setosa",
         "orientation": "v",
         "showlegend": true,
         "type": "box",
         "x0": " ",
         "xaxis": "x",
         "y": [
          5.1,
          4.9,
          4.7,
          4.6,
          5,
          5.4,
          4.6,
          5,
          4.4,
          4.9,
          5.4,
          4.8,
          4.8,
          4.3,
          5.8,
          5.7,
          5.4,
          5.1,
          5.7,
          5.1,
          5.4,
          5.1,
          4.6,
          5.1,
          4.8,
          5,
          5,
          5.2,
          5.2,
          4.7,
          4.8,
          5.4,
          5.2,
          5.5,
          4.9,
          5,
          5.5,
          4.9,
          4.4,
          5.1,
          5,
          4.5,
          4.4,
          5,
          5.1,
          4.8,
          5.1,
          4.6,
          5.3,
          5
         ],
         "y0": " ",
         "yaxis": "y"
        },
        {
         "alignmentgroup": "True",
         "hovertemplate": "Species=Iris-versicolor<br>SepalLengthCm=%{y}<extra></extra>",
         "legendgroup": "Iris-versicolor",
         "marker": {
          "color": "#EF553B"
         },
         "name": "Iris-versicolor",
         "notched": false,
         "offsetgroup": "Iris-versicolor",
         "orientation": "v",
         "showlegend": true,
         "type": "box",
         "x0": " ",
         "xaxis": "x",
         "y": [
          7,
          6.4,
          6.9,
          5.5,
          6.5,
          5.7,
          6.3,
          4.9,
          6.6,
          5.2,
          5,
          5.9,
          6,
          6.1,
          5.6,
          6.7,
          5.6,
          5.8,
          6.2,
          5.6,
          5.9,
          6.1,
          6.3,
          6.1,
          6.4,
          6.6,
          6.8,
          6.7,
          6,
          5.7,
          5.5,
          5.5,
          5.8,
          6,
          5.4,
          6,
          6.7,
          6.3,
          5.6,
          5.5,
          5.5,
          6.1,
          5.8,
          5,
          5.6,
          5.7,
          5.7,
          6.2,
          5.1,
          5.7
         ],
         "y0": " ",
         "yaxis": "y"
        },
        {
         "alignmentgroup": "True",
         "hovertemplate": "Species=Iris-virginica<br>SepalLengthCm=%{y}<extra></extra>",
         "legendgroup": "Iris-virginica",
         "marker": {
          "color": "#00cc96"
         },
         "name": "Iris-virginica",
         "notched": false,
         "offsetgroup": "Iris-virginica",
         "orientation": "v",
         "showlegend": true,
         "type": "box",
         "x0": " ",
         "xaxis": "x",
         "y": [
          6.3,
          5.8,
          7.1,
          6.3,
          6.5,
          7.6,
          4.9,
          7.3,
          6.7,
          7.2,
          6.5,
          6.4,
          6.8,
          5.7,
          5.8,
          6.4,
          6.5,
          7.7,
          7.7,
          6,
          6.9,
          5.6,
          7.7,
          6.3,
          6.7,
          7.2,
          6.2,
          6.1,
          6.4,
          7.2,
          7.4,
          7.9,
          6.4,
          6.3,
          6.1,
          7.7,
          6.3,
          6.4,
          6,
          6.9,
          6.7,
          6.9,
          5.8,
          6.8,
          6.7,
          6.7,
          6.3,
          6.5,
          6.2,
          5.9
         ],
         "y0": " ",
         "yaxis": "y"
        }
       ],
       "layout": {
        "boxmode": "group",
        "legend": {
         "title": {
          "text": "Species"
         },
         "tracegroupgap": 0
        },
        "margin": {
         "t": 60
        },
        "template": {
         "data": {
          "bar": [
           {
            "error_x": {
             "color": "#2a3f5f"
            },
            "error_y": {
             "color": "#2a3f5f"
            },
            "marker": {
             "line": {
              "color": "#E5ECF6",
              "width": 0.5
             },
             "pattern": {
              "fillmode": "overlay",
              "size": 10,
              "solidity": 0.2
             }
            },
            "type": "bar"
           }
          ],
          "barpolar": [
           {
            "marker": {
             "line": {
              "color": "#E5ECF6",
              "width": 0.5
             },
             "pattern": {
              "fillmode": "overlay",
              "size": 10,
              "solidity": 0.2
             }
            },
            "type": "barpolar"
           }
          ],
          "carpet": [
           {
            "aaxis": {
             "endlinecolor": "#2a3f5f",
             "gridcolor": "white",
             "linecolor": "white",
             "minorgridcolor": "white",
             "startlinecolor": "#2a3f5f"
            },
            "baxis": {
             "endlinecolor": "#2a3f5f",
             "gridcolor": "white",
             "linecolor": "white",
             "minorgridcolor": "white",
             "startlinecolor": "#2a3f5f"
            },
            "type": "carpet"
           }
          ],
          "choropleth": [
           {
            "colorbar": {
             "outlinewidth": 0,
             "ticks": ""
            },
            "type": "choropleth"
           }
          ],
          "contour": [
           {
            "colorbar": {
             "outlinewidth": 0,
             "ticks": ""
            },
            "colorscale": [
             [
              0,
              "#0d0887"
             ],
             [
              0.1111111111111111,
              "#46039f"
             ],
             [
              0.2222222222222222,
              "#7201a8"
             ],
             [
              0.3333333333333333,
              "#9c179e"
             ],
             [
              0.4444444444444444,
              "#bd3786"
             ],
             [
              0.5555555555555556,
              "#d8576b"
             ],
             [
              0.6666666666666666,
              "#ed7953"
             ],
             [
              0.7777777777777778,
              "#fb9f3a"
             ],
             [
              0.8888888888888888,
              "#fdca26"
             ],
             [
              1,
              "#f0f921"
             ]
            ],
            "type": "contour"
           }
          ],
          "contourcarpet": [
           {
            "colorbar": {
             "outlinewidth": 0,
             "ticks": ""
            },
            "type": "contourcarpet"
           }
          ],
          "heatmap": [
           {
            "colorbar": {
             "outlinewidth": 0,
             "ticks": ""
            },
            "colorscale": [
             [
              0,
              "#0d0887"
             ],
             [
              0.1111111111111111,
              "#46039f"
             ],
             [
              0.2222222222222222,
              "#7201a8"
             ],
             [
              0.3333333333333333,
              "#9c179e"
             ],
             [
              0.4444444444444444,
              "#bd3786"
             ],
             [
              0.5555555555555556,
              "#d8576b"
             ],
             [
              0.6666666666666666,
              "#ed7953"
             ],
             [
              0.7777777777777778,
              "#fb9f3a"
             ],
             [
              0.8888888888888888,
              "#fdca26"
             ],
             [
              1,
              "#f0f921"
             ]
            ],
            "type": "heatmap"
           }
          ],
          "heatmapgl": [
           {
            "colorbar": {
             "outlinewidth": 0,
             "ticks": ""
            },
            "colorscale": [
             [
              0,
              "#0d0887"
             ],
             [
              0.1111111111111111,
              "#46039f"
             ],
             [
              0.2222222222222222,
              "#7201a8"
             ],
             [
              0.3333333333333333,
              "#9c179e"
             ],
             [
              0.4444444444444444,
              "#bd3786"
             ],
             [
              0.5555555555555556,
              "#d8576b"
             ],
             [
              0.6666666666666666,
              "#ed7953"
             ],
             [
              0.7777777777777778,
              "#fb9f3a"
             ],
             [
              0.8888888888888888,
              "#fdca26"
             ],
             [
              1,
              "#f0f921"
             ]
            ],
            "type": "heatmapgl"
           }
          ],
          "histogram": [
           {
            "marker": {
             "pattern": {
              "fillmode": "overlay",
              "size": 10,
              "solidity": 0.2
             }
            },
            "type": "histogram"
           }
          ],
          "histogram2d": [
           {
            "colorbar": {
             "outlinewidth": 0,
             "ticks": ""
            },
            "colorscale": [
             [
              0,
              "#0d0887"
             ],
             [
              0.1111111111111111,
              "#46039f"
             ],
             [
              0.2222222222222222,
              "#7201a8"
             ],
             [
              0.3333333333333333,
              "#9c179e"
             ],
             [
              0.4444444444444444,
              "#bd3786"
             ],
             [
              0.5555555555555556,
              "#d8576b"
             ],
             [
              0.6666666666666666,
              "#ed7953"
             ],
             [
              0.7777777777777778,
              "#fb9f3a"
             ],
             [
              0.8888888888888888,
              "#fdca26"
             ],
             [
              1,
              "#f0f921"
             ]
            ],
            "type": "histogram2d"
           }
          ],
          "histogram2dcontour": [
           {
            "colorbar": {
             "outlinewidth": 0,
             "ticks": ""
            },
            "colorscale": [
             [
              0,
              "#0d0887"
             ],
             [
              0.1111111111111111,
              "#46039f"
             ],
             [
              0.2222222222222222,
              "#7201a8"
             ],
             [
              0.3333333333333333,
              "#9c179e"
             ],
             [
              0.4444444444444444,
              "#bd3786"
             ],
             [
              0.5555555555555556,
              "#d8576b"
             ],
             [
              0.6666666666666666,
              "#ed7953"
             ],
             [
              0.7777777777777778,
              "#fb9f3a"
             ],
             [
              0.8888888888888888,
              "#fdca26"
             ],
             [
              1,
              "#f0f921"
             ]
            ],
            "type": "histogram2dcontour"
           }
          ],
          "mesh3d": [
           {
            "colorbar": {
             "outlinewidth": 0,
             "ticks": ""
            },
            "type": "mesh3d"
           }
          ],
          "parcoords": [
           {
            "line": {
             "colorbar": {
              "outlinewidth": 0,
              "ticks": ""
             }
            },
            "type": "parcoords"
           }
          ],
          "pie": [
           {
            "automargin": true,
            "type": "pie"
           }
          ],
          "scatter": [
           {
            "fillpattern": {
             "fillmode": "overlay",
             "size": 10,
             "solidity": 0.2
            },
            "type": "scatter"
           }
          ],
          "scatter3d": [
           {
            "line": {
             "colorbar": {
              "outlinewidth": 0,
              "ticks": ""
             }
            },
            "marker": {
             "colorbar": {
              "outlinewidth": 0,
              "ticks": ""
             }
            },
            "type": "scatter3d"
           }
          ],
          "scattercarpet": [
           {
            "marker": {
             "colorbar": {
              "outlinewidth": 0,
              "ticks": ""
             }
            },
            "type": "scattercarpet"
           }
          ],
          "scattergeo": [
           {
            "marker": {
             "colorbar": {
              "outlinewidth": 0,
              "ticks": ""
             }
            },
            "type": "scattergeo"
           }
          ],
          "scattergl": [
           {
            "marker": {
             "colorbar": {
              "outlinewidth": 0,
              "ticks": ""
             }
            },
            "type": "scattergl"
           }
          ],
          "scattermapbox": [
           {
            "marker": {
             "colorbar": {
              "outlinewidth": 0,
              "ticks": ""
             }
            },
            "type": "scattermapbox"
           }
          ],
          "scatterpolar": [
           {
            "marker": {
             "colorbar": {
              "outlinewidth": 0,
              "ticks": ""
             }
            },
            "type": "scatterpolar"
           }
          ],
          "scatterpolargl": [
           {
            "marker": {
             "colorbar": {
              "outlinewidth": 0,
              "ticks": ""
             }
            },
            "type": "scatterpolargl"
           }
          ],
          "scatterternary": [
           {
            "marker": {
             "colorbar": {
              "outlinewidth": 0,
              "ticks": ""
             }
            },
            "type": "scatterternary"
           }
          ],
          "surface": [
           {
            "colorbar": {
             "outlinewidth": 0,
             "ticks": ""
            },
            "colorscale": [
             [
              0,
              "#0d0887"
             ],
             [
              0.1111111111111111,
              "#46039f"
             ],
             [
              0.2222222222222222,
              "#7201a8"
             ],
             [
              0.3333333333333333,
              "#9c179e"
             ],
             [
              0.4444444444444444,
              "#bd3786"
             ],
             [
              0.5555555555555556,
              "#d8576b"
             ],
             [
              0.6666666666666666,
              "#ed7953"
             ],
             [
              0.7777777777777778,
              "#fb9f3a"
             ],
             [
              0.8888888888888888,
              "#fdca26"
             ],
             [
              1,
              "#f0f921"
             ]
            ],
            "type": "surface"
           }
          ],
          "table": [
           {
            "cells": {
             "fill": {
              "color": "#EBF0F8"
             },
             "line": {
              "color": "white"
             }
            },
            "header": {
             "fill": {
              "color": "#C8D4E3"
             },
             "line": {
              "color": "white"
             }
            },
            "type": "table"
           }
          ]
         },
         "layout": {
          "annotationdefaults": {
           "arrowcolor": "#2a3f5f",
           "arrowhead": 0,
           "arrowwidth": 1
          },
          "autotypenumbers": "strict",
          "coloraxis": {
           "colorbar": {
            "outlinewidth": 0,
            "ticks": ""
           }
          },
          "colorscale": {
           "diverging": [
            [
             0,
             "#8e0152"
            ],
            [
             0.1,
             "#c51b7d"
            ],
            [
             0.2,
             "#de77ae"
            ],
            [
             0.3,
             "#f1b6da"
            ],
            [
             0.4,
             "#fde0ef"
            ],
            [
             0.5,
             "#f7f7f7"
            ],
            [
             0.6,
             "#e6f5d0"
            ],
            [
             0.7,
             "#b8e186"
            ],
            [
             0.8,
             "#7fbc41"
            ],
            [
             0.9,
             "#4d9221"
            ],
            [
             1,
             "#276419"
            ]
           ],
           "sequential": [
            [
             0,
             "#0d0887"
            ],
            [
             0.1111111111111111,
             "#46039f"
            ],
            [
             0.2222222222222222,
             "#7201a8"
            ],
            [
             0.3333333333333333,
             "#9c179e"
            ],
            [
             0.4444444444444444,
             "#bd3786"
            ],
            [
             0.5555555555555556,
             "#d8576b"
            ],
            [
             0.6666666666666666,
             "#ed7953"
            ],
            [
             0.7777777777777778,
             "#fb9f3a"
            ],
            [
             0.8888888888888888,
             "#fdca26"
            ],
            [
             1,
             "#f0f921"
            ]
           ],
           "sequentialminus": [
            [
             0,
             "#0d0887"
            ],
            [
             0.1111111111111111,
             "#46039f"
            ],
            [
             0.2222222222222222,
             "#7201a8"
            ],
            [
             0.3333333333333333,
             "#9c179e"
            ],
            [
             0.4444444444444444,
             "#bd3786"
            ],
            [
             0.5555555555555556,
             "#d8576b"
            ],
            [
             0.6666666666666666,
             "#ed7953"
            ],
            [
             0.7777777777777778,
             "#fb9f3a"
            ],
            [
             0.8888888888888888,
             "#fdca26"
            ],
            [
             1,
             "#f0f921"
            ]
           ]
          },
          "colorway": [
           "#636efa",
           "#EF553B",
           "#00cc96",
           "#ab63fa",
           "#FFA15A",
           "#19d3f3",
           "#FF6692",
           "#B6E880",
           "#FF97FF",
           "#FECB52"
          ],
          "font": {
           "color": "#2a3f5f"
          },
          "geo": {
           "bgcolor": "white",
           "lakecolor": "white",
           "landcolor": "#E5ECF6",
           "showlakes": true,
           "showland": true,
           "subunitcolor": "white"
          },
          "hoverlabel": {
           "align": "left"
          },
          "hovermode": "closest",
          "mapbox": {
           "style": "light"
          },
          "paper_bgcolor": "white",
          "plot_bgcolor": "#E5ECF6",
          "polar": {
           "angularaxis": {
            "gridcolor": "white",
            "linecolor": "white",
            "ticks": ""
           },
           "bgcolor": "#E5ECF6",
           "radialaxis": {
            "gridcolor": "white",
            "linecolor": "white",
            "ticks": ""
           }
          },
          "scene": {
           "xaxis": {
            "backgroundcolor": "#E5ECF6",
            "gridcolor": "white",
            "gridwidth": 2,
            "linecolor": "white",
            "showbackground": true,
            "ticks": "",
            "zerolinecolor": "white"
           },
           "yaxis": {
            "backgroundcolor": "#E5ECF6",
            "gridcolor": "white",
            "gridwidth": 2,
            "linecolor": "white",
            "showbackground": true,
            "ticks": "",
            "zerolinecolor": "white"
           },
           "zaxis": {
            "backgroundcolor": "#E5ECF6",
            "gridcolor": "white",
            "gridwidth": 2,
            "linecolor": "white",
            "showbackground": true,
            "ticks": "",
            "zerolinecolor": "white"
           }
          },
          "shapedefaults": {
           "line": {
            "color": "#2a3f5f"
           }
          },
          "ternary": {
           "aaxis": {
            "gridcolor": "white",
            "linecolor": "white",
            "ticks": ""
           },
           "baxis": {
            "gridcolor": "white",
            "linecolor": "white",
            "ticks": ""
           },
           "bgcolor": "#E5ECF6",
           "caxis": {
            "gridcolor": "white",
            "linecolor": "white",
            "ticks": ""
           }
          },
          "title": {
           "x": 0.05
          },
          "xaxis": {
           "automargin": true,
           "gridcolor": "white",
           "linecolor": "white",
           "ticks": "",
           "title": {
            "standoff": 15
           },
           "zerolinecolor": "white",
           "zerolinewidth": 2
          },
          "yaxis": {
           "automargin": true,
           "gridcolor": "white",
           "linecolor": "white",
           "ticks": "",
           "title": {
            "standoff": 15
           },
           "zerolinecolor": "white",
           "zerolinewidth": 2
          }
         }
        },
        "xaxis": {
         "anchor": "y",
         "domain": [
          0,
          1
         ]
        },
        "yaxis": {
         "anchor": "x",
         "domain": [
          0,
          1
         ],
         "title": {
          "text": "SepalLengthCm"
         }
        }
       }
      }
     },
     "metadata": {},
     "output_type": "display_data"
    }
   ],
   "source": [
    "fig = px.box(df,y=\"SepalLengthCm\",color=\"Species\")\n",
    "fig.show()"
   ]
  },
  {
   "cell_type": "code",
   "execution_count": 12,
   "id": "e68d7780",
   "metadata": {},
   "outputs": [
    {
     "data": {
      "application/vnd.plotly.v1+json": {
       "config": {
        "plotlyServerURL": "https://plot.ly"
       },
       "data": [
        {
         "alignmentgroup": "True",
         "hovertemplate": "Species=%{x}<br>SepalLengthCm=%{y}<extra></extra>",
         "legendgroup": "Iris-setosa",
         "marker": {
          "color": "#636efa"
         },
         "name": "Iris-setosa",
         "notched": false,
         "offsetgroup": "Iris-setosa",
         "orientation": "v",
         "showlegend": true,
         "type": "box",
         "x": [
          "Iris-setosa",
          "Iris-setosa",
          "Iris-setosa",
          "Iris-setosa",
          "Iris-setosa",
          "Iris-setosa",
          "Iris-setosa",
          "Iris-setosa",
          "Iris-setosa",
          "Iris-setosa",
          "Iris-setosa",
          "Iris-setosa",
          "Iris-setosa",
          "Iris-setosa",
          "Iris-setosa",
          "Iris-setosa",
          "Iris-setosa",
          "Iris-setosa",
          "Iris-setosa",
          "Iris-setosa",
          "Iris-setosa",
          "Iris-setosa",
          "Iris-setosa",
          "Iris-setosa",
          "Iris-setosa",
          "Iris-setosa",
          "Iris-setosa",
          "Iris-setosa",
          "Iris-setosa",
          "Iris-setosa",
          "Iris-setosa",
          "Iris-setosa",
          "Iris-setosa",
          "Iris-setosa",
          "Iris-setosa",
          "Iris-setosa",
          "Iris-setosa",
          "Iris-setosa",
          "Iris-setosa",
          "Iris-setosa",
          "Iris-setosa",
          "Iris-setosa",
          "Iris-setosa",
          "Iris-setosa",
          "Iris-setosa",
          "Iris-setosa",
          "Iris-setosa",
          "Iris-setosa",
          "Iris-setosa",
          "Iris-setosa"
         ],
         "x0": " ",
         "xaxis": "x",
         "y": [
          5.1,
          4.9,
          4.7,
          4.6,
          5,
          5.4,
          4.6,
          5,
          4.4,
          4.9,
          5.4,
          4.8,
          4.8,
          4.3,
          5.8,
          5.7,
          5.4,
          5.1,
          5.7,
          5.1,
          5.4,
          5.1,
          4.6,
          5.1,
          4.8,
          5,
          5,
          5.2,
          5.2,
          4.7,
          4.8,
          5.4,
          5.2,
          5.5,
          4.9,
          5,
          5.5,
          4.9,
          4.4,
          5.1,
          5,
          4.5,
          4.4,
          5,
          5.1,
          4.8,
          5.1,
          4.6,
          5.3,
          5
         ],
         "y0": " ",
         "yaxis": "y"
        },
        {
         "alignmentgroup": "True",
         "hovertemplate": "Species=%{x}<br>SepalLengthCm=%{y}<extra></extra>",
         "legendgroup": "Iris-versicolor",
         "marker": {
          "color": "#EF553B"
         },
         "name": "Iris-versicolor",
         "notched": false,
         "offsetgroup": "Iris-versicolor",
         "orientation": "v",
         "showlegend": true,
         "type": "box",
         "x": [
          "Iris-versicolor",
          "Iris-versicolor",
          "Iris-versicolor",
          "Iris-versicolor",
          "Iris-versicolor",
          "Iris-versicolor",
          "Iris-versicolor",
          "Iris-versicolor",
          "Iris-versicolor",
          "Iris-versicolor",
          "Iris-versicolor",
          "Iris-versicolor",
          "Iris-versicolor",
          "Iris-versicolor",
          "Iris-versicolor",
          "Iris-versicolor",
          "Iris-versicolor",
          "Iris-versicolor",
          "Iris-versicolor",
          "Iris-versicolor",
          "Iris-versicolor",
          "Iris-versicolor",
          "Iris-versicolor",
          "Iris-versicolor",
          "Iris-versicolor",
          "Iris-versicolor",
          "Iris-versicolor",
          "Iris-versicolor",
          "Iris-versicolor",
          "Iris-versicolor",
          "Iris-versicolor",
          "Iris-versicolor",
          "Iris-versicolor",
          "Iris-versicolor",
          "Iris-versicolor",
          "Iris-versicolor",
          "Iris-versicolor",
          "Iris-versicolor",
          "Iris-versicolor",
          "Iris-versicolor",
          "Iris-versicolor",
          "Iris-versicolor",
          "Iris-versicolor",
          "Iris-versicolor",
          "Iris-versicolor",
          "Iris-versicolor",
          "Iris-versicolor",
          "Iris-versicolor",
          "Iris-versicolor",
          "Iris-versicolor"
         ],
         "x0": " ",
         "xaxis": "x",
         "y": [
          7,
          6.4,
          6.9,
          5.5,
          6.5,
          5.7,
          6.3,
          4.9,
          6.6,
          5.2,
          5,
          5.9,
          6,
          6.1,
          5.6,
          6.7,
          5.6,
          5.8,
          6.2,
          5.6,
          5.9,
          6.1,
          6.3,
          6.1,
          6.4,
          6.6,
          6.8,
          6.7,
          6,
          5.7,
          5.5,
          5.5,
          5.8,
          6,
          5.4,
          6,
          6.7,
          6.3,
          5.6,
          5.5,
          5.5,
          6.1,
          5.8,
          5,
          5.6,
          5.7,
          5.7,
          6.2,
          5.1,
          5.7
         ],
         "y0": " ",
         "yaxis": "y"
        },
        {
         "alignmentgroup": "True",
         "hovertemplate": "Species=%{x}<br>SepalLengthCm=%{y}<extra></extra>",
         "legendgroup": "Iris-virginica",
         "marker": {
          "color": "#00cc96"
         },
         "name": "Iris-virginica",
         "notched": false,
         "offsetgroup": "Iris-virginica",
         "orientation": "v",
         "showlegend": true,
         "type": "box",
         "x": [
          "Iris-virginica",
          "Iris-virginica",
          "Iris-virginica",
          "Iris-virginica",
          "Iris-virginica",
          "Iris-virginica",
          "Iris-virginica",
          "Iris-virginica",
          "Iris-virginica",
          "Iris-virginica",
          "Iris-virginica",
          "Iris-virginica",
          "Iris-virginica",
          "Iris-virginica",
          "Iris-virginica",
          "Iris-virginica",
          "Iris-virginica",
          "Iris-virginica",
          "Iris-virginica",
          "Iris-virginica",
          "Iris-virginica",
          "Iris-virginica",
          "Iris-virginica",
          "Iris-virginica",
          "Iris-virginica",
          "Iris-virginica",
          "Iris-virginica",
          "Iris-virginica",
          "Iris-virginica",
          "Iris-virginica",
          "Iris-virginica",
          "Iris-virginica",
          "Iris-virginica",
          "Iris-virginica",
          "Iris-virginica",
          "Iris-virginica",
          "Iris-virginica",
          "Iris-virginica",
          "Iris-virginica",
          "Iris-virginica",
          "Iris-virginica",
          "Iris-virginica",
          "Iris-virginica",
          "Iris-virginica",
          "Iris-virginica",
          "Iris-virginica",
          "Iris-virginica",
          "Iris-virginica",
          "Iris-virginica",
          "Iris-virginica"
         ],
         "x0": " ",
         "xaxis": "x",
         "y": [
          6.3,
          5.8,
          7.1,
          6.3,
          6.5,
          7.6,
          4.9,
          7.3,
          6.7,
          7.2,
          6.5,
          6.4,
          6.8,
          5.7,
          5.8,
          6.4,
          6.5,
          7.7,
          7.7,
          6,
          6.9,
          5.6,
          7.7,
          6.3,
          6.7,
          7.2,
          6.2,
          6.1,
          6.4,
          7.2,
          7.4,
          7.9,
          6.4,
          6.3,
          6.1,
          7.7,
          6.3,
          6.4,
          6,
          6.9,
          6.7,
          6.9,
          5.8,
          6.8,
          6.7,
          6.7,
          6.3,
          6.5,
          6.2,
          5.9
         ],
         "y0": " ",
         "yaxis": "y"
        }
       ],
       "layout": {
        "boxmode": "overlay",
        "legend": {
         "title": {
          "text": "Species"
         },
         "tracegroupgap": 0
        },
        "margin": {
         "t": 60
        },
        "template": {
         "data": {
          "bar": [
           {
            "error_x": {
             "color": "#2a3f5f"
            },
            "error_y": {
             "color": "#2a3f5f"
            },
            "marker": {
             "line": {
              "color": "#E5ECF6",
              "width": 0.5
             },
             "pattern": {
              "fillmode": "overlay",
              "size": 10,
              "solidity": 0.2
             }
            },
            "type": "bar"
           }
          ],
          "barpolar": [
           {
            "marker": {
             "line": {
              "color": "#E5ECF6",
              "width": 0.5
             },
             "pattern": {
              "fillmode": "overlay",
              "size": 10,
              "solidity": 0.2
             }
            },
            "type": "barpolar"
           }
          ],
          "carpet": [
           {
            "aaxis": {
             "endlinecolor": "#2a3f5f",
             "gridcolor": "white",
             "linecolor": "white",
             "minorgridcolor": "white",
             "startlinecolor": "#2a3f5f"
            },
            "baxis": {
             "endlinecolor": "#2a3f5f",
             "gridcolor": "white",
             "linecolor": "white",
             "minorgridcolor": "white",
             "startlinecolor": "#2a3f5f"
            },
            "type": "carpet"
           }
          ],
          "choropleth": [
           {
            "colorbar": {
             "outlinewidth": 0,
             "ticks": ""
            },
            "type": "choropleth"
           }
          ],
          "contour": [
           {
            "colorbar": {
             "outlinewidth": 0,
             "ticks": ""
            },
            "colorscale": [
             [
              0,
              "#0d0887"
             ],
             [
              0.1111111111111111,
              "#46039f"
             ],
             [
              0.2222222222222222,
              "#7201a8"
             ],
             [
              0.3333333333333333,
              "#9c179e"
             ],
             [
              0.4444444444444444,
              "#bd3786"
             ],
             [
              0.5555555555555556,
              "#d8576b"
             ],
             [
              0.6666666666666666,
              "#ed7953"
             ],
             [
              0.7777777777777778,
              "#fb9f3a"
             ],
             [
              0.8888888888888888,
              "#fdca26"
             ],
             [
              1,
              "#f0f921"
             ]
            ],
            "type": "contour"
           }
          ],
          "contourcarpet": [
           {
            "colorbar": {
             "outlinewidth": 0,
             "ticks": ""
            },
            "type": "contourcarpet"
           }
          ],
          "heatmap": [
           {
            "colorbar": {
             "outlinewidth": 0,
             "ticks": ""
            },
            "colorscale": [
             [
              0,
              "#0d0887"
             ],
             [
              0.1111111111111111,
              "#46039f"
             ],
             [
              0.2222222222222222,
              "#7201a8"
             ],
             [
              0.3333333333333333,
              "#9c179e"
             ],
             [
              0.4444444444444444,
              "#bd3786"
             ],
             [
              0.5555555555555556,
              "#d8576b"
             ],
             [
              0.6666666666666666,
              "#ed7953"
             ],
             [
              0.7777777777777778,
              "#fb9f3a"
             ],
             [
              0.8888888888888888,
              "#fdca26"
             ],
             [
              1,
              "#f0f921"
             ]
            ],
            "type": "heatmap"
           }
          ],
          "heatmapgl": [
           {
            "colorbar": {
             "outlinewidth": 0,
             "ticks": ""
            },
            "colorscale": [
             [
              0,
              "#0d0887"
             ],
             [
              0.1111111111111111,
              "#46039f"
             ],
             [
              0.2222222222222222,
              "#7201a8"
             ],
             [
              0.3333333333333333,
              "#9c179e"
             ],
             [
              0.4444444444444444,
              "#bd3786"
             ],
             [
              0.5555555555555556,
              "#d8576b"
             ],
             [
              0.6666666666666666,
              "#ed7953"
             ],
             [
              0.7777777777777778,
              "#fb9f3a"
             ],
             [
              0.8888888888888888,
              "#fdca26"
             ],
             [
              1,
              "#f0f921"
             ]
            ],
            "type": "heatmapgl"
           }
          ],
          "histogram": [
           {
            "marker": {
             "pattern": {
              "fillmode": "overlay",
              "size": 10,
              "solidity": 0.2
             }
            },
            "type": "histogram"
           }
          ],
          "histogram2d": [
           {
            "colorbar": {
             "outlinewidth": 0,
             "ticks": ""
            },
            "colorscale": [
             [
              0,
              "#0d0887"
             ],
             [
              0.1111111111111111,
              "#46039f"
             ],
             [
              0.2222222222222222,
              "#7201a8"
             ],
             [
              0.3333333333333333,
              "#9c179e"
             ],
             [
              0.4444444444444444,
              "#bd3786"
             ],
             [
              0.5555555555555556,
              "#d8576b"
             ],
             [
              0.6666666666666666,
              "#ed7953"
             ],
             [
              0.7777777777777778,
              "#fb9f3a"
             ],
             [
              0.8888888888888888,
              "#fdca26"
             ],
             [
              1,
              "#f0f921"
             ]
            ],
            "type": "histogram2d"
           }
          ],
          "histogram2dcontour": [
           {
            "colorbar": {
             "outlinewidth": 0,
             "ticks": ""
            },
            "colorscale": [
             [
              0,
              "#0d0887"
             ],
             [
              0.1111111111111111,
              "#46039f"
             ],
             [
              0.2222222222222222,
              "#7201a8"
             ],
             [
              0.3333333333333333,
              "#9c179e"
             ],
             [
              0.4444444444444444,
              "#bd3786"
             ],
             [
              0.5555555555555556,
              "#d8576b"
             ],
             [
              0.6666666666666666,
              "#ed7953"
             ],
             [
              0.7777777777777778,
              "#fb9f3a"
             ],
             [
              0.8888888888888888,
              "#fdca26"
             ],
             [
              1,
              "#f0f921"
             ]
            ],
            "type": "histogram2dcontour"
           }
          ],
          "mesh3d": [
           {
            "colorbar": {
             "outlinewidth": 0,
             "ticks": ""
            },
            "type": "mesh3d"
           }
          ],
          "parcoords": [
           {
            "line": {
             "colorbar": {
              "outlinewidth": 0,
              "ticks": ""
             }
            },
            "type": "parcoords"
           }
          ],
          "pie": [
           {
            "automargin": true,
            "type": "pie"
           }
          ],
          "scatter": [
           {
            "fillpattern": {
             "fillmode": "overlay",
             "size": 10,
             "solidity": 0.2
            },
            "type": "scatter"
           }
          ],
          "scatter3d": [
           {
            "line": {
             "colorbar": {
              "outlinewidth": 0,
              "ticks": ""
             }
            },
            "marker": {
             "colorbar": {
              "outlinewidth": 0,
              "ticks": ""
             }
            },
            "type": "scatter3d"
           }
          ],
          "scattercarpet": [
           {
            "marker": {
             "colorbar": {
              "outlinewidth": 0,
              "ticks": ""
             }
            },
            "type": "scattercarpet"
           }
          ],
          "scattergeo": [
           {
            "marker": {
             "colorbar": {
              "outlinewidth": 0,
              "ticks": ""
             }
            },
            "type": "scattergeo"
           }
          ],
          "scattergl": [
           {
            "marker": {
             "colorbar": {
              "outlinewidth": 0,
              "ticks": ""
             }
            },
            "type": "scattergl"
           }
          ],
          "scattermapbox": [
           {
            "marker": {
             "colorbar": {
              "outlinewidth": 0,
              "ticks": ""
             }
            },
            "type": "scattermapbox"
           }
          ],
          "scatterpolar": [
           {
            "marker": {
             "colorbar": {
              "outlinewidth": 0,
              "ticks": ""
             }
            },
            "type": "scatterpolar"
           }
          ],
          "scatterpolargl": [
           {
            "marker": {
             "colorbar": {
              "outlinewidth": 0,
              "ticks": ""
             }
            },
            "type": "scatterpolargl"
           }
          ],
          "scatterternary": [
           {
            "marker": {
             "colorbar": {
              "outlinewidth": 0,
              "ticks": ""
             }
            },
            "type": "scatterternary"
           }
          ],
          "surface": [
           {
            "colorbar": {
             "outlinewidth": 0,
             "ticks": ""
            },
            "colorscale": [
             [
              0,
              "#0d0887"
             ],
             [
              0.1111111111111111,
              "#46039f"
             ],
             [
              0.2222222222222222,
              "#7201a8"
             ],
             [
              0.3333333333333333,
              "#9c179e"
             ],
             [
              0.4444444444444444,
              "#bd3786"
             ],
             [
              0.5555555555555556,
              "#d8576b"
             ],
             [
              0.6666666666666666,
              "#ed7953"
             ],
             [
              0.7777777777777778,
              "#fb9f3a"
             ],
             [
              0.8888888888888888,
              "#fdca26"
             ],
             [
              1,
              "#f0f921"
             ]
            ],
            "type": "surface"
           }
          ],
          "table": [
           {
            "cells": {
             "fill": {
              "color": "#EBF0F8"
             },
             "line": {
              "color": "white"
             }
            },
            "header": {
             "fill": {
              "color": "#C8D4E3"
             },
             "line": {
              "color": "white"
             }
            },
            "type": "table"
           }
          ]
         },
         "layout": {
          "annotationdefaults": {
           "arrowcolor": "#2a3f5f",
           "arrowhead": 0,
           "arrowwidth": 1
          },
          "autotypenumbers": "strict",
          "coloraxis": {
           "colorbar": {
            "outlinewidth": 0,
            "ticks": ""
           }
          },
          "colorscale": {
           "diverging": [
            [
             0,
             "#8e0152"
            ],
            [
             0.1,
             "#c51b7d"
            ],
            [
             0.2,
             "#de77ae"
            ],
            [
             0.3,
             "#f1b6da"
            ],
            [
             0.4,
             "#fde0ef"
            ],
            [
             0.5,
             "#f7f7f7"
            ],
            [
             0.6,
             "#e6f5d0"
            ],
            [
             0.7,
             "#b8e186"
            ],
            [
             0.8,
             "#7fbc41"
            ],
            [
             0.9,
             "#4d9221"
            ],
            [
             1,
             "#276419"
            ]
           ],
           "sequential": [
            [
             0,
             "#0d0887"
            ],
            [
             0.1111111111111111,
             "#46039f"
            ],
            [
             0.2222222222222222,
             "#7201a8"
            ],
            [
             0.3333333333333333,
             "#9c179e"
            ],
            [
             0.4444444444444444,
             "#bd3786"
            ],
            [
             0.5555555555555556,
             "#d8576b"
            ],
            [
             0.6666666666666666,
             "#ed7953"
            ],
            [
             0.7777777777777778,
             "#fb9f3a"
            ],
            [
             0.8888888888888888,
             "#fdca26"
            ],
            [
             1,
             "#f0f921"
            ]
           ],
           "sequentialminus": [
            [
             0,
             "#0d0887"
            ],
            [
             0.1111111111111111,
             "#46039f"
            ],
            [
             0.2222222222222222,
             "#7201a8"
            ],
            [
             0.3333333333333333,
             "#9c179e"
            ],
            [
             0.4444444444444444,
             "#bd3786"
            ],
            [
             0.5555555555555556,
             "#d8576b"
            ],
            [
             0.6666666666666666,
             "#ed7953"
            ],
            [
             0.7777777777777778,
             "#fb9f3a"
            ],
            [
             0.8888888888888888,
             "#fdca26"
            ],
            [
             1,
             "#f0f921"
            ]
           ]
          },
          "colorway": [
           "#636efa",
           "#EF553B",
           "#00cc96",
           "#ab63fa",
           "#FFA15A",
           "#19d3f3",
           "#FF6692",
           "#B6E880",
           "#FF97FF",
           "#FECB52"
          ],
          "font": {
           "color": "#2a3f5f"
          },
          "geo": {
           "bgcolor": "white",
           "lakecolor": "white",
           "landcolor": "#E5ECF6",
           "showlakes": true,
           "showland": true,
           "subunitcolor": "white"
          },
          "hoverlabel": {
           "align": "left"
          },
          "hovermode": "closest",
          "mapbox": {
           "style": "light"
          },
          "paper_bgcolor": "white",
          "plot_bgcolor": "#E5ECF6",
          "polar": {
           "angularaxis": {
            "gridcolor": "white",
            "linecolor": "white",
            "ticks": ""
           },
           "bgcolor": "#E5ECF6",
           "radialaxis": {
            "gridcolor": "white",
            "linecolor": "white",
            "ticks": ""
           }
          },
          "scene": {
           "xaxis": {
            "backgroundcolor": "#E5ECF6",
            "gridcolor": "white",
            "gridwidth": 2,
            "linecolor": "white",
            "showbackground": true,
            "ticks": "",
            "zerolinecolor": "white"
           },
           "yaxis": {
            "backgroundcolor": "#E5ECF6",
            "gridcolor": "white",
            "gridwidth": 2,
            "linecolor": "white",
            "showbackground": true,
            "ticks": "",
            "zerolinecolor": "white"
           },
           "zaxis": {
            "backgroundcolor": "#E5ECF6",
            "gridcolor": "white",
            "gridwidth": 2,
            "linecolor": "white",
            "showbackground": true,
            "ticks": "",
            "zerolinecolor": "white"
           }
          },
          "shapedefaults": {
           "line": {
            "color": "#2a3f5f"
           }
          },
          "ternary": {
           "aaxis": {
            "gridcolor": "white",
            "linecolor": "white",
            "ticks": ""
           },
           "baxis": {
            "gridcolor": "white",
            "linecolor": "white",
            "ticks": ""
           },
           "bgcolor": "#E5ECF6",
           "caxis": {
            "gridcolor": "white",
            "linecolor": "white",
            "ticks": ""
           }
          },
          "title": {
           "x": 0.05
          },
          "xaxis": {
           "automargin": true,
           "gridcolor": "white",
           "linecolor": "white",
           "ticks": "",
           "title": {
            "standoff": 15
           },
           "zerolinecolor": "white",
           "zerolinewidth": 2
          },
          "yaxis": {
           "automargin": true,
           "gridcolor": "white",
           "linecolor": "white",
           "ticks": "",
           "title": {
            "standoff": 15
           },
           "zerolinecolor": "white",
           "zerolinewidth": 2
          }
         }
        },
        "xaxis": {
         "anchor": "y",
         "categoryarray": [
          "Iris-setosa",
          "Iris-versicolor",
          "Iris-virginica"
         ],
         "categoryorder": "array",
         "domain": [
          0,
          1
         ],
         "title": {
          "text": "Species"
         }
        },
        "yaxis": {
         "anchor": "x",
         "domain": [
          0,
          1
         ],
         "title": {
          "text": "SepalLengthCm"
         }
        }
       }
      }
     },
     "metadata": {},
     "output_type": "display_data"
    }
   ],
   "source": [
    "fig = px.box(df,x=\"Species\",y=\"SepalLengthCm\",color=\"Species\")\n",
    "fig.show()"
   ]
  },
  {
   "cell_type": "code",
   "execution_count": 13,
   "id": "ec60bc2b",
   "metadata": {},
   "outputs": [
    {
     "data": {
      "application/vnd.plotly.v1+json": {
       "config": {
        "plotlyServerURL": "https://plot.ly"
       },
       "data": [
        {
         "alignmentgroup": "True",
         "hovertemplate": "Species=%{x}<br>SepalWidthCm=%{y}<extra></extra>",
         "legendgroup": "Iris-setosa",
         "marker": {
          "color": "#636efa"
         },
         "name": "Iris-setosa",
         "notched": false,
         "offsetgroup": "Iris-setosa",
         "orientation": "v",
         "showlegend": true,
         "type": "box",
         "x": [
          "Iris-setosa",
          "Iris-setosa",
          "Iris-setosa",
          "Iris-setosa",
          "Iris-setosa",
          "Iris-setosa",
          "Iris-setosa",
          "Iris-setosa",
          "Iris-setosa",
          "Iris-setosa",
          "Iris-setosa",
          "Iris-setosa",
          "Iris-setosa",
          "Iris-setosa",
          "Iris-setosa",
          "Iris-setosa",
          "Iris-setosa",
          "Iris-setosa",
          "Iris-setosa",
          "Iris-setosa",
          "Iris-setosa",
          "Iris-setosa",
          "Iris-setosa",
          "Iris-setosa",
          "Iris-setosa",
          "Iris-setosa",
          "Iris-setosa",
          "Iris-setosa",
          "Iris-setosa",
          "Iris-setosa",
          "Iris-setosa",
          "Iris-setosa",
          "Iris-setosa",
          "Iris-setosa",
          "Iris-setosa",
          "Iris-setosa",
          "Iris-setosa",
          "Iris-setosa",
          "Iris-setosa",
          "Iris-setosa",
          "Iris-setosa",
          "Iris-setosa",
          "Iris-setosa",
          "Iris-setosa",
          "Iris-setosa",
          "Iris-setosa",
          "Iris-setosa",
          "Iris-setosa",
          "Iris-setosa",
          "Iris-setosa"
         ],
         "x0": " ",
         "xaxis": "x",
         "y": [
          3.5,
          3,
          3.2,
          3.1,
          3.6,
          3.9,
          3.4,
          3.4,
          2.9,
          3.1,
          3.7,
          3.4,
          3,
          3,
          4,
          4.4,
          3.9,
          3.5,
          3.8,
          3.8,
          3.4,
          3.7,
          3.6,
          3.3,
          3.4,
          3,
          3.4,
          3.5,
          3.4,
          3.2,
          3.1,
          3.4,
          4.1,
          4.2,
          3.1,
          3.2,
          3.5,
          3.1,
          3,
          3.4,
          3.5,
          2.3,
          3.2,
          3.5,
          3.8,
          3,
          3.8,
          3.2,
          3.7,
          3.3
         ],
         "y0": " ",
         "yaxis": "y"
        },
        {
         "alignmentgroup": "True",
         "hovertemplate": "Species=%{x}<br>SepalWidthCm=%{y}<extra></extra>",
         "legendgroup": "Iris-versicolor",
         "marker": {
          "color": "#EF553B"
         },
         "name": "Iris-versicolor",
         "notched": false,
         "offsetgroup": "Iris-versicolor",
         "orientation": "v",
         "showlegend": true,
         "type": "box",
         "x": [
          "Iris-versicolor",
          "Iris-versicolor",
          "Iris-versicolor",
          "Iris-versicolor",
          "Iris-versicolor",
          "Iris-versicolor",
          "Iris-versicolor",
          "Iris-versicolor",
          "Iris-versicolor",
          "Iris-versicolor",
          "Iris-versicolor",
          "Iris-versicolor",
          "Iris-versicolor",
          "Iris-versicolor",
          "Iris-versicolor",
          "Iris-versicolor",
          "Iris-versicolor",
          "Iris-versicolor",
          "Iris-versicolor",
          "Iris-versicolor",
          "Iris-versicolor",
          "Iris-versicolor",
          "Iris-versicolor",
          "Iris-versicolor",
          "Iris-versicolor",
          "Iris-versicolor",
          "Iris-versicolor",
          "Iris-versicolor",
          "Iris-versicolor",
          "Iris-versicolor",
          "Iris-versicolor",
          "Iris-versicolor",
          "Iris-versicolor",
          "Iris-versicolor",
          "Iris-versicolor",
          "Iris-versicolor",
          "Iris-versicolor",
          "Iris-versicolor",
          "Iris-versicolor",
          "Iris-versicolor",
          "Iris-versicolor",
          "Iris-versicolor",
          "Iris-versicolor",
          "Iris-versicolor",
          "Iris-versicolor",
          "Iris-versicolor",
          "Iris-versicolor",
          "Iris-versicolor",
          "Iris-versicolor",
          "Iris-versicolor"
         ],
         "x0": " ",
         "xaxis": "x",
         "y": [
          3.2,
          3.2,
          3.1,
          2.3,
          2.8,
          2.8,
          3.3,
          2.4,
          2.9,
          2.7,
          2,
          3,
          2.2,
          2.9,
          2.9,
          3.1,
          3,
          2.7,
          2.2,
          2.5,
          3.2,
          2.8,
          2.5,
          2.8,
          2.9,
          3,
          2.8,
          3,
          2.9,
          2.6,
          2.4,
          2.4,
          2.7,
          2.7,
          3,
          3.4,
          3.1,
          2.3,
          3,
          2.5,
          2.6,
          3,
          2.6,
          2.3,
          2.7,
          3,
          2.9,
          2.9,
          2.5,
          2.8
         ],
         "y0": " ",
         "yaxis": "y"
        },
        {
         "alignmentgroup": "True",
         "hovertemplate": "Species=%{x}<br>SepalWidthCm=%{y}<extra></extra>",
         "legendgroup": "Iris-virginica",
         "marker": {
          "color": "#00cc96"
         },
         "name": "Iris-virginica",
         "notched": false,
         "offsetgroup": "Iris-virginica",
         "orientation": "v",
         "showlegend": true,
         "type": "box",
         "x": [
          "Iris-virginica",
          "Iris-virginica",
          "Iris-virginica",
          "Iris-virginica",
          "Iris-virginica",
          "Iris-virginica",
          "Iris-virginica",
          "Iris-virginica",
          "Iris-virginica",
          "Iris-virginica",
          "Iris-virginica",
          "Iris-virginica",
          "Iris-virginica",
          "Iris-virginica",
          "Iris-virginica",
          "Iris-virginica",
          "Iris-virginica",
          "Iris-virginica",
          "Iris-virginica",
          "Iris-virginica",
          "Iris-virginica",
          "Iris-virginica",
          "Iris-virginica",
          "Iris-virginica",
          "Iris-virginica",
          "Iris-virginica",
          "Iris-virginica",
          "Iris-virginica",
          "Iris-virginica",
          "Iris-virginica",
          "Iris-virginica",
          "Iris-virginica",
          "Iris-virginica",
          "Iris-virginica",
          "Iris-virginica",
          "Iris-virginica",
          "Iris-virginica",
          "Iris-virginica",
          "Iris-virginica",
          "Iris-virginica",
          "Iris-virginica",
          "Iris-virginica",
          "Iris-virginica",
          "Iris-virginica",
          "Iris-virginica",
          "Iris-virginica",
          "Iris-virginica",
          "Iris-virginica",
          "Iris-virginica",
          "Iris-virginica"
         ],
         "x0": " ",
         "xaxis": "x",
         "y": [
          3.3,
          2.7,
          3,
          2.9,
          3,
          3,
          2.5,
          2.9,
          2.5,
          3.6,
          3.2,
          2.7,
          3,
          2.5,
          2.8,
          3.2,
          3,
          3.8,
          2.6,
          2.2,
          3.2,
          2.8,
          2.8,
          2.7,
          3.3,
          3.2,
          2.8,
          3,
          2.8,
          3,
          2.8,
          3.8,
          2.8,
          2.8,
          2.6,
          3,
          3.4,
          3.1,
          3,
          3.1,
          3.1,
          3.1,
          2.7,
          3.2,
          3.3,
          3,
          2.5,
          3,
          3.4,
          3
         ],
         "y0": " ",
         "yaxis": "y"
        }
       ],
       "layout": {
        "boxmode": "overlay",
        "legend": {
         "title": {
          "text": "Species"
         },
         "tracegroupgap": 0
        },
        "margin": {
         "t": 60
        },
        "template": {
         "data": {
          "bar": [
           {
            "error_x": {
             "color": "#2a3f5f"
            },
            "error_y": {
             "color": "#2a3f5f"
            },
            "marker": {
             "line": {
              "color": "#E5ECF6",
              "width": 0.5
             },
             "pattern": {
              "fillmode": "overlay",
              "size": 10,
              "solidity": 0.2
             }
            },
            "type": "bar"
           }
          ],
          "barpolar": [
           {
            "marker": {
             "line": {
              "color": "#E5ECF6",
              "width": 0.5
             },
             "pattern": {
              "fillmode": "overlay",
              "size": 10,
              "solidity": 0.2
             }
            },
            "type": "barpolar"
           }
          ],
          "carpet": [
           {
            "aaxis": {
             "endlinecolor": "#2a3f5f",
             "gridcolor": "white",
             "linecolor": "white",
             "minorgridcolor": "white",
             "startlinecolor": "#2a3f5f"
            },
            "baxis": {
             "endlinecolor": "#2a3f5f",
             "gridcolor": "white",
             "linecolor": "white",
             "minorgridcolor": "white",
             "startlinecolor": "#2a3f5f"
            },
            "type": "carpet"
           }
          ],
          "choropleth": [
           {
            "colorbar": {
             "outlinewidth": 0,
             "ticks": ""
            },
            "type": "choropleth"
           }
          ],
          "contour": [
           {
            "colorbar": {
             "outlinewidth": 0,
             "ticks": ""
            },
            "colorscale": [
             [
              0,
              "#0d0887"
             ],
             [
              0.1111111111111111,
              "#46039f"
             ],
             [
              0.2222222222222222,
              "#7201a8"
             ],
             [
              0.3333333333333333,
              "#9c179e"
             ],
             [
              0.4444444444444444,
              "#bd3786"
             ],
             [
              0.5555555555555556,
              "#d8576b"
             ],
             [
              0.6666666666666666,
              "#ed7953"
             ],
             [
              0.7777777777777778,
              "#fb9f3a"
             ],
             [
              0.8888888888888888,
              "#fdca26"
             ],
             [
              1,
              "#f0f921"
             ]
            ],
            "type": "contour"
           }
          ],
          "contourcarpet": [
           {
            "colorbar": {
             "outlinewidth": 0,
             "ticks": ""
            },
            "type": "contourcarpet"
           }
          ],
          "heatmap": [
           {
            "colorbar": {
             "outlinewidth": 0,
             "ticks": ""
            },
            "colorscale": [
             [
              0,
              "#0d0887"
             ],
             [
              0.1111111111111111,
              "#46039f"
             ],
             [
              0.2222222222222222,
              "#7201a8"
             ],
             [
              0.3333333333333333,
              "#9c179e"
             ],
             [
              0.4444444444444444,
              "#bd3786"
             ],
             [
              0.5555555555555556,
              "#d8576b"
             ],
             [
              0.6666666666666666,
              "#ed7953"
             ],
             [
              0.7777777777777778,
              "#fb9f3a"
             ],
             [
              0.8888888888888888,
              "#fdca26"
             ],
             [
              1,
              "#f0f921"
             ]
            ],
            "type": "heatmap"
           }
          ],
          "heatmapgl": [
           {
            "colorbar": {
             "outlinewidth": 0,
             "ticks": ""
            },
            "colorscale": [
             [
              0,
              "#0d0887"
             ],
             [
              0.1111111111111111,
              "#46039f"
             ],
             [
              0.2222222222222222,
              "#7201a8"
             ],
             [
              0.3333333333333333,
              "#9c179e"
             ],
             [
              0.4444444444444444,
              "#bd3786"
             ],
             [
              0.5555555555555556,
              "#d8576b"
             ],
             [
              0.6666666666666666,
              "#ed7953"
             ],
             [
              0.7777777777777778,
              "#fb9f3a"
             ],
             [
              0.8888888888888888,
              "#fdca26"
             ],
             [
              1,
              "#f0f921"
             ]
            ],
            "type": "heatmapgl"
           }
          ],
          "histogram": [
           {
            "marker": {
             "pattern": {
              "fillmode": "overlay",
              "size": 10,
              "solidity": 0.2
             }
            },
            "type": "histogram"
           }
          ],
          "histogram2d": [
           {
            "colorbar": {
             "outlinewidth": 0,
             "ticks": ""
            },
            "colorscale": [
             [
              0,
              "#0d0887"
             ],
             [
              0.1111111111111111,
              "#46039f"
             ],
             [
              0.2222222222222222,
              "#7201a8"
             ],
             [
              0.3333333333333333,
              "#9c179e"
             ],
             [
              0.4444444444444444,
              "#bd3786"
             ],
             [
              0.5555555555555556,
              "#d8576b"
             ],
             [
              0.6666666666666666,
              "#ed7953"
             ],
             [
              0.7777777777777778,
              "#fb9f3a"
             ],
             [
              0.8888888888888888,
              "#fdca26"
             ],
             [
              1,
              "#f0f921"
             ]
            ],
            "type": "histogram2d"
           }
          ],
          "histogram2dcontour": [
           {
            "colorbar": {
             "outlinewidth": 0,
             "ticks": ""
            },
            "colorscale": [
             [
              0,
              "#0d0887"
             ],
             [
              0.1111111111111111,
              "#46039f"
             ],
             [
              0.2222222222222222,
              "#7201a8"
             ],
             [
              0.3333333333333333,
              "#9c179e"
             ],
             [
              0.4444444444444444,
              "#bd3786"
             ],
             [
              0.5555555555555556,
              "#d8576b"
             ],
             [
              0.6666666666666666,
              "#ed7953"
             ],
             [
              0.7777777777777778,
              "#fb9f3a"
             ],
             [
              0.8888888888888888,
              "#fdca26"
             ],
             [
              1,
              "#f0f921"
             ]
            ],
            "type": "histogram2dcontour"
           }
          ],
          "mesh3d": [
           {
            "colorbar": {
             "outlinewidth": 0,
             "ticks": ""
            },
            "type": "mesh3d"
           }
          ],
          "parcoords": [
           {
            "line": {
             "colorbar": {
              "outlinewidth": 0,
              "ticks": ""
             }
            },
            "type": "parcoords"
           }
          ],
          "pie": [
           {
            "automargin": true,
            "type": "pie"
           }
          ],
          "scatter": [
           {
            "fillpattern": {
             "fillmode": "overlay",
             "size": 10,
             "solidity": 0.2
            },
            "type": "scatter"
           }
          ],
          "scatter3d": [
           {
            "line": {
             "colorbar": {
              "outlinewidth": 0,
              "ticks": ""
             }
            },
            "marker": {
             "colorbar": {
              "outlinewidth": 0,
              "ticks": ""
             }
            },
            "type": "scatter3d"
           }
          ],
          "scattercarpet": [
           {
            "marker": {
             "colorbar": {
              "outlinewidth": 0,
              "ticks": ""
             }
            },
            "type": "scattercarpet"
           }
          ],
          "scattergeo": [
           {
            "marker": {
             "colorbar": {
              "outlinewidth": 0,
              "ticks": ""
             }
            },
            "type": "scattergeo"
           }
          ],
          "scattergl": [
           {
            "marker": {
             "colorbar": {
              "outlinewidth": 0,
              "ticks": ""
             }
            },
            "type": "scattergl"
           }
          ],
          "scattermapbox": [
           {
            "marker": {
             "colorbar": {
              "outlinewidth": 0,
              "ticks": ""
             }
            },
            "type": "scattermapbox"
           }
          ],
          "scatterpolar": [
           {
            "marker": {
             "colorbar": {
              "outlinewidth": 0,
              "ticks": ""
             }
            },
            "type": "scatterpolar"
           }
          ],
          "scatterpolargl": [
           {
            "marker": {
             "colorbar": {
              "outlinewidth": 0,
              "ticks": ""
             }
            },
            "type": "scatterpolargl"
           }
          ],
          "scatterternary": [
           {
            "marker": {
             "colorbar": {
              "outlinewidth": 0,
              "ticks": ""
             }
            },
            "type": "scatterternary"
           }
          ],
          "surface": [
           {
            "colorbar": {
             "outlinewidth": 0,
             "ticks": ""
            },
            "colorscale": [
             [
              0,
              "#0d0887"
             ],
             [
              0.1111111111111111,
              "#46039f"
             ],
             [
              0.2222222222222222,
              "#7201a8"
             ],
             [
              0.3333333333333333,
              "#9c179e"
             ],
             [
              0.4444444444444444,
              "#bd3786"
             ],
             [
              0.5555555555555556,
              "#d8576b"
             ],
             [
              0.6666666666666666,
              "#ed7953"
             ],
             [
              0.7777777777777778,
              "#fb9f3a"
             ],
             [
              0.8888888888888888,
              "#fdca26"
             ],
             [
              1,
              "#f0f921"
             ]
            ],
            "type": "surface"
           }
          ],
          "table": [
           {
            "cells": {
             "fill": {
              "color": "#EBF0F8"
             },
             "line": {
              "color": "white"
             }
            },
            "header": {
             "fill": {
              "color": "#C8D4E3"
             },
             "line": {
              "color": "white"
             }
            },
            "type": "table"
           }
          ]
         },
         "layout": {
          "annotationdefaults": {
           "arrowcolor": "#2a3f5f",
           "arrowhead": 0,
           "arrowwidth": 1
          },
          "autotypenumbers": "strict",
          "coloraxis": {
           "colorbar": {
            "outlinewidth": 0,
            "ticks": ""
           }
          },
          "colorscale": {
           "diverging": [
            [
             0,
             "#8e0152"
            ],
            [
             0.1,
             "#c51b7d"
            ],
            [
             0.2,
             "#de77ae"
            ],
            [
             0.3,
             "#f1b6da"
            ],
            [
             0.4,
             "#fde0ef"
            ],
            [
             0.5,
             "#f7f7f7"
            ],
            [
             0.6,
             "#e6f5d0"
            ],
            [
             0.7,
             "#b8e186"
            ],
            [
             0.8,
             "#7fbc41"
            ],
            [
             0.9,
             "#4d9221"
            ],
            [
             1,
             "#276419"
            ]
           ],
           "sequential": [
            [
             0,
             "#0d0887"
            ],
            [
             0.1111111111111111,
             "#46039f"
            ],
            [
             0.2222222222222222,
             "#7201a8"
            ],
            [
             0.3333333333333333,
             "#9c179e"
            ],
            [
             0.4444444444444444,
             "#bd3786"
            ],
            [
             0.5555555555555556,
             "#d8576b"
            ],
            [
             0.6666666666666666,
             "#ed7953"
            ],
            [
             0.7777777777777778,
             "#fb9f3a"
            ],
            [
             0.8888888888888888,
             "#fdca26"
            ],
            [
             1,
             "#f0f921"
            ]
           ],
           "sequentialminus": [
            [
             0,
             "#0d0887"
            ],
            [
             0.1111111111111111,
             "#46039f"
            ],
            [
             0.2222222222222222,
             "#7201a8"
            ],
            [
             0.3333333333333333,
             "#9c179e"
            ],
            [
             0.4444444444444444,
             "#bd3786"
            ],
            [
             0.5555555555555556,
             "#d8576b"
            ],
            [
             0.6666666666666666,
             "#ed7953"
            ],
            [
             0.7777777777777778,
             "#fb9f3a"
            ],
            [
             0.8888888888888888,
             "#fdca26"
            ],
            [
             1,
             "#f0f921"
            ]
           ]
          },
          "colorway": [
           "#636efa",
           "#EF553B",
           "#00cc96",
           "#ab63fa",
           "#FFA15A",
           "#19d3f3",
           "#FF6692",
           "#B6E880",
           "#FF97FF",
           "#FECB52"
          ],
          "font": {
           "color": "#2a3f5f"
          },
          "geo": {
           "bgcolor": "white",
           "lakecolor": "white",
           "landcolor": "#E5ECF6",
           "showlakes": true,
           "showland": true,
           "subunitcolor": "white"
          },
          "hoverlabel": {
           "align": "left"
          },
          "hovermode": "closest",
          "mapbox": {
           "style": "light"
          },
          "paper_bgcolor": "white",
          "plot_bgcolor": "#E5ECF6",
          "polar": {
           "angularaxis": {
            "gridcolor": "white",
            "linecolor": "white",
            "ticks": ""
           },
           "bgcolor": "#E5ECF6",
           "radialaxis": {
            "gridcolor": "white",
            "linecolor": "white",
            "ticks": ""
           }
          },
          "scene": {
           "xaxis": {
            "backgroundcolor": "#E5ECF6",
            "gridcolor": "white",
            "gridwidth": 2,
            "linecolor": "white",
            "showbackground": true,
            "ticks": "",
            "zerolinecolor": "white"
           },
           "yaxis": {
            "backgroundcolor": "#E5ECF6",
            "gridcolor": "white",
            "gridwidth": 2,
            "linecolor": "white",
            "showbackground": true,
            "ticks": "",
            "zerolinecolor": "white"
           },
           "zaxis": {
            "backgroundcolor": "#E5ECF6",
            "gridcolor": "white",
            "gridwidth": 2,
            "linecolor": "white",
            "showbackground": true,
            "ticks": "",
            "zerolinecolor": "white"
           }
          },
          "shapedefaults": {
           "line": {
            "color": "#2a3f5f"
           }
          },
          "ternary": {
           "aaxis": {
            "gridcolor": "white",
            "linecolor": "white",
            "ticks": ""
           },
           "baxis": {
            "gridcolor": "white",
            "linecolor": "white",
            "ticks": ""
           },
           "bgcolor": "#E5ECF6",
           "caxis": {
            "gridcolor": "white",
            "linecolor": "white",
            "ticks": ""
           }
          },
          "title": {
           "x": 0.05
          },
          "xaxis": {
           "automargin": true,
           "gridcolor": "white",
           "linecolor": "white",
           "ticks": "",
           "title": {
            "standoff": 15
           },
           "zerolinecolor": "white",
           "zerolinewidth": 2
          },
          "yaxis": {
           "automargin": true,
           "gridcolor": "white",
           "linecolor": "white",
           "ticks": "",
           "title": {
            "standoff": 15
           },
           "zerolinecolor": "white",
           "zerolinewidth": 2
          }
         }
        },
        "xaxis": {
         "anchor": "y",
         "categoryarray": [
          "Iris-setosa",
          "Iris-versicolor",
          "Iris-virginica"
         ],
         "categoryorder": "array",
         "domain": [
          0,
          1
         ],
         "title": {
          "text": "Species"
         }
        },
        "yaxis": {
         "anchor": "x",
         "domain": [
          0,
          1
         ],
         "title": {
          "text": "SepalWidthCm"
         }
        }
       }
      }
     },
     "metadata": {},
     "output_type": "display_data"
    }
   ],
   "source": [
    "fig = px.box(df,x=\"Species\",y=\"SepalWidthCm\",color=\"Species\")\n",
    "fig.show()"
   ]
  },
  {
   "cell_type": "code",
   "execution_count": 14,
   "id": "7e403b47",
   "metadata": {},
   "outputs": [
    {
     "data": {
      "application/vnd.plotly.v1+json": {
       "config": {
        "plotlyServerURL": "https://plot.ly"
       },
       "data": [
        {
         "alignmentgroup": "True",
         "hovertemplate": "Species=%{x}<br>PetalLengthCm=%{y}<extra></extra>",
         "legendgroup": "Iris-setosa",
         "marker": {
          "color": "#636efa"
         },
         "name": "Iris-setosa",
         "notched": false,
         "offsetgroup": "Iris-setosa",
         "orientation": "v",
         "showlegend": true,
         "type": "box",
         "x": [
          "Iris-setosa",
          "Iris-setosa",
          "Iris-setosa",
          "Iris-setosa",
          "Iris-setosa",
          "Iris-setosa",
          "Iris-setosa",
          "Iris-setosa",
          "Iris-setosa",
          "Iris-setosa",
          "Iris-setosa",
          "Iris-setosa",
          "Iris-setosa",
          "Iris-setosa",
          "Iris-setosa",
          "Iris-setosa",
          "Iris-setosa",
          "Iris-setosa",
          "Iris-setosa",
          "Iris-setosa",
          "Iris-setosa",
          "Iris-setosa",
          "Iris-setosa",
          "Iris-setosa",
          "Iris-setosa",
          "Iris-setosa",
          "Iris-setosa",
          "Iris-setosa",
          "Iris-setosa",
          "Iris-setosa",
          "Iris-setosa",
          "Iris-setosa",
          "Iris-setosa",
          "Iris-setosa",
          "Iris-setosa",
          "Iris-setosa",
          "Iris-setosa",
          "Iris-setosa",
          "Iris-setosa",
          "Iris-setosa",
          "Iris-setosa",
          "Iris-setosa",
          "Iris-setosa",
          "Iris-setosa",
          "Iris-setosa",
          "Iris-setosa",
          "Iris-setosa",
          "Iris-setosa",
          "Iris-setosa",
          "Iris-setosa"
         ],
         "x0": " ",
         "xaxis": "x",
         "y": [
          1.4,
          1.4,
          1.3,
          1.5,
          1.4,
          1.7,
          1.4,
          1.5,
          1.4,
          1.5,
          1.5,
          1.6,
          1.4,
          1.1,
          1.2,
          1.5,
          1.3,
          1.4,
          1.7,
          1.5,
          1.7,
          1.5,
          1,
          1.7,
          1.9,
          1.6,
          1.6,
          1.5,
          1.4,
          1.6,
          1.6,
          1.5,
          1.5,
          1.4,
          1.5,
          1.2,
          1.3,
          1.5,
          1.3,
          1.5,
          1.3,
          1.3,
          1.3,
          1.6,
          1.9,
          1.4,
          1.6,
          1.4,
          1.5,
          1.4
         ],
         "y0": " ",
         "yaxis": "y"
        },
        {
         "alignmentgroup": "True",
         "hovertemplate": "Species=%{x}<br>PetalLengthCm=%{y}<extra></extra>",
         "legendgroup": "Iris-versicolor",
         "marker": {
          "color": "#EF553B"
         },
         "name": "Iris-versicolor",
         "notched": false,
         "offsetgroup": "Iris-versicolor",
         "orientation": "v",
         "showlegend": true,
         "type": "box",
         "x": [
          "Iris-versicolor",
          "Iris-versicolor",
          "Iris-versicolor",
          "Iris-versicolor",
          "Iris-versicolor",
          "Iris-versicolor",
          "Iris-versicolor",
          "Iris-versicolor",
          "Iris-versicolor",
          "Iris-versicolor",
          "Iris-versicolor",
          "Iris-versicolor",
          "Iris-versicolor",
          "Iris-versicolor",
          "Iris-versicolor",
          "Iris-versicolor",
          "Iris-versicolor",
          "Iris-versicolor",
          "Iris-versicolor",
          "Iris-versicolor",
          "Iris-versicolor",
          "Iris-versicolor",
          "Iris-versicolor",
          "Iris-versicolor",
          "Iris-versicolor",
          "Iris-versicolor",
          "Iris-versicolor",
          "Iris-versicolor",
          "Iris-versicolor",
          "Iris-versicolor",
          "Iris-versicolor",
          "Iris-versicolor",
          "Iris-versicolor",
          "Iris-versicolor",
          "Iris-versicolor",
          "Iris-versicolor",
          "Iris-versicolor",
          "Iris-versicolor",
          "Iris-versicolor",
          "Iris-versicolor",
          "Iris-versicolor",
          "Iris-versicolor",
          "Iris-versicolor",
          "Iris-versicolor",
          "Iris-versicolor",
          "Iris-versicolor",
          "Iris-versicolor",
          "Iris-versicolor",
          "Iris-versicolor",
          "Iris-versicolor"
         ],
         "x0": " ",
         "xaxis": "x",
         "y": [
          4.7,
          4.5,
          4.9,
          4,
          4.6,
          4.5,
          4.7,
          3.3,
          4.6,
          3.9,
          3.5,
          4.2,
          4,
          4.7,
          3.6,
          4.4,
          4.5,
          4.1,
          4.5,
          3.9,
          4.8,
          4,
          4.9,
          4.7,
          4.3,
          4.4,
          4.8,
          5,
          4.5,
          3.5,
          3.8,
          3.7,
          3.9,
          5.1,
          4.5,
          4.5,
          4.7,
          4.4,
          4.1,
          4,
          4.4,
          4.6,
          4,
          3.3,
          4.2,
          4.2,
          4.2,
          4.3,
          3,
          4.1
         ],
         "y0": " ",
         "yaxis": "y"
        },
        {
         "alignmentgroup": "True",
         "hovertemplate": "Species=%{x}<br>PetalLengthCm=%{y}<extra></extra>",
         "legendgroup": "Iris-virginica",
         "marker": {
          "color": "#00cc96"
         },
         "name": "Iris-virginica",
         "notched": false,
         "offsetgroup": "Iris-virginica",
         "orientation": "v",
         "showlegend": true,
         "type": "box",
         "x": [
          "Iris-virginica",
          "Iris-virginica",
          "Iris-virginica",
          "Iris-virginica",
          "Iris-virginica",
          "Iris-virginica",
          "Iris-virginica",
          "Iris-virginica",
          "Iris-virginica",
          "Iris-virginica",
          "Iris-virginica",
          "Iris-virginica",
          "Iris-virginica",
          "Iris-virginica",
          "Iris-virginica",
          "Iris-virginica",
          "Iris-virginica",
          "Iris-virginica",
          "Iris-virginica",
          "Iris-virginica",
          "Iris-virginica",
          "Iris-virginica",
          "Iris-virginica",
          "Iris-virginica",
          "Iris-virginica",
          "Iris-virginica",
          "Iris-virginica",
          "Iris-virginica",
          "Iris-virginica",
          "Iris-virginica",
          "Iris-virginica",
          "Iris-virginica",
          "Iris-virginica",
          "Iris-virginica",
          "Iris-virginica",
          "Iris-virginica",
          "Iris-virginica",
          "Iris-virginica",
          "Iris-virginica",
          "Iris-virginica",
          "Iris-virginica",
          "Iris-virginica",
          "Iris-virginica",
          "Iris-virginica",
          "Iris-virginica",
          "Iris-virginica",
          "Iris-virginica",
          "Iris-virginica",
          "Iris-virginica",
          "Iris-virginica"
         ],
         "x0": " ",
         "xaxis": "x",
         "y": [
          6,
          5.1,
          5.9,
          5.6,
          5.8,
          6.6,
          4.5,
          6.3,
          5.8,
          6.1,
          5.1,
          5.3,
          5.5,
          5,
          5.1,
          5.3,
          5.5,
          6.7,
          6.9,
          5,
          5.7,
          4.9,
          6.7,
          4.9,
          5.7,
          6,
          4.8,
          4.9,
          5.6,
          5.8,
          6.1,
          6.4,
          5.6,
          5.1,
          5.6,
          6.1,
          5.6,
          5.5,
          4.8,
          5.4,
          5.6,
          5.1,
          5.1,
          5.9,
          5.7,
          5.2,
          5,
          5.2,
          5.4,
          5.1
         ],
         "y0": " ",
         "yaxis": "y"
        }
       ],
       "layout": {
        "boxmode": "overlay",
        "legend": {
         "title": {
          "text": "Species"
         },
         "tracegroupgap": 0
        },
        "margin": {
         "t": 60
        },
        "template": {
         "data": {
          "bar": [
           {
            "error_x": {
             "color": "#2a3f5f"
            },
            "error_y": {
             "color": "#2a3f5f"
            },
            "marker": {
             "line": {
              "color": "#E5ECF6",
              "width": 0.5
             },
             "pattern": {
              "fillmode": "overlay",
              "size": 10,
              "solidity": 0.2
             }
            },
            "type": "bar"
           }
          ],
          "barpolar": [
           {
            "marker": {
             "line": {
              "color": "#E5ECF6",
              "width": 0.5
             },
             "pattern": {
              "fillmode": "overlay",
              "size": 10,
              "solidity": 0.2
             }
            },
            "type": "barpolar"
           }
          ],
          "carpet": [
           {
            "aaxis": {
             "endlinecolor": "#2a3f5f",
             "gridcolor": "white",
             "linecolor": "white",
             "minorgridcolor": "white",
             "startlinecolor": "#2a3f5f"
            },
            "baxis": {
             "endlinecolor": "#2a3f5f",
             "gridcolor": "white",
             "linecolor": "white",
             "minorgridcolor": "white",
             "startlinecolor": "#2a3f5f"
            },
            "type": "carpet"
           }
          ],
          "choropleth": [
           {
            "colorbar": {
             "outlinewidth": 0,
             "ticks": ""
            },
            "type": "choropleth"
           }
          ],
          "contour": [
           {
            "colorbar": {
             "outlinewidth": 0,
             "ticks": ""
            },
            "colorscale": [
             [
              0,
              "#0d0887"
             ],
             [
              0.1111111111111111,
              "#46039f"
             ],
             [
              0.2222222222222222,
              "#7201a8"
             ],
             [
              0.3333333333333333,
              "#9c179e"
             ],
             [
              0.4444444444444444,
              "#bd3786"
             ],
             [
              0.5555555555555556,
              "#d8576b"
             ],
             [
              0.6666666666666666,
              "#ed7953"
             ],
             [
              0.7777777777777778,
              "#fb9f3a"
             ],
             [
              0.8888888888888888,
              "#fdca26"
             ],
             [
              1,
              "#f0f921"
             ]
            ],
            "type": "contour"
           }
          ],
          "contourcarpet": [
           {
            "colorbar": {
             "outlinewidth": 0,
             "ticks": ""
            },
            "type": "contourcarpet"
           }
          ],
          "heatmap": [
           {
            "colorbar": {
             "outlinewidth": 0,
             "ticks": ""
            },
            "colorscale": [
             [
              0,
              "#0d0887"
             ],
             [
              0.1111111111111111,
              "#46039f"
             ],
             [
              0.2222222222222222,
              "#7201a8"
             ],
             [
              0.3333333333333333,
              "#9c179e"
             ],
             [
              0.4444444444444444,
              "#bd3786"
             ],
             [
              0.5555555555555556,
              "#d8576b"
             ],
             [
              0.6666666666666666,
              "#ed7953"
             ],
             [
              0.7777777777777778,
              "#fb9f3a"
             ],
             [
              0.8888888888888888,
              "#fdca26"
             ],
             [
              1,
              "#f0f921"
             ]
            ],
            "type": "heatmap"
           }
          ],
          "heatmapgl": [
           {
            "colorbar": {
             "outlinewidth": 0,
             "ticks": ""
            },
            "colorscale": [
             [
              0,
              "#0d0887"
             ],
             [
              0.1111111111111111,
              "#46039f"
             ],
             [
              0.2222222222222222,
              "#7201a8"
             ],
             [
              0.3333333333333333,
              "#9c179e"
             ],
             [
              0.4444444444444444,
              "#bd3786"
             ],
             [
              0.5555555555555556,
              "#d8576b"
             ],
             [
              0.6666666666666666,
              "#ed7953"
             ],
             [
              0.7777777777777778,
              "#fb9f3a"
             ],
             [
              0.8888888888888888,
              "#fdca26"
             ],
             [
              1,
              "#f0f921"
             ]
            ],
            "type": "heatmapgl"
           }
          ],
          "histogram": [
           {
            "marker": {
             "pattern": {
              "fillmode": "overlay",
              "size": 10,
              "solidity": 0.2
             }
            },
            "type": "histogram"
           }
          ],
          "histogram2d": [
           {
            "colorbar": {
             "outlinewidth": 0,
             "ticks": ""
            },
            "colorscale": [
             [
              0,
              "#0d0887"
             ],
             [
              0.1111111111111111,
              "#46039f"
             ],
             [
              0.2222222222222222,
              "#7201a8"
             ],
             [
              0.3333333333333333,
              "#9c179e"
             ],
             [
              0.4444444444444444,
              "#bd3786"
             ],
             [
              0.5555555555555556,
              "#d8576b"
             ],
             [
              0.6666666666666666,
              "#ed7953"
             ],
             [
              0.7777777777777778,
              "#fb9f3a"
             ],
             [
              0.8888888888888888,
              "#fdca26"
             ],
             [
              1,
              "#f0f921"
             ]
            ],
            "type": "histogram2d"
           }
          ],
          "histogram2dcontour": [
           {
            "colorbar": {
             "outlinewidth": 0,
             "ticks": ""
            },
            "colorscale": [
             [
              0,
              "#0d0887"
             ],
             [
              0.1111111111111111,
              "#46039f"
             ],
             [
              0.2222222222222222,
              "#7201a8"
             ],
             [
              0.3333333333333333,
              "#9c179e"
             ],
             [
              0.4444444444444444,
              "#bd3786"
             ],
             [
              0.5555555555555556,
              "#d8576b"
             ],
             [
              0.6666666666666666,
              "#ed7953"
             ],
             [
              0.7777777777777778,
              "#fb9f3a"
             ],
             [
              0.8888888888888888,
              "#fdca26"
             ],
             [
              1,
              "#f0f921"
             ]
            ],
            "type": "histogram2dcontour"
           }
          ],
          "mesh3d": [
           {
            "colorbar": {
             "outlinewidth": 0,
             "ticks": ""
            },
            "type": "mesh3d"
           }
          ],
          "parcoords": [
           {
            "line": {
             "colorbar": {
              "outlinewidth": 0,
              "ticks": ""
             }
            },
            "type": "parcoords"
           }
          ],
          "pie": [
           {
            "automargin": true,
            "type": "pie"
           }
          ],
          "scatter": [
           {
            "fillpattern": {
             "fillmode": "overlay",
             "size": 10,
             "solidity": 0.2
            },
            "type": "scatter"
           }
          ],
          "scatter3d": [
           {
            "line": {
             "colorbar": {
              "outlinewidth": 0,
              "ticks": ""
             }
            },
            "marker": {
             "colorbar": {
              "outlinewidth": 0,
              "ticks": ""
             }
            },
            "type": "scatter3d"
           }
          ],
          "scattercarpet": [
           {
            "marker": {
             "colorbar": {
              "outlinewidth": 0,
              "ticks": ""
             }
            },
            "type": "scattercarpet"
           }
          ],
          "scattergeo": [
           {
            "marker": {
             "colorbar": {
              "outlinewidth": 0,
              "ticks": ""
             }
            },
            "type": "scattergeo"
           }
          ],
          "scattergl": [
           {
            "marker": {
             "colorbar": {
              "outlinewidth": 0,
              "ticks": ""
             }
            },
            "type": "scattergl"
           }
          ],
          "scattermapbox": [
           {
            "marker": {
             "colorbar": {
              "outlinewidth": 0,
              "ticks": ""
             }
            },
            "type": "scattermapbox"
           }
          ],
          "scatterpolar": [
           {
            "marker": {
             "colorbar": {
              "outlinewidth": 0,
              "ticks": ""
             }
            },
            "type": "scatterpolar"
           }
          ],
          "scatterpolargl": [
           {
            "marker": {
             "colorbar": {
              "outlinewidth": 0,
              "ticks": ""
             }
            },
            "type": "scatterpolargl"
           }
          ],
          "scatterternary": [
           {
            "marker": {
             "colorbar": {
              "outlinewidth": 0,
              "ticks": ""
             }
            },
            "type": "scatterternary"
           }
          ],
          "surface": [
           {
            "colorbar": {
             "outlinewidth": 0,
             "ticks": ""
            },
            "colorscale": [
             [
              0,
              "#0d0887"
             ],
             [
              0.1111111111111111,
              "#46039f"
             ],
             [
              0.2222222222222222,
              "#7201a8"
             ],
             [
              0.3333333333333333,
              "#9c179e"
             ],
             [
              0.4444444444444444,
              "#bd3786"
             ],
             [
              0.5555555555555556,
              "#d8576b"
             ],
             [
              0.6666666666666666,
              "#ed7953"
             ],
             [
              0.7777777777777778,
              "#fb9f3a"
             ],
             [
              0.8888888888888888,
              "#fdca26"
             ],
             [
              1,
              "#f0f921"
             ]
            ],
            "type": "surface"
           }
          ],
          "table": [
           {
            "cells": {
             "fill": {
              "color": "#EBF0F8"
             },
             "line": {
              "color": "white"
             }
            },
            "header": {
             "fill": {
              "color": "#C8D4E3"
             },
             "line": {
              "color": "white"
             }
            },
            "type": "table"
           }
          ]
         },
         "layout": {
          "annotationdefaults": {
           "arrowcolor": "#2a3f5f",
           "arrowhead": 0,
           "arrowwidth": 1
          },
          "autotypenumbers": "strict",
          "coloraxis": {
           "colorbar": {
            "outlinewidth": 0,
            "ticks": ""
           }
          },
          "colorscale": {
           "diverging": [
            [
             0,
             "#8e0152"
            ],
            [
             0.1,
             "#c51b7d"
            ],
            [
             0.2,
             "#de77ae"
            ],
            [
             0.3,
             "#f1b6da"
            ],
            [
             0.4,
             "#fde0ef"
            ],
            [
             0.5,
             "#f7f7f7"
            ],
            [
             0.6,
             "#e6f5d0"
            ],
            [
             0.7,
             "#b8e186"
            ],
            [
             0.8,
             "#7fbc41"
            ],
            [
             0.9,
             "#4d9221"
            ],
            [
             1,
             "#276419"
            ]
           ],
           "sequential": [
            [
             0,
             "#0d0887"
            ],
            [
             0.1111111111111111,
             "#46039f"
            ],
            [
             0.2222222222222222,
             "#7201a8"
            ],
            [
             0.3333333333333333,
             "#9c179e"
            ],
            [
             0.4444444444444444,
             "#bd3786"
            ],
            [
             0.5555555555555556,
             "#d8576b"
            ],
            [
             0.6666666666666666,
             "#ed7953"
            ],
            [
             0.7777777777777778,
             "#fb9f3a"
            ],
            [
             0.8888888888888888,
             "#fdca26"
            ],
            [
             1,
             "#f0f921"
            ]
           ],
           "sequentialminus": [
            [
             0,
             "#0d0887"
            ],
            [
             0.1111111111111111,
             "#46039f"
            ],
            [
             0.2222222222222222,
             "#7201a8"
            ],
            [
             0.3333333333333333,
             "#9c179e"
            ],
            [
             0.4444444444444444,
             "#bd3786"
            ],
            [
             0.5555555555555556,
             "#d8576b"
            ],
            [
             0.6666666666666666,
             "#ed7953"
            ],
            [
             0.7777777777777778,
             "#fb9f3a"
            ],
            [
             0.8888888888888888,
             "#fdca26"
            ],
            [
             1,
             "#f0f921"
            ]
           ]
          },
          "colorway": [
           "#636efa",
           "#EF553B",
           "#00cc96",
           "#ab63fa",
           "#FFA15A",
           "#19d3f3",
           "#FF6692",
           "#B6E880",
           "#FF97FF",
           "#FECB52"
          ],
          "font": {
           "color": "#2a3f5f"
          },
          "geo": {
           "bgcolor": "white",
           "lakecolor": "white",
           "landcolor": "#E5ECF6",
           "showlakes": true,
           "showland": true,
           "subunitcolor": "white"
          },
          "hoverlabel": {
           "align": "left"
          },
          "hovermode": "closest",
          "mapbox": {
           "style": "light"
          },
          "paper_bgcolor": "white",
          "plot_bgcolor": "#E5ECF6",
          "polar": {
           "angularaxis": {
            "gridcolor": "white",
            "linecolor": "white",
            "ticks": ""
           },
           "bgcolor": "#E5ECF6",
           "radialaxis": {
            "gridcolor": "white",
            "linecolor": "white",
            "ticks": ""
           }
          },
          "scene": {
           "xaxis": {
            "backgroundcolor": "#E5ECF6",
            "gridcolor": "white",
            "gridwidth": 2,
            "linecolor": "white",
            "showbackground": true,
            "ticks": "",
            "zerolinecolor": "white"
           },
           "yaxis": {
            "backgroundcolor": "#E5ECF6",
            "gridcolor": "white",
            "gridwidth": 2,
            "linecolor": "white",
            "showbackground": true,
            "ticks": "",
            "zerolinecolor": "white"
           },
           "zaxis": {
            "backgroundcolor": "#E5ECF6",
            "gridcolor": "white",
            "gridwidth": 2,
            "linecolor": "white",
            "showbackground": true,
            "ticks": "",
            "zerolinecolor": "white"
           }
          },
          "shapedefaults": {
           "line": {
            "color": "#2a3f5f"
           }
          },
          "ternary": {
           "aaxis": {
            "gridcolor": "white",
            "linecolor": "white",
            "ticks": ""
           },
           "baxis": {
            "gridcolor": "white",
            "linecolor": "white",
            "ticks": ""
           },
           "bgcolor": "#E5ECF6",
           "caxis": {
            "gridcolor": "white",
            "linecolor": "white",
            "ticks": ""
           }
          },
          "title": {
           "x": 0.05
          },
          "xaxis": {
           "automargin": true,
           "gridcolor": "white",
           "linecolor": "white",
           "ticks": "",
           "title": {
            "standoff": 15
           },
           "zerolinecolor": "white",
           "zerolinewidth": 2
          },
          "yaxis": {
           "automargin": true,
           "gridcolor": "white",
           "linecolor": "white",
           "ticks": "",
           "title": {
            "standoff": 15
           },
           "zerolinecolor": "white",
           "zerolinewidth": 2
          }
         }
        },
        "xaxis": {
         "anchor": "y",
         "categoryarray": [
          "Iris-setosa",
          "Iris-versicolor",
          "Iris-virginica"
         ],
         "categoryorder": "array",
         "domain": [
          0,
          1
         ],
         "title": {
          "text": "Species"
         }
        },
        "yaxis": {
         "anchor": "x",
         "domain": [
          0,
          1
         ],
         "title": {
          "text": "PetalLengthCm"
         }
        }
       }
      }
     },
     "metadata": {},
     "output_type": "display_data"
    }
   ],
   "source": [
    "fig = px.box(df,x=\"Species\",y=\"PetalLengthCm\",color=\"Species\")\n",
    "fig.show()"
   ]
  },
  {
   "cell_type": "code",
   "execution_count": 15,
   "id": "733f3efe",
   "metadata": {},
   "outputs": [
    {
     "data": {
      "application/vnd.plotly.v1+json": {
       "config": {
        "plotlyServerURL": "https://plot.ly"
       },
       "data": [
        {
         "alignmentgroup": "True",
         "hovertemplate": "Species=%{x}<br>PetalWidthCm=%{y}<extra></extra>",
         "legendgroup": "Iris-setosa",
         "marker": {
          "color": "#636efa"
         },
         "name": "Iris-setosa",
         "notched": false,
         "offsetgroup": "Iris-setosa",
         "orientation": "v",
         "showlegend": true,
         "type": "box",
         "x": [
          "Iris-setosa",
          "Iris-setosa",
          "Iris-setosa",
          "Iris-setosa",
          "Iris-setosa",
          "Iris-setosa",
          "Iris-setosa",
          "Iris-setosa",
          "Iris-setosa",
          "Iris-setosa",
          "Iris-setosa",
          "Iris-setosa",
          "Iris-setosa",
          "Iris-setosa",
          "Iris-setosa",
          "Iris-setosa",
          "Iris-setosa",
          "Iris-setosa",
          "Iris-setosa",
          "Iris-setosa",
          "Iris-setosa",
          "Iris-setosa",
          "Iris-setosa",
          "Iris-setosa",
          "Iris-setosa",
          "Iris-setosa",
          "Iris-setosa",
          "Iris-setosa",
          "Iris-setosa",
          "Iris-setosa",
          "Iris-setosa",
          "Iris-setosa",
          "Iris-setosa",
          "Iris-setosa",
          "Iris-setosa",
          "Iris-setosa",
          "Iris-setosa",
          "Iris-setosa",
          "Iris-setosa",
          "Iris-setosa",
          "Iris-setosa",
          "Iris-setosa",
          "Iris-setosa",
          "Iris-setosa",
          "Iris-setosa",
          "Iris-setosa",
          "Iris-setosa",
          "Iris-setosa",
          "Iris-setosa",
          "Iris-setosa"
         ],
         "x0": " ",
         "xaxis": "x",
         "y": [
          0.2,
          0.2,
          0.2,
          0.2,
          0.2,
          0.4,
          0.3,
          0.2,
          0.2,
          0.1,
          0.2,
          0.2,
          0.1,
          0.1,
          0.2,
          0.4,
          0.4,
          0.3,
          0.3,
          0.3,
          0.2,
          0.4,
          0.2,
          0.5,
          0.2,
          0.2,
          0.4,
          0.2,
          0.2,
          0.2,
          0.2,
          0.4,
          0.1,
          0.2,
          0.1,
          0.2,
          0.2,
          0.1,
          0.2,
          0.2,
          0.3,
          0.3,
          0.2,
          0.6,
          0.4,
          0.3,
          0.2,
          0.2,
          0.2,
          0.2
         ],
         "y0": " ",
         "yaxis": "y"
        },
        {
         "alignmentgroup": "True",
         "hovertemplate": "Species=%{x}<br>PetalWidthCm=%{y}<extra></extra>",
         "legendgroup": "Iris-versicolor",
         "marker": {
          "color": "#EF553B"
         },
         "name": "Iris-versicolor",
         "notched": false,
         "offsetgroup": "Iris-versicolor",
         "orientation": "v",
         "showlegend": true,
         "type": "box",
         "x": [
          "Iris-versicolor",
          "Iris-versicolor",
          "Iris-versicolor",
          "Iris-versicolor",
          "Iris-versicolor",
          "Iris-versicolor",
          "Iris-versicolor",
          "Iris-versicolor",
          "Iris-versicolor",
          "Iris-versicolor",
          "Iris-versicolor",
          "Iris-versicolor",
          "Iris-versicolor",
          "Iris-versicolor",
          "Iris-versicolor",
          "Iris-versicolor",
          "Iris-versicolor",
          "Iris-versicolor",
          "Iris-versicolor",
          "Iris-versicolor",
          "Iris-versicolor",
          "Iris-versicolor",
          "Iris-versicolor",
          "Iris-versicolor",
          "Iris-versicolor",
          "Iris-versicolor",
          "Iris-versicolor",
          "Iris-versicolor",
          "Iris-versicolor",
          "Iris-versicolor",
          "Iris-versicolor",
          "Iris-versicolor",
          "Iris-versicolor",
          "Iris-versicolor",
          "Iris-versicolor",
          "Iris-versicolor",
          "Iris-versicolor",
          "Iris-versicolor",
          "Iris-versicolor",
          "Iris-versicolor",
          "Iris-versicolor",
          "Iris-versicolor",
          "Iris-versicolor",
          "Iris-versicolor",
          "Iris-versicolor",
          "Iris-versicolor",
          "Iris-versicolor",
          "Iris-versicolor",
          "Iris-versicolor",
          "Iris-versicolor"
         ],
         "x0": " ",
         "xaxis": "x",
         "y": [
          1.4,
          1.5,
          1.5,
          1.3,
          1.5,
          1.3,
          1.6,
          1,
          1.3,
          1.4,
          1,
          1.5,
          1,
          1.4,
          1.3,
          1.4,
          1.5,
          1,
          1.5,
          1.1,
          1.8,
          1.3,
          1.5,
          1.2,
          1.3,
          1.4,
          1.4,
          1.7,
          1.5,
          1,
          1.1,
          1,
          1.2,
          1.6,
          1.5,
          1.6,
          1.5,
          1.3,
          1.3,
          1.3,
          1.2,
          1.4,
          1.2,
          1,
          1.3,
          1.2,
          1.3,
          1.3,
          1.1,
          1.3
         ],
         "y0": " ",
         "yaxis": "y"
        },
        {
         "alignmentgroup": "True",
         "hovertemplate": "Species=%{x}<br>PetalWidthCm=%{y}<extra></extra>",
         "legendgroup": "Iris-virginica",
         "marker": {
          "color": "#00cc96"
         },
         "name": "Iris-virginica",
         "notched": false,
         "offsetgroup": "Iris-virginica",
         "orientation": "v",
         "showlegend": true,
         "type": "box",
         "x": [
          "Iris-virginica",
          "Iris-virginica",
          "Iris-virginica",
          "Iris-virginica",
          "Iris-virginica",
          "Iris-virginica",
          "Iris-virginica",
          "Iris-virginica",
          "Iris-virginica",
          "Iris-virginica",
          "Iris-virginica",
          "Iris-virginica",
          "Iris-virginica",
          "Iris-virginica",
          "Iris-virginica",
          "Iris-virginica",
          "Iris-virginica",
          "Iris-virginica",
          "Iris-virginica",
          "Iris-virginica",
          "Iris-virginica",
          "Iris-virginica",
          "Iris-virginica",
          "Iris-virginica",
          "Iris-virginica",
          "Iris-virginica",
          "Iris-virginica",
          "Iris-virginica",
          "Iris-virginica",
          "Iris-virginica",
          "Iris-virginica",
          "Iris-virginica",
          "Iris-virginica",
          "Iris-virginica",
          "Iris-virginica",
          "Iris-virginica",
          "Iris-virginica",
          "Iris-virginica",
          "Iris-virginica",
          "Iris-virginica",
          "Iris-virginica",
          "Iris-virginica",
          "Iris-virginica",
          "Iris-virginica",
          "Iris-virginica",
          "Iris-virginica",
          "Iris-virginica",
          "Iris-virginica",
          "Iris-virginica",
          "Iris-virginica"
         ],
         "x0": " ",
         "xaxis": "x",
         "y": [
          2.5,
          1.9,
          2.1,
          1.8,
          2.2,
          2.1,
          1.7,
          1.8,
          1.8,
          2.5,
          2,
          1.9,
          2.1,
          2,
          2.4,
          2.3,
          1.8,
          2.2,
          2.3,
          1.5,
          2.3,
          2,
          2,
          1.8,
          2.1,
          1.8,
          1.8,
          1.8,
          2.1,
          1.6,
          1.9,
          2,
          2.2,
          1.5,
          1.4,
          2.3,
          2.4,
          1.8,
          1.8,
          2.1,
          2.4,
          2.3,
          1.9,
          2.3,
          2.5,
          2.3,
          1.9,
          2,
          2.3,
          1.8
         ],
         "y0": " ",
         "yaxis": "y"
        }
       ],
       "layout": {
        "boxmode": "overlay",
        "legend": {
         "title": {
          "text": "Species"
         },
         "tracegroupgap": 0
        },
        "margin": {
         "t": 60
        },
        "template": {
         "data": {
          "bar": [
           {
            "error_x": {
             "color": "#2a3f5f"
            },
            "error_y": {
             "color": "#2a3f5f"
            },
            "marker": {
             "line": {
              "color": "#E5ECF6",
              "width": 0.5
             },
             "pattern": {
              "fillmode": "overlay",
              "size": 10,
              "solidity": 0.2
             }
            },
            "type": "bar"
           }
          ],
          "barpolar": [
           {
            "marker": {
             "line": {
              "color": "#E5ECF6",
              "width": 0.5
             },
             "pattern": {
              "fillmode": "overlay",
              "size": 10,
              "solidity": 0.2
             }
            },
            "type": "barpolar"
           }
          ],
          "carpet": [
           {
            "aaxis": {
             "endlinecolor": "#2a3f5f",
             "gridcolor": "white",
             "linecolor": "white",
             "minorgridcolor": "white",
             "startlinecolor": "#2a3f5f"
            },
            "baxis": {
             "endlinecolor": "#2a3f5f",
             "gridcolor": "white",
             "linecolor": "white",
             "minorgridcolor": "white",
             "startlinecolor": "#2a3f5f"
            },
            "type": "carpet"
           }
          ],
          "choropleth": [
           {
            "colorbar": {
             "outlinewidth": 0,
             "ticks": ""
            },
            "type": "choropleth"
           }
          ],
          "contour": [
           {
            "colorbar": {
             "outlinewidth": 0,
             "ticks": ""
            },
            "colorscale": [
             [
              0,
              "#0d0887"
             ],
             [
              0.1111111111111111,
              "#46039f"
             ],
             [
              0.2222222222222222,
              "#7201a8"
             ],
             [
              0.3333333333333333,
              "#9c179e"
             ],
             [
              0.4444444444444444,
              "#bd3786"
             ],
             [
              0.5555555555555556,
              "#d8576b"
             ],
             [
              0.6666666666666666,
              "#ed7953"
             ],
             [
              0.7777777777777778,
              "#fb9f3a"
             ],
             [
              0.8888888888888888,
              "#fdca26"
             ],
             [
              1,
              "#f0f921"
             ]
            ],
            "type": "contour"
           }
          ],
          "contourcarpet": [
           {
            "colorbar": {
             "outlinewidth": 0,
             "ticks": ""
            },
            "type": "contourcarpet"
           }
          ],
          "heatmap": [
           {
            "colorbar": {
             "outlinewidth": 0,
             "ticks": ""
            },
            "colorscale": [
             [
              0,
              "#0d0887"
             ],
             [
              0.1111111111111111,
              "#46039f"
             ],
             [
              0.2222222222222222,
              "#7201a8"
             ],
             [
              0.3333333333333333,
              "#9c179e"
             ],
             [
              0.4444444444444444,
              "#bd3786"
             ],
             [
              0.5555555555555556,
              "#d8576b"
             ],
             [
              0.6666666666666666,
              "#ed7953"
             ],
             [
              0.7777777777777778,
              "#fb9f3a"
             ],
             [
              0.8888888888888888,
              "#fdca26"
             ],
             [
              1,
              "#f0f921"
             ]
            ],
            "type": "heatmap"
           }
          ],
          "heatmapgl": [
           {
            "colorbar": {
             "outlinewidth": 0,
             "ticks": ""
            },
            "colorscale": [
             [
              0,
              "#0d0887"
             ],
             [
              0.1111111111111111,
              "#46039f"
             ],
             [
              0.2222222222222222,
              "#7201a8"
             ],
             [
              0.3333333333333333,
              "#9c179e"
             ],
             [
              0.4444444444444444,
              "#bd3786"
             ],
             [
              0.5555555555555556,
              "#d8576b"
             ],
             [
              0.6666666666666666,
              "#ed7953"
             ],
             [
              0.7777777777777778,
              "#fb9f3a"
             ],
             [
              0.8888888888888888,
              "#fdca26"
             ],
             [
              1,
              "#f0f921"
             ]
            ],
            "type": "heatmapgl"
           }
          ],
          "histogram": [
           {
            "marker": {
             "pattern": {
              "fillmode": "overlay",
              "size": 10,
              "solidity": 0.2
             }
            },
            "type": "histogram"
           }
          ],
          "histogram2d": [
           {
            "colorbar": {
             "outlinewidth": 0,
             "ticks": ""
            },
            "colorscale": [
             [
              0,
              "#0d0887"
             ],
             [
              0.1111111111111111,
              "#46039f"
             ],
             [
              0.2222222222222222,
              "#7201a8"
             ],
             [
              0.3333333333333333,
              "#9c179e"
             ],
             [
              0.4444444444444444,
              "#bd3786"
             ],
             [
              0.5555555555555556,
              "#d8576b"
             ],
             [
              0.6666666666666666,
              "#ed7953"
             ],
             [
              0.7777777777777778,
              "#fb9f3a"
             ],
             [
              0.8888888888888888,
              "#fdca26"
             ],
             [
              1,
              "#f0f921"
             ]
            ],
            "type": "histogram2d"
           }
          ],
          "histogram2dcontour": [
           {
            "colorbar": {
             "outlinewidth": 0,
             "ticks": ""
            },
            "colorscale": [
             [
              0,
              "#0d0887"
             ],
             [
              0.1111111111111111,
              "#46039f"
             ],
             [
              0.2222222222222222,
              "#7201a8"
             ],
             [
              0.3333333333333333,
              "#9c179e"
             ],
             [
              0.4444444444444444,
              "#bd3786"
             ],
             [
              0.5555555555555556,
              "#d8576b"
             ],
             [
              0.6666666666666666,
              "#ed7953"
             ],
             [
              0.7777777777777778,
              "#fb9f3a"
             ],
             [
              0.8888888888888888,
              "#fdca26"
             ],
             [
              1,
              "#f0f921"
             ]
            ],
            "type": "histogram2dcontour"
           }
          ],
          "mesh3d": [
           {
            "colorbar": {
             "outlinewidth": 0,
             "ticks": ""
            },
            "type": "mesh3d"
           }
          ],
          "parcoords": [
           {
            "line": {
             "colorbar": {
              "outlinewidth": 0,
              "ticks": ""
             }
            },
            "type": "parcoords"
           }
          ],
          "pie": [
           {
            "automargin": true,
            "type": "pie"
           }
          ],
          "scatter": [
           {
            "fillpattern": {
             "fillmode": "overlay",
             "size": 10,
             "solidity": 0.2
            },
            "type": "scatter"
           }
          ],
          "scatter3d": [
           {
            "line": {
             "colorbar": {
              "outlinewidth": 0,
              "ticks": ""
             }
            },
            "marker": {
             "colorbar": {
              "outlinewidth": 0,
              "ticks": ""
             }
            },
            "type": "scatter3d"
           }
          ],
          "scattercarpet": [
           {
            "marker": {
             "colorbar": {
              "outlinewidth": 0,
              "ticks": ""
             }
            },
            "type": "scattercarpet"
           }
          ],
          "scattergeo": [
           {
            "marker": {
             "colorbar": {
              "outlinewidth": 0,
              "ticks": ""
             }
            },
            "type": "scattergeo"
           }
          ],
          "scattergl": [
           {
            "marker": {
             "colorbar": {
              "outlinewidth": 0,
              "ticks": ""
             }
            },
            "type": "scattergl"
           }
          ],
          "scattermapbox": [
           {
            "marker": {
             "colorbar": {
              "outlinewidth": 0,
              "ticks": ""
             }
            },
            "type": "scattermapbox"
           }
          ],
          "scatterpolar": [
           {
            "marker": {
             "colorbar": {
              "outlinewidth": 0,
              "ticks": ""
             }
            },
            "type": "scatterpolar"
           }
          ],
          "scatterpolargl": [
           {
            "marker": {
             "colorbar": {
              "outlinewidth": 0,
              "ticks": ""
             }
            },
            "type": "scatterpolargl"
           }
          ],
          "scatterternary": [
           {
            "marker": {
             "colorbar": {
              "outlinewidth": 0,
              "ticks": ""
             }
            },
            "type": "scatterternary"
           }
          ],
          "surface": [
           {
            "colorbar": {
             "outlinewidth": 0,
             "ticks": ""
            },
            "colorscale": [
             [
              0,
              "#0d0887"
             ],
             [
              0.1111111111111111,
              "#46039f"
             ],
             [
              0.2222222222222222,
              "#7201a8"
             ],
             [
              0.3333333333333333,
              "#9c179e"
             ],
             [
              0.4444444444444444,
              "#bd3786"
             ],
             [
              0.5555555555555556,
              "#d8576b"
             ],
             [
              0.6666666666666666,
              "#ed7953"
             ],
             [
              0.7777777777777778,
              "#fb9f3a"
             ],
             [
              0.8888888888888888,
              "#fdca26"
             ],
             [
              1,
              "#f0f921"
             ]
            ],
            "type": "surface"
           }
          ],
          "table": [
           {
            "cells": {
             "fill": {
              "color": "#EBF0F8"
             },
             "line": {
              "color": "white"
             }
            },
            "header": {
             "fill": {
              "color": "#C8D4E3"
             },
             "line": {
              "color": "white"
             }
            },
            "type": "table"
           }
          ]
         },
         "layout": {
          "annotationdefaults": {
           "arrowcolor": "#2a3f5f",
           "arrowhead": 0,
           "arrowwidth": 1
          },
          "autotypenumbers": "strict",
          "coloraxis": {
           "colorbar": {
            "outlinewidth": 0,
            "ticks": ""
           }
          },
          "colorscale": {
           "diverging": [
            [
             0,
             "#8e0152"
            ],
            [
             0.1,
             "#c51b7d"
            ],
            [
             0.2,
             "#de77ae"
            ],
            [
             0.3,
             "#f1b6da"
            ],
            [
             0.4,
             "#fde0ef"
            ],
            [
             0.5,
             "#f7f7f7"
            ],
            [
             0.6,
             "#e6f5d0"
            ],
            [
             0.7,
             "#b8e186"
            ],
            [
             0.8,
             "#7fbc41"
            ],
            [
             0.9,
             "#4d9221"
            ],
            [
             1,
             "#276419"
            ]
           ],
           "sequential": [
            [
             0,
             "#0d0887"
            ],
            [
             0.1111111111111111,
             "#46039f"
            ],
            [
             0.2222222222222222,
             "#7201a8"
            ],
            [
             0.3333333333333333,
             "#9c179e"
            ],
            [
             0.4444444444444444,
             "#bd3786"
            ],
            [
             0.5555555555555556,
             "#d8576b"
            ],
            [
             0.6666666666666666,
             "#ed7953"
            ],
            [
             0.7777777777777778,
             "#fb9f3a"
            ],
            [
             0.8888888888888888,
             "#fdca26"
            ],
            [
             1,
             "#f0f921"
            ]
           ],
           "sequentialminus": [
            [
             0,
             "#0d0887"
            ],
            [
             0.1111111111111111,
             "#46039f"
            ],
            [
             0.2222222222222222,
             "#7201a8"
            ],
            [
             0.3333333333333333,
             "#9c179e"
            ],
            [
             0.4444444444444444,
             "#bd3786"
            ],
            [
             0.5555555555555556,
             "#d8576b"
            ],
            [
             0.6666666666666666,
             "#ed7953"
            ],
            [
             0.7777777777777778,
             "#fb9f3a"
            ],
            [
             0.8888888888888888,
             "#fdca26"
            ],
            [
             1,
             "#f0f921"
            ]
           ]
          },
          "colorway": [
           "#636efa",
           "#EF553B",
           "#00cc96",
           "#ab63fa",
           "#FFA15A",
           "#19d3f3",
           "#FF6692",
           "#B6E880",
           "#FF97FF",
           "#FECB52"
          ],
          "font": {
           "color": "#2a3f5f"
          },
          "geo": {
           "bgcolor": "white",
           "lakecolor": "white",
           "landcolor": "#E5ECF6",
           "showlakes": true,
           "showland": true,
           "subunitcolor": "white"
          },
          "hoverlabel": {
           "align": "left"
          },
          "hovermode": "closest",
          "mapbox": {
           "style": "light"
          },
          "paper_bgcolor": "white",
          "plot_bgcolor": "#E5ECF6",
          "polar": {
           "angularaxis": {
            "gridcolor": "white",
            "linecolor": "white",
            "ticks": ""
           },
           "bgcolor": "#E5ECF6",
           "radialaxis": {
            "gridcolor": "white",
            "linecolor": "white",
            "ticks": ""
           }
          },
          "scene": {
           "xaxis": {
            "backgroundcolor": "#E5ECF6",
            "gridcolor": "white",
            "gridwidth": 2,
            "linecolor": "white",
            "showbackground": true,
            "ticks": "",
            "zerolinecolor": "white"
           },
           "yaxis": {
            "backgroundcolor": "#E5ECF6",
            "gridcolor": "white",
            "gridwidth": 2,
            "linecolor": "white",
            "showbackground": true,
            "ticks": "",
            "zerolinecolor": "white"
           },
           "zaxis": {
            "backgroundcolor": "#E5ECF6",
            "gridcolor": "white",
            "gridwidth": 2,
            "linecolor": "white",
            "showbackground": true,
            "ticks": "",
            "zerolinecolor": "white"
           }
          },
          "shapedefaults": {
           "line": {
            "color": "#2a3f5f"
           }
          },
          "ternary": {
           "aaxis": {
            "gridcolor": "white",
            "linecolor": "white",
            "ticks": ""
           },
           "baxis": {
            "gridcolor": "white",
            "linecolor": "white",
            "ticks": ""
           },
           "bgcolor": "#E5ECF6",
           "caxis": {
            "gridcolor": "white",
            "linecolor": "white",
            "ticks": ""
           }
          },
          "title": {
           "x": 0.05
          },
          "xaxis": {
           "automargin": true,
           "gridcolor": "white",
           "linecolor": "white",
           "ticks": "",
           "title": {
            "standoff": 15
           },
           "zerolinecolor": "white",
           "zerolinewidth": 2
          },
          "yaxis": {
           "automargin": true,
           "gridcolor": "white",
           "linecolor": "white",
           "ticks": "",
           "title": {
            "standoff": 15
           },
           "zerolinecolor": "white",
           "zerolinewidth": 2
          }
         }
        },
        "xaxis": {
         "anchor": "y",
         "categoryarray": [
          "Iris-setosa",
          "Iris-versicolor",
          "Iris-virginica"
         ],
         "categoryorder": "array",
         "domain": [
          0,
          1
         ],
         "title": {
          "text": "Species"
         }
        },
        "yaxis": {
         "anchor": "x",
         "domain": [
          0,
          1
         ],
         "title": {
          "text": "PetalWidthCm"
         }
        }
       }
      }
     },
     "metadata": {},
     "output_type": "display_data"
    }
   ],
   "source": [
    "fig = px.box(df,x=\"Species\",y=\"PetalWidthCm\",color=\"Species\")\n",
    "fig.show()"
   ]
  },
  {
   "cell_type": "markdown",
   "id": "709ca7a9",
   "metadata": {},
   "source": [
    "## Numpy , Maths And Graphs"
   ]
  },
  {
   "cell_type": "code",
   "execution_count": 16,
   "id": "511c7733",
   "metadata": {},
   "outputs": [],
   "source": [
    "def f(x):return x**2\n",
    "\n",
    "x = [i for i in range(0,100,1)]\n",
    "y = [f(i) for i in x ]"
   ]
  },
  {
   "cell_type": "code",
   "execution_count": 17,
   "id": "4c52a5ca",
   "metadata": {},
   "outputs": [
    {
     "data": {
      "application/vnd.plotly.v1+json": {
       "config": {
        "plotlyServerURL": "https://plot.ly"
       },
       "data": [
        {
         "hovertemplate": "x=%{x}<br>y=%{y}<extra></extra>",
         "legendgroup": "",
         "line": {
          "color": "#636efa",
          "dash": "solid"
         },
         "marker": {
          "symbol": "circle"
         },
         "mode": "lines",
         "name": "",
         "orientation": "v",
         "showlegend": false,
         "type": "scatter",
         "x": [
          0,
          1,
          2,
          3,
          4,
          5,
          6,
          7,
          8,
          9,
          10,
          11,
          12,
          13,
          14,
          15,
          16,
          17,
          18,
          19,
          20,
          21,
          22,
          23,
          24,
          25,
          26,
          27,
          28,
          29,
          30,
          31,
          32,
          33,
          34,
          35,
          36,
          37,
          38,
          39,
          40,
          41,
          42,
          43,
          44,
          45,
          46,
          47,
          48,
          49,
          50,
          51,
          52,
          53,
          54,
          55,
          56,
          57,
          58,
          59,
          60,
          61,
          62,
          63,
          64,
          65,
          66,
          67,
          68,
          69,
          70,
          71,
          72,
          73,
          74,
          75,
          76,
          77,
          78,
          79,
          80,
          81,
          82,
          83,
          84,
          85,
          86,
          87,
          88,
          89,
          90,
          91,
          92,
          93,
          94,
          95,
          96,
          97,
          98,
          99
         ],
         "xaxis": "x",
         "y": [
          0,
          1,
          4,
          9,
          16,
          25,
          36,
          49,
          64,
          81,
          100,
          121,
          144,
          169,
          196,
          225,
          256,
          289,
          324,
          361,
          400,
          441,
          484,
          529,
          576,
          625,
          676,
          729,
          784,
          841,
          900,
          961,
          1024,
          1089,
          1156,
          1225,
          1296,
          1369,
          1444,
          1521,
          1600,
          1681,
          1764,
          1849,
          1936,
          2025,
          2116,
          2209,
          2304,
          2401,
          2500,
          2601,
          2704,
          2809,
          2916,
          3025,
          3136,
          3249,
          3364,
          3481,
          3600,
          3721,
          3844,
          3969,
          4096,
          4225,
          4356,
          4489,
          4624,
          4761,
          4900,
          5041,
          5184,
          5329,
          5476,
          5625,
          5776,
          5929,
          6084,
          6241,
          6400,
          6561,
          6724,
          6889,
          7056,
          7225,
          7396,
          7569,
          7744,
          7921,
          8100,
          8281,
          8464,
          8649,
          8836,
          9025,
          9216,
          9409,
          9604,
          9801
         ],
         "yaxis": "y"
        }
       ],
       "layout": {
        "legend": {
         "tracegroupgap": 0
        },
        "margin": {
         "t": 60
        },
        "template": {
         "data": {
          "bar": [
           {
            "error_x": {
             "color": "#2a3f5f"
            },
            "error_y": {
             "color": "#2a3f5f"
            },
            "marker": {
             "line": {
              "color": "#E5ECF6",
              "width": 0.5
             },
             "pattern": {
              "fillmode": "overlay",
              "size": 10,
              "solidity": 0.2
             }
            },
            "type": "bar"
           }
          ],
          "barpolar": [
           {
            "marker": {
             "line": {
              "color": "#E5ECF6",
              "width": 0.5
             },
             "pattern": {
              "fillmode": "overlay",
              "size": 10,
              "solidity": 0.2
             }
            },
            "type": "barpolar"
           }
          ],
          "carpet": [
           {
            "aaxis": {
             "endlinecolor": "#2a3f5f",
             "gridcolor": "white",
             "linecolor": "white",
             "minorgridcolor": "white",
             "startlinecolor": "#2a3f5f"
            },
            "baxis": {
             "endlinecolor": "#2a3f5f",
             "gridcolor": "white",
             "linecolor": "white",
             "minorgridcolor": "white",
             "startlinecolor": "#2a3f5f"
            },
            "type": "carpet"
           }
          ],
          "choropleth": [
           {
            "colorbar": {
             "outlinewidth": 0,
             "ticks": ""
            },
            "type": "choropleth"
           }
          ],
          "contour": [
           {
            "colorbar": {
             "outlinewidth": 0,
             "ticks": ""
            },
            "colorscale": [
             [
              0,
              "#0d0887"
             ],
             [
              0.1111111111111111,
              "#46039f"
             ],
             [
              0.2222222222222222,
              "#7201a8"
             ],
             [
              0.3333333333333333,
              "#9c179e"
             ],
             [
              0.4444444444444444,
              "#bd3786"
             ],
             [
              0.5555555555555556,
              "#d8576b"
             ],
             [
              0.6666666666666666,
              "#ed7953"
             ],
             [
              0.7777777777777778,
              "#fb9f3a"
             ],
             [
              0.8888888888888888,
              "#fdca26"
             ],
             [
              1,
              "#f0f921"
             ]
            ],
            "type": "contour"
           }
          ],
          "contourcarpet": [
           {
            "colorbar": {
             "outlinewidth": 0,
             "ticks": ""
            },
            "type": "contourcarpet"
           }
          ],
          "heatmap": [
           {
            "colorbar": {
             "outlinewidth": 0,
             "ticks": ""
            },
            "colorscale": [
             [
              0,
              "#0d0887"
             ],
             [
              0.1111111111111111,
              "#46039f"
             ],
             [
              0.2222222222222222,
              "#7201a8"
             ],
             [
              0.3333333333333333,
              "#9c179e"
             ],
             [
              0.4444444444444444,
              "#bd3786"
             ],
             [
              0.5555555555555556,
              "#d8576b"
             ],
             [
              0.6666666666666666,
              "#ed7953"
             ],
             [
              0.7777777777777778,
              "#fb9f3a"
             ],
             [
              0.8888888888888888,
              "#fdca26"
             ],
             [
              1,
              "#f0f921"
             ]
            ],
            "type": "heatmap"
           }
          ],
          "heatmapgl": [
           {
            "colorbar": {
             "outlinewidth": 0,
             "ticks": ""
            },
            "colorscale": [
             [
              0,
              "#0d0887"
             ],
             [
              0.1111111111111111,
              "#46039f"
             ],
             [
              0.2222222222222222,
              "#7201a8"
             ],
             [
              0.3333333333333333,
              "#9c179e"
             ],
             [
              0.4444444444444444,
              "#bd3786"
             ],
             [
              0.5555555555555556,
              "#d8576b"
             ],
             [
              0.6666666666666666,
              "#ed7953"
             ],
             [
              0.7777777777777778,
              "#fb9f3a"
             ],
             [
              0.8888888888888888,
              "#fdca26"
             ],
             [
              1,
              "#f0f921"
             ]
            ],
            "type": "heatmapgl"
           }
          ],
          "histogram": [
           {
            "marker": {
             "pattern": {
              "fillmode": "overlay",
              "size": 10,
              "solidity": 0.2
             }
            },
            "type": "histogram"
           }
          ],
          "histogram2d": [
           {
            "colorbar": {
             "outlinewidth": 0,
             "ticks": ""
            },
            "colorscale": [
             [
              0,
              "#0d0887"
             ],
             [
              0.1111111111111111,
              "#46039f"
             ],
             [
              0.2222222222222222,
              "#7201a8"
             ],
             [
              0.3333333333333333,
              "#9c179e"
             ],
             [
              0.4444444444444444,
              "#bd3786"
             ],
             [
              0.5555555555555556,
              "#d8576b"
             ],
             [
              0.6666666666666666,
              "#ed7953"
             ],
             [
              0.7777777777777778,
              "#fb9f3a"
             ],
             [
              0.8888888888888888,
              "#fdca26"
             ],
             [
              1,
              "#f0f921"
             ]
            ],
            "type": "histogram2d"
           }
          ],
          "histogram2dcontour": [
           {
            "colorbar": {
             "outlinewidth": 0,
             "ticks": ""
            },
            "colorscale": [
             [
              0,
              "#0d0887"
             ],
             [
              0.1111111111111111,
              "#46039f"
             ],
             [
              0.2222222222222222,
              "#7201a8"
             ],
             [
              0.3333333333333333,
              "#9c179e"
             ],
             [
              0.4444444444444444,
              "#bd3786"
             ],
             [
              0.5555555555555556,
              "#d8576b"
             ],
             [
              0.6666666666666666,
              "#ed7953"
             ],
             [
              0.7777777777777778,
              "#fb9f3a"
             ],
             [
              0.8888888888888888,
              "#fdca26"
             ],
             [
              1,
              "#f0f921"
             ]
            ],
            "type": "histogram2dcontour"
           }
          ],
          "mesh3d": [
           {
            "colorbar": {
             "outlinewidth": 0,
             "ticks": ""
            },
            "type": "mesh3d"
           }
          ],
          "parcoords": [
           {
            "line": {
             "colorbar": {
              "outlinewidth": 0,
              "ticks": ""
             }
            },
            "type": "parcoords"
           }
          ],
          "pie": [
           {
            "automargin": true,
            "type": "pie"
           }
          ],
          "scatter": [
           {
            "fillpattern": {
             "fillmode": "overlay",
             "size": 10,
             "solidity": 0.2
            },
            "type": "scatter"
           }
          ],
          "scatter3d": [
           {
            "line": {
             "colorbar": {
              "outlinewidth": 0,
              "ticks": ""
             }
            },
            "marker": {
             "colorbar": {
              "outlinewidth": 0,
              "ticks": ""
             }
            },
            "type": "scatter3d"
           }
          ],
          "scattercarpet": [
           {
            "marker": {
             "colorbar": {
              "outlinewidth": 0,
              "ticks": ""
             }
            },
            "type": "scattercarpet"
           }
          ],
          "scattergeo": [
           {
            "marker": {
             "colorbar": {
              "outlinewidth": 0,
              "ticks": ""
             }
            },
            "type": "scattergeo"
           }
          ],
          "scattergl": [
           {
            "marker": {
             "colorbar": {
              "outlinewidth": 0,
              "ticks": ""
             }
            },
            "type": "scattergl"
           }
          ],
          "scattermapbox": [
           {
            "marker": {
             "colorbar": {
              "outlinewidth": 0,
              "ticks": ""
             }
            },
            "type": "scattermapbox"
           }
          ],
          "scatterpolar": [
           {
            "marker": {
             "colorbar": {
              "outlinewidth": 0,
              "ticks": ""
             }
            },
            "type": "scatterpolar"
           }
          ],
          "scatterpolargl": [
           {
            "marker": {
             "colorbar": {
              "outlinewidth": 0,
              "ticks": ""
             }
            },
            "type": "scatterpolargl"
           }
          ],
          "scatterternary": [
           {
            "marker": {
             "colorbar": {
              "outlinewidth": 0,
              "ticks": ""
             }
            },
            "type": "scatterternary"
           }
          ],
          "surface": [
           {
            "colorbar": {
             "outlinewidth": 0,
             "ticks": ""
            },
            "colorscale": [
             [
              0,
              "#0d0887"
             ],
             [
              0.1111111111111111,
              "#46039f"
             ],
             [
              0.2222222222222222,
              "#7201a8"
             ],
             [
              0.3333333333333333,
              "#9c179e"
             ],
             [
              0.4444444444444444,
              "#bd3786"
             ],
             [
              0.5555555555555556,
              "#d8576b"
             ],
             [
              0.6666666666666666,
              "#ed7953"
             ],
             [
              0.7777777777777778,
              "#fb9f3a"
             ],
             [
              0.8888888888888888,
              "#fdca26"
             ],
             [
              1,
              "#f0f921"
             ]
            ],
            "type": "surface"
           }
          ],
          "table": [
           {
            "cells": {
             "fill": {
              "color": "#EBF0F8"
             },
             "line": {
              "color": "white"
             }
            },
            "header": {
             "fill": {
              "color": "#C8D4E3"
             },
             "line": {
              "color": "white"
             }
            },
            "type": "table"
           }
          ]
         },
         "layout": {
          "annotationdefaults": {
           "arrowcolor": "#2a3f5f",
           "arrowhead": 0,
           "arrowwidth": 1
          },
          "autotypenumbers": "strict",
          "coloraxis": {
           "colorbar": {
            "outlinewidth": 0,
            "ticks": ""
           }
          },
          "colorscale": {
           "diverging": [
            [
             0,
             "#8e0152"
            ],
            [
             0.1,
             "#c51b7d"
            ],
            [
             0.2,
             "#de77ae"
            ],
            [
             0.3,
             "#f1b6da"
            ],
            [
             0.4,
             "#fde0ef"
            ],
            [
             0.5,
             "#f7f7f7"
            ],
            [
             0.6,
             "#e6f5d0"
            ],
            [
             0.7,
             "#b8e186"
            ],
            [
             0.8,
             "#7fbc41"
            ],
            [
             0.9,
             "#4d9221"
            ],
            [
             1,
             "#276419"
            ]
           ],
           "sequential": [
            [
             0,
             "#0d0887"
            ],
            [
             0.1111111111111111,
             "#46039f"
            ],
            [
             0.2222222222222222,
             "#7201a8"
            ],
            [
             0.3333333333333333,
             "#9c179e"
            ],
            [
             0.4444444444444444,
             "#bd3786"
            ],
            [
             0.5555555555555556,
             "#d8576b"
            ],
            [
             0.6666666666666666,
             "#ed7953"
            ],
            [
             0.7777777777777778,
             "#fb9f3a"
            ],
            [
             0.8888888888888888,
             "#fdca26"
            ],
            [
             1,
             "#f0f921"
            ]
           ],
           "sequentialminus": [
            [
             0,
             "#0d0887"
            ],
            [
             0.1111111111111111,
             "#46039f"
            ],
            [
             0.2222222222222222,
             "#7201a8"
            ],
            [
             0.3333333333333333,
             "#9c179e"
            ],
            [
             0.4444444444444444,
             "#bd3786"
            ],
            [
             0.5555555555555556,
             "#d8576b"
            ],
            [
             0.6666666666666666,
             "#ed7953"
            ],
            [
             0.7777777777777778,
             "#fb9f3a"
            ],
            [
             0.8888888888888888,
             "#fdca26"
            ],
            [
             1,
             "#f0f921"
            ]
           ]
          },
          "colorway": [
           "#636efa",
           "#EF553B",
           "#00cc96",
           "#ab63fa",
           "#FFA15A",
           "#19d3f3",
           "#FF6692",
           "#B6E880",
           "#FF97FF",
           "#FECB52"
          ],
          "font": {
           "color": "#2a3f5f"
          },
          "geo": {
           "bgcolor": "white",
           "lakecolor": "white",
           "landcolor": "#E5ECF6",
           "showlakes": true,
           "showland": true,
           "subunitcolor": "white"
          },
          "hoverlabel": {
           "align": "left"
          },
          "hovermode": "closest",
          "mapbox": {
           "style": "light"
          },
          "paper_bgcolor": "white",
          "plot_bgcolor": "#E5ECF6",
          "polar": {
           "angularaxis": {
            "gridcolor": "white",
            "linecolor": "white",
            "ticks": ""
           },
           "bgcolor": "#E5ECF6",
           "radialaxis": {
            "gridcolor": "white",
            "linecolor": "white",
            "ticks": ""
           }
          },
          "scene": {
           "xaxis": {
            "backgroundcolor": "#E5ECF6",
            "gridcolor": "white",
            "gridwidth": 2,
            "linecolor": "white",
            "showbackground": true,
            "ticks": "",
            "zerolinecolor": "white"
           },
           "yaxis": {
            "backgroundcolor": "#E5ECF6",
            "gridcolor": "white",
            "gridwidth": 2,
            "linecolor": "white",
            "showbackground": true,
            "ticks": "",
            "zerolinecolor": "white"
           },
           "zaxis": {
            "backgroundcolor": "#E5ECF6",
            "gridcolor": "white",
            "gridwidth": 2,
            "linecolor": "white",
            "showbackground": true,
            "ticks": "",
            "zerolinecolor": "white"
           }
          },
          "shapedefaults": {
           "line": {
            "color": "#2a3f5f"
           }
          },
          "ternary": {
           "aaxis": {
            "gridcolor": "white",
            "linecolor": "white",
            "ticks": ""
           },
           "baxis": {
            "gridcolor": "white",
            "linecolor": "white",
            "ticks": ""
           },
           "bgcolor": "#E5ECF6",
           "caxis": {
            "gridcolor": "white",
            "linecolor": "white",
            "ticks": ""
           }
          },
          "title": {
           "x": 0.05
          },
          "xaxis": {
           "automargin": true,
           "gridcolor": "white",
           "linecolor": "white",
           "ticks": "",
           "title": {
            "standoff": 15
           },
           "zerolinecolor": "white",
           "zerolinewidth": 2
          },
          "yaxis": {
           "automargin": true,
           "gridcolor": "white",
           "linecolor": "white",
           "ticks": "",
           "title": {
            "standoff": 15
           },
           "zerolinecolor": "white",
           "zerolinewidth": 2
          }
         }
        },
        "xaxis": {
         "anchor": "y",
         "domain": [
          0,
          1
         ],
         "title": {
          "text": "x"
         }
        },
        "yaxis": {
         "anchor": "x",
         "domain": [
          0,
          1
         ],
         "title": {
          "text": "y"
         }
        }
       }
      }
     },
     "metadata": {},
     "output_type": "display_data"
    }
   ],
   "source": [
    "fig = px.line(x=x,y=y)\n",
    "fig.show()"
   ]
  },
  {
   "cell_type": "code",
   "execution_count": 18,
   "id": "68c54add",
   "metadata": {},
   "outputs": [
    {
     "data": {
      "application/vnd.plotly.v1+json": {
       "config": {
        "plotlyServerURL": "https://plot.ly"
       },
       "data": [
        {
         "hovertemplate": "x=%{x}<br>y=%{y}<br>color=%{marker.color}<extra></extra>",
         "legendgroup": "",
         "marker": {
          "color": [
           0,
           1,
           4,
           9,
           16,
           25,
           36,
           49,
           64,
           81,
           100,
           121,
           144,
           169,
           196,
           225,
           256,
           289,
           324,
           361,
           400,
           441,
           484,
           529,
           576,
           625,
           676,
           729,
           784,
           841,
           900,
           961,
           1024,
           1089,
           1156,
           1225,
           1296,
           1369,
           1444,
           1521,
           1600,
           1681,
           1764,
           1849,
           1936,
           2025,
           2116,
           2209,
           2304,
           2401,
           2500,
           2601,
           2704,
           2809,
           2916,
           3025,
           3136,
           3249,
           3364,
           3481,
           3600,
           3721,
           3844,
           3969,
           4096,
           4225,
           4356,
           4489,
           4624,
           4761,
           4900,
           5041,
           5184,
           5329,
           5476,
           5625,
           5776,
           5929,
           6084,
           6241,
           6400,
           6561,
           6724,
           6889,
           7056,
           7225,
           7396,
           7569,
           7744,
           7921,
           8100,
           8281,
           8464,
           8649,
           8836,
           9025,
           9216,
           9409,
           9604,
           9801
          ],
          "coloraxis": "coloraxis",
          "symbol": "circle"
         },
         "mode": "markers",
         "name": "",
         "orientation": "v",
         "showlegend": false,
         "type": "scatter",
         "x": [
          0,
          1,
          2,
          3,
          4,
          5,
          6,
          7,
          8,
          9,
          10,
          11,
          12,
          13,
          14,
          15,
          16,
          17,
          18,
          19,
          20,
          21,
          22,
          23,
          24,
          25,
          26,
          27,
          28,
          29,
          30,
          31,
          32,
          33,
          34,
          35,
          36,
          37,
          38,
          39,
          40,
          41,
          42,
          43,
          44,
          45,
          46,
          47,
          48,
          49,
          50,
          51,
          52,
          53,
          54,
          55,
          56,
          57,
          58,
          59,
          60,
          61,
          62,
          63,
          64,
          65,
          66,
          67,
          68,
          69,
          70,
          71,
          72,
          73,
          74,
          75,
          76,
          77,
          78,
          79,
          80,
          81,
          82,
          83,
          84,
          85,
          86,
          87,
          88,
          89,
          90,
          91,
          92,
          93,
          94,
          95,
          96,
          97,
          98,
          99
         ],
         "xaxis": "x",
         "y": [
          0,
          1,
          4,
          9,
          16,
          25,
          36,
          49,
          64,
          81,
          100,
          121,
          144,
          169,
          196,
          225,
          256,
          289,
          324,
          361,
          400,
          441,
          484,
          529,
          576,
          625,
          676,
          729,
          784,
          841,
          900,
          961,
          1024,
          1089,
          1156,
          1225,
          1296,
          1369,
          1444,
          1521,
          1600,
          1681,
          1764,
          1849,
          1936,
          2025,
          2116,
          2209,
          2304,
          2401,
          2500,
          2601,
          2704,
          2809,
          2916,
          3025,
          3136,
          3249,
          3364,
          3481,
          3600,
          3721,
          3844,
          3969,
          4096,
          4225,
          4356,
          4489,
          4624,
          4761,
          4900,
          5041,
          5184,
          5329,
          5476,
          5625,
          5776,
          5929,
          6084,
          6241,
          6400,
          6561,
          6724,
          6889,
          7056,
          7225,
          7396,
          7569,
          7744,
          7921,
          8100,
          8281,
          8464,
          8649,
          8836,
          9025,
          9216,
          9409,
          9604,
          9801
         ],
         "yaxis": "y"
        }
       ],
       "layout": {
        "coloraxis": {
         "colorbar": {
          "title": {
           "text": "color"
          }
         },
         "colorscale": [
          [
           0,
           "#0d0887"
          ],
          [
           0.1111111111111111,
           "#46039f"
          ],
          [
           0.2222222222222222,
           "#7201a8"
          ],
          [
           0.3333333333333333,
           "#9c179e"
          ],
          [
           0.4444444444444444,
           "#bd3786"
          ],
          [
           0.5555555555555556,
           "#d8576b"
          ],
          [
           0.6666666666666666,
           "#ed7953"
          ],
          [
           0.7777777777777778,
           "#fb9f3a"
          ],
          [
           0.8888888888888888,
           "#fdca26"
          ],
          [
           1,
           "#f0f921"
          ]
         ]
        },
        "legend": {
         "tracegroupgap": 0
        },
        "margin": {
         "t": 60
        },
        "template": {
         "data": {
          "bar": [
           {
            "error_x": {
             "color": "#2a3f5f"
            },
            "error_y": {
             "color": "#2a3f5f"
            },
            "marker": {
             "line": {
              "color": "#E5ECF6",
              "width": 0.5
             },
             "pattern": {
              "fillmode": "overlay",
              "size": 10,
              "solidity": 0.2
             }
            },
            "type": "bar"
           }
          ],
          "barpolar": [
           {
            "marker": {
             "line": {
              "color": "#E5ECF6",
              "width": 0.5
             },
             "pattern": {
              "fillmode": "overlay",
              "size": 10,
              "solidity": 0.2
             }
            },
            "type": "barpolar"
           }
          ],
          "carpet": [
           {
            "aaxis": {
             "endlinecolor": "#2a3f5f",
             "gridcolor": "white",
             "linecolor": "white",
             "minorgridcolor": "white",
             "startlinecolor": "#2a3f5f"
            },
            "baxis": {
             "endlinecolor": "#2a3f5f",
             "gridcolor": "white",
             "linecolor": "white",
             "minorgridcolor": "white",
             "startlinecolor": "#2a3f5f"
            },
            "type": "carpet"
           }
          ],
          "choropleth": [
           {
            "colorbar": {
             "outlinewidth": 0,
             "ticks": ""
            },
            "type": "choropleth"
           }
          ],
          "contour": [
           {
            "colorbar": {
             "outlinewidth": 0,
             "ticks": ""
            },
            "colorscale": [
             [
              0,
              "#0d0887"
             ],
             [
              0.1111111111111111,
              "#46039f"
             ],
             [
              0.2222222222222222,
              "#7201a8"
             ],
             [
              0.3333333333333333,
              "#9c179e"
             ],
             [
              0.4444444444444444,
              "#bd3786"
             ],
             [
              0.5555555555555556,
              "#d8576b"
             ],
             [
              0.6666666666666666,
              "#ed7953"
             ],
             [
              0.7777777777777778,
              "#fb9f3a"
             ],
             [
              0.8888888888888888,
              "#fdca26"
             ],
             [
              1,
              "#f0f921"
             ]
            ],
            "type": "contour"
           }
          ],
          "contourcarpet": [
           {
            "colorbar": {
             "outlinewidth": 0,
             "ticks": ""
            },
            "type": "contourcarpet"
           }
          ],
          "heatmap": [
           {
            "colorbar": {
             "outlinewidth": 0,
             "ticks": ""
            },
            "colorscale": [
             [
              0,
              "#0d0887"
             ],
             [
              0.1111111111111111,
              "#46039f"
             ],
             [
              0.2222222222222222,
              "#7201a8"
             ],
             [
              0.3333333333333333,
              "#9c179e"
             ],
             [
              0.4444444444444444,
              "#bd3786"
             ],
             [
              0.5555555555555556,
              "#d8576b"
             ],
             [
              0.6666666666666666,
              "#ed7953"
             ],
             [
              0.7777777777777778,
              "#fb9f3a"
             ],
             [
              0.8888888888888888,
              "#fdca26"
             ],
             [
              1,
              "#f0f921"
             ]
            ],
            "type": "heatmap"
           }
          ],
          "heatmapgl": [
           {
            "colorbar": {
             "outlinewidth": 0,
             "ticks": ""
            },
            "colorscale": [
             [
              0,
              "#0d0887"
             ],
             [
              0.1111111111111111,
              "#46039f"
             ],
             [
              0.2222222222222222,
              "#7201a8"
             ],
             [
              0.3333333333333333,
              "#9c179e"
             ],
             [
              0.4444444444444444,
              "#bd3786"
             ],
             [
              0.5555555555555556,
              "#d8576b"
             ],
             [
              0.6666666666666666,
              "#ed7953"
             ],
             [
              0.7777777777777778,
              "#fb9f3a"
             ],
             [
              0.8888888888888888,
              "#fdca26"
             ],
             [
              1,
              "#f0f921"
             ]
            ],
            "type": "heatmapgl"
           }
          ],
          "histogram": [
           {
            "marker": {
             "pattern": {
              "fillmode": "overlay",
              "size": 10,
              "solidity": 0.2
             }
            },
            "type": "histogram"
           }
          ],
          "histogram2d": [
           {
            "colorbar": {
             "outlinewidth": 0,
             "ticks": ""
            },
            "colorscale": [
             [
              0,
              "#0d0887"
             ],
             [
              0.1111111111111111,
              "#46039f"
             ],
             [
              0.2222222222222222,
              "#7201a8"
             ],
             [
              0.3333333333333333,
              "#9c179e"
             ],
             [
              0.4444444444444444,
              "#bd3786"
             ],
             [
              0.5555555555555556,
              "#d8576b"
             ],
             [
              0.6666666666666666,
              "#ed7953"
             ],
             [
              0.7777777777777778,
              "#fb9f3a"
             ],
             [
              0.8888888888888888,
              "#fdca26"
             ],
             [
              1,
              "#f0f921"
             ]
            ],
            "type": "histogram2d"
           }
          ],
          "histogram2dcontour": [
           {
            "colorbar": {
             "outlinewidth": 0,
             "ticks": ""
            },
            "colorscale": [
             [
              0,
              "#0d0887"
             ],
             [
              0.1111111111111111,
              "#46039f"
             ],
             [
              0.2222222222222222,
              "#7201a8"
             ],
             [
              0.3333333333333333,
              "#9c179e"
             ],
             [
              0.4444444444444444,
              "#bd3786"
             ],
             [
              0.5555555555555556,
              "#d8576b"
             ],
             [
              0.6666666666666666,
              "#ed7953"
             ],
             [
              0.7777777777777778,
              "#fb9f3a"
             ],
             [
              0.8888888888888888,
              "#fdca26"
             ],
             [
              1,
              "#f0f921"
             ]
            ],
            "type": "histogram2dcontour"
           }
          ],
          "mesh3d": [
           {
            "colorbar": {
             "outlinewidth": 0,
             "ticks": ""
            },
            "type": "mesh3d"
           }
          ],
          "parcoords": [
           {
            "line": {
             "colorbar": {
              "outlinewidth": 0,
              "ticks": ""
             }
            },
            "type": "parcoords"
           }
          ],
          "pie": [
           {
            "automargin": true,
            "type": "pie"
           }
          ],
          "scatter": [
           {
            "fillpattern": {
             "fillmode": "overlay",
             "size": 10,
             "solidity": 0.2
            },
            "type": "scatter"
           }
          ],
          "scatter3d": [
           {
            "line": {
             "colorbar": {
              "outlinewidth": 0,
              "ticks": ""
             }
            },
            "marker": {
             "colorbar": {
              "outlinewidth": 0,
              "ticks": ""
             }
            },
            "type": "scatter3d"
           }
          ],
          "scattercarpet": [
           {
            "marker": {
             "colorbar": {
              "outlinewidth": 0,
              "ticks": ""
             }
            },
            "type": "scattercarpet"
           }
          ],
          "scattergeo": [
           {
            "marker": {
             "colorbar": {
              "outlinewidth": 0,
              "ticks": ""
             }
            },
            "type": "scattergeo"
           }
          ],
          "scattergl": [
           {
            "marker": {
             "colorbar": {
              "outlinewidth": 0,
              "ticks": ""
             }
            },
            "type": "scattergl"
           }
          ],
          "scattermapbox": [
           {
            "marker": {
             "colorbar": {
              "outlinewidth": 0,
              "ticks": ""
             }
            },
            "type": "scattermapbox"
           }
          ],
          "scatterpolar": [
           {
            "marker": {
             "colorbar": {
              "outlinewidth": 0,
              "ticks": ""
             }
            },
            "type": "scatterpolar"
           }
          ],
          "scatterpolargl": [
           {
            "marker": {
             "colorbar": {
              "outlinewidth": 0,
              "ticks": ""
             }
            },
            "type": "scatterpolargl"
           }
          ],
          "scatterternary": [
           {
            "marker": {
             "colorbar": {
              "outlinewidth": 0,
              "ticks": ""
             }
            },
            "type": "scatterternary"
           }
          ],
          "surface": [
           {
            "colorbar": {
             "outlinewidth": 0,
             "ticks": ""
            },
            "colorscale": [
             [
              0,
              "#0d0887"
             ],
             [
              0.1111111111111111,
              "#46039f"
             ],
             [
              0.2222222222222222,
              "#7201a8"
             ],
             [
              0.3333333333333333,
              "#9c179e"
             ],
             [
              0.4444444444444444,
              "#bd3786"
             ],
             [
              0.5555555555555556,
              "#d8576b"
             ],
             [
              0.6666666666666666,
              "#ed7953"
             ],
             [
              0.7777777777777778,
              "#fb9f3a"
             ],
             [
              0.8888888888888888,
              "#fdca26"
             ],
             [
              1,
              "#f0f921"
             ]
            ],
            "type": "surface"
           }
          ],
          "table": [
           {
            "cells": {
             "fill": {
              "color": "#EBF0F8"
             },
             "line": {
              "color": "white"
             }
            },
            "header": {
             "fill": {
              "color": "#C8D4E3"
             },
             "line": {
              "color": "white"
             }
            },
            "type": "table"
           }
          ]
         },
         "layout": {
          "annotationdefaults": {
           "arrowcolor": "#2a3f5f",
           "arrowhead": 0,
           "arrowwidth": 1
          },
          "autotypenumbers": "strict",
          "coloraxis": {
           "colorbar": {
            "outlinewidth": 0,
            "ticks": ""
           }
          },
          "colorscale": {
           "diverging": [
            [
             0,
             "#8e0152"
            ],
            [
             0.1,
             "#c51b7d"
            ],
            [
             0.2,
             "#de77ae"
            ],
            [
             0.3,
             "#f1b6da"
            ],
            [
             0.4,
             "#fde0ef"
            ],
            [
             0.5,
             "#f7f7f7"
            ],
            [
             0.6,
             "#e6f5d0"
            ],
            [
             0.7,
             "#b8e186"
            ],
            [
             0.8,
             "#7fbc41"
            ],
            [
             0.9,
             "#4d9221"
            ],
            [
             1,
             "#276419"
            ]
           ],
           "sequential": [
            [
             0,
             "#0d0887"
            ],
            [
             0.1111111111111111,
             "#46039f"
            ],
            [
             0.2222222222222222,
             "#7201a8"
            ],
            [
             0.3333333333333333,
             "#9c179e"
            ],
            [
             0.4444444444444444,
             "#bd3786"
            ],
            [
             0.5555555555555556,
             "#d8576b"
            ],
            [
             0.6666666666666666,
             "#ed7953"
            ],
            [
             0.7777777777777778,
             "#fb9f3a"
            ],
            [
             0.8888888888888888,
             "#fdca26"
            ],
            [
             1,
             "#f0f921"
            ]
           ],
           "sequentialminus": [
            [
             0,
             "#0d0887"
            ],
            [
             0.1111111111111111,
             "#46039f"
            ],
            [
             0.2222222222222222,
             "#7201a8"
            ],
            [
             0.3333333333333333,
             "#9c179e"
            ],
            [
             0.4444444444444444,
             "#bd3786"
            ],
            [
             0.5555555555555556,
             "#d8576b"
            ],
            [
             0.6666666666666666,
             "#ed7953"
            ],
            [
             0.7777777777777778,
             "#fb9f3a"
            ],
            [
             0.8888888888888888,
             "#fdca26"
            ],
            [
             1,
             "#f0f921"
            ]
           ]
          },
          "colorway": [
           "#636efa",
           "#EF553B",
           "#00cc96",
           "#ab63fa",
           "#FFA15A",
           "#19d3f3",
           "#FF6692",
           "#B6E880",
           "#FF97FF",
           "#FECB52"
          ],
          "font": {
           "color": "#2a3f5f"
          },
          "geo": {
           "bgcolor": "white",
           "lakecolor": "white",
           "landcolor": "#E5ECF6",
           "showlakes": true,
           "showland": true,
           "subunitcolor": "white"
          },
          "hoverlabel": {
           "align": "left"
          },
          "hovermode": "closest",
          "mapbox": {
           "style": "light"
          },
          "paper_bgcolor": "white",
          "plot_bgcolor": "#E5ECF6",
          "polar": {
           "angularaxis": {
            "gridcolor": "white",
            "linecolor": "white",
            "ticks": ""
           },
           "bgcolor": "#E5ECF6",
           "radialaxis": {
            "gridcolor": "white",
            "linecolor": "white",
            "ticks": ""
           }
          },
          "scene": {
           "xaxis": {
            "backgroundcolor": "#E5ECF6",
            "gridcolor": "white",
            "gridwidth": 2,
            "linecolor": "white",
            "showbackground": true,
            "ticks": "",
            "zerolinecolor": "white"
           },
           "yaxis": {
            "backgroundcolor": "#E5ECF6",
            "gridcolor": "white",
            "gridwidth": 2,
            "linecolor": "white",
            "showbackground": true,
            "ticks": "",
            "zerolinecolor": "white"
           },
           "zaxis": {
            "backgroundcolor": "#E5ECF6",
            "gridcolor": "white",
            "gridwidth": 2,
            "linecolor": "white",
            "showbackground": true,
            "ticks": "",
            "zerolinecolor": "white"
           }
          },
          "shapedefaults": {
           "line": {
            "color": "#2a3f5f"
           }
          },
          "ternary": {
           "aaxis": {
            "gridcolor": "white",
            "linecolor": "white",
            "ticks": ""
           },
           "baxis": {
            "gridcolor": "white",
            "linecolor": "white",
            "ticks": ""
           },
           "bgcolor": "#E5ECF6",
           "caxis": {
            "gridcolor": "white",
            "linecolor": "white",
            "ticks": ""
           }
          },
          "title": {
           "x": 0.05
          },
          "xaxis": {
           "automargin": true,
           "gridcolor": "white",
           "linecolor": "white",
           "ticks": "",
           "title": {
            "standoff": 15
           },
           "zerolinecolor": "white",
           "zerolinewidth": 2
          },
          "yaxis": {
           "automargin": true,
           "gridcolor": "white",
           "linecolor": "white",
           "ticks": "",
           "title": {
            "standoff": 15
           },
           "zerolinecolor": "white",
           "zerolinewidth": 2
          }
         }
        },
        "xaxis": {
         "anchor": "y",
         "domain": [
          0,
          1
         ],
         "title": {
          "text": "x"
         }
        },
        "yaxis": {
         "anchor": "x",
         "domain": [
          0,
          1
         ],
         "title": {
          "text": "y"
         }
        }
       }
      }
     },
     "metadata": {},
     "output_type": "display_data"
    }
   ],
   "source": [
    "fig = px.scatter(x=x,y=y,color=y)\n",
    "fig.show()"
   ]
  },
  {
   "cell_type": "code",
   "execution_count": 19,
   "id": "06f992d4",
   "metadata": {},
   "outputs": [],
   "source": [
    "import numpy as np\n",
    "x = np.arange(0,100,1)\n",
    "y= np.vectorize(f)(x)"
   ]
  },
  {
   "cell_type": "code",
   "execution_count": 20,
   "id": "575dfad0",
   "metadata": {},
   "outputs": [
    {
     "data": {
      "application/vnd.plotly.v1+json": {
       "config": {
        "plotlyServerURL": "https://plot.ly"
       },
       "data": [
        {
         "hovertemplate": "x=%{x}<br>y=%{y}<extra></extra>",
         "legendgroup": "",
         "marker": {
          "color": "orange",
          "symbol": "circle"
         },
         "mode": "markers",
         "name": "",
         "orientation": "v",
         "showlegend": false,
         "type": "scatter",
         "x": [
          0,
          1,
          2,
          3,
          4,
          5,
          6,
          7,
          8,
          9,
          10,
          11,
          12,
          13,
          14,
          15,
          16,
          17,
          18,
          19,
          20,
          21,
          22,
          23,
          24,
          25,
          26,
          27,
          28,
          29,
          30,
          31,
          32,
          33,
          34,
          35,
          36,
          37,
          38,
          39,
          40,
          41,
          42,
          43,
          44,
          45,
          46,
          47,
          48,
          49,
          50,
          51,
          52,
          53,
          54,
          55,
          56,
          57,
          58,
          59,
          60,
          61,
          62,
          63,
          64,
          65,
          66,
          67,
          68,
          69,
          70,
          71,
          72,
          73,
          74,
          75,
          76,
          77,
          78,
          79,
          80,
          81,
          82,
          83,
          84,
          85,
          86,
          87,
          88,
          89,
          90,
          91,
          92,
          93,
          94,
          95,
          96,
          97,
          98,
          99
         ],
         "xaxis": "x",
         "y": [
          0,
          1,
          4,
          9,
          16,
          25,
          36,
          49,
          64,
          81,
          100,
          121,
          144,
          169,
          196,
          225,
          256,
          289,
          324,
          361,
          400,
          441,
          484,
          529,
          576,
          625,
          676,
          729,
          784,
          841,
          900,
          961,
          1024,
          1089,
          1156,
          1225,
          1296,
          1369,
          1444,
          1521,
          1600,
          1681,
          1764,
          1849,
          1936,
          2025,
          2116,
          2209,
          2304,
          2401,
          2500,
          2601,
          2704,
          2809,
          2916,
          3025,
          3136,
          3249,
          3364,
          3481,
          3600,
          3721,
          3844,
          3969,
          4096,
          4225,
          4356,
          4489,
          4624,
          4761,
          4900,
          5041,
          5184,
          5329,
          5476,
          5625,
          5776,
          5929,
          6084,
          6241,
          6400,
          6561,
          6724,
          6889,
          7056,
          7225,
          7396,
          7569,
          7744,
          7921,
          8100,
          8281,
          8464,
          8649,
          8836,
          9025,
          9216,
          9409,
          9604,
          9801
         ],
         "yaxis": "y"
        }
       ],
       "layout": {
        "legend": {
         "tracegroupgap": 0
        },
        "margin": {
         "t": 60
        },
        "template": {
         "data": {
          "bar": [
           {
            "error_x": {
             "color": "#2a3f5f"
            },
            "error_y": {
             "color": "#2a3f5f"
            },
            "marker": {
             "line": {
              "color": "#E5ECF6",
              "width": 0.5
             },
             "pattern": {
              "fillmode": "overlay",
              "size": 10,
              "solidity": 0.2
             }
            },
            "type": "bar"
           }
          ],
          "barpolar": [
           {
            "marker": {
             "line": {
              "color": "#E5ECF6",
              "width": 0.5
             },
             "pattern": {
              "fillmode": "overlay",
              "size": 10,
              "solidity": 0.2
             }
            },
            "type": "barpolar"
           }
          ],
          "carpet": [
           {
            "aaxis": {
             "endlinecolor": "#2a3f5f",
             "gridcolor": "white",
             "linecolor": "white",
             "minorgridcolor": "white",
             "startlinecolor": "#2a3f5f"
            },
            "baxis": {
             "endlinecolor": "#2a3f5f",
             "gridcolor": "white",
             "linecolor": "white",
             "minorgridcolor": "white",
             "startlinecolor": "#2a3f5f"
            },
            "type": "carpet"
           }
          ],
          "choropleth": [
           {
            "colorbar": {
             "outlinewidth": 0,
             "ticks": ""
            },
            "type": "choropleth"
           }
          ],
          "contour": [
           {
            "colorbar": {
             "outlinewidth": 0,
             "ticks": ""
            },
            "colorscale": [
             [
              0,
              "#0d0887"
             ],
             [
              0.1111111111111111,
              "#46039f"
             ],
             [
              0.2222222222222222,
              "#7201a8"
             ],
             [
              0.3333333333333333,
              "#9c179e"
             ],
             [
              0.4444444444444444,
              "#bd3786"
             ],
             [
              0.5555555555555556,
              "#d8576b"
             ],
             [
              0.6666666666666666,
              "#ed7953"
             ],
             [
              0.7777777777777778,
              "#fb9f3a"
             ],
             [
              0.8888888888888888,
              "#fdca26"
             ],
             [
              1,
              "#f0f921"
             ]
            ],
            "type": "contour"
           }
          ],
          "contourcarpet": [
           {
            "colorbar": {
             "outlinewidth": 0,
             "ticks": ""
            },
            "type": "contourcarpet"
           }
          ],
          "heatmap": [
           {
            "colorbar": {
             "outlinewidth": 0,
             "ticks": ""
            },
            "colorscale": [
             [
              0,
              "#0d0887"
             ],
             [
              0.1111111111111111,
              "#46039f"
             ],
             [
              0.2222222222222222,
              "#7201a8"
             ],
             [
              0.3333333333333333,
              "#9c179e"
             ],
             [
              0.4444444444444444,
              "#bd3786"
             ],
             [
              0.5555555555555556,
              "#d8576b"
             ],
             [
              0.6666666666666666,
              "#ed7953"
             ],
             [
              0.7777777777777778,
              "#fb9f3a"
             ],
             [
              0.8888888888888888,
              "#fdca26"
             ],
             [
              1,
              "#f0f921"
             ]
            ],
            "type": "heatmap"
           }
          ],
          "heatmapgl": [
           {
            "colorbar": {
             "outlinewidth": 0,
             "ticks": ""
            },
            "colorscale": [
             [
              0,
              "#0d0887"
             ],
             [
              0.1111111111111111,
              "#46039f"
             ],
             [
              0.2222222222222222,
              "#7201a8"
             ],
             [
              0.3333333333333333,
              "#9c179e"
             ],
             [
              0.4444444444444444,
              "#bd3786"
             ],
             [
              0.5555555555555556,
              "#d8576b"
             ],
             [
              0.6666666666666666,
              "#ed7953"
             ],
             [
              0.7777777777777778,
              "#fb9f3a"
             ],
             [
              0.8888888888888888,
              "#fdca26"
             ],
             [
              1,
              "#f0f921"
             ]
            ],
            "type": "heatmapgl"
           }
          ],
          "histogram": [
           {
            "marker": {
             "pattern": {
              "fillmode": "overlay",
              "size": 10,
              "solidity": 0.2
             }
            },
            "type": "histogram"
           }
          ],
          "histogram2d": [
           {
            "colorbar": {
             "outlinewidth": 0,
             "ticks": ""
            },
            "colorscale": [
             [
              0,
              "#0d0887"
             ],
             [
              0.1111111111111111,
              "#46039f"
             ],
             [
              0.2222222222222222,
              "#7201a8"
             ],
             [
              0.3333333333333333,
              "#9c179e"
             ],
             [
              0.4444444444444444,
              "#bd3786"
             ],
             [
              0.5555555555555556,
              "#d8576b"
             ],
             [
              0.6666666666666666,
              "#ed7953"
             ],
             [
              0.7777777777777778,
              "#fb9f3a"
             ],
             [
              0.8888888888888888,
              "#fdca26"
             ],
             [
              1,
              "#f0f921"
             ]
            ],
            "type": "histogram2d"
           }
          ],
          "histogram2dcontour": [
           {
            "colorbar": {
             "outlinewidth": 0,
             "ticks": ""
            },
            "colorscale": [
             [
              0,
              "#0d0887"
             ],
             [
              0.1111111111111111,
              "#46039f"
             ],
             [
              0.2222222222222222,
              "#7201a8"
             ],
             [
              0.3333333333333333,
              "#9c179e"
             ],
             [
              0.4444444444444444,
              "#bd3786"
             ],
             [
              0.5555555555555556,
              "#d8576b"
             ],
             [
              0.6666666666666666,
              "#ed7953"
             ],
             [
              0.7777777777777778,
              "#fb9f3a"
             ],
             [
              0.8888888888888888,
              "#fdca26"
             ],
             [
              1,
              "#f0f921"
             ]
            ],
            "type": "histogram2dcontour"
           }
          ],
          "mesh3d": [
           {
            "colorbar": {
             "outlinewidth": 0,
             "ticks": ""
            },
            "type": "mesh3d"
           }
          ],
          "parcoords": [
           {
            "line": {
             "colorbar": {
              "outlinewidth": 0,
              "ticks": ""
             }
            },
            "type": "parcoords"
           }
          ],
          "pie": [
           {
            "automargin": true,
            "type": "pie"
           }
          ],
          "scatter": [
           {
            "fillpattern": {
             "fillmode": "overlay",
             "size": 10,
             "solidity": 0.2
            },
            "type": "scatter"
           }
          ],
          "scatter3d": [
           {
            "line": {
             "colorbar": {
              "outlinewidth": 0,
              "ticks": ""
             }
            },
            "marker": {
             "colorbar": {
              "outlinewidth": 0,
              "ticks": ""
             }
            },
            "type": "scatter3d"
           }
          ],
          "scattercarpet": [
           {
            "marker": {
             "colorbar": {
              "outlinewidth": 0,
              "ticks": ""
             }
            },
            "type": "scattercarpet"
           }
          ],
          "scattergeo": [
           {
            "marker": {
             "colorbar": {
              "outlinewidth": 0,
              "ticks": ""
             }
            },
            "type": "scattergeo"
           }
          ],
          "scattergl": [
           {
            "marker": {
             "colorbar": {
              "outlinewidth": 0,
              "ticks": ""
             }
            },
            "type": "scattergl"
           }
          ],
          "scattermapbox": [
           {
            "marker": {
             "colorbar": {
              "outlinewidth": 0,
              "ticks": ""
             }
            },
            "type": "scattermapbox"
           }
          ],
          "scatterpolar": [
           {
            "marker": {
             "colorbar": {
              "outlinewidth": 0,
              "ticks": ""
             }
            },
            "type": "scatterpolar"
           }
          ],
          "scatterpolargl": [
           {
            "marker": {
             "colorbar": {
              "outlinewidth": 0,
              "ticks": ""
             }
            },
            "type": "scatterpolargl"
           }
          ],
          "scatterternary": [
           {
            "marker": {
             "colorbar": {
              "outlinewidth": 0,
              "ticks": ""
             }
            },
            "type": "scatterternary"
           }
          ],
          "surface": [
           {
            "colorbar": {
             "outlinewidth": 0,
             "ticks": ""
            },
            "colorscale": [
             [
              0,
              "#0d0887"
             ],
             [
              0.1111111111111111,
              "#46039f"
             ],
             [
              0.2222222222222222,
              "#7201a8"
             ],
             [
              0.3333333333333333,
              "#9c179e"
             ],
             [
              0.4444444444444444,
              "#bd3786"
             ],
             [
              0.5555555555555556,
              "#d8576b"
             ],
             [
              0.6666666666666666,
              "#ed7953"
             ],
             [
              0.7777777777777778,
              "#fb9f3a"
             ],
             [
              0.8888888888888888,
              "#fdca26"
             ],
             [
              1,
              "#f0f921"
             ]
            ],
            "type": "surface"
           }
          ],
          "table": [
           {
            "cells": {
             "fill": {
              "color": "#EBF0F8"
             },
             "line": {
              "color": "white"
             }
            },
            "header": {
             "fill": {
              "color": "#C8D4E3"
             },
             "line": {
              "color": "white"
             }
            },
            "type": "table"
           }
          ]
         },
         "layout": {
          "annotationdefaults": {
           "arrowcolor": "#2a3f5f",
           "arrowhead": 0,
           "arrowwidth": 1
          },
          "autotypenumbers": "strict",
          "coloraxis": {
           "colorbar": {
            "outlinewidth": 0,
            "ticks": ""
           }
          },
          "colorscale": {
           "diverging": [
            [
             0,
             "#8e0152"
            ],
            [
             0.1,
             "#c51b7d"
            ],
            [
             0.2,
             "#de77ae"
            ],
            [
             0.3,
             "#f1b6da"
            ],
            [
             0.4,
             "#fde0ef"
            ],
            [
             0.5,
             "#f7f7f7"
            ],
            [
             0.6,
             "#e6f5d0"
            ],
            [
             0.7,
             "#b8e186"
            ],
            [
             0.8,
             "#7fbc41"
            ],
            [
             0.9,
             "#4d9221"
            ],
            [
             1,
             "#276419"
            ]
           ],
           "sequential": [
            [
             0,
             "#0d0887"
            ],
            [
             0.1111111111111111,
             "#46039f"
            ],
            [
             0.2222222222222222,
             "#7201a8"
            ],
            [
             0.3333333333333333,
             "#9c179e"
            ],
            [
             0.4444444444444444,
             "#bd3786"
            ],
            [
             0.5555555555555556,
             "#d8576b"
            ],
            [
             0.6666666666666666,
             "#ed7953"
            ],
            [
             0.7777777777777778,
             "#fb9f3a"
            ],
            [
             0.8888888888888888,
             "#fdca26"
            ],
            [
             1,
             "#f0f921"
            ]
           ],
           "sequentialminus": [
            [
             0,
             "#0d0887"
            ],
            [
             0.1111111111111111,
             "#46039f"
            ],
            [
             0.2222222222222222,
             "#7201a8"
            ],
            [
             0.3333333333333333,
             "#9c179e"
            ],
            [
             0.4444444444444444,
             "#bd3786"
            ],
            [
             0.5555555555555556,
             "#d8576b"
            ],
            [
             0.6666666666666666,
             "#ed7953"
            ],
            [
             0.7777777777777778,
             "#fb9f3a"
            ],
            [
             0.8888888888888888,
             "#fdca26"
            ],
            [
             1,
             "#f0f921"
            ]
           ]
          },
          "colorway": [
           "#636efa",
           "#EF553B",
           "#00cc96",
           "#ab63fa",
           "#FFA15A",
           "#19d3f3",
           "#FF6692",
           "#B6E880",
           "#FF97FF",
           "#FECB52"
          ],
          "font": {
           "color": "#2a3f5f"
          },
          "geo": {
           "bgcolor": "white",
           "lakecolor": "white",
           "landcolor": "#E5ECF6",
           "showlakes": true,
           "showland": true,
           "subunitcolor": "white"
          },
          "hoverlabel": {
           "align": "left"
          },
          "hovermode": "closest",
          "mapbox": {
           "style": "light"
          },
          "paper_bgcolor": "white",
          "plot_bgcolor": "#E5ECF6",
          "polar": {
           "angularaxis": {
            "gridcolor": "white",
            "linecolor": "white",
            "ticks": ""
           },
           "bgcolor": "#E5ECF6",
           "radialaxis": {
            "gridcolor": "white",
            "linecolor": "white",
            "ticks": ""
           }
          },
          "scene": {
           "xaxis": {
            "backgroundcolor": "#E5ECF6",
            "gridcolor": "white",
            "gridwidth": 2,
            "linecolor": "white",
            "showbackground": true,
            "ticks": "",
            "zerolinecolor": "white"
           },
           "yaxis": {
            "backgroundcolor": "#E5ECF6",
            "gridcolor": "white",
            "gridwidth": 2,
            "linecolor": "white",
            "showbackground": true,
            "ticks": "",
            "zerolinecolor": "white"
           },
           "zaxis": {
            "backgroundcolor": "#E5ECF6",
            "gridcolor": "white",
            "gridwidth": 2,
            "linecolor": "white",
            "showbackground": true,
            "ticks": "",
            "zerolinecolor": "white"
           }
          },
          "shapedefaults": {
           "line": {
            "color": "#2a3f5f"
           }
          },
          "ternary": {
           "aaxis": {
            "gridcolor": "white",
            "linecolor": "white",
            "ticks": ""
           },
           "baxis": {
            "gridcolor": "white",
            "linecolor": "white",
            "ticks": ""
           },
           "bgcolor": "#E5ECF6",
           "caxis": {
            "gridcolor": "white",
            "linecolor": "white",
            "ticks": ""
           }
          },
          "title": {
           "x": 0.05
          },
          "xaxis": {
           "automargin": true,
           "gridcolor": "white",
           "linecolor": "white",
           "ticks": "",
           "title": {
            "standoff": 15
           },
           "zerolinecolor": "white",
           "zerolinewidth": 2
          },
          "yaxis": {
           "automargin": true,
           "gridcolor": "white",
           "linecolor": "white",
           "ticks": "",
           "title": {
            "standoff": 15
           },
           "zerolinecolor": "white",
           "zerolinewidth": 2
          }
         }
        },
        "xaxis": {
         "anchor": "y",
         "domain": [
          0,
          1
         ],
         "title": {
          "text": "x"
         }
        },
        "yaxis": {
         "anchor": "x",
         "domain": [
          0,
          1
         ],
         "title": {
          "text": "y"
         }
        }
       }
      }
     },
     "metadata": {},
     "output_type": "display_data"
    }
   ],
   "source": [
    "y= np.vectorize(f)(x)\n",
    "fig = px.scatter(x=x,y=y,color_discrete_sequence=['orange'])\n",
    "fig.show()"
   ]
  },
  {
   "cell_type": "code",
   "execution_count": 21,
   "id": "00eef172",
   "metadata": {},
   "outputs": [
    {
     "data": {
      "application/vnd.plotly.v1+json": {
       "config": {
        "plotlyServerURL": "https://plot.ly"
       },
       "data": [
        {
         "hovertemplate": "x=%{x}<br>y=%{y}<br>color=%{marker.color}<extra></extra>",
         "legendgroup": "",
         "marker": {
          "color": [
           20,
           -10.630000000000003,
           -111.03999999999999,
           -279.01,
           -512.32,
           -808.75,
           -1166.08,
           -1582.09,
           -2054.56,
           -2581.27,
           -3160,
           -3788.53,
           -4464.64,
           -5186.11,
           -5950.72,
           -6756.25,
           -7600.48,
           -8481.19,
           -9396.16,
           -10343.17,
           -11320,
           -12324.43,
           -13354.24,
           -14407.21,
           -15481.119999999999,
           -16573.75,
           -17682.88,
           -18806.29,
           -19941.760000000002,
           -21087.07,
           -22240,
           -23398.33,
           -24559.84,
           -25722.309999999998,
           -26883.52,
           -28041.25,
           -29193.28,
           -30337.39,
           -31471.36,
           -32592.97,
           -33700,
           -34790.229999999996,
           -35861.44,
           -36911.41,
           -37937.92,
           -38938.75,
           -39911.68,
           -40854.49,
           -41764.96,
           -42640.87,
           -43480,
           -44280.13,
           -45039.04,
           -45754.51,
           -46424.32,
           -47046.25,
           -47618.08,
           -48137.59,
           -48602.56,
           -49010.770000000004,
           -49360,
           -49648.03,
           -49872.64,
           -50031.61,
           -50122.72,
           -50143.75,
           -50092.479999999996,
           -49966.69,
           -49764.16,
           -49482.67,
           -49120,
           -48673.92999999999,
           -48142.23999999999,
           -47522.70999999999,
           -46813.119999999995,
           -46011.25,
           -45114.880000000005,
           -44121.79000000001,
           -43029.76000000001,
           -41836.57000000001,
           -40540,
           -39137.830000000016,
           -37627.84,
           -36007.81,
           -34275.51999999999,
           -32428.75,
           -30465.28,
           -28382.890000000014,
           -26179.360000000015,
           -23852.47,
           -21400,
           -18819.72999999998,
           -16109.440000000002,
           -13266.910000000033,
           -10289.919999999984,
           -7176.25,
           -3923.679999999993,
           -529.9899999999907,
           3007.039999999979,
           6689.630000000005
          ],
          "coloraxis": "coloraxis",
          "symbol": "circle"
         },
         "mode": "markers",
         "name": "",
         "orientation": "v",
         "showlegend": false,
         "type": "scatter",
         "x": [
          0,
          1,
          2,
          3,
          4,
          5,
          6,
          7,
          8,
          9,
          10,
          11,
          12,
          13,
          14,
          15,
          16,
          17,
          18,
          19,
          20,
          21,
          22,
          23,
          24,
          25,
          26,
          27,
          28,
          29,
          30,
          31,
          32,
          33,
          34,
          35,
          36,
          37,
          38,
          39,
          40,
          41,
          42,
          43,
          44,
          45,
          46,
          47,
          48,
          49,
          50,
          51,
          52,
          53,
          54,
          55,
          56,
          57,
          58,
          59,
          60,
          61,
          62,
          63,
          64,
          65,
          66,
          67,
          68,
          69,
          70,
          71,
          72,
          73,
          74,
          75,
          76,
          77,
          78,
          79,
          80,
          81,
          82,
          83,
          84,
          85,
          86,
          87,
          88,
          89,
          90,
          91,
          92,
          93,
          94,
          95,
          96,
          97,
          98,
          99
         ],
         "xaxis": "x",
         "y": [
          20,
          -10.630000000000003,
          -111.03999999999999,
          -279.01,
          -512.32,
          -808.75,
          -1166.08,
          -1582.09,
          -2054.56,
          -2581.27,
          -3160,
          -3788.53,
          -4464.64,
          -5186.11,
          -5950.72,
          -6756.25,
          -7600.48,
          -8481.19,
          -9396.16,
          -10343.17,
          -11320,
          -12324.43,
          -13354.24,
          -14407.21,
          -15481.119999999999,
          -16573.75,
          -17682.88,
          -18806.29,
          -19941.760000000002,
          -21087.07,
          -22240,
          -23398.33,
          -24559.84,
          -25722.309999999998,
          -26883.52,
          -28041.25,
          -29193.28,
          -30337.39,
          -31471.36,
          -32592.97,
          -33700,
          -34790.229999999996,
          -35861.44,
          -36911.41,
          -37937.92,
          -38938.75,
          -39911.68,
          -40854.49,
          -41764.96,
          -42640.87,
          -43480,
          -44280.13,
          -45039.04,
          -45754.51,
          -46424.32,
          -47046.25,
          -47618.08,
          -48137.59,
          -48602.56,
          -49010.770000000004,
          -49360,
          -49648.03,
          -49872.64,
          -50031.61,
          -50122.72,
          -50143.75,
          -50092.479999999996,
          -49966.69,
          -49764.16,
          -49482.67,
          -49120,
          -48673.92999999999,
          -48142.23999999999,
          -47522.70999999999,
          -46813.119999999995,
          -46011.25,
          -45114.880000000005,
          -44121.79000000001,
          -43029.76000000001,
          -41836.57000000001,
          -40540,
          -39137.830000000016,
          -37627.84,
          -36007.81,
          -34275.51999999999,
          -32428.75,
          -30465.28,
          -28382.890000000014,
          -26179.360000000015,
          -23852.47,
          -21400,
          -18819.72999999998,
          -16109.440000000002,
          -13266.910000000033,
          -10289.919999999984,
          -7176.25,
          -3923.679999999993,
          -529.9899999999907,
          3007.039999999979,
          6689.630000000005
         ],
         "yaxis": "y"
        }
       ],
       "layout": {
        "coloraxis": {
         "colorbar": {
          "title": {
           "text": "color"
          }
         },
         "colorscale": [
          [
           0,
           "#0d0887"
          ],
          [
           0.1111111111111111,
           "#46039f"
          ],
          [
           0.2222222222222222,
           "#7201a8"
          ],
          [
           0.3333333333333333,
           "#9c179e"
          ],
          [
           0.4444444444444444,
           "#bd3786"
          ],
          [
           0.5555555555555556,
           "#d8576b"
          ],
          [
           0.6666666666666666,
           "#ed7953"
          ],
          [
           0.7777777777777778,
           "#fb9f3a"
          ],
          [
           0.8888888888888888,
           "#fdca26"
          ],
          [
           1,
           "#f0f921"
          ]
         ]
        },
        "legend": {
         "tracegroupgap": 0
        },
        "margin": {
         "t": 60
        },
        "template": {
         "data": {
          "bar": [
           {
            "error_x": {
             "color": "#2a3f5f"
            },
            "error_y": {
             "color": "#2a3f5f"
            },
            "marker": {
             "line": {
              "color": "#E5ECF6",
              "width": 0.5
             },
             "pattern": {
              "fillmode": "overlay",
              "size": 10,
              "solidity": 0.2
             }
            },
            "type": "bar"
           }
          ],
          "barpolar": [
           {
            "marker": {
             "line": {
              "color": "#E5ECF6",
              "width": 0.5
             },
             "pattern": {
              "fillmode": "overlay",
              "size": 10,
              "solidity": 0.2
             }
            },
            "type": "barpolar"
           }
          ],
          "carpet": [
           {
            "aaxis": {
             "endlinecolor": "#2a3f5f",
             "gridcolor": "white",
             "linecolor": "white",
             "minorgridcolor": "white",
             "startlinecolor": "#2a3f5f"
            },
            "baxis": {
             "endlinecolor": "#2a3f5f",
             "gridcolor": "white",
             "linecolor": "white",
             "minorgridcolor": "white",
             "startlinecolor": "#2a3f5f"
            },
            "type": "carpet"
           }
          ],
          "choropleth": [
           {
            "colorbar": {
             "outlinewidth": 0,
             "ticks": ""
            },
            "type": "choropleth"
           }
          ],
          "contour": [
           {
            "colorbar": {
             "outlinewidth": 0,
             "ticks": ""
            },
            "colorscale": [
             [
              0,
              "#0d0887"
             ],
             [
              0.1111111111111111,
              "#46039f"
             ],
             [
              0.2222222222222222,
              "#7201a8"
             ],
             [
              0.3333333333333333,
              "#9c179e"
             ],
             [
              0.4444444444444444,
              "#bd3786"
             ],
             [
              0.5555555555555556,
              "#d8576b"
             ],
             [
              0.6666666666666666,
              "#ed7953"
             ],
             [
              0.7777777777777778,
              "#fb9f3a"
             ],
             [
              0.8888888888888888,
              "#fdca26"
             ],
             [
              1,
              "#f0f921"
             ]
            ],
            "type": "contour"
           }
          ],
          "contourcarpet": [
           {
            "colorbar": {
             "outlinewidth": 0,
             "ticks": ""
            },
            "type": "contourcarpet"
           }
          ],
          "heatmap": [
           {
            "colorbar": {
             "outlinewidth": 0,
             "ticks": ""
            },
            "colorscale": [
             [
              0,
              "#0d0887"
             ],
             [
              0.1111111111111111,
              "#46039f"
             ],
             [
              0.2222222222222222,
              "#7201a8"
             ],
             [
              0.3333333333333333,
              "#9c179e"
             ],
             [
              0.4444444444444444,
              "#bd3786"
             ],
             [
              0.5555555555555556,
              "#d8576b"
             ],
             [
              0.6666666666666666,
              "#ed7953"
             ],
             [
              0.7777777777777778,
              "#fb9f3a"
             ],
             [
              0.8888888888888888,
              "#fdca26"
             ],
             [
              1,
              "#f0f921"
             ]
            ],
            "type": "heatmap"
           }
          ],
          "heatmapgl": [
           {
            "colorbar": {
             "outlinewidth": 0,
             "ticks": ""
            },
            "colorscale": [
             [
              0,
              "#0d0887"
             ],
             [
              0.1111111111111111,
              "#46039f"
             ],
             [
              0.2222222222222222,
              "#7201a8"
             ],
             [
              0.3333333333333333,
              "#9c179e"
             ],
             [
              0.4444444444444444,
              "#bd3786"
             ],
             [
              0.5555555555555556,
              "#d8576b"
             ],
             [
              0.6666666666666666,
              "#ed7953"
             ],
             [
              0.7777777777777778,
              "#fb9f3a"
             ],
             [
              0.8888888888888888,
              "#fdca26"
             ],
             [
              1,
              "#f0f921"
             ]
            ],
            "type": "heatmapgl"
           }
          ],
          "histogram": [
           {
            "marker": {
             "pattern": {
              "fillmode": "overlay",
              "size": 10,
              "solidity": 0.2
             }
            },
            "type": "histogram"
           }
          ],
          "histogram2d": [
           {
            "colorbar": {
             "outlinewidth": 0,
             "ticks": ""
            },
            "colorscale": [
             [
              0,
              "#0d0887"
             ],
             [
              0.1111111111111111,
              "#46039f"
             ],
             [
              0.2222222222222222,
              "#7201a8"
             ],
             [
              0.3333333333333333,
              "#9c179e"
             ],
             [
              0.4444444444444444,
              "#bd3786"
             ],
             [
              0.5555555555555556,
              "#d8576b"
             ],
             [
              0.6666666666666666,
              "#ed7953"
             ],
             [
              0.7777777777777778,
              "#fb9f3a"
             ],
             [
              0.8888888888888888,
              "#fdca26"
             ],
             [
              1,
              "#f0f921"
             ]
            ],
            "type": "histogram2d"
           }
          ],
          "histogram2dcontour": [
           {
            "colorbar": {
             "outlinewidth": 0,
             "ticks": ""
            },
            "colorscale": [
             [
              0,
              "#0d0887"
             ],
             [
              0.1111111111111111,
              "#46039f"
             ],
             [
              0.2222222222222222,
              "#7201a8"
             ],
             [
              0.3333333333333333,
              "#9c179e"
             ],
             [
              0.4444444444444444,
              "#bd3786"
             ],
             [
              0.5555555555555556,
              "#d8576b"
             ],
             [
              0.6666666666666666,
              "#ed7953"
             ],
             [
              0.7777777777777778,
              "#fb9f3a"
             ],
             [
              0.8888888888888888,
              "#fdca26"
             ],
             [
              1,
              "#f0f921"
             ]
            ],
            "type": "histogram2dcontour"
           }
          ],
          "mesh3d": [
           {
            "colorbar": {
             "outlinewidth": 0,
             "ticks": ""
            },
            "type": "mesh3d"
           }
          ],
          "parcoords": [
           {
            "line": {
             "colorbar": {
              "outlinewidth": 0,
              "ticks": ""
             }
            },
            "type": "parcoords"
           }
          ],
          "pie": [
           {
            "automargin": true,
            "type": "pie"
           }
          ],
          "scatter": [
           {
            "fillpattern": {
             "fillmode": "overlay",
             "size": 10,
             "solidity": 0.2
            },
            "type": "scatter"
           }
          ],
          "scatter3d": [
           {
            "line": {
             "colorbar": {
              "outlinewidth": 0,
              "ticks": ""
             }
            },
            "marker": {
             "colorbar": {
              "outlinewidth": 0,
              "ticks": ""
             }
            },
            "type": "scatter3d"
           }
          ],
          "scattercarpet": [
           {
            "marker": {
             "colorbar": {
              "outlinewidth": 0,
              "ticks": ""
             }
            },
            "type": "scattercarpet"
           }
          ],
          "scattergeo": [
           {
            "marker": {
             "colorbar": {
              "outlinewidth": 0,
              "ticks": ""
             }
            },
            "type": "scattergeo"
           }
          ],
          "scattergl": [
           {
            "marker": {
             "colorbar": {
              "outlinewidth": 0,
              "ticks": ""
             }
            },
            "type": "scattergl"
           }
          ],
          "scattermapbox": [
           {
            "marker": {
             "colorbar": {
              "outlinewidth": 0,
              "ticks": ""
             }
            },
            "type": "scattermapbox"
           }
          ],
          "scatterpolar": [
           {
            "marker": {
             "colorbar": {
              "outlinewidth": 0,
              "ticks": ""
             }
            },
            "type": "scatterpolar"
           }
          ],
          "scatterpolargl": [
           {
            "marker": {
             "colorbar": {
              "outlinewidth": 0,
              "ticks": ""
             }
            },
            "type": "scatterpolargl"
           }
          ],
          "scatterternary": [
           {
            "marker": {
             "colorbar": {
              "outlinewidth": 0,
              "ticks": ""
             }
            },
            "type": "scatterternary"
           }
          ],
          "surface": [
           {
            "colorbar": {
             "outlinewidth": 0,
             "ticks": ""
            },
            "colorscale": [
             [
              0,
              "#0d0887"
             ],
             [
              0.1111111111111111,
              "#46039f"
             ],
             [
              0.2222222222222222,
              "#7201a8"
             ],
             [
              0.3333333333333333,
              "#9c179e"
             ],
             [
              0.4444444444444444,
              "#bd3786"
             ],
             [
              0.5555555555555556,
              "#d8576b"
             ],
             [
              0.6666666666666666,
              "#ed7953"
             ],
             [
              0.7777777777777778,
              "#fb9f3a"
             ],
             [
              0.8888888888888888,
              "#fdca26"
             ],
             [
              1,
              "#f0f921"
             ]
            ],
            "type": "surface"
           }
          ],
          "table": [
           {
            "cells": {
             "fill": {
              "color": "#EBF0F8"
             },
             "line": {
              "color": "white"
             }
            },
            "header": {
             "fill": {
              "color": "#C8D4E3"
             },
             "line": {
              "color": "white"
             }
            },
            "type": "table"
           }
          ]
         },
         "layout": {
          "annotationdefaults": {
           "arrowcolor": "#2a3f5f",
           "arrowhead": 0,
           "arrowwidth": 1
          },
          "autotypenumbers": "strict",
          "coloraxis": {
           "colorbar": {
            "outlinewidth": 0,
            "ticks": ""
           }
          },
          "colorscale": {
           "diverging": [
            [
             0,
             "#8e0152"
            ],
            [
             0.1,
             "#c51b7d"
            ],
            [
             0.2,
             "#de77ae"
            ],
            [
             0.3,
             "#f1b6da"
            ],
            [
             0.4,
             "#fde0ef"
            ],
            [
             0.5,
             "#f7f7f7"
            ],
            [
             0.6,
             "#e6f5d0"
            ],
            [
             0.7,
             "#b8e186"
            ],
            [
             0.8,
             "#7fbc41"
            ],
            [
             0.9,
             "#4d9221"
            ],
            [
             1,
             "#276419"
            ]
           ],
           "sequential": [
            [
             0,
             "#0d0887"
            ],
            [
             0.1111111111111111,
             "#46039f"
            ],
            [
             0.2222222222222222,
             "#7201a8"
            ],
            [
             0.3333333333333333,
             "#9c179e"
            ],
            [
             0.4444444444444444,
             "#bd3786"
            ],
            [
             0.5555555555555556,
             "#d8576b"
            ],
            [
             0.6666666666666666,
             "#ed7953"
            ],
            [
             0.7777777777777778,
             "#fb9f3a"
            ],
            [
             0.8888888888888888,
             "#fdca26"
            ],
            [
             1,
             "#f0f921"
            ]
           ],
           "sequentialminus": [
            [
             0,
             "#0d0887"
            ],
            [
             0.1111111111111111,
             "#46039f"
            ],
            [
             0.2222222222222222,
             "#7201a8"
            ],
            [
             0.3333333333333333,
             "#9c179e"
            ],
            [
             0.4444444444444444,
             "#bd3786"
            ],
            [
             0.5555555555555556,
             "#d8576b"
            ],
            [
             0.6666666666666666,
             "#ed7953"
            ],
            [
             0.7777777777777778,
             "#fb9f3a"
            ],
            [
             0.8888888888888888,
             "#fdca26"
            ],
            [
             1,
             "#f0f921"
            ]
           ]
          },
          "colorway": [
           "#636efa",
           "#EF553B",
           "#00cc96",
           "#ab63fa",
           "#FFA15A",
           "#19d3f3",
           "#FF6692",
           "#B6E880",
           "#FF97FF",
           "#FECB52"
          ],
          "font": {
           "color": "#2a3f5f"
          },
          "geo": {
           "bgcolor": "white",
           "lakecolor": "white",
           "landcolor": "#E5ECF6",
           "showlakes": true,
           "showland": true,
           "subunitcolor": "white"
          },
          "hoverlabel": {
           "align": "left"
          },
          "hovermode": "closest",
          "mapbox": {
           "style": "light"
          },
          "paper_bgcolor": "white",
          "plot_bgcolor": "#E5ECF6",
          "polar": {
           "angularaxis": {
            "gridcolor": "white",
            "linecolor": "white",
            "ticks": ""
           },
           "bgcolor": "#E5ECF6",
           "radialaxis": {
            "gridcolor": "white",
            "linecolor": "white",
            "ticks": ""
           }
          },
          "scene": {
           "xaxis": {
            "backgroundcolor": "#E5ECF6",
            "gridcolor": "white",
            "gridwidth": 2,
            "linecolor": "white",
            "showbackground": true,
            "ticks": "",
            "zerolinecolor": "white"
           },
           "yaxis": {
            "backgroundcolor": "#E5ECF6",
            "gridcolor": "white",
            "gridwidth": 2,
            "linecolor": "white",
            "showbackground": true,
            "ticks": "",
            "zerolinecolor": "white"
           },
           "zaxis": {
            "backgroundcolor": "#E5ECF6",
            "gridcolor": "white",
            "gridwidth": 2,
            "linecolor": "white",
            "showbackground": true,
            "ticks": "",
            "zerolinecolor": "white"
           }
          },
          "shapedefaults": {
           "line": {
            "color": "#2a3f5f"
           }
          },
          "ternary": {
           "aaxis": {
            "gridcolor": "white",
            "linecolor": "white",
            "ticks": ""
           },
           "baxis": {
            "gridcolor": "white",
            "linecolor": "white",
            "ticks": ""
           },
           "bgcolor": "#E5ECF6",
           "caxis": {
            "gridcolor": "white",
            "linecolor": "white",
            "ticks": ""
           }
          },
          "title": {
           "x": 0.05
          },
          "xaxis": {
           "automargin": true,
           "gridcolor": "white",
           "linecolor": "white",
           "ticks": "",
           "title": {
            "standoff": 15
           },
           "zerolinecolor": "white",
           "zerolinewidth": 2
          },
          "yaxis": {
           "automargin": true,
           "gridcolor": "white",
           "linecolor": "white",
           "ticks": "",
           "title": {
            "standoff": 15
           },
           "zerolinecolor": "white",
           "zerolinewidth": 2
          }
         }
        },
        "xaxis": {
         "anchor": "y",
         "domain": [
          0,
          1
         ],
         "title": {
          "text": "x"
         }
        },
        "yaxis": {
         "anchor": "x",
         "domain": [
          0,
          1
         ],
         "title": {
          "text": "y"
         }
        }
       }
      }
     },
     "metadata": {},
     "output_type": "display_data"
    }
   ],
   "source": [
    "y= np.vectorize(lambda x:0.37*x**3-36*x**2+5*x+20)(x)\n",
    "fig = px.scatter(x=x,y=y,color=y)\n",
    "fig.show()"
   ]
  },
  {
   "cell_type": "code",
   "execution_count": 22,
   "id": "a3416513",
   "metadata": {},
   "outputs": [
    {
     "data": {
      "application/vnd.plotly.v1+json": {
       "config": {
        "plotlyServerURL": "https://plot.ly"
       },
       "data": [
        {
         "hovertemplate": "x=%{x}<br>y=%{y}<br>color=%{marker.color}<extra></extra>",
         "legendgroup": "",
         "marker": {
          "color": [
           0,
           0.025155245389375847,
           0.05029457036336618,
           0.07540206458240159,
           0.10046183785216795,
           0.12545803018029603,
           0.1503748218139367,
           0.17519644325186898,
           0.19990718522480458,
           0.22449140863757258,
           0.2489335544668916,
           0.27321815360846585,
           0.2973298366671723,
           0.32125334368414366,
           0.34497353379459045,
           0.3684753948102499,
           0.3917440527203973,
           0.41476478110540693,
           0.4375230104569043,
           0.46000433739861096,
           0.4821945338020477,
           0.5040795557913246,
           0.5256455526313207,
           0.5468788754936273,
           0.5677660860947078,
           0.588293965200805,
           0.608449520994217,
           0.6282199972956423,
           0.647592881637394,
           0.666555913182372,
           0.6850970904837809,
           0.7032046790806838,
           0.720867218924585,
           0.7380735316323389,
           0.7548127275607988,
           0.7710742126987247,
           0.7868476953715899,
           0.8021231927550437,
           0.8168910371929053,
           0.8311418823156935,
           0.8448667089558177,
           0.8580568308556875,
           0.8707039001651274,
           0.8827999127246196,
           0.8943372131310272,
           0.9053084995825966,
           0.9157068285001692,
           0.9255256189216778,
           0.934758656667151,
           0.9434000982715812,
           0.9514444746831766,
           0.9588866947246497,
           0.9657220483153546,
           0.9719462094522335,
           0.9775552389476861,
           0.9825455869226277,
           0.98691409505316,
           0.9906579985694317,
           0.9937749280054242,
           0.9962629106985543,
           0.9981203720381463,
           0.9993461364619809,
           0.9999394282002937,
           0.9998998717667489,
           0.9992274921960794,
           0.9979227150282433,
           0.9959863660391044,
           0.9934196707178107,
           0.9902242534911986,
           0.9864021366957146,
           0.9819557392975067,
           0.9768878753614926,
           0.9712017522703763,
           0.9649009686947391,
           0.9579895123154889,
           0.9504717573001116,
           0.9423524615343186,
           0.9336367636108462,
           0.9243301795773085,
           0.9144385994451658,
           0.9039682834620162,
           0.8929258581495686,
           0.881318312109807,
           0.869152991601999,
           0.856437595893346,
           0.8431801723862224,
           0.8293891115250829,
           0.8150731414862624,
           0.800241322654032,
           0.7849030418864046,
           0.769068006574317,
           0.7527462384979551,
           0.7359480674841035,
           0.7186841248685385,
           0.7009653367675978,
           0.6828029171631891,
           0.6642083608056142,
           0.6451934359386937,
           0.6257701768518059,
           0.6059508762635484,
           0.5857480775418397,
           0.5651745667653929,
           0.5442433646315792,
           0.5229677182158028,
           0.5013610925876063,
           0.47943716228880995,
           0.4572098026790794,
           0.4346930811543961,
           0.4119012482439928,
           0.3888487285913878,
           0.36555011182521946,
           0.3420201433256689,
           0.3182737148923088,
           0.29432585531928224,
           0.27019172088378224,
           0.24588658575385056,
           0.22142583232155955,
           0.19682494146770554,
           0.17209948276416928,
           0.14726510462014156,
           0.12233752437845731,
           0.09733251836830287,
           0.07226591192058739,
           0.04715356935230619,
           0.022011383926227784,
           -0.0031447322077359985,
           -0.02829885808311759,
           -0.053435073993057226,
           -0.07853747156566927,
           -0.10359016383223883,
           -0.12857729528186848,
           -0.15348305189621594,
           -0.1782916711579755,
           -0.20298745202676116,
           -0.2275547648760821,
           -0.25197806138512474,
           -0.2762418843790738,
           -0.3003308776117502,
           -0.32422979548437053,
           -0.34792351269428334,
           -0.3713970338075679,
           -0.3946355027494405,
           -0.41762421220646645,
           -0.44034861293461913,
           -0.46279432296729867,
           -0.4849471367174873,
           -0.5067930339682724,
           -0.5283181887460511,
           -0.5495089780708056,
           -0.5703519905779012,
           -0.5908340350059578,
           -0.6109421485454225,
           -0.630663605042557,
           -0.6499859230536464,
           -0.6688968737443391,
           -0.6873844886291098,
           -0.7054370671459529,
           -0.723043184061509,
           -0.7401916967019432,
           -0.7568717520049916,
           -0.7730727933887175,
           -0.788784567432631,
           -0.8039971303669401,
           -0.8187008543658276,
           -0.8328864336407734,
           -0.8465448903300604,
           -0.8596675801807451,
           -0.872246198019486,
           -0.8842727830087774,
           -0.895739723685255,
           -0.9066397627768893,
           -0.9169660017960133,
           -0.9267119054052849,
           -0.9358713055538118,
           -0.9444384053808287,
           -0.9524077828844512,
           -0.959774394353189,
           -0.9665335775580413,
           -0.97268105470316,
           -0.9782129351332083,
           -0.9831257177957041,
           -0.9874162934567888,
           -0.9910819466690195,
           -0.9941203574899392,
           -0.9965296029503367,
           -0.9983081582712682,
           -0.9994548978290693,
           -0.9999690958677468,
           -0.9998504269583004,
           -0.9990989662046815,
           -0.9977151891962615,
           -0.9956999717068378,
           -0.9930545891403677,
           -0.9897807157237836,
           -0.9858804234473959,
           -0.9813561807535597,
           -0.9762108509744296,
           -0.9704476905197971,
           -0.9640703468161508,
           -0.957082855998271,
           -0.9494896403548136,
           -0.9412955055295036,
           -0.9325056374797075,
           -0.9231255991943125,
           -0.9131613271729835,
           -0.9026191276690343,
           -0.8915056726982842,
           -0.8798279958164298,
           -0.8675934876676018,
           -0.8548098913069261,
           -0.8414852973000504,
           -0.8276281386027314,
           -0.8132471852237334,
           -0.7983515386744064,
           -0.7829506262084637,
           -0.7670541948555989,
           -0.7506723052527245,
           -0.733815325276728,
           -0.7164939234827836,
           -0.698719062352368,
           -0.6805019913552531,
           -0.6618542398298681,
           -0.6427876096865396,
           -0.623314167938217,
           -0.6034462390634266,
           -0.5831963972062739,
           -0.5625774582184379,
           -0.541602471548191,
           -0.5202847119815792,
           -0.49863767124099184,
           -0.47667504944642797,
           -0.45441074644487806,
           -0.4318588530132981,
           -0.4090336419407468,
           -0.38594955899532896,
           -0.3626212137816673,
           -0.3390633704946757,
           -0.3152909385755031,
           -0.29131896327554796,
           -0.26716261613452225,
           -0.24283718537858734,
           -0.21835806624464577,
           -0.19374075123689813,
           -0.16900082032184968,
           -0.14415393106795907,
           -0.11921580873617425,
           -0.0942022363276273,
           -0.06912904459478485,
           -0.04401210202238211,
           -0.018867304784467676,
           0.006289433316067026,
           0.03144219091911974,
           0.056575049183791346,
           0.08167210186320639,
           0.10671746537135851,
           0.13169528883562306,
           0.15658976412855702,
           0.18138513587265026,
           0.2060657114116916,
           0.2306158707424391,
           0.2550200764003101,
           0.2792628832928296,
           0.30332894847462605,
           0.3272030408577709,
           0.35087005085132966,
           0.3743149999240179,
           0.39752305008391264,
           0.4204795132692139,
           0.44316986064412556,
           0.46557973179395645,
           0.48769494381363376,
           0.5095015002838723,
           0.5309856001293194,
           0.5521336463530699,
           0.5729322546420195,
           0.5933682618376198,
           0.6134287342666611,
           0.6331009759268206,
           0.6523725365217901,
           0.6712312193409025,
           0.6896650889782615,
           0.7076624788865039,
           0.7252119987603968,
           0.7423025417456087,
           0.7589232914680882,
           0.7750637288796014,
           0.7907136389150935,
           0.8058631169576688,
           0.820502575107087,
           0.8346227482478168,
           0.8482146999128017,
           0.8612698279392301,
           0.8737798699127283,
           0.8857369083965291,
           0.8971333759423138,
           0.9079620598795458,
           0.9182161068802737,
           0.9278890272965089,
           0.9369746992674379,
           0.9454673725938633,
           0.9533616723774291,
           0.9606526024223209,
           0.96733554839729,
           0.9734062807560024,
           0.9788609574138614,
           0.98369612617961,
           0.987908726940178,
           0.9914960935973847,
           0.9944559557552775,
           0.9967864401570342,
           0.9984860718705224,
           0.9995537752217638,
           0.999988874475714,
           0.9997910942639262,
           0.9989605597588275,
           0.9974977965944998,
           0.9954037305340127,
           0.9926796868835203,
           0.9893273896534936,
           0.9853489604676167,
           0.9807469172200398,
           0.9755241724818389,
           0.9696840316576879,
           0.9632301908939129,
           0.9561667347392514,
           0.9484981335597957,
           0.9402292407097596,
           0.9313652894598542,
           0.9219118896852252,
           0.9118750243150339,
           0.9012610455459449,
           0.8900766708219062,
           0.878328978582769,
           0.8660254037844392,
           0.8531737331933934,
           0.8397821004585404,
           0.8258589809635439,
           0.8114131864628666,
           0.7964538595049301,
           0.7809904676459185,
           0.76503279745789,
           0.7485909483349907,
           0.7316753261016786,
           0.7142966364270213,
           0.6964658780492222,
           0.678194335814667,
           0.6594935735358967,
           0.6403754266730268,
           0.6208519948432446,
           0.600935634163124,
           0.5806389494286068,
           0.5599747861375968,
           0.5389562223602165,
           0.5175965604618786,
           0.49590931868438975,
           0.4739082225904436,
           0.4516071963768956,
           0.42902035406232714,
           0.4061619905544733,
           0.38304657260316866,
           0.35968872964453685,
           0.33610324454221735,
           0.31230504423149086,
           0.28830919027222335,
           0.264130869316608,
           0.2397853834977361,
           0.2152881407450906,
           0.19065464503306495,
           0.1659004865687139,
           0.14104133192492,
           0.11609291412523105,
           0.09107102268664179,
           0.0659914936266216,
           0.04087019944071283,
           0.01572303905704239,
           -0.009434072225895224,
           -0.03458521281181564,
           -0.05971446488320808,
           -0.08480592447550901,
           -0.1098437115424997,
           -0.13481198000658376,
           -0.15969492778754882,
           -0.18447680680349163,
           -0.2091419329375665,
           -0.23367469596425144,
           -0.2580595694288491,
           -0.2822811204739704,
           -0.30632401960678207,
           -0.3301730504008353,
           -0.35381311912633706,
           -0.37722926430276815,
           -0.4004066661678036,
           -0.4233306560565341,
           -0.4459867256850755,
           -0.46836053633265995,
           -0.4904379279164198,
           -0.5122049279531135,
           -0.5336477604021214,
           -0.5547528543841161,
           -0.5755068527698889,
           -0.5958966206338965,
           -0.6159092535671783,
           -0.6355320858443827,
           -0.6547526984397335,
           -0.6735589268868657,
           -0.6919388689775459,
           -0.7098808922944282,
           -0.7273736415730482,
           -0.7444060458884184,
           -0.7609673256616669,
           -0.7770469994822877,
           -0.7926348907416839,
           -0.807721134073806,
           -0.8222961815988086,
           -0.8363508089657752,
           -0.8498761211906855,
           -0.8628635582859301,
           -0.8753049006778127,
           -0.8871922744086038,
           -0.898518156119867,
           -0.9092753778138881,
           -0.919457131390205,
           -0.9290569729543624,
           -0.9380688268961654,
           -0.946486989734852,
           -0.9543061337287484,
           -0.9615213102471251,
           -0.9681279529021183,
           -0.9741218804387358,
           -0.9794992993811165,
           -0.9842568064333685,
           -0.9883913906334727,
           -0.9919004352588768,
           -0.9947817194825852,
           -0.9970334197786901,
           -0.9986541110764564,
           -0.9996427676622299,
           -0.9999987638285974,
           -0.9997218742703887,
           -0.9988122742272693,
           -0.9972705393728328,
           -0.9950976454502662,
           -0.9922949676548137,
           -0.9888642797634358,
           -0.9848077530122081,
           -0.9801279547221767,
           -0.9748278466745344,
           -0.9689107832361499,
           -0.9623805092366339,
           -0.9552411575982872,
           -0.9474972467204302,
           -0.9391536776197683,
           -0.9302157308286049,
           -0.9206890630528639,
           -0.9105797035920364,
           -0.8998940505233184,
           -0.8886388666523561,
           -0.8768212752331539,
           -0.8644487554598653,
           -0.8515291377333118,
           -0.838070598705227,
           -0.8240816561033651,
           -0.8095711633407449,
           -0.7945483039124446,
           -0.7790225855834922,
           -0.7630038343715285,
           -0.7465021883280534,
           -0.7295280911221899,
           -0.7120922854310258,
           -0.694205806140723,
           -0.6758799733626797,
           -0.6571263852691892,
           -0.6379569107531127,
           -0.6183836819162163,
           -0.5984190863909279,
           -0.5780757595003719,
           -0.5573665762616435,
           -0.5363046432373839,
           -0.5149032902408143,
           -0.49317606189947616,
           -0.4711367090830182,
           -0.44879918020046267,
           -0.4261776123724359,
           -0.403286322483982,
           -0.3801397981235976,
           -0.3567526884142328,
           -0.33313979474205874,
           -0.30931606138887024,
           -0.28529656607405124,
           -0.26109651041208987,
           -0.2367312102916815,
           -0.2122160861825098,
           -0.1875666533758392,
           -0.16279851216509478,
           -0.1379273379726542,
           -0.11296887142907358,
           -0.08793890841106214,
           -0.06285329004448297,
           -0.037727892678718344,
           -0.012578617838742366,
           0.012578617838739611,
           0.03772789267871559,
           0.06285329004448022,
           0.08793890841105939,
           0.11296887142907083,
           0.13792733797265144,
           0.16279851216509383,
           0.18756665337583647,
           0.21221608618250712,
           0.23673121029167885,
           0.2610965104120872,
           0.28529656607404863,
           0.30931606138886764,
           0.33313979474205613,
           0.3567526884142302,
           0.38013979812359505,
           0.4032863224839795,
           0.4261776123724334,
           0.44879918020046017,
           0.47113670908301736,
           0.49317606189947377,
           0.5149032902408119,
           0.5363046432373816,
           0.5573665762616412,
           0.5780757595003697,
           0.5984190863909257,
           0.6183836819162141,
           0.6379569107531106,
           0.6571263852691872,
           0.6758799733626776,
           0.694205806140721,
           0.7120922854310239,
           0.729528091122188,
           0.7465021883280515,
           0.7630038343715267,
           0.7790225855834905,
           0.7945483039124429,
           0.8095711633407432,
           0.8240816561033636,
           0.8380705987052256,
           0.8515291377333104,
           0.864448755459864,
           0.8768212752331526,
           0.8886388666523548,
           0.8998940505233172,
           0.9105797035920353,
           0.9206890630528628,
           0.9302157308286039,
           0.9391536776197673,
           0.9474972467204293,
           0.9552411575982864,
           0.9623805092366331,
           0.9689107832361491,
           0.9748278466745338,
           0.9801279547221762,
           0.9848077530122077,
           0.9888642797634354,
           0.9922949676548136,
           0.9950976454502659,
           0.9972705393728326,
           0.9988122742272691,
           0.9997218742703887,
           0.9999987638285974,
           0.9996427676622299,
           0.9986541110764565,
           0.9970334197786903,
           0.9947817194825854,
           0.9919004352588772,
           0.9883913906334731,
           0.9842568064333691,
           0.9794992993811166,
           0.9741218804387365,
           0.9681279529021191,
           0.9615213102471257,
           0.9543061337287492,
           0.9464869897348529,
           0.9380688268961663,
           0.9290569729543634,
           0.9194571313902061,
           0.9092753778138893,
           0.8985181561198682,
           0.887192274408605,
           0.8753049006778141,
           0.8628635582859315,
           0.8498761211906869,
           0.8363508089657767,
           0.8222961815988101,
           0.8077211340738076,
           0.7926348907416857,
           0.7770469994822895,
           0.7609673256616687,
           0.7444060458884202,
           0.7273736415730501,
           0.7098808922944301,
           0.6919388689775479,
           0.6735589268868677,
           0.6547526984397356,
           0.6355320858443848,
           0.6159092535671805,
           0.5958966206338987,
           0.5755068527698911,
           0.5547528543841184,
           0.5336477604021237,
           0.5122049279531159,
           0.4904379279164222,
           0.4683605363326624,
           0.445986725685078,
           0.4233306560565366,
           0.4004066661678045,
           0.3772292643027707,
           0.35381311912633967,
           0.3301730504008379,
           0.3063240196067847,
           0.2822811204739731,
           0.2580595694288518,
           0.23367469596425414,
           0.2091419329375692,
           0.18447680680349432,
           0.15969492778755154,
           0.1348119800065865,
           0.10984371154250244,
           0.08480592447550998,
           0.059714464883210826,
           0.034585212811818394,
           0.00943407222589798,
           -0.01572303905703963,
           -0.040870199440710075,
           -0.06599149362661885,
           -0.09107102268663904,
           -0.1160929141252283,
           -0.14104133192491727,
           -0.16590048656871118,
           -0.19065464503306223,
           -0.2152881407450879,
           -0.23978538349773515,
           -0.26413086931660534,
           -0.28830919027222074,
           -0.31230504423148653,
           -0.33610324454221474,
           -0.3596887296445326,
           -0.3830465726031661,
           -0.40616199055447233,
           -0.42902035406232464,
           -0.4516071963768947,
           -0.47390822259044113,
           -0.4959093186843889,
           -0.5175965604618762,
           -0.5389562223602157,
           -0.559974786137593,
           -0.5806389494286045,
           -0.6009356341631205,
           -0.6208519948432425,
           -0.6403754266730234,
           -0.6594935735358946,
           -0.6781943358146663,
           -0.6964658780492202,
           -0.7142966364270207,
           -0.7316753261016767,
           -0.7485909483349902,
           -0.7650327974578882,
           -0.7809904676459168,
           -0.7964538595049273,
           -0.811413186462865,
           -0.8258589809635414,
           -0.8397821004585388,
           -0.853173733193391,
           -0.8660254037844377,
           -0.8783289785827686,
           -0.890076670821905,
           -0.9012610455459446,
           -0.9118750243150328,
           -0.9219118896852248,
           -0.9313652894598532,
           -0.9402292407097586,
           -0.9484981335597943,
           -0.9561667347392505,
           -0.9632301908939117,
           -0.9696840316576872,
           -0.9755241724818379,
           -0.9807469172200393,
           -0.9853489604676164,
           -0.9893273896534932,
           -0.9926796868835202,
           -0.9954037305340123,
           -0.9974977965944997,
           -0.9989605597588272,
           -0.9997910942639261,
           -0.9999888744757142,
           -0.9995537752217639,
           -0.9984860718705226,
           -0.9967864401570344,
           -0.9944559557552779,
           -0.991496093597385,
           -0.9879087269401781,
           -0.9836961261796106,
           -0.9788609574138616,
           -0.9734062807560033,
           -0.9673355483972904,
           -0.9606526024223219,
           -0.9533616723774296,
           -0.9454673725938645,
           -0.9369746992674386,
           -0.9278890272965106,
           -0.9182161068802747,
           -0.9079620598795463,
           -0.897133375942315,
           -0.8857369083965295,
           -0.8737798699127296,
           -0.8612698279392311,
           -0.8482146999128037,
           -0.8346227482478179,
           -0.8205025751070891,
           -0.8058631169576699,
           -0.7907136389150957,
           -0.7750637288796026,
           -0.7589232914680911,
           -0.7423025417456105,
           -0.7252119987603974,
           -0.7076624788865059,
           -0.6896650889782623,
           -0.6712312193409045,
           -0.6523725365217915,
           -0.6331009759268234,
           -0.6134287342666627,
           -0.5933682618376227,
           -0.572932254642021,
           -0.5521336463530729,
           -0.5309856001293217,
           -0.5095015002838762,
           -0.48769494381363615,
           -0.46557973179395734,
           -0.44316986064412806,
           -0.4204795132692148,
           -0.3975230500839152,
           -0.3743149999240196,
           -0.35087005085133305,
           -0.3272030408577727,
           -0.3033289484746295,
           -0.2792628832928314,
           -0.2550200764003136,
           -0.23061587074244178,
           -0.20606571141169605,
           -0.18138513587265298,
           -0.156589764128558,
           -0.1316952888356258,
           -0.10671746537135948,
           -0.08167210186320913,
           -0.05657504918379321,
           -0.03144219091912338,
           -0.006289433316068895,
           0.01886730478446403,
           0.04401210202238024,
           0.06912904459478121,
           0.09420223632762455,
           0.11921580873616976,
           0.14415393106795632,
           0.1690008203218487,
           0.1937407512368954,
           0.21835806624464482,
           0.24283718537858467,
           0.2671626161345204,
           0.29131896327554446,
           0.31529093857550133,
           0.3390633704946723,
           0.3626212137816655,
           0.38594955899532557,
           0.40903364194074426,
           0.431858853013294,
           0.4544107464448756,
           0.4766750494464271,
           0.49863767124098946,
           0.5202847119815783,
           0.5416024715481879,
           0.5625774582184363,
           0.583196397206271,
           0.6034462390634252,
           0.6233141679382143,
           0.6427876096865381,
           0.6618542398298655,
           0.680501991355251,
           0.6987190623523648,
           0.7164939234827817,
           0.7338153252767273,
           0.7506723052527228,
           0.7670541948555982,
           0.7829506262084615,
           0.7983515386744052,
           0.8132471852237312,
           0.8276281386027304,
           0.8414852973000484,
           0.8548098913069252,
           0.8675934876675996,
           0.8798279958164285,
           0.8915056726982822,
           0.9026191276690331,
           0.913161327172983,
           0.9231255991943114,
           0.9325056374797072,
           0.9412955055295024,
           0.949489640354813,
           0.9570828559982699,
           0.9640703468161503,
           0.9704476905197962,
           0.9762108509744292,
           0.9813561807535588,
           0.9858804234473955,
           0.9897807157237829,
           0.9930545891403675,
           0.9956999717068377,
           0.9977151891962613,
           0.9990989662046814,
           0.9998504269583004,
           0.999969095867747,
           0.9994548978290694,
           0.9983081582712683,
           0.996529602950337,
           0.9941203574899394,
           0.9910819466690202,
           0.9874162934567893,
           0.9831257177957049,
           0.978212935133209,
           0.9726810547031602,
           0.966533577558042,
           0.9597743943531893,
           0.9524077828844523,
           0.9444384053808292,
           0.9358713055538131,
           0.9267119054052856,
           0.9169660017960147,
           0.9066397627768901,
           0.895739723685257,
           0.8842727830087788,
           0.8722461980194882,
           0.8596675801807464,
           0.846544890330061,
           0.832886433640775,
           0.8187008543658286,
           0.8039971303669423,
           0.7887845674326323,
           0.7730727933887197,
           0.7568717520049928,
           0.7401916967019458,
           0.7230431840615106,
           0.7054370671459558,
           0.6873844886291118,
           0.6688968737443399,
           0.6499859230536486,
           0.6306636050425578,
           0.6109421485454251,
           0.5908340350059589,
           0.5703519905779039,
           0.5495089780708071,
           0.5283181887460542,
           0.5067930339682739,
           0.48494713671749085,
           0.4627943229673007,
           0.4403486129346228,
           0.41762421220646895,
           0.39463550274944137,
           0.37139703380757044,
           0.3479235126942847,
           0.3242297954843736,
           0.3003308776117516,
           0.2762418843790773,
           0.2519780613851266,
           0.22755476487608564,
           0.202987452026763,
           0.17829167115797953,
           0.15348305189621822,
           0.12857729528187253,
           0.10359016383224157,
           0.07853747156567026,
           0.053435073993059974,
           0.02829885808311901,
           0.0031447322077391986,
           -0.022011383926226362,
           -0.047153569352302555,
           -0.07226591192058551,
           -0.09733251836829925,
           -0.12233752437845545,
           -0.1472651046201375,
           -0.172099482764167,
           -0.19682494146770152,
           -0.22142583232155685,
           -0.24588658575384958,
           -0.27019172088377963,
           -0.29432585531928085,
           -0.3182737148923058,
           -0.34202014332566755,
           -0.3655501118252161,
           -0.3888487285913861,
           -0.4119012482439895,
           -0.434693081154394,
           -0.4572098026790758,
           -0.4794371622888079,
           -0.5013610925876024,
           -0.5229677182158005,
           -0.5442433646315784,
           -0.5651745667653906,
           -0.5857480775418386,
           -0.6059508762635458,
           -0.6257701768518048,
           -0.6451934359386909,
           -0.6642083608056129,
           -0.6828029171631864,
           -0.7009653367675961,
           -0.7186841248685356,
           -0.7359480674841019,
           -0.7527462384979521,
           -0.7690680065743152,
           -0.7849030418864039,
           -0.8002413226540305,
           -0.8150731414862615,
           -0.829389111525081,
           -0.8431801723862217,
           -0.8564375958933441,
           -0.869152991601998,
           -0.8813183121098054,
           -0.8929258581495676,
           -0.9039682834620144,
           -0.9144385994451648,
           -0.9243301795773068,
           -0.9336367636108452,
           -0.9423524615343184,
           -0.9504717573001107,
           -0.9579895123154886,
           -0.9649009686947382,
           -0.971201752270376,
           -0.9768878753614918,
           -0.9819557392975063,
           -0.986402136695714,
           -0.9902242534911982,
           -0.9934196707178102,
           -0.9959863660391042,
           -0.9979227150282429,
           -0.9992274921960793,
           -0.9998998717667489,
           -0.9999394282002937,
           -0.9993461364619809,
           -0.9981203720381464,
           -0.9962629106985545,
           -0.9937749280054246,
           -0.9906579985694319,
           -0.9869140950531606,
           -0.9825455869226282,
           -0.977555238947687,
           -0.9719462094522342,
           -0.9657220483153557,
           -0.9588866947246505,
           -0.9514444746831769,
           -0.9434000982715822,
           -0.9347586566671515,
           -0.9255256189216792,
           -0.9157068285001697,
           -0.9053084995825982,
           -0.8943372131310281,
           -0.8827999127246214,
           -0.8707039001651286,
           -0.8580568308556896,
           -0.8448667089558191,
           -0.8311418823156941,
           -0.8168910371929069,
           -0.8021231927550444,
           -0.7868476953715918,
           -0.7710742126987256,
           -0.754812727560801,
           -0.7380735316323401,
           -0.7208672189245875,
           -0.7032046790806853,
           -0.6850970904837836,
           -0.6665559131823736,
           -0.6475928816373971,
           -0.6282199972956443,
           -0.6084495209942178,
           -0.5882939652008073,
           -0.5677660860947088,
           -0.54687887549363,
           -0.525645552631322,
           -0.5040795557913275,
           -0.48219453380204924,
           -0.46000433739861424,
           -0.4375230104569061,
           -0.41476478110541054,
           -0.3917440527203994,
           -0.3684753948102538,
           -0.3449735337945929,
           -0.3212533436841446,
           -0.29732983666717505,
           -0.273218153608467,
           -0.24893355446689466,
           -0.22449140863757405,
           -0.19990718522480794,
           -0.17519644325187073,
           -0.15037482181394035,
           -0.12545803018029808,
           -0.1004618378521719,
           -0.07540206458240392,
           -0.050294570363370435,
           -0.025155245389378463,
           -9.797174393178826e-16
          ],
          "coloraxis": "coloraxis",
          "symbol": "circle"
         },
         "mode": "markers",
         "name": "",
         "orientation": "v",
         "showlegend": false,
         "type": "scatter",
         "x": [
          0,
          0.02515789912784619,
          0.05031579825569238,
          0.07547369738353857,
          0.10063159651138476,
          0.12578949563923095,
          0.15094739476707714,
          0.17610529389492333,
          0.20126319302276952,
          0.2264210921506157,
          0.2515789912784619,
          0.2767368904063081,
          0.3018947895341543,
          0.32705268866200043,
          0.35221058778984665,
          0.37736848691769287,
          0.40252638604553903,
          0.4276842851733852,
          0.4528421843012314,
          0.4780000834290776,
          0.5031579825569238,
          0.52831588168477,
          0.5534737808126162,
          0.5786316799404624,
          0.6037895790683085,
          0.6289474781961547,
          0.6541053773240009,
          0.6792632764518471,
          0.7044211755796933,
          0.7295790747075395,
          0.7547369738353857,
          0.7798948729632319,
          0.8050527720910781,
          0.8302106712189242,
          0.8553685703467704,
          0.8805264694746167,
          0.9056843686024628,
          0.930842267730309,
          0.9560001668581553,
          0.9811580659860014,
          1.0063159651138476,
          1.0314738642416938,
          1.05663176336954,
          1.0817896624973862,
          1.1069475616252324,
          1.1321054607530785,
          1.1572633598809248,
          1.1824212590087708,
          1.207579158136617,
          1.2327370572644634,
          1.2578949563923094,
          1.2830528555201557,
          1.3082107546480017,
          1.333368653775848,
          1.3585265529036943,
          1.3836844520315403,
          1.4088423511593866,
          1.4340002502872329,
          1.459158149415079,
          1.4843160485429252,
          1.5094739476707715,
          1.5346318467986175,
          1.5597897459264638,
          1.5849476450543099,
          1.6101055441821561,
          1.6352634433100024,
          1.6604213424378484,
          1.6855792415656947,
          1.7107371406935408,
          1.735895039821387,
          1.7610529389492333,
          1.7862108380770794,
          1.8113687372049256,
          1.836526636332772,
          1.861684535460618,
          1.8868424345884642,
          1.9120003337163105,
          1.9371582328441566,
          1.9623161319720028,
          1.9874740310998489,
          2.012631930227695,
          2.037789829355541,
          2.0629477284833877,
          2.0881056276112337,
          2.11326352673908,
          2.1384214258669263,
          2.1635793249947723,
          2.1887372241226184,
          2.213895123250465,
          2.239053022378311,
          2.264210921506157,
          2.289368820634003,
          2.3145267197618495,
          2.3396846188896956,
          2.3648425180175416,
          2.390000417145388,
          2.415158316273234,
          2.4403162154010802,
          2.4654741145289267,
          2.490632013656773,
          2.515789912784619,
          2.5409478119124653,
          2.5661057110403114,
          2.5912636101681574,
          2.6164215092960035,
          2.64157940842385,
          2.666737307551696,
          2.691895206679542,
          2.7170531058073886,
          2.7422110049352346,
          2.7673689040630807,
          2.792526803190927,
          2.817684702318773,
          2.8428426014466193,
          2.8680005005744658,
          2.893158399702312,
          2.918316298830158,
          2.9434741979580044,
          2.9686320970858504,
          2.9937899962136965,
          3.018947895341543,
          3.044105794469389,
          3.069263693597235,
          3.094421592725081,
          3.1195794918529276,
          3.1447373909807737,
          3.1698952901086197,
          3.195053189236466,
          3.2202110883643122,
          3.2453689874921583,
          3.270526886620005,
          3.295684785747851,
          3.320842684875697,
          3.3460005840035434,
          3.3711584831313894,
          3.3963163822592355,
          3.4214742813870815,
          3.446632180514928,
          3.471790079642774,
          3.49694797877062,
          3.5221058778984666,
          3.5472637770263127,
          3.5724216761541587,
          3.5975795752820052,
          3.6227374744098513,
          3.6478953735376973,
          3.673053272665544,
          3.69821117179339,
          3.723369070921236,
          3.7485269700490824,
          3.7736848691769285,
          3.7988427683047745,
          3.824000667432621,
          3.849158566560467,
          3.874316465688313,
          3.899474364816159,
          3.9246322639440057,
          3.9497901630718517,
          3.9749480621996978,
          4.000105961327544,
          4.02526386045539,
          4.050421759583236,
          4.075579658711082,
          4.1007375578389285,
          4.125895456966775,
          4.1510533560946214,
          4.1762112552224675,
          4.2013691543503136,
          4.22652705347816,
          4.251684952606006,
          4.276842851733853,
          4.302000750861699,
          4.327158649989545,
          4.352316549117391,
          4.377474448245237,
          4.402632347373083,
          4.42779024650093,
          4.452948145628776,
          4.478106044756622,
          4.503263943884468,
          4.528421843012314,
          4.55357974214016,
          4.578737641268006,
          4.603895540395853,
          4.629053439523699,
          4.654211338651545,
          4.679369237779391,
          4.704527136907237,
          4.729685036035083,
          4.75484293516293,
          4.780000834290776,
          4.805158733418622,
          4.830316632546468,
          4.855474531674314,
          4.8806324308021605,
          4.9057903299300065,
          4.9309482290578535,
          4.9561061281856995,
          4.981264027313546,
          5.006421926441392,
          5.031579825569238,
          5.056737724697084,
          5.081895623824931,
          5.107053522952777,
          5.132211422080623,
          5.157369321208469,
          5.182527220336315,
          5.207685119464161,
          5.232843018592007,
          5.258000917719854,
          5.2831588168477,
          5.308316715975546,
          5.333474615103392,
          5.358632514231238,
          5.383790413359084,
          5.408948312486931,
          5.434106211614777,
          5.459264110742623,
          5.484422009870469,
          5.509579908998315,
          5.534737808126161,
          5.559895707254008,
          5.585053606381854,
          5.6102115055097,
          5.635369404637546,
          5.6605273037653925,
          5.6856852028932385,
          5.710843102021085,
          5.7360010011489315,
          5.761158900276778,
          5.786316799404624,
          5.81147469853247,
          5.836632597660316,
          5.861790496788162,
          5.886948395916009,
          5.912106295043855,
          5.937264194171701,
          5.962422093299547,
          5.987579992427393,
          6.012737891555239,
          6.037895790683086,
          6.063053689810932,
          6.088211588938778,
          6.113369488066624,
          6.13852738719447,
          6.163685286322316,
          6.188843185450162,
          6.214001084578009,
          6.239158983705855,
          6.264316882833701,
          6.289474781961547,
          6.314632681089393,
          6.339790580217239,
          6.364948479345086,
          6.390106378472932,
          6.415264277600778,
          6.4404221767286245,
          6.4655800758564705,
          6.490737974984317,
          6.515895874112163,
          6.54105377324001,
          6.566211672367856,
          6.591369571495702,
          6.616527470623548,
          6.641685369751394,
          6.66684326887924,
          6.692001168007087,
          6.717159067134933,
          6.742316966262779,
          6.767474865390625,
          6.792632764518471,
          6.817790663646317,
          6.842948562774163,
          6.86810646190201,
          6.893264361029856,
          6.918422260157702,
          6.943580159285548,
          6.968738058413394,
          6.99389595754124,
          7.019053856669087,
          7.044211755796933,
          7.069369654924779,
          7.094527554052625,
          7.119685453180471,
          7.1448433523083175,
          7.170001251436164,
          7.1951591505640105,
          7.2203170496918565,
          7.2454749488197026,
          7.270632847947549,
          7.295790747075395,
          7.320948646203241,
          7.346106545331088,
          7.371264444458934,
          7.39642234358678,
          7.421580242714626,
          7.446738141842472,
          7.471896040970318,
          7.497053940098165,
          7.522211839226011,
          7.547369738353857,
          7.572527637481703,
          7.597685536609549,
          7.622843435737395,
          7.648001334865242,
          7.673159233993088,
          7.698317133120934,
          7.72347503224878,
          7.748632931376626,
          7.773790830504472,
          7.798948729632318,
          7.824106628760165,
          7.849264527888011,
          7.874422427015857,
          7.899580326143703,
          7.9247382252715495,
          7.9498961243993955,
          7.9750540235272425,
          8.000211922655089,
          8.025369821782935,
          8.05052772091078,
          8.075685620038627,
          8.100843519166473,
          8.126001418294319,
          8.151159317422165,
          8.17631721655001,
          8.201475115677857,
          8.226633014805705,
          8.25179091393355,
          8.276948813061397,
          8.302106712189243,
          8.327264611317089,
          8.352422510444935,
          8.377580409572781,
          8.402738308700627,
          8.427896207828473,
          8.45305410695632,
          8.478212006084165,
          8.503369905212011,
          8.528527804339857,
          8.553685703467705,
          8.578843602595551,
          8.604001501723397,
          8.629159400851243,
          8.65431729997909,
          8.679475199106935,
          8.704633098234781,
          8.729790997362628,
          8.754948896490474,
          8.78010679561832,
          8.805264694746166,
          8.830422593874012,
          8.85558049300186,
          8.880738392129706,
          8.905896291257552,
          8.931054190385398,
          8.956212089513244,
          8.98136998864109,
          9.006527887768936,
          9.031685786896782,
          9.056843686024628,
          9.082001585152474,
          9.10715948428032,
          9.132317383408166,
          9.157475282536012,
          9.18263318166386,
          9.207791080791706,
          9.232948979919552,
          9.258106879047398,
          9.283264778175244,
          9.30842267730309,
          9.333580576430936,
          9.358738475558782,
          9.383896374686628,
          9.409054273814474,
          9.43421217294232,
          9.459370072070167,
          9.484527971198013,
          9.50968587032586,
          9.534843769453706,
          9.560001668581553,
          9.585159567709399,
          9.610317466837245,
          9.63547536596509,
          9.660633265092937,
          9.685791164220783,
          9.710949063348629,
          9.736106962476475,
          9.761264861604321,
          9.786422760732167,
          9.811580659860013,
          9.83673855898786,
          9.861896458115707,
          9.887054357243553,
          9.912212256371399,
          9.937370155499245,
          9.962528054627091,
          9.987685953754937,
          10.012843852882783,
          10.03800175201063,
          10.063159651138475,
          10.088317550266321,
          10.113475449394167,
          10.138633348522013,
          10.163791247649861,
          10.188949146777707,
          10.214107045905553,
          10.2392649450334,
          10.264422844161246,
          10.289580743289092,
          10.314738642416938,
          10.339896541544784,
          10.36505444067263,
          10.390212339800476,
          10.415370238928322,
          10.440528138056168,
          10.465686037184014,
          10.490843936311862,
          10.516001835439708,
          10.541159734567554,
          10.5663176336954,
          10.591475532823246,
          10.616633431951092,
          10.641791331078938,
          10.666949230206784,
          10.69210712933463,
          10.717265028462476,
          10.742422927590322,
          10.767580826718168,
          10.792738725846016,
          10.817896624973862,
          10.843054524101708,
          10.868212423229554,
          10.8933703223574,
          10.918528221485246,
          10.943686120613092,
          10.968844019740938,
          10.994001918868785,
          11.01915981799663,
          11.044317717124477,
          11.069475616252323,
          11.094633515380169,
          11.119791414508017,
          11.144949313635863,
          11.170107212763709,
          11.195265111891555,
          11.2204230110194,
          11.245580910147247,
          11.270738809275093,
          11.295896708402939,
          11.321054607530785,
          11.346212506658631,
          11.371370405786477,
          11.396528304914323,
          11.42168620404217,
          11.446844103170017,
          11.472002002297863,
          11.497159901425709,
          11.522317800553555,
          11.547475699681401,
          11.572633598809247,
          11.597791497937093,
          11.62294939706494,
          11.648107296192785,
          11.673265195320631,
          11.698423094448477,
          11.723580993576324,
          11.74873889270417,
          11.773896791832017,
          11.799054690959863,
          11.82421259008771,
          11.849370489215556,
          11.874528388343402,
          11.899686287471248,
          11.924844186599094,
          11.95000208572694,
          11.975159984854786,
          12.000317883982632,
          12.025475783110478,
          12.050633682238324,
          12.075791581366172,
          12.100949480494018,
          12.126107379621864,
          12.15126527874971,
          12.176423177877556,
          12.201581077005402,
          12.226738976133248,
          12.251896875261094,
          12.27705477438894,
          12.302212673516786,
          12.327370572644632,
          12.352528471772478,
          12.377686370900324,
          12.402844270028172,
          12.428002169156018,
          12.453160068283864,
          12.47831796741171,
          12.503475866539556,
          12.528633765667402,
          12.553791664795249,
          12.578949563923095,
          12.60410746305094,
          12.629265362178787,
          12.654423261306633,
          12.679581160434479,
          12.704739059562325,
          12.729896958690173,
          12.755054857818019,
          12.780212756945865,
          12.80537065607371,
          12.830528555201557,
          12.855686454329403,
          12.880844353457249,
          12.906002252585095,
          12.931160151712941,
          12.956318050840787,
          12.981475949968633,
          13.00663384909648,
          13.031791748224325,
          13.056949647352173,
          13.08210754648002,
          13.107265445607865,
          13.132423344735711,
          13.157581243863557,
          13.182739142991403,
          13.20789704211925,
          13.233054941247095,
          13.258212840374942,
          13.283370739502788,
          13.308528638630634,
          13.33368653775848,
          13.358844436886326,
          13.384002336014174,
          13.40916023514202,
          13.434318134269866,
          13.459476033397712,
          13.484633932525558,
          13.509791831653404,
          13.53494973078125,
          13.560107629909096,
          13.585265529036942,
          13.610423428164788,
          13.635581327292634,
          13.66073922642048,
          13.685897125548326,
          13.711055024676174,
          13.73621292380402,
          13.761370822931866,
          13.786528722059712,
          13.811686621187558,
          13.836844520315404,
          13.86200241944325,
          13.887160318571096,
          13.912318217698942,
          13.937476116826788,
          13.962634015954634,
          13.98779191508248,
          14.012949814210328,
          14.038107713338174,
          14.06326561246602,
          14.088423511593867,
          14.113581410721713,
          14.138739309849559,
          14.163897208977405,
          14.18905510810525,
          14.214213007233097,
          14.239370906360943,
          14.264528805488789,
          14.289686704616635,
          14.314844603744481,
          14.340002502872329,
          14.365160402000175,
          14.390318301128021,
          14.415476200255867,
          14.440634099383713,
          14.465791998511559,
          14.490949897639405,
          14.516107796767251,
          14.541265695895097,
          14.566423595022943,
          14.59158149415079,
          14.616739393278635,
          14.641897292406481,
          14.66705519153433,
          14.692213090662175,
          14.717370989790021,
          14.742528888917867,
          14.767686788045713,
          14.79284468717356,
          14.818002586301406,
          14.843160485429252,
          14.868318384557098,
          14.893476283684944,
          14.91863418281279,
          14.943792081940636,
          14.968949981068482,
          14.99410788019633,
          15.019265779324176,
          15.044423678452022,
          15.069581577579868,
          15.094739476707714,
          15.11989737583556,
          15.145055274963406,
          15.170213174091252,
          15.195371073219098,
          15.220528972346944,
          15.24568687147479,
          15.270844770602636,
          15.296002669730484,
          15.32116056885833,
          15.346318467986176,
          15.371476367114022,
          15.396634266241868,
          15.421792165369714,
          15.44695006449756,
          15.472107963625406,
          15.497265862753252,
          15.522423761881099,
          15.547581661008945,
          15.57273956013679,
          15.597897459264637,
          15.623055358392484,
          15.64821325752033,
          15.673371156648177,
          15.698529055776023,
          15.723686954903869,
          15.748844854031715,
          15.77400275315956,
          15.799160652287407,
          15.824318551415253,
          15.849476450543099,
          15.874634349670945,
          15.899792248798791,
          15.924950147926637,
          15.950108047054485,
          15.975265946182331,
          16.000423845310177,
          16.02558174443802,
          16.05073964356587,
          16.075897542693713,
          16.10105544182156,
          16.12621334094941,
          16.151371240077253,
          16.1765291392051,
          16.201687038332945,
          16.226844937460793,
          16.252002836588638,
          16.277160735716485,
          16.30231863484433,
          16.327476533972177,
          16.35263443310002,
          16.37779233222787,
          16.402950231355714,
          16.42810813048356,
          16.45326602961141,
          16.478423928739254,
          16.5035818278671,
          16.528739726994946,
          16.553897626122794,
          16.579055525250638,
          16.604213424378486,
          16.62937132350633,
          16.654529222634178,
          16.679687121762022,
          16.70484502088987,
          16.730002920017714,
          16.755160819145562,
          16.78031871827341,
          16.805476617401254,
          16.830634516529102,
          16.855792415656946,
          16.880950314784794,
          16.90610821391264,
          16.931266113040486,
          16.95642401216833,
          16.98158191129618,
          17.006739810424023,
          17.03189770955187,
          17.057055608679715,
          17.082213507807563,
          17.10737140693541,
          17.132529306063255,
          17.157687205191102,
          17.182845104318947,
          17.208003003446795,
          17.23316090257464,
          17.258318801702487,
          17.28347670083033,
          17.30863459995818,
          17.333792499086023,
          17.35895039821387,
          17.384108297341715,
          17.409266196469563,
          17.43442409559741,
          17.459581994725255,
          17.484739893853103,
          17.509897792980947,
          17.535055692108795,
          17.56021359123664,
          17.585371490364487,
          17.61052938949233,
          17.63568728862018,
          17.660845187748023,
          17.68600308687587,
          17.71116098600372,
          17.736318885131563,
          17.76147678425941,
          17.786634683387256,
          17.811792582515103,
          17.836950481642948,
          17.862108380770795,
          17.88726627989864,
          17.912424179026488,
          17.937582078154332,
          17.96273997728218,
          17.987897876410024,
          18.01305577553787,
          18.03821367466572,
          18.063371573793564,
          18.08852947292141,
          18.113687372049256,
          18.138845271177104,
          18.164003170304948,
          18.189161069432796,
          18.21431896856064,
          18.239476867688488,
          18.264634766816332,
          18.28979266594418,
          18.314950565072024,
          18.340108464199872,
          18.36526636332772,
          18.390424262455564,
          18.415582161583412,
          18.440740060711256,
          18.465897959839104,
          18.49105585896695,
          18.516213758094796,
          18.54137165722264,
          18.56652955635049,
          18.591687455478333,
          18.61684535460618,
          18.642003253734025,
          18.667161152861873,
          18.69231905198972,
          18.717476951117565,
          18.742634850245413,
          18.767792749373257,
          18.792950648501105,
          18.81810854762895,
          18.843266446756797,
          18.86842434588464,
          18.89358224501249,
          18.918740144140333,
          18.94389804326818,
          18.969055942396025,
          18.994213841523873,
          19.01937174065172,
          19.044529639779565,
          19.069687538907413,
          19.094845438035257,
          19.120003337163105,
          19.14516123629095,
          19.170319135418797,
          19.19547703454664,
          19.22063493367449,
          19.245792832802334,
          19.27095073193018,
          19.296108631058026,
          19.321266530185873,
          19.34642442931372,
          19.371582328441566,
          19.396740227569413,
          19.421898126697258,
          19.447056025825106,
          19.47221392495295,
          19.497371824080798,
          19.522529723208642,
          19.54768762233649,
          19.572845521464334,
          19.598003420592182,
          19.623161319720026,
          19.648319218847874,
          19.67347711797572,
          19.698635017103566,
          19.723792916231414,
          19.748950815359258,
          19.774108714487106,
          19.79926661361495,
          19.824424512742798,
          19.849582411870642,
          19.87474031099849,
          19.899898210126334,
          19.925056109254182,
          19.950214008382027,
          19.975371907509874,
          20.000529806637722,
          20.025687705765566,
          20.050845604893414,
          20.07600350402126,
          20.101161403149106,
          20.12631930227695,
          20.1514772014048,
          20.176635100532643,
          20.20179299966049,
          20.226950898788335,
          20.252108797916183,
          20.277266697044027,
          20.302424596171875,
          20.327582495299723,
          20.352740394427567,
          20.377898293555415,
          20.40305619268326,
          20.428214091811107,
          20.45337199093895,
          20.4785298900668,
          20.503687789194643,
          20.52884568832249,
          20.554003587450335,
          20.579161486578183,
          20.604319385706027,
          20.629477284833875,
          20.654635183961723,
          20.679793083089567,
          20.704950982217415,
          20.73010888134526,
          20.755266780473107,
          20.78042467960095,
          20.8055825787288,
          20.830740477856644,
          20.85589837698449,
          20.881056276112336,
          20.906214175240184,
          20.931372074368028,
          20.956529973495876,
          20.981687872623723,
          21.006845771751568,
          21.032003670879416,
          21.05716157000726,
          21.082319469135108,
          21.107477368262952,
          21.1326352673908,
          21.157793166518644,
          21.182951065646492,
          21.208108964774336,
          21.233266863902184,
          21.258424763030032,
          21.283582662157876,
          21.308740561285724,
          21.333898460413568,
          21.359056359541416,
          21.38421425866926,
          21.409372157797108,
          21.434530056924952,
          21.4596879560528,
          21.484845855180644,
          21.510003754308492,
          21.535161653436337,
          21.560319552564184,
          21.585477451692032,
          21.610635350819877,
          21.635793249947724,
          21.66095114907557,
          21.686109048203416,
          21.71126694733126,
          21.73642484645911,
          21.761582745586953,
          21.7867406447148,
          21.811898543842645,
          21.837056442970493,
          21.862214342098337,
          21.887372241226185,
          21.912530140354033,
          21.937688039481877,
          21.962845938609725,
          21.98800383773757,
          22.013161736865417,
          22.03831963599326,
          22.06347753512111,
          22.088635434248953,
          22.1137933333768,
          22.138951232504645,
          22.164109131632493,
          22.189267030760337,
          22.214424929888185,
          22.239582829016033,
          22.264740728143877,
          22.289898627271725,
          22.31505652639957,
          22.340214425527417,
          22.36537232465526,
          22.39053022378311,
          22.415688122910954,
          22.4408460220388,
          22.466003921166646,
          22.491161820294494,
          22.516319719422338,
          22.541477618550186,
          22.566635517678034,
          22.591793416805878,
          22.616951315933726,
          22.64210921506157,
          22.667267114189418,
          22.692425013317262,
          22.71758291244511,
          22.742740811572954,
          22.767898710700802,
          22.793056609828646,
          22.818214508956494,
          22.84337240808434,
          22.868530307212186,
          22.893688206340034,
          22.91884610546788,
          22.944004004595726,
          22.96916190372357,
          22.994319802851418,
          23.019477701979262,
          23.04463560110711,
          23.069793500234955,
          23.094951399362802,
          23.120109298490647,
          23.145267197618494,
          23.17042509674634,
          23.195582995874187,
          23.220740895002034,
          23.24589879412988,
          23.271056693257727,
          23.29621459238557,
          23.32137249151342,
          23.346530390641263,
          23.37168828976911,
          23.396846188896955,
          23.422004088024803,
          23.447161987152647,
          23.472319886280495,
          23.49747778540834,
          23.522635684536187,
          23.547793583664035,
          23.57295148279188,
          23.598109381919727,
          23.62326728104757,
          23.64842518017542,
          23.673583079303263,
          23.69874097843111,
          23.723898877558955,
          23.749056776686803,
          23.774214675814648,
          23.799372574942495,
          23.82453047407034,
          23.849688373198187,
          23.874846272326035,
          23.90000417145388,
          23.925162070581727,
          23.95031996970957,
          23.97547786883742,
          24.000635767965264,
          24.02579366709311,
          24.050951566220956,
          24.076109465348804,
          24.101267364476648,
          24.126425263604496,
          24.151583162732344,
          24.176741061860188,
          24.201898960988036,
          24.22705686011588,
          24.252214759243728,
          24.277372658371572,
          24.30253055749942,
          24.327688456627264,
          24.352846355755112,
          24.378004254882956,
          24.403162154010804,
          24.42832005313865,
          24.453477952266496,
          24.478635851394344,
          24.50379375052219,
          24.528951649650036,
          24.55410954877788,
          24.57926744790573,
          24.604425347033573,
          24.62958324616142,
          24.654741145289265,
          24.679899044417112,
          24.705056943544957,
          24.730214842672805,
          24.75537274180065,
          24.780530640928497,
          24.805688540056344,
          24.83084643918419,
          24.856004338312037,
          24.88116223743988,
          24.90632013656773,
          24.931478035695573,
          24.95663593482342,
          24.981793833951265,
          25.006951733079113,
          25.032109632206957,
          25.057267531334805,
          25.08242543046265,
          25.107583329590497,
          25.132741228718345
         ],
         "xaxis": "x",
         "y": [
          0,
          0.025155245389375847,
          0.05029457036336618,
          0.07540206458240159,
          0.10046183785216795,
          0.12545803018029603,
          0.1503748218139367,
          0.17519644325186898,
          0.19990718522480458,
          0.22449140863757258,
          0.2489335544668916,
          0.27321815360846585,
          0.2973298366671723,
          0.32125334368414366,
          0.34497353379459045,
          0.3684753948102499,
          0.3917440527203973,
          0.41476478110540693,
          0.4375230104569043,
          0.46000433739861096,
          0.4821945338020477,
          0.5040795557913246,
          0.5256455526313207,
          0.5468788754936273,
          0.5677660860947078,
          0.588293965200805,
          0.608449520994217,
          0.6282199972956423,
          0.647592881637394,
          0.666555913182372,
          0.6850970904837809,
          0.7032046790806838,
          0.720867218924585,
          0.7380735316323389,
          0.7548127275607988,
          0.7710742126987247,
          0.7868476953715899,
          0.8021231927550437,
          0.8168910371929053,
          0.8311418823156935,
          0.8448667089558177,
          0.8580568308556875,
          0.8707039001651274,
          0.8827999127246196,
          0.8943372131310272,
          0.9053084995825966,
          0.9157068285001692,
          0.9255256189216778,
          0.934758656667151,
          0.9434000982715812,
          0.9514444746831766,
          0.9588866947246497,
          0.9657220483153546,
          0.9719462094522335,
          0.9775552389476861,
          0.9825455869226277,
          0.98691409505316,
          0.9906579985694317,
          0.9937749280054242,
          0.9962629106985543,
          0.9981203720381463,
          0.9993461364619809,
          0.9999394282002937,
          0.9998998717667489,
          0.9992274921960794,
          0.9979227150282433,
          0.9959863660391044,
          0.9934196707178107,
          0.9902242534911986,
          0.9864021366957146,
          0.9819557392975067,
          0.9768878753614926,
          0.9712017522703763,
          0.9649009686947391,
          0.9579895123154889,
          0.9504717573001116,
          0.9423524615343186,
          0.9336367636108462,
          0.9243301795773085,
          0.9144385994451658,
          0.9039682834620162,
          0.8929258581495686,
          0.881318312109807,
          0.869152991601999,
          0.856437595893346,
          0.8431801723862224,
          0.8293891115250829,
          0.8150731414862624,
          0.800241322654032,
          0.7849030418864046,
          0.769068006574317,
          0.7527462384979551,
          0.7359480674841035,
          0.7186841248685385,
          0.7009653367675978,
          0.6828029171631891,
          0.6642083608056142,
          0.6451934359386937,
          0.6257701768518059,
          0.6059508762635484,
          0.5857480775418397,
          0.5651745667653929,
          0.5442433646315792,
          0.5229677182158028,
          0.5013610925876063,
          0.47943716228880995,
          0.4572098026790794,
          0.4346930811543961,
          0.4119012482439928,
          0.3888487285913878,
          0.36555011182521946,
          0.3420201433256689,
          0.3182737148923088,
          0.29432585531928224,
          0.27019172088378224,
          0.24588658575385056,
          0.22142583232155955,
          0.19682494146770554,
          0.17209948276416928,
          0.14726510462014156,
          0.12233752437845731,
          0.09733251836830287,
          0.07226591192058739,
          0.04715356935230619,
          0.022011383926227784,
          -0.0031447322077359985,
          -0.02829885808311759,
          -0.053435073993057226,
          -0.07853747156566927,
          -0.10359016383223883,
          -0.12857729528186848,
          -0.15348305189621594,
          -0.1782916711579755,
          -0.20298745202676116,
          -0.2275547648760821,
          -0.25197806138512474,
          -0.2762418843790738,
          -0.3003308776117502,
          -0.32422979548437053,
          -0.34792351269428334,
          -0.3713970338075679,
          -0.3946355027494405,
          -0.41762421220646645,
          -0.44034861293461913,
          -0.46279432296729867,
          -0.4849471367174873,
          -0.5067930339682724,
          -0.5283181887460511,
          -0.5495089780708056,
          -0.5703519905779012,
          -0.5908340350059578,
          -0.6109421485454225,
          -0.630663605042557,
          -0.6499859230536464,
          -0.6688968737443391,
          -0.6873844886291098,
          -0.7054370671459529,
          -0.723043184061509,
          -0.7401916967019432,
          -0.7568717520049916,
          -0.7730727933887175,
          -0.788784567432631,
          -0.8039971303669401,
          -0.8187008543658276,
          -0.8328864336407734,
          -0.8465448903300604,
          -0.8596675801807451,
          -0.872246198019486,
          -0.8842727830087774,
          -0.895739723685255,
          -0.9066397627768893,
          -0.9169660017960133,
          -0.9267119054052849,
          -0.9358713055538118,
          -0.9444384053808287,
          -0.9524077828844512,
          -0.959774394353189,
          -0.9665335775580413,
          -0.97268105470316,
          -0.9782129351332083,
          -0.9831257177957041,
          -0.9874162934567888,
          -0.9910819466690195,
          -0.9941203574899392,
          -0.9965296029503367,
          -0.9983081582712682,
          -0.9994548978290693,
          -0.9999690958677468,
          -0.9998504269583004,
          -0.9990989662046815,
          -0.9977151891962615,
          -0.9956999717068378,
          -0.9930545891403677,
          -0.9897807157237836,
          -0.9858804234473959,
          -0.9813561807535597,
          -0.9762108509744296,
          -0.9704476905197971,
          -0.9640703468161508,
          -0.957082855998271,
          -0.9494896403548136,
          -0.9412955055295036,
          -0.9325056374797075,
          -0.9231255991943125,
          -0.9131613271729835,
          -0.9026191276690343,
          -0.8915056726982842,
          -0.8798279958164298,
          -0.8675934876676018,
          -0.8548098913069261,
          -0.8414852973000504,
          -0.8276281386027314,
          -0.8132471852237334,
          -0.7983515386744064,
          -0.7829506262084637,
          -0.7670541948555989,
          -0.7506723052527245,
          -0.733815325276728,
          -0.7164939234827836,
          -0.698719062352368,
          -0.6805019913552531,
          -0.6618542398298681,
          -0.6427876096865396,
          -0.623314167938217,
          -0.6034462390634266,
          -0.5831963972062739,
          -0.5625774582184379,
          -0.541602471548191,
          -0.5202847119815792,
          -0.49863767124099184,
          -0.47667504944642797,
          -0.45441074644487806,
          -0.4318588530132981,
          -0.4090336419407468,
          -0.38594955899532896,
          -0.3626212137816673,
          -0.3390633704946757,
          -0.3152909385755031,
          -0.29131896327554796,
          -0.26716261613452225,
          -0.24283718537858734,
          -0.21835806624464577,
          -0.19374075123689813,
          -0.16900082032184968,
          -0.14415393106795907,
          -0.11921580873617425,
          -0.0942022363276273,
          -0.06912904459478485,
          -0.04401210202238211,
          -0.018867304784467676,
          0.006289433316067026,
          0.03144219091911974,
          0.056575049183791346,
          0.08167210186320639,
          0.10671746537135851,
          0.13169528883562306,
          0.15658976412855702,
          0.18138513587265026,
          0.2060657114116916,
          0.2306158707424391,
          0.2550200764003101,
          0.2792628832928296,
          0.30332894847462605,
          0.3272030408577709,
          0.35087005085132966,
          0.3743149999240179,
          0.39752305008391264,
          0.4204795132692139,
          0.44316986064412556,
          0.46557973179395645,
          0.48769494381363376,
          0.5095015002838723,
          0.5309856001293194,
          0.5521336463530699,
          0.5729322546420195,
          0.5933682618376198,
          0.6134287342666611,
          0.6331009759268206,
          0.6523725365217901,
          0.6712312193409025,
          0.6896650889782615,
          0.7076624788865039,
          0.7252119987603968,
          0.7423025417456087,
          0.7589232914680882,
          0.7750637288796014,
          0.7907136389150935,
          0.8058631169576688,
          0.820502575107087,
          0.8346227482478168,
          0.8482146999128017,
          0.8612698279392301,
          0.8737798699127283,
          0.8857369083965291,
          0.8971333759423138,
          0.9079620598795458,
          0.9182161068802737,
          0.9278890272965089,
          0.9369746992674379,
          0.9454673725938633,
          0.9533616723774291,
          0.9606526024223209,
          0.96733554839729,
          0.9734062807560024,
          0.9788609574138614,
          0.98369612617961,
          0.987908726940178,
          0.9914960935973847,
          0.9944559557552775,
          0.9967864401570342,
          0.9984860718705224,
          0.9995537752217638,
          0.999988874475714,
          0.9997910942639262,
          0.9989605597588275,
          0.9974977965944998,
          0.9954037305340127,
          0.9926796868835203,
          0.9893273896534936,
          0.9853489604676167,
          0.9807469172200398,
          0.9755241724818389,
          0.9696840316576879,
          0.9632301908939129,
          0.9561667347392514,
          0.9484981335597957,
          0.9402292407097596,
          0.9313652894598542,
          0.9219118896852252,
          0.9118750243150339,
          0.9012610455459449,
          0.8900766708219062,
          0.878328978582769,
          0.8660254037844392,
          0.8531737331933934,
          0.8397821004585404,
          0.8258589809635439,
          0.8114131864628666,
          0.7964538595049301,
          0.7809904676459185,
          0.76503279745789,
          0.7485909483349907,
          0.7316753261016786,
          0.7142966364270213,
          0.6964658780492222,
          0.678194335814667,
          0.6594935735358967,
          0.6403754266730268,
          0.6208519948432446,
          0.600935634163124,
          0.5806389494286068,
          0.5599747861375968,
          0.5389562223602165,
          0.5175965604618786,
          0.49590931868438975,
          0.4739082225904436,
          0.4516071963768956,
          0.42902035406232714,
          0.4061619905544733,
          0.38304657260316866,
          0.35968872964453685,
          0.33610324454221735,
          0.31230504423149086,
          0.28830919027222335,
          0.264130869316608,
          0.2397853834977361,
          0.2152881407450906,
          0.19065464503306495,
          0.1659004865687139,
          0.14104133192492,
          0.11609291412523105,
          0.09107102268664179,
          0.0659914936266216,
          0.04087019944071283,
          0.01572303905704239,
          -0.009434072225895224,
          -0.03458521281181564,
          -0.05971446488320808,
          -0.08480592447550901,
          -0.1098437115424997,
          -0.13481198000658376,
          -0.15969492778754882,
          -0.18447680680349163,
          -0.2091419329375665,
          -0.23367469596425144,
          -0.2580595694288491,
          -0.2822811204739704,
          -0.30632401960678207,
          -0.3301730504008353,
          -0.35381311912633706,
          -0.37722926430276815,
          -0.4004066661678036,
          -0.4233306560565341,
          -0.4459867256850755,
          -0.46836053633265995,
          -0.4904379279164198,
          -0.5122049279531135,
          -0.5336477604021214,
          -0.5547528543841161,
          -0.5755068527698889,
          -0.5958966206338965,
          -0.6159092535671783,
          -0.6355320858443827,
          -0.6547526984397335,
          -0.6735589268868657,
          -0.6919388689775459,
          -0.7098808922944282,
          -0.7273736415730482,
          -0.7444060458884184,
          -0.7609673256616669,
          -0.7770469994822877,
          -0.7926348907416839,
          -0.807721134073806,
          -0.8222961815988086,
          -0.8363508089657752,
          -0.8498761211906855,
          -0.8628635582859301,
          -0.8753049006778127,
          -0.8871922744086038,
          -0.898518156119867,
          -0.9092753778138881,
          -0.919457131390205,
          -0.9290569729543624,
          -0.9380688268961654,
          -0.946486989734852,
          -0.9543061337287484,
          -0.9615213102471251,
          -0.9681279529021183,
          -0.9741218804387358,
          -0.9794992993811165,
          -0.9842568064333685,
          -0.9883913906334727,
          -0.9919004352588768,
          -0.9947817194825852,
          -0.9970334197786901,
          -0.9986541110764564,
          -0.9996427676622299,
          -0.9999987638285974,
          -0.9997218742703887,
          -0.9988122742272693,
          -0.9972705393728328,
          -0.9950976454502662,
          -0.9922949676548137,
          -0.9888642797634358,
          -0.9848077530122081,
          -0.9801279547221767,
          -0.9748278466745344,
          -0.9689107832361499,
          -0.9623805092366339,
          -0.9552411575982872,
          -0.9474972467204302,
          -0.9391536776197683,
          -0.9302157308286049,
          -0.9206890630528639,
          -0.9105797035920364,
          -0.8998940505233184,
          -0.8886388666523561,
          -0.8768212752331539,
          -0.8644487554598653,
          -0.8515291377333118,
          -0.838070598705227,
          -0.8240816561033651,
          -0.8095711633407449,
          -0.7945483039124446,
          -0.7790225855834922,
          -0.7630038343715285,
          -0.7465021883280534,
          -0.7295280911221899,
          -0.7120922854310258,
          -0.694205806140723,
          -0.6758799733626797,
          -0.6571263852691892,
          -0.6379569107531127,
          -0.6183836819162163,
          -0.5984190863909279,
          -0.5780757595003719,
          -0.5573665762616435,
          -0.5363046432373839,
          -0.5149032902408143,
          -0.49317606189947616,
          -0.4711367090830182,
          -0.44879918020046267,
          -0.4261776123724359,
          -0.403286322483982,
          -0.3801397981235976,
          -0.3567526884142328,
          -0.33313979474205874,
          -0.30931606138887024,
          -0.28529656607405124,
          -0.26109651041208987,
          -0.2367312102916815,
          -0.2122160861825098,
          -0.1875666533758392,
          -0.16279851216509478,
          -0.1379273379726542,
          -0.11296887142907358,
          -0.08793890841106214,
          -0.06285329004448297,
          -0.037727892678718344,
          -0.012578617838742366,
          0.012578617838739611,
          0.03772789267871559,
          0.06285329004448022,
          0.08793890841105939,
          0.11296887142907083,
          0.13792733797265144,
          0.16279851216509383,
          0.18756665337583647,
          0.21221608618250712,
          0.23673121029167885,
          0.2610965104120872,
          0.28529656607404863,
          0.30931606138886764,
          0.33313979474205613,
          0.3567526884142302,
          0.38013979812359505,
          0.4032863224839795,
          0.4261776123724334,
          0.44879918020046017,
          0.47113670908301736,
          0.49317606189947377,
          0.5149032902408119,
          0.5363046432373816,
          0.5573665762616412,
          0.5780757595003697,
          0.5984190863909257,
          0.6183836819162141,
          0.6379569107531106,
          0.6571263852691872,
          0.6758799733626776,
          0.694205806140721,
          0.7120922854310239,
          0.729528091122188,
          0.7465021883280515,
          0.7630038343715267,
          0.7790225855834905,
          0.7945483039124429,
          0.8095711633407432,
          0.8240816561033636,
          0.8380705987052256,
          0.8515291377333104,
          0.864448755459864,
          0.8768212752331526,
          0.8886388666523548,
          0.8998940505233172,
          0.9105797035920353,
          0.9206890630528628,
          0.9302157308286039,
          0.9391536776197673,
          0.9474972467204293,
          0.9552411575982864,
          0.9623805092366331,
          0.9689107832361491,
          0.9748278466745338,
          0.9801279547221762,
          0.9848077530122077,
          0.9888642797634354,
          0.9922949676548136,
          0.9950976454502659,
          0.9972705393728326,
          0.9988122742272691,
          0.9997218742703887,
          0.9999987638285974,
          0.9996427676622299,
          0.9986541110764565,
          0.9970334197786903,
          0.9947817194825854,
          0.9919004352588772,
          0.9883913906334731,
          0.9842568064333691,
          0.9794992993811166,
          0.9741218804387365,
          0.9681279529021191,
          0.9615213102471257,
          0.9543061337287492,
          0.9464869897348529,
          0.9380688268961663,
          0.9290569729543634,
          0.9194571313902061,
          0.9092753778138893,
          0.8985181561198682,
          0.887192274408605,
          0.8753049006778141,
          0.8628635582859315,
          0.8498761211906869,
          0.8363508089657767,
          0.8222961815988101,
          0.8077211340738076,
          0.7926348907416857,
          0.7770469994822895,
          0.7609673256616687,
          0.7444060458884202,
          0.7273736415730501,
          0.7098808922944301,
          0.6919388689775479,
          0.6735589268868677,
          0.6547526984397356,
          0.6355320858443848,
          0.6159092535671805,
          0.5958966206338987,
          0.5755068527698911,
          0.5547528543841184,
          0.5336477604021237,
          0.5122049279531159,
          0.4904379279164222,
          0.4683605363326624,
          0.445986725685078,
          0.4233306560565366,
          0.4004066661678045,
          0.3772292643027707,
          0.35381311912633967,
          0.3301730504008379,
          0.3063240196067847,
          0.2822811204739731,
          0.2580595694288518,
          0.23367469596425414,
          0.2091419329375692,
          0.18447680680349432,
          0.15969492778755154,
          0.1348119800065865,
          0.10984371154250244,
          0.08480592447550998,
          0.059714464883210826,
          0.034585212811818394,
          0.00943407222589798,
          -0.01572303905703963,
          -0.040870199440710075,
          -0.06599149362661885,
          -0.09107102268663904,
          -0.1160929141252283,
          -0.14104133192491727,
          -0.16590048656871118,
          -0.19065464503306223,
          -0.2152881407450879,
          -0.23978538349773515,
          -0.26413086931660534,
          -0.28830919027222074,
          -0.31230504423148653,
          -0.33610324454221474,
          -0.3596887296445326,
          -0.3830465726031661,
          -0.40616199055447233,
          -0.42902035406232464,
          -0.4516071963768947,
          -0.47390822259044113,
          -0.4959093186843889,
          -0.5175965604618762,
          -0.5389562223602157,
          -0.559974786137593,
          -0.5806389494286045,
          -0.6009356341631205,
          -0.6208519948432425,
          -0.6403754266730234,
          -0.6594935735358946,
          -0.6781943358146663,
          -0.6964658780492202,
          -0.7142966364270207,
          -0.7316753261016767,
          -0.7485909483349902,
          -0.7650327974578882,
          -0.7809904676459168,
          -0.7964538595049273,
          -0.811413186462865,
          -0.8258589809635414,
          -0.8397821004585388,
          -0.853173733193391,
          -0.8660254037844377,
          -0.8783289785827686,
          -0.890076670821905,
          -0.9012610455459446,
          -0.9118750243150328,
          -0.9219118896852248,
          -0.9313652894598532,
          -0.9402292407097586,
          -0.9484981335597943,
          -0.9561667347392505,
          -0.9632301908939117,
          -0.9696840316576872,
          -0.9755241724818379,
          -0.9807469172200393,
          -0.9853489604676164,
          -0.9893273896534932,
          -0.9926796868835202,
          -0.9954037305340123,
          -0.9974977965944997,
          -0.9989605597588272,
          -0.9997910942639261,
          -0.9999888744757142,
          -0.9995537752217639,
          -0.9984860718705226,
          -0.9967864401570344,
          -0.9944559557552779,
          -0.991496093597385,
          -0.9879087269401781,
          -0.9836961261796106,
          -0.9788609574138616,
          -0.9734062807560033,
          -0.9673355483972904,
          -0.9606526024223219,
          -0.9533616723774296,
          -0.9454673725938645,
          -0.9369746992674386,
          -0.9278890272965106,
          -0.9182161068802747,
          -0.9079620598795463,
          -0.897133375942315,
          -0.8857369083965295,
          -0.8737798699127296,
          -0.8612698279392311,
          -0.8482146999128037,
          -0.8346227482478179,
          -0.8205025751070891,
          -0.8058631169576699,
          -0.7907136389150957,
          -0.7750637288796026,
          -0.7589232914680911,
          -0.7423025417456105,
          -0.7252119987603974,
          -0.7076624788865059,
          -0.6896650889782623,
          -0.6712312193409045,
          -0.6523725365217915,
          -0.6331009759268234,
          -0.6134287342666627,
          -0.5933682618376227,
          -0.572932254642021,
          -0.5521336463530729,
          -0.5309856001293217,
          -0.5095015002838762,
          -0.48769494381363615,
          -0.46557973179395734,
          -0.44316986064412806,
          -0.4204795132692148,
          -0.3975230500839152,
          -0.3743149999240196,
          -0.35087005085133305,
          -0.3272030408577727,
          -0.3033289484746295,
          -0.2792628832928314,
          -0.2550200764003136,
          -0.23061587074244178,
          -0.20606571141169605,
          -0.18138513587265298,
          -0.156589764128558,
          -0.1316952888356258,
          -0.10671746537135948,
          -0.08167210186320913,
          -0.05657504918379321,
          -0.03144219091912338,
          -0.006289433316068895,
          0.01886730478446403,
          0.04401210202238024,
          0.06912904459478121,
          0.09420223632762455,
          0.11921580873616976,
          0.14415393106795632,
          0.1690008203218487,
          0.1937407512368954,
          0.21835806624464482,
          0.24283718537858467,
          0.2671626161345204,
          0.29131896327554446,
          0.31529093857550133,
          0.3390633704946723,
          0.3626212137816655,
          0.38594955899532557,
          0.40903364194074426,
          0.431858853013294,
          0.4544107464448756,
          0.4766750494464271,
          0.49863767124098946,
          0.5202847119815783,
          0.5416024715481879,
          0.5625774582184363,
          0.583196397206271,
          0.6034462390634252,
          0.6233141679382143,
          0.6427876096865381,
          0.6618542398298655,
          0.680501991355251,
          0.6987190623523648,
          0.7164939234827817,
          0.7338153252767273,
          0.7506723052527228,
          0.7670541948555982,
          0.7829506262084615,
          0.7983515386744052,
          0.8132471852237312,
          0.8276281386027304,
          0.8414852973000484,
          0.8548098913069252,
          0.8675934876675996,
          0.8798279958164285,
          0.8915056726982822,
          0.9026191276690331,
          0.913161327172983,
          0.9231255991943114,
          0.9325056374797072,
          0.9412955055295024,
          0.949489640354813,
          0.9570828559982699,
          0.9640703468161503,
          0.9704476905197962,
          0.9762108509744292,
          0.9813561807535588,
          0.9858804234473955,
          0.9897807157237829,
          0.9930545891403675,
          0.9956999717068377,
          0.9977151891962613,
          0.9990989662046814,
          0.9998504269583004,
          0.999969095867747,
          0.9994548978290694,
          0.9983081582712683,
          0.996529602950337,
          0.9941203574899394,
          0.9910819466690202,
          0.9874162934567893,
          0.9831257177957049,
          0.978212935133209,
          0.9726810547031602,
          0.966533577558042,
          0.9597743943531893,
          0.9524077828844523,
          0.9444384053808292,
          0.9358713055538131,
          0.9267119054052856,
          0.9169660017960147,
          0.9066397627768901,
          0.895739723685257,
          0.8842727830087788,
          0.8722461980194882,
          0.8596675801807464,
          0.846544890330061,
          0.832886433640775,
          0.8187008543658286,
          0.8039971303669423,
          0.7887845674326323,
          0.7730727933887197,
          0.7568717520049928,
          0.7401916967019458,
          0.7230431840615106,
          0.7054370671459558,
          0.6873844886291118,
          0.6688968737443399,
          0.6499859230536486,
          0.6306636050425578,
          0.6109421485454251,
          0.5908340350059589,
          0.5703519905779039,
          0.5495089780708071,
          0.5283181887460542,
          0.5067930339682739,
          0.48494713671749085,
          0.4627943229673007,
          0.4403486129346228,
          0.41762421220646895,
          0.39463550274944137,
          0.37139703380757044,
          0.3479235126942847,
          0.3242297954843736,
          0.3003308776117516,
          0.2762418843790773,
          0.2519780613851266,
          0.22755476487608564,
          0.202987452026763,
          0.17829167115797953,
          0.15348305189621822,
          0.12857729528187253,
          0.10359016383224157,
          0.07853747156567026,
          0.053435073993059974,
          0.02829885808311901,
          0.0031447322077391986,
          -0.022011383926226362,
          -0.047153569352302555,
          -0.07226591192058551,
          -0.09733251836829925,
          -0.12233752437845545,
          -0.1472651046201375,
          -0.172099482764167,
          -0.19682494146770152,
          -0.22142583232155685,
          -0.24588658575384958,
          -0.27019172088377963,
          -0.29432585531928085,
          -0.3182737148923058,
          -0.34202014332566755,
          -0.3655501118252161,
          -0.3888487285913861,
          -0.4119012482439895,
          -0.434693081154394,
          -0.4572098026790758,
          -0.4794371622888079,
          -0.5013610925876024,
          -0.5229677182158005,
          -0.5442433646315784,
          -0.5651745667653906,
          -0.5857480775418386,
          -0.6059508762635458,
          -0.6257701768518048,
          -0.6451934359386909,
          -0.6642083608056129,
          -0.6828029171631864,
          -0.7009653367675961,
          -0.7186841248685356,
          -0.7359480674841019,
          -0.7527462384979521,
          -0.7690680065743152,
          -0.7849030418864039,
          -0.8002413226540305,
          -0.8150731414862615,
          -0.829389111525081,
          -0.8431801723862217,
          -0.8564375958933441,
          -0.869152991601998,
          -0.8813183121098054,
          -0.8929258581495676,
          -0.9039682834620144,
          -0.9144385994451648,
          -0.9243301795773068,
          -0.9336367636108452,
          -0.9423524615343184,
          -0.9504717573001107,
          -0.9579895123154886,
          -0.9649009686947382,
          -0.971201752270376,
          -0.9768878753614918,
          -0.9819557392975063,
          -0.986402136695714,
          -0.9902242534911982,
          -0.9934196707178102,
          -0.9959863660391042,
          -0.9979227150282429,
          -0.9992274921960793,
          -0.9998998717667489,
          -0.9999394282002937,
          -0.9993461364619809,
          -0.9981203720381464,
          -0.9962629106985545,
          -0.9937749280054246,
          -0.9906579985694319,
          -0.9869140950531606,
          -0.9825455869226282,
          -0.977555238947687,
          -0.9719462094522342,
          -0.9657220483153557,
          -0.9588866947246505,
          -0.9514444746831769,
          -0.9434000982715822,
          -0.9347586566671515,
          -0.9255256189216792,
          -0.9157068285001697,
          -0.9053084995825982,
          -0.8943372131310281,
          -0.8827999127246214,
          -0.8707039001651286,
          -0.8580568308556896,
          -0.8448667089558191,
          -0.8311418823156941,
          -0.8168910371929069,
          -0.8021231927550444,
          -0.7868476953715918,
          -0.7710742126987256,
          -0.754812727560801,
          -0.7380735316323401,
          -0.7208672189245875,
          -0.7032046790806853,
          -0.6850970904837836,
          -0.6665559131823736,
          -0.6475928816373971,
          -0.6282199972956443,
          -0.6084495209942178,
          -0.5882939652008073,
          -0.5677660860947088,
          -0.54687887549363,
          -0.525645552631322,
          -0.5040795557913275,
          -0.48219453380204924,
          -0.46000433739861424,
          -0.4375230104569061,
          -0.41476478110541054,
          -0.3917440527203994,
          -0.3684753948102538,
          -0.3449735337945929,
          -0.3212533436841446,
          -0.29732983666717505,
          -0.273218153608467,
          -0.24893355446689466,
          -0.22449140863757405,
          -0.19990718522480794,
          -0.17519644325187073,
          -0.15037482181394035,
          -0.12545803018029808,
          -0.1004618378521719,
          -0.07540206458240392,
          -0.050294570363370435,
          -0.025155245389378463,
          -9.797174393178826e-16
         ],
         "yaxis": "y"
        }
       ],
       "layout": {
        "coloraxis": {
         "colorbar": {
          "title": {
           "text": "color"
          }
         },
         "colorscale": [
          [
           0,
           "#0d0887"
          ],
          [
           0.1111111111111111,
           "#46039f"
          ],
          [
           0.2222222222222222,
           "#7201a8"
          ],
          [
           0.3333333333333333,
           "#9c179e"
          ],
          [
           0.4444444444444444,
           "#bd3786"
          ],
          [
           0.5555555555555556,
           "#d8576b"
          ],
          [
           0.6666666666666666,
           "#ed7953"
          ],
          [
           0.7777777777777778,
           "#fb9f3a"
          ],
          [
           0.8888888888888888,
           "#fdca26"
          ],
          [
           1,
           "#f0f921"
          ]
         ]
        },
        "legend": {
         "tracegroupgap": 0
        },
        "margin": {
         "t": 60
        },
        "template": {
         "data": {
          "bar": [
           {
            "error_x": {
             "color": "#2a3f5f"
            },
            "error_y": {
             "color": "#2a3f5f"
            },
            "marker": {
             "line": {
              "color": "#E5ECF6",
              "width": 0.5
             },
             "pattern": {
              "fillmode": "overlay",
              "size": 10,
              "solidity": 0.2
             }
            },
            "type": "bar"
           }
          ],
          "barpolar": [
           {
            "marker": {
             "line": {
              "color": "#E5ECF6",
              "width": 0.5
             },
             "pattern": {
              "fillmode": "overlay",
              "size": 10,
              "solidity": 0.2
             }
            },
            "type": "barpolar"
           }
          ],
          "carpet": [
           {
            "aaxis": {
             "endlinecolor": "#2a3f5f",
             "gridcolor": "white",
             "linecolor": "white",
             "minorgridcolor": "white",
             "startlinecolor": "#2a3f5f"
            },
            "baxis": {
             "endlinecolor": "#2a3f5f",
             "gridcolor": "white",
             "linecolor": "white",
             "minorgridcolor": "white",
             "startlinecolor": "#2a3f5f"
            },
            "type": "carpet"
           }
          ],
          "choropleth": [
           {
            "colorbar": {
             "outlinewidth": 0,
             "ticks": ""
            },
            "type": "choropleth"
           }
          ],
          "contour": [
           {
            "colorbar": {
             "outlinewidth": 0,
             "ticks": ""
            },
            "colorscale": [
             [
              0,
              "#0d0887"
             ],
             [
              0.1111111111111111,
              "#46039f"
             ],
             [
              0.2222222222222222,
              "#7201a8"
             ],
             [
              0.3333333333333333,
              "#9c179e"
             ],
             [
              0.4444444444444444,
              "#bd3786"
             ],
             [
              0.5555555555555556,
              "#d8576b"
             ],
             [
              0.6666666666666666,
              "#ed7953"
             ],
             [
              0.7777777777777778,
              "#fb9f3a"
             ],
             [
              0.8888888888888888,
              "#fdca26"
             ],
             [
              1,
              "#f0f921"
             ]
            ],
            "type": "contour"
           }
          ],
          "contourcarpet": [
           {
            "colorbar": {
             "outlinewidth": 0,
             "ticks": ""
            },
            "type": "contourcarpet"
           }
          ],
          "heatmap": [
           {
            "colorbar": {
             "outlinewidth": 0,
             "ticks": ""
            },
            "colorscale": [
             [
              0,
              "#0d0887"
             ],
             [
              0.1111111111111111,
              "#46039f"
             ],
             [
              0.2222222222222222,
              "#7201a8"
             ],
             [
              0.3333333333333333,
              "#9c179e"
             ],
             [
              0.4444444444444444,
              "#bd3786"
             ],
             [
              0.5555555555555556,
              "#d8576b"
             ],
             [
              0.6666666666666666,
              "#ed7953"
             ],
             [
              0.7777777777777778,
              "#fb9f3a"
             ],
             [
              0.8888888888888888,
              "#fdca26"
             ],
             [
              1,
              "#f0f921"
             ]
            ],
            "type": "heatmap"
           }
          ],
          "heatmapgl": [
           {
            "colorbar": {
             "outlinewidth": 0,
             "ticks": ""
            },
            "colorscale": [
             [
              0,
              "#0d0887"
             ],
             [
              0.1111111111111111,
              "#46039f"
             ],
             [
              0.2222222222222222,
              "#7201a8"
             ],
             [
              0.3333333333333333,
              "#9c179e"
             ],
             [
              0.4444444444444444,
              "#bd3786"
             ],
             [
              0.5555555555555556,
              "#d8576b"
             ],
             [
              0.6666666666666666,
              "#ed7953"
             ],
             [
              0.7777777777777778,
              "#fb9f3a"
             ],
             [
              0.8888888888888888,
              "#fdca26"
             ],
             [
              1,
              "#f0f921"
             ]
            ],
            "type": "heatmapgl"
           }
          ],
          "histogram": [
           {
            "marker": {
             "pattern": {
              "fillmode": "overlay",
              "size": 10,
              "solidity": 0.2
             }
            },
            "type": "histogram"
           }
          ],
          "histogram2d": [
           {
            "colorbar": {
             "outlinewidth": 0,
             "ticks": ""
            },
            "colorscale": [
             [
              0,
              "#0d0887"
             ],
             [
              0.1111111111111111,
              "#46039f"
             ],
             [
              0.2222222222222222,
              "#7201a8"
             ],
             [
              0.3333333333333333,
              "#9c179e"
             ],
             [
              0.4444444444444444,
              "#bd3786"
             ],
             [
              0.5555555555555556,
              "#d8576b"
             ],
             [
              0.6666666666666666,
              "#ed7953"
             ],
             [
              0.7777777777777778,
              "#fb9f3a"
             ],
             [
              0.8888888888888888,
              "#fdca26"
             ],
             [
              1,
              "#f0f921"
             ]
            ],
            "type": "histogram2d"
           }
          ],
          "histogram2dcontour": [
           {
            "colorbar": {
             "outlinewidth": 0,
             "ticks": ""
            },
            "colorscale": [
             [
              0,
              "#0d0887"
             ],
             [
              0.1111111111111111,
              "#46039f"
             ],
             [
              0.2222222222222222,
              "#7201a8"
             ],
             [
              0.3333333333333333,
              "#9c179e"
             ],
             [
              0.4444444444444444,
              "#bd3786"
             ],
             [
              0.5555555555555556,
              "#d8576b"
             ],
             [
              0.6666666666666666,
              "#ed7953"
             ],
             [
              0.7777777777777778,
              "#fb9f3a"
             ],
             [
              0.8888888888888888,
              "#fdca26"
             ],
             [
              1,
              "#f0f921"
             ]
            ],
            "type": "histogram2dcontour"
           }
          ],
          "mesh3d": [
           {
            "colorbar": {
             "outlinewidth": 0,
             "ticks": ""
            },
            "type": "mesh3d"
           }
          ],
          "parcoords": [
           {
            "line": {
             "colorbar": {
              "outlinewidth": 0,
              "ticks": ""
             }
            },
            "type": "parcoords"
           }
          ],
          "pie": [
           {
            "automargin": true,
            "type": "pie"
           }
          ],
          "scatter": [
           {
            "fillpattern": {
             "fillmode": "overlay",
             "size": 10,
             "solidity": 0.2
            },
            "type": "scatter"
           }
          ],
          "scatter3d": [
           {
            "line": {
             "colorbar": {
              "outlinewidth": 0,
              "ticks": ""
             }
            },
            "marker": {
             "colorbar": {
              "outlinewidth": 0,
              "ticks": ""
             }
            },
            "type": "scatter3d"
           }
          ],
          "scattercarpet": [
           {
            "marker": {
             "colorbar": {
              "outlinewidth": 0,
              "ticks": ""
             }
            },
            "type": "scattercarpet"
           }
          ],
          "scattergeo": [
           {
            "marker": {
             "colorbar": {
              "outlinewidth": 0,
              "ticks": ""
             }
            },
            "type": "scattergeo"
           }
          ],
          "scattergl": [
           {
            "marker": {
             "colorbar": {
              "outlinewidth": 0,
              "ticks": ""
             }
            },
            "type": "scattergl"
           }
          ],
          "scattermapbox": [
           {
            "marker": {
             "colorbar": {
              "outlinewidth": 0,
              "ticks": ""
             }
            },
            "type": "scattermapbox"
           }
          ],
          "scatterpolar": [
           {
            "marker": {
             "colorbar": {
              "outlinewidth": 0,
              "ticks": ""
             }
            },
            "type": "scatterpolar"
           }
          ],
          "scatterpolargl": [
           {
            "marker": {
             "colorbar": {
              "outlinewidth": 0,
              "ticks": ""
             }
            },
            "type": "scatterpolargl"
           }
          ],
          "scatterternary": [
           {
            "marker": {
             "colorbar": {
              "outlinewidth": 0,
              "ticks": ""
             }
            },
            "type": "scatterternary"
           }
          ],
          "surface": [
           {
            "colorbar": {
             "outlinewidth": 0,
             "ticks": ""
            },
            "colorscale": [
             [
              0,
              "#0d0887"
             ],
             [
              0.1111111111111111,
              "#46039f"
             ],
             [
              0.2222222222222222,
              "#7201a8"
             ],
             [
              0.3333333333333333,
              "#9c179e"
             ],
             [
              0.4444444444444444,
              "#bd3786"
             ],
             [
              0.5555555555555556,
              "#d8576b"
             ],
             [
              0.6666666666666666,
              "#ed7953"
             ],
             [
              0.7777777777777778,
              "#fb9f3a"
             ],
             [
              0.8888888888888888,
              "#fdca26"
             ],
             [
              1,
              "#f0f921"
             ]
            ],
            "type": "surface"
           }
          ],
          "table": [
           {
            "cells": {
             "fill": {
              "color": "#EBF0F8"
             },
             "line": {
              "color": "white"
             }
            },
            "header": {
             "fill": {
              "color": "#C8D4E3"
             },
             "line": {
              "color": "white"
             }
            },
            "type": "table"
           }
          ]
         },
         "layout": {
          "annotationdefaults": {
           "arrowcolor": "#2a3f5f",
           "arrowhead": 0,
           "arrowwidth": 1
          },
          "autotypenumbers": "strict",
          "coloraxis": {
           "colorbar": {
            "outlinewidth": 0,
            "ticks": ""
           }
          },
          "colorscale": {
           "diverging": [
            [
             0,
             "#8e0152"
            ],
            [
             0.1,
             "#c51b7d"
            ],
            [
             0.2,
             "#de77ae"
            ],
            [
             0.3,
             "#f1b6da"
            ],
            [
             0.4,
             "#fde0ef"
            ],
            [
             0.5,
             "#f7f7f7"
            ],
            [
             0.6,
             "#e6f5d0"
            ],
            [
             0.7,
             "#b8e186"
            ],
            [
             0.8,
             "#7fbc41"
            ],
            [
             0.9,
             "#4d9221"
            ],
            [
             1,
             "#276419"
            ]
           ],
           "sequential": [
            [
             0,
             "#0d0887"
            ],
            [
             0.1111111111111111,
             "#46039f"
            ],
            [
             0.2222222222222222,
             "#7201a8"
            ],
            [
             0.3333333333333333,
             "#9c179e"
            ],
            [
             0.4444444444444444,
             "#bd3786"
            ],
            [
             0.5555555555555556,
             "#d8576b"
            ],
            [
             0.6666666666666666,
             "#ed7953"
            ],
            [
             0.7777777777777778,
             "#fb9f3a"
            ],
            [
             0.8888888888888888,
             "#fdca26"
            ],
            [
             1,
             "#f0f921"
            ]
           ],
           "sequentialminus": [
            [
             0,
             "#0d0887"
            ],
            [
             0.1111111111111111,
             "#46039f"
            ],
            [
             0.2222222222222222,
             "#7201a8"
            ],
            [
             0.3333333333333333,
             "#9c179e"
            ],
            [
             0.4444444444444444,
             "#bd3786"
            ],
            [
             0.5555555555555556,
             "#d8576b"
            ],
            [
             0.6666666666666666,
             "#ed7953"
            ],
            [
             0.7777777777777778,
             "#fb9f3a"
            ],
            [
             0.8888888888888888,
             "#fdca26"
            ],
            [
             1,
             "#f0f921"
            ]
           ]
          },
          "colorway": [
           "#636efa",
           "#EF553B",
           "#00cc96",
           "#ab63fa",
           "#FFA15A",
           "#19d3f3",
           "#FF6692",
           "#B6E880",
           "#FF97FF",
           "#FECB52"
          ],
          "font": {
           "color": "#2a3f5f"
          },
          "geo": {
           "bgcolor": "white",
           "lakecolor": "white",
           "landcolor": "#E5ECF6",
           "showlakes": true,
           "showland": true,
           "subunitcolor": "white"
          },
          "hoverlabel": {
           "align": "left"
          },
          "hovermode": "closest",
          "mapbox": {
           "style": "light"
          },
          "paper_bgcolor": "white",
          "plot_bgcolor": "#E5ECF6",
          "polar": {
           "angularaxis": {
            "gridcolor": "white",
            "linecolor": "white",
            "ticks": ""
           },
           "bgcolor": "#E5ECF6",
           "radialaxis": {
            "gridcolor": "white",
            "linecolor": "white",
            "ticks": ""
           }
          },
          "scene": {
           "xaxis": {
            "backgroundcolor": "#E5ECF6",
            "gridcolor": "white",
            "gridwidth": 2,
            "linecolor": "white",
            "showbackground": true,
            "ticks": "",
            "zerolinecolor": "white"
           },
           "yaxis": {
            "backgroundcolor": "#E5ECF6",
            "gridcolor": "white",
            "gridwidth": 2,
            "linecolor": "white",
            "showbackground": true,
            "ticks": "",
            "zerolinecolor": "white"
           },
           "zaxis": {
            "backgroundcolor": "#E5ECF6",
            "gridcolor": "white",
            "gridwidth": 2,
            "linecolor": "white",
            "showbackground": true,
            "ticks": "",
            "zerolinecolor": "white"
           }
          },
          "shapedefaults": {
           "line": {
            "color": "#2a3f5f"
           }
          },
          "ternary": {
           "aaxis": {
            "gridcolor": "white",
            "linecolor": "white",
            "ticks": ""
           },
           "baxis": {
            "gridcolor": "white",
            "linecolor": "white",
            "ticks": ""
           },
           "bgcolor": "#E5ECF6",
           "caxis": {
            "gridcolor": "white",
            "linecolor": "white",
            "ticks": ""
           }
          },
          "title": {
           "x": 0.05
          },
          "xaxis": {
           "automargin": true,
           "gridcolor": "white",
           "linecolor": "white",
           "ticks": "",
           "title": {
            "standoff": 15
           },
           "zerolinecolor": "white",
           "zerolinewidth": 2
          },
          "yaxis": {
           "automargin": true,
           "gridcolor": "white",
           "linecolor": "white",
           "ticks": "",
           "title": {
            "standoff": 15
           },
           "zerolinecolor": "white",
           "zerolinewidth": 2
          }
         }
        },
        "xaxis": {
         "anchor": "y",
         "domain": [
          0,
          1
         ],
         "title": {
          "text": "x"
         }
        },
        "yaxis": {
         "anchor": "x",
         "domain": [
          0,
          1
         ],
         "title": {
          "text": "y"
         }
        }
       }
      }
     },
     "metadata": {},
     "output_type": "display_data"
    }
   ],
   "source": [
    "x = np.linspace(0,8*np.pi,1000)\n",
    "y= np.sin(x)\n",
    "fig = px.scatter(x=x,y=y,color=y)\n",
    "fig.show()"
   ]
  },
  {
   "cell_type": "code",
   "execution_count": 23,
   "id": "c61d6509",
   "metadata": {},
   "outputs": [
    {
     "data": {
      "application/vnd.plotly.v1+json": {
       "config": {
        "plotlyServerURL": "https://plot.ly"
       },
       "data": [
        {
         "hovertemplate": "x=%{x}<br>y=%{y}<br>color=%{marker.color}<extra></extra>",
         "legendgroup": "",
         "marker": {
          "color": [
           0,
           0.0062895577152254235,
           0.012579613061530192,
           0.0188706638274968,
           0.02516320811681998,
           0.031457744506127816,
           0.037754772203121165,
           0.044054791205138076,
           0.050358302458250424,
           0.056665808017000434,
           0.06297781120488577,
           0.06929481677570247,
           0.0756173310758561,
           0.08194586220775289,
           0.08828092019438324,
           0.09462301714521211,
           0.1009726674234918,
           0.10733038781511467,
           0.11369669769912476,
           0.12007211922000958,
           0.1264571774618955,
           0.13285240062477183,
           0.13925832020287202,
           0.14567547116534205,
           0.1521043921393297,
           0.15854562559563046,
           0.16499971803702976,
           0.17146722018948382,
           0.17794868719628515,
           0.1844446788153628,
           0.19095575961987024,
           0.19748249920221908,
           0.20402547238172042,
           0.21058525941600023,
           0.21716244621635986,
           0.22375762456725834,
           0.23037139235009724,
           0.23700435377149603,
           0.24365711959624978,
           0.2503303073851686,
           0.257024541738004,
           0.26374045454167444,
           0.2704786852240078,
           0.27723988101322933,
           0.2840246972034262,
           0.2908337974262341,
           0.2976678539289935,
           0.3045275478596369,
           0.31141356955857596,
           0.3183266188578651,
           0.3252674053879333,
           0.3322366488921817,
           0.3392350795497575,
           0.3462634383068289,
           0.3533224772166929,
           0.36041295978906707,
           0.36753566134892374,
           0.37469136940524445,
           0.38188088403008347,
           0.38910501824834876,
           0.3963645984387198,
           0.40366046474614525,
           0.4109934715063765,
           0.4183644876830138,
           0.4257743973175629,
           0.43322409999301775,
           0.44071451131151107,
           0.4482465633865931,
           0.45582120535072573,
           0.4634394038786053,
           0.47110214372695,
           0.4788104282914209,
           0.4865652801813723,
           0.4943677418131564,
           0.5022188760227451,
           0.5101197666984602,
           0.5180715194346434,
           0.5260752622071333,
           0.5341321460714578,
           0.5422433458846908,
           0.5504100610519695,
           0.5586335162987099,
           0.5669149624696144,
           0.5752556773556095,
           0.5836569665499148,
           0.5921201643344937,
           0.6006466345982019,
           0.6092377717880159,
           0.6178950018947853,
           0.6266197834750294,
           0.6354136087103742,
           0.6442780045063012,
           0.6532145336319706,
           0.662224795902965,
           0.6713104294089002,
           0.6804731117879416,
           0.68971456155038,
           0.699036539453528,
           0.7084408499303142,
           0.7179293425740859,
           0.7275039136822591,
           0.737166507861596,
           0.7469191196980447,
           0.7567637954942328,
           0.7667026350778738,
           0.7767377936845308,
           0.7868714839183658,
           0.7971059777947166,
           0.807443608868546,
           0.8178867744530509,
           0.8284379379329561,
           0.8390996311772799,
           0.849874457056638,
           0.8607650920704478,
           0.8717742890897088,
           0.8829048802213734,
           0.8941597798006848,
           0.9055419875182353,
           0.9170545916889137,
           0.9287007726703514,
           0.9404838064389369,
           0.9524070683319766,
           0.9644740369651184,
           0.9766882983347199,
           0.9890535501154716,
           1.001573606164234,
           1.0142524012417689,
           1.027093995964793,
           1.0401025820016052,
           1.0532824875254236,
           1.0666381829404923,
           1.0801742868970554,
           1.0938955726123767,
           1.1078069745161578,
           1.1219135952399848,
           1.1362207129717987,
           1.1507337891978562,
           1.1654584768562475,
           1.180400628927758,
           1.1955663074917262,
           1.2109617932765573,
           1.2265935957367438,
           1.2424684636906076,
           1.25859339655553,
           1.2749756562202346,
           1.2916227795967006,
           1.3085425918975617,
           1.3257432206884294,
           1.3432331107684556,
           1.3610210399366858,
           1.3791161357063682,
           1.3975278930344304,
           1.4162661931388152,
           1.4353413234823982,
           1.4547639990087773,
           1.4745453847224255,
           1.49469711971359,
           1.5152313427369863,
           1.536160719462835,
           1.5574984715292444,
           1.5792584075364358,
           1.6014549561359872,
           1.6241032013822116,
           1.6472189205282193,
           1.670818624466235,
           1.6949196010305732,
           1.7195399614025575,
           1.744698689879774,
           1.7704156972977518,
           1.7967118784206908,
           1.8236091736496247,
           1.851130635431791,
           1.8793004997944849,
           1.908144263470766,
           1.9376887671337724,
           1.9679622853116898,
           1.998994623617472,
           2.0308172239971425,
           2.063463278778997,
           2.0969678543944443,
           2.131368025741151,
           2.1667030222720527,
           2.2030143870217738,
           2.240346149927198,
           2.278745016963986,
           2.31826057680891,
           2.3589455269523705,
           2.40085592143088,
           2.444051442630341,
           2.4885956999337218,
           2.5345565583580782,
           2.5820065007541406,
           2.6310230276366346,
           2.681689099287039,
           2.7340936254365213,
           2.7883320086123766,
           2.8445067481367,
           2.9027281128259297,
           2.9631148916841665,
           3.0257952333479925,
           3.0909075867704736,
           3.1586017576812453,
           3.229040097795105,
           3.302398846645871,
           3.378869649398065,
           3.458661278163615,
           3.542001589384433,
           3.629139755934912,
           3.720348820005178,
           3.815928621868546,
           3.916209170726606,
           4.021554537491181,
           4.13236736628609,
           4.249094122520157,
           4.372231221755202,
           4.502332216795333,
           4.640016262480479,
           4.7859781312813015,
           4.941000121604375,
           5.105966289668585,
           5.281879551675344,
           5.469882355126817,
           5.671281819617707,
           5.8875805166826085,
           6.120514421645911,
           6.372100065919543,
           6.644693601459458,
           6.941065442660487,
           7.264495499118004,
           7.6188959455728655,
           8.00897128905413,
           8.44042965750648,
           8.920265509924675,
           9.457143615788972,
           10.061929312379709,
           10.748434459981423,
           11.534488904811516,
           12.44351615979622,
           13.506913688294839,
           14.767761718273276,
           16.286814403659754,
           18.152599210628125,
           20.499335183583096,
           23.540778558684917,
           27.6393855393106,
           33.46283857735767,
           42.3910147046299,
           57.81088476905984,
           90.85106719510891,
           211.99281182737008,
           -635.9826284723022,
           -127.19400989375528,
           -70.66007756373867,
           -48.91496718138151,
           -37.40186316834667,
           -30.27390464735795,
           -25.42622168134367,
           -21.915251866388875,
           -19.254917584357162,
           -17.169336929485915,
           -15.490289214534,
           -14.109365540316281,
           -12.953555820974632,
           -11.971890741200975,
           -11.127708152523043,
           -10.39396219891937,
           -9.750264457590854,
           -9.180954248158821,
           -8.673803360755844,
           -8.219124505230482,
           -7.809143923549774,
           -7.437551146934421,
           -7.099170166799519,
           -6.789715464806666,
           -6.505608406613927,
           -6.24383726483299,
           -6.0018492367384795,
           -5.777466237893832,
           -5.568818580316266,
           -5.374292255120163,
           -5.192486671495139,
           -5.022180509799751,
           -4.862303927567543,
           -4.71191578097012,
           -4.5701848366803794,
           -4.436374181715979,
           -4.309828213722067,
           -4.1899617267784395,
           -4.076250709236548,
           -3.9682245482561083,
           -3.865459396397954,
           -3.767572503075669,
           -3.6742173510077607,
           -3.5850794673812687,
           -3.499872802992756,
           -3.4183365915028294,
           -3.340232616138311,
           -3.265342823479463,
           -3.193467233977945,
           -3.124422107030593,
           -3.058038325148458,
           -2.9941599672959573,
           -2.9326430460567208,
           -2.87335438709025,
           -2.8161706325192672,
           -2.7609773525461465,
           -2.70766825182988,
           -2.656144459037173,
           -2.6063138895724647,
           -2.558090672841269,
           -2.51139463654918,
           -2.466150841518183,
           -2.422289161339602,
           -2.3797439019015143,
           -2.3384534564463517,
           -2.298359992346989,
           -2.2594091662499496,
           -2.2215498646329994,
           -2.184733967170536,
           -2.1489161306012634,
           -2.1140535910552454,
           -2.0801059830267596,
           -2.0470351733802135,
           -2.0148051089525114,
           -1.9833816764700452,
           -1.952732573634764,
           -1.922827190353952,
           -1.8936364991945447,
           -1.8651329542367885,
           -1.837290397585313,
           -1.8100839728697142,
           -1.7834900451324422,
           -1.7574861265603992,
           -1.7320508075688783,
           -1.7071636927931344,
           -1.6828053415846094,
           -1.6589572126462104,
           -1.6356016124745656,
           -1.6127216473072812,
           -1.590301178300293,
           -1.5683247796847726,
           -1.5467776996750235,
           -1.5256458239185928,
           -1.504915641297785,
           -1.4845742119079144,
           -1.4646091370523233,
           -1.4450085311074923,
           -1.4257609951236232,
           -1.406855592037046,
           -1.388281823380764,
           -1.3700296073885183,
           -1.3520892583960344,
           -1.3344514674506265,
           -1.3171072840472493,
           -1.300048098915331,
           -1.283265627786521,
           -1.2667518960787043,
           -1.2504992244364799,
           -1.2345002150727131,
           -1.2187477388598285,
           -1.2032349231232329,
           -1.1879551400926867,
           -1.172901995970582,
           -1.1580693205789954,
           -1.1434511575500432,
           -1.1290417550265353,
           -1.1148355568421986,
           -1.1008271941528174,
           -1.08701147749161,
           -1.0733833892239186,
           -1.0599380763779642,
           -1.0466708438299506,
           -1.033577147823217,
           -1.0206525898024605,
           -1.0078929105452734,
           -0.9952939845743657,
           -0.9828518148349082,
           -0.9705625276224004,
           -0.9584223677473813,
           -0.9464276939241554,
           -0.9345749743714694,
           -0.922860782613849,
           -0.9112817934729504,
           -0.8998347792389428,
           -0.8885166060125249,
           -0.8773242302087344,
           -0.8662546952142313,
           -0.8553051281902168,
           -0.8444727370136053,
           -0.8337548073494905,
           -0.8231486998483429,
           -0.8126518474617472,
           -0.8022617528708408,
           -0.7919759860219252,
           -0.7817921817640555,
           -0.7717080375836695,
           -0.7617213114316086,
           -0.7518298196381259,
           -0.7420314349117151,
           -0.7323240844178213,
           -0.7227057479336965,
           -0.7131744560758696,
           -0.7037282885968758,
           -0.6943653727480746,
           -0.685083881705542,
           -0.675882033056186,
           -0.6667580873413649,
           -0.6577103466554507,
           -0.6487371532968822,
           -0.639836888469394,
           -0.6310079710312149,
           -0.6222488562901402,
           -0.6135580348424846,
           -0.604934031454022,
           -0.5963754039811068,
           -0.5878807423302611,
           -0.5794486674545953,
           -0.5710778303855023,
           -0.5627669112981479,
           -0.5545146186093357,
           -0.5463196881064102,
           -0.5381808821059065,
           -0.5300969886407235,
           -0.5220668206746515,
           -0.5140892153431389,
           -0.506163033219233,
           -0.4982871576036759,
           -0.4904604938381871,
           -0.48268196864099966,
           -0.4749505294637665,
           -0.46726514386898765,
           -0.45962479892714103,
           -0.45202850063274963,
           -0.44447527333863457,
           -0.43696415920764586,
           -0.4294942176811888,
           -0.42206452496389374,
           -0.4146741735238044,
           -0.4073222716074852,
           -0.40000794276947305,
           -0.39273032541552433,
           -0.38548857235912637,
           -0.3782818503907679,
           -0.3711093398594843,
           -0.36397023426620256,
           -0.3568637398684477,
           -0.3497890752959722,
           -0.3427454711768964,
           -0.33573216977396225,
           -0.3287484246305163,
           -0.3217935002258543,
           -0.3148666716395723,
           -0.30796722422458384,
           -0.30109445328847284,
           -0.294247663782868,
           -0.2874261700005307,
           -0.28062929527986746,
           -0.2738563717165738,
           -0.2671067398821474,
           -0.2603797485489982,
           -0.2536747544219037,
           -0.2469911218755621,
           -0.24032822269800636,
           -0.2336854358396475,
           -0.2270621471677259,
           -0.22045774922595446,
           -0.21387164099914507,
           -0.20730322768261678,
           -0.20075192045618878,
           -0.19421713626257184,
           -0.18769829758996642,
           -0.18119483225869823,
           -0.17470617321171053,
           -0.16823175830874723,
           -0.1617710301240619,
           -0.1553234357474932,
           -0.148888426588751,
           -0.14246545818476167,
           -0.1360539900099245,
           -0.12965348528913537,
           -0.12326341081343578,
           -0.11688323675815278,
           -0.11051243650338786,
           -0.10415048645673236,
           -0.097796865878073,
           -0.09145105670636396,
           -0.08511254338824036,
           -0.07878081270835112,
           -0.07245535362129105,
           -0.06613565708501376,
           -0.059821215895609105,
           -0.05351152452333004,
           -0.047206078949755495,
           -0.040904376505976774,
           -0.034605915711699,
           -0.02831019611514131,
           -0.022016718133635545,
           -0.015724982894808715,
           -0.009434492078244462,
           -0.003144747757516061,
           0.003144747757515372,
           0.009434492078243772,
           0.015724982894808028,
           0.022016718133634854,
           0.028310196115140622,
           0.03460591571169831,
           0.04090437650597653,
           0.04720607894975481,
           0.05351152452332934,
           0.05982121589560841,
           0.06613565708501307,
           0.07245535362129035,
           0.07878081270835043,
           0.08511254338823966,
           0.09145105670636326,
           0.0977968658780723,
           0.10415048645673167,
           0.11051243650338717,
           0.11688323675815207,
           0.12326341081343553,
           0.12965348528913467,
           0.1360539900099238,
           0.14246545818476095,
           0.1488884265887503,
           0.1553234357474925,
           0.1617710301240612,
           0.16823175830874654,
           0.17470617321170984,
           0.1811948322586975,
           0.18769829758996573,
           0.19421713626257114,
           0.20075192045618806,
           0.20730322768261605,
           0.21387164099914435,
           0.22045774922595374,
           0.2270621471677252,
           0.23368543583964677,
           0.24032822269800563,
           0.24699112187556138,
           0.25367475442190296,
           0.2603797485489975,
           0.26710673988214667,
           0.27385637171657307,
           0.28062929527986674,
           0.28742617000053,
           0.2942476637828672,
           0.3010944532884721,
           0.3079672242245831,
           0.3148666716395716,
           0.3217935002258535,
           0.32874842463051557,
           0.33573216977396153,
           0.34274547117689563,
           0.3497890752959714,
           0.35686373986844694,
           0.3639702342662018,
           0.3711093398594835,
           0.3782818503907676,
           0.38548857235912554,
           0.39273032541552355,
           0.40000794276947227,
           0.40732227160748435,
           0.41467417352380365,
           0.42206452496389296,
           0.42949421768118795,
           0.43696415920764503,
           0.44447527333863374,
           0.4520285006327488,
           0.4596247989271402,
           0.4672651438689868,
           0.47495052946376615,
           0.48268196864099877,
           0.49046049383818624,
           0.4982871576036751,
           0.5061630332192321,
           0.514089215343138,
           0.5220668206746506,
           0.5300969886407226,
           0.5381808821059056,
           0.5463196881064093,
           0.5545146186093348,
           0.562766911298147,
           0.5710778303855014,
           0.5794486674545944,
           0.5878807423302601,
           0.5963754039811058,
           0.6049340314540211,
           0.6135580348424837,
           0.6222488562901392,
           0.631007971031214,
           0.639836888469393,
           0.6487371532968812,
           0.6577103466554497,
           0.6667580873413639,
           0.675882033056185,
           0.685083881705541,
           0.6943653727480736,
           0.7037282885968748,
           0.7131744560758685,
           0.7227057479336955,
           0.7323240844178202,
           0.7420314349117141,
           0.7518298196381248,
           0.7617213114316076,
           0.7717080375836683,
           0.7817921817640544,
           0.7919759860219241,
           0.8022617528708397,
           0.8126518474617468,
           0.8231486998483417,
           0.8337548073494893,
           0.844472737013604,
           0.8553051281902155,
           0.86625469521423,
           0.8773242302087332,
           0.8885166060125237,
           0.8998347792389416,
           0.9112817934729491,
           0.9228607826138477,
           0.9345749743714681,
           0.9464276939241542,
           0.9584223677473809,
           0.970562527622399,
           0.9828518148349069,
           0.9952939845743644,
           1.007892910545272,
           1.0206525898024592,
           1.0335771478232154,
           1.0466708438299492,
           1.0599380763779627,
           1.073383389223917,
           1.0870114774916086,
           1.1008271941528158,
           1.114835556842197,
           1.1290417550265346,
           1.1434511575500417,
           1.1580693205789938,
           1.1729019959705793,
           1.1879551400926849,
           1.2032349231232302,
           1.2187477388598267,
           1.2345002150727125,
           1.250499224436478,
           1.2667518960787036,
           1.2832656277865193,
           1.3000480989153302,
           1.3171072840472473,
           1.3344514674506258,
           1.3520892583960311,
           1.3700296073885163,
           1.3882818233807606,
           1.406855592037044,
           1.4257609951236196,
           1.4450085311074903,
           1.4646091370523227,
           1.4845742119079122,
           1.5049156412977844,
           1.5256458239185904,
           1.5467776996750227,
           1.5683247796847704,
           1.5903011783002905,
           1.6127216473072772,
           1.635601612474563,
           1.6589572126462062,
           1.6828053415846067,
           1.70716369279313,
           1.7320508075688754,
           1.757486126560398,
           1.7834900451324394,
           1.8100839728697131,
           1.8372903975853099,
           1.8651329542367874,
           1.8936364991945416,
           1.9228271903539487,
           1.9527325736347585,
           1.9833816764700418,
           2.0148051089525056,
           2.04703517338021,
           2.080105983026754,
           2.114053591055242,
           2.148916130601262,
           2.184733967170532,
           2.221549864632998,
           2.259409166249944,
           2.298359992346986,
           2.3384534564463455,
           2.379743901901511,
           2.4222891613395956,
           2.46615084151818,
           2.511394636549172,
           2.5580906728412636,
           2.606313889572456,
           2.6561444590371672,
           2.707668251829878,
           2.7609773525461407,
           2.816170632519265,
           2.8733543870902416,
           2.9326430460567163,
           2.994159967295948,
           3.0580383251484533,
           3.124422107030583,
           3.19346723397794,
           3.2653428234794495,
           3.3402326161383025,
           3.4183365915028263,
           3.4998728029927473,
           3.585079467381265,
           3.6742173510077505,
           3.767572503075662,
           3.8654593963979393,
           3.9682245482561003,
           4.076250709236531,
           4.1899617267784315,
           4.309828213722049,
           4.436374181715969,
           4.570184836680355,
           4.711915780970104,
           4.862303927567536,
           5.022180509799734,
           5.192486671495132,
           5.374292255120142,
           5.568818580316251,
           5.777466237893801,
           6.001849236738462,
           6.243837264832954,
           6.505608406613907,
           6.789715464806624,
           7.0991701667994835,
           7.437551146934357,
           7.8091439235497315,
           8.219124505230466,
           8.673803360755793,
           9.180954248158802,
           9.750264457590788,
           10.39396219891932,
           11.12770815252293,
           11.971890741200907,
           12.953555820974477,
           14.109365540316189,
           15.49028921453378,
           17.169336929485713,
           19.254917584356743,
           21.91525186638854,
           25.42622168134351,
           30.27390464735732,
           37.401863168346324,
           48.914967181379865,
           70.66007756373634,
           127.19400989374054,
           635.9826284721132,
           -211.99281182741103,
           -90.85106719511276,
           -57.81088476906288,
           -42.39101470463115,
           -33.46283857735894,
           -27.639385539311125,
           -23.54077855868505,
           -20.499335183583387,
           -18.152599210628203,
           -16.28681440365994,
           -14.767761718273379,
           -13.506913688295006,
           -12.443516159796292,
           -11.534488904811639,
           -10.748434459981478,
           -10.061929312379801,
           -9.457143615789034,
           -8.920265509924766,
           -8.44042965750653,
           -8.008971289054147,
           -7.618895945572906,
           -7.264495499118017,
           -6.941065442660532,
           -6.64469360145948,
           -6.372100065919581,
           -6.12051442164593,
           -5.887580516682641,
           -5.671281819617723,
           -5.4698823551268445,
           -5.281879551675364,
           -5.105966289668615,
           -4.941000121604393,
           -4.785978131281308,
           -4.640016262480494,
           -4.502332216795338,
           -4.37223122175522,
           -4.249094122520166,
           -4.132367366286107,
           -4.021554537491189,
           -3.9162091707266207,
           -3.8159286218685535,
           -3.720348820005195,
           -3.6291397559349217,
           -3.5420015893844488,
           -3.4586612781636243,
           -3.3788696493980677,
           -3.302398846645879,
           -3.2290400977951075,
           -3.1586017576812555,
           -3.0909075867704785,
           -3.025795233348002,
           -2.963114891684171,
           -2.902728112825938,
           -2.844506748136704,
           -2.788332008612387,
           -2.734093625436527,
           -2.681689099287048,
           -2.6310230276366404,
           -2.5820065007541424,
           -2.534556558358083,
           -2.4885956999337235,
           -2.444051442630347,
           -2.400855921430883,
           -2.3589455269523762,
           -2.3182605768089126,
           -2.278745016963992,
           -2.2403461499272006,
           -2.2030143870217804,
           -2.1667030222720567,
           -2.131368025741158,
           -2.096967854394448,
           -2.063463278778998,
           -2.030817223997146,
           -1.9989946236174732,
           -1.9679622853116943,
           -1.9376887671337746,
           -1.9081442634707702,
           -1.879300499794487,
           -1.851130635431795,
           -1.8236091736496267,
           -1.7967118784206957,
           -1.7704156972977547,
           -1.7446986898797785,
           -1.7195399614025602,
           -1.694919601030574,
           -1.6708186244662377,
           -1.647218920528221,
           -1.624103201382215,
           -1.6014549561359888,
           -1.5792584075364389,
           -1.557498471529246,
           -1.5361607194628386,
           -1.5152313427369881,
           -1.4946971197135934,
           -1.4745453847224275,
           -1.4547639990087782,
           -1.4353413234824002,
           -1.416266193138816,
           -1.3975278930344328,
           -1.3791161357063693,
           -1.361021039936688,
           -1.343233110768457,
           -1.3257432206884319,
           -1.3085425918975628,
           -1.2916227795967032,
           -1.2749756562202361,
           -1.2585933965555325,
           -1.2424684636906094,
           -1.2265935957367444,
           -1.2109617932765588,
           -1.195566307491727,
           -1.18040062892776,
           -1.1654584768562484,
           -1.1507337891978582,
           -1.1362207129717996,
           -1.1219135952399868,
           -1.107806974516159,
           -1.0938955726123791,
           -1.0801742868970567,
           -1.0666381829404945,
           -1.0532824875254252,
           -1.0401025820016059,
           -1.0270939959647942,
           -1.0142524012417697,
           -1.0015736061642355,
           -0.9890535501154724,
           -0.9766882983347218,
           -0.9644740369651194,
           -0.9524070683319784,
           -0.9404838064389378,
           -0.9287007726703533,
           -0.9170545916889148,
           -0.9055419875182372,
           -0.8941597798006861,
           -0.8829048802213738,
           -0.8717742890897099,
           -0.8607650920704484,
           -0.8498744570566394,
           -0.8390996311772806,
           -0.8284379379329576,
           -0.8178867744530517,
           -0.8074436088685476,
           -0.7971059777947175,
           -0.7868714839183675,
           -0.7767377936845318,
           -0.7667026350778757,
           -0.7567637954942339,
           -0.746919119698045,
           -0.737166507861597,
           -0.7275039136822596,
           -0.7179293425740871,
           -0.7084408499303146,
           -0.6990365394535293,
           -0.6897145615503807,
           -0.6804731117879429,
           -0.6713104294089011,
           -0.6622247959029666,
           -0.6532145336319714,
           -0.6442780045063028,
           -0.6354136087103752,
           -0.6266197834750298,
           -0.6178950018947863,
           -0.6092377717880163,
           -0.600646634598203,
           -0.5921201643344942,
           -0.5836569665499161,
           -0.5752556773556101,
           -0.5669149624696156,
           -0.5586335162987107,
           -0.5504100610519709,
           -0.5422433458846916,
           -0.5341321460714591,
           -0.5260752622071342,
           -0.5180715194346437,
           -0.5101197666984612,
           -0.5022188760227455,
           -0.4943677418131574,
           -0.4865652801813728,
           -0.478810428291422,
           -0.47110214372695053,
           -0.4634394038786065,
           -0.45582120535072645,
           -0.4482465633865943,
           -0.44071451131151185,
           -0.43322409999301903,
           -0.42577439731756367,
           -0.41836448768301415,
           -0.4109934715063774,
           -0.40366046474614564,
           -0.39636459843872074,
           -0.38910501824834925,
           -0.3818808840300845,
           -0.37469136940524495,
           -0.36753566134892485,
           -0.36041295978906773,
           -0.3533224772166941,
           -0.3462634383068296,
           -0.3392350795497588,
           -0.33223664889218246,
           -0.32526740538793364,
           -0.3183266188578659,
           -0.31141356955857635,
           -0.30452754785963787,
           -0.2976678539289939,
           -0.29083379742623505,
           -0.2840246972034267,
           -0.2772398810132303,
           -0.2704786852240084,
           -0.26374045454167555,
           -0.25702454173800465,
           -0.2503303073851688,
           -0.24365711959625053,
           -0.23700435377149637,
           -0.23037139235009807,
           -0.2237576245672587,
           -0.21716244621636077,
           -0.21058525941600068,
           -0.2040254723817214,
           -0.19748249920221958,
           -0.19095575961987124,
           -0.1844446788153634,
           -0.17794868719628623,
           -0.17146722018948446,
           -0.16499971803703,
           -0.15854562559563118,
           -0.15210439213933,
           -0.14567547116534285,
           -0.13925832020287238,
           -0.1328524006247727,
           -0.12645717746189594,
           -0.12007211922001051,
           -0.11369669769912527,
           -0.10733038781511568,
           -0.10097266742349238,
           -0.09462301714521316,
           -0.0882809201943839,
           -0.08194586220775313,
           -0.07561733107585682,
           -0.06929481677570277,
           -0.06297781120488656,
           -0.056665808017000815,
           -0.05035830245825128,
           -0.04405479120513852,
           -0.03775477220312209,
           -0.03145774450612833,
           -0.025163208116820976,
           -0.018870663827497382,
           -0.012579613061531256,
           -0.0062895577152260775,
           -2.4492935982947064e-16
          ],
          "coloraxis": "coloraxis",
          "symbol": "circle"
         },
         "mode": "markers",
         "name": "",
         "orientation": "v",
         "showlegend": false,
         "type": "scatter",
         "x": [
          0,
          0.006289474781961547,
          0.012578949563923095,
          0.018868424345884642,
          0.02515789912784619,
          0.03144737390980774,
          0.037736848691769284,
          0.04402632347373083,
          0.05031579825569238,
          0.056605273037653926,
          0.06289474781961547,
          0.06918422260157703,
          0.07547369738353857,
          0.08176317216550011,
          0.08805264694746166,
          0.09434212172942322,
          0.10063159651138476,
          0.1069210712933463,
          0.11321054607530785,
          0.1195000208572694,
          0.12578949563923095,
          0.1320789704211925,
          0.13836844520315406,
          0.1446579199851156,
          0.15094739476707714,
          0.15723686954903868,
          0.16352634433100022,
          0.16981581911296179,
          0.17610529389492333,
          0.18239476867688487,
          0.18868424345884643,
          0.19497371824080797,
          0.20126319302276952,
          0.20755266780473106,
          0.2138421425866926,
          0.22013161736865416,
          0.2264210921506157,
          0.23271056693257725,
          0.2390000417145388,
          0.24528951649650035,
          0.2515789912784619,
          0.25786846606042346,
          0.264157940842385,
          0.27044741562434654,
          0.2767368904063081,
          0.2830263651882696,
          0.2893158399702312,
          0.2956053147521927,
          0.3018947895341543,
          0.30818426431611584,
          0.31447373909807735,
          0.3207632138800389,
          0.32705268866200043,
          0.333342163443962,
          0.33963163822592357,
          0.3459211130078851,
          0.35221058778984665,
          0.3585000625718082,
          0.36478953735376973,
          0.3710790121357313,
          0.37736848691769287,
          0.3836579616996544,
          0.38994743648161595,
          0.39623691126357746,
          0.40252638604553903,
          0.4088158608275006,
          0.4151053356094621,
          0.4213948103914237,
          0.4276842851733852,
          0.43397375995534676,
          0.44026323473730833,
          0.44655270951926984,
          0.4528421843012314,
          0.459131659083193,
          0.4654211338651545,
          0.47171060864711606,
          0.4780000834290776,
          0.48428955821103914,
          0.4905790329930007,
          0.4968685077749622,
          0.5031579825569238,
          0.5094474573388853,
          0.5157369321208469,
          0.5220264069028084,
          0.52831588168477,
          0.5346053564667316,
          0.5408948312486931,
          0.5471843060306546,
          0.5534737808126162,
          0.5597632555945777,
          0.5660527303765392,
          0.5723422051585008,
          0.5786316799404624,
          0.5849211547224239,
          0.5912106295043854,
          0.597500104286347,
          0.6037895790683085,
          0.6100790538502701,
          0.6163685286322317,
          0.6226580034141932,
          0.6289474781961547,
          0.6352369529781163,
          0.6415264277600778,
          0.6478159025420394,
          0.6541053773240009,
          0.6603948521059625,
          0.666684326887924,
          0.6729738016698855,
          0.6792632764518471,
          0.6855527512338087,
          0.6918422260157702,
          0.6981317007977318,
          0.7044211755796933,
          0.7107106503616548,
          0.7170001251436164,
          0.723289599925578,
          0.7295790747075395,
          0.7358685494895011,
          0.7421580242714626,
          0.7484474990534241,
          0.7547369738353857,
          0.7610264486173473,
          0.7673159233993088,
          0.7736053981812703,
          0.7798948729632319,
          0.7861843477451934,
          0.7924738225271549,
          0.7987632973091165,
          0.8050527720910781,
          0.8113422468730396,
          0.8176317216550012,
          0.8239211964369627,
          0.8302106712189242,
          0.8365001460008858,
          0.8427896207828474,
          0.8490790955648089,
          0.8553685703467704,
          0.861658045128732,
          0.8679475199106935,
          0.874236994692655,
          0.8805264694746167,
          0.8868159442565782,
          0.8931054190385397,
          0.8993948938205013,
          0.9056843686024628,
          0.9119738433844243,
          0.918263318166386,
          0.9245527929483475,
          0.930842267730309,
          0.9371317425122706,
          0.9434212172942321,
          0.9497106920761936,
          0.9560001668581553,
          0.9622896416401168,
          0.9685791164220783,
          0.9748685912040398,
          0.9811580659860014,
          0.9874475407679629,
          0.9937370155499244,
          1.000026490331886,
          1.0063159651138476,
          1.012605439895809,
          1.0188949146777706,
          1.0251843894597321,
          1.0314738642416938,
          1.0377633390236554,
          1.0440528138056169,
          1.0503422885875784,
          1.05663176336954,
          1.0629212381515014,
          1.0692107129334631,
          1.0755001877154247,
          1.0817896624973862,
          1.0880791372793477,
          1.0943686120613092,
          1.1006580868432707,
          1.1069475616252324,
          1.113237036407194,
          1.1195265111891555,
          1.125815985971117,
          1.1321054607530785,
          1.13839493553504,
          1.1446844103170015,
          1.1509738850989633,
          1.1572633598809248,
          1.1635528346628863,
          1.1698423094448478,
          1.1761317842268093,
          1.1824212590087708,
          1.1887107337907326,
          1.195000208572694,
          1.2012896833546556,
          1.207579158136617,
          1.2138686329185786,
          1.2201581077005401,
          1.2264475824825016,
          1.2327370572644634,
          1.2390265320464249,
          1.2453160068283864,
          1.251605481610348,
          1.2578949563923094,
          1.264184431174271,
          1.2704739059562327,
          1.2767633807381942,
          1.2830528555201557,
          1.2893423303021172,
          1.2956318050840787,
          1.3019212798660402,
          1.3082107546480017,
          1.3145002294299635,
          1.320789704211925,
          1.3270791789938865,
          1.333368653775848,
          1.3396581285578095,
          1.345947603339771,
          1.3522370781217328,
          1.3585265529036943,
          1.3648160276856558,
          1.3711055024676173,
          1.3773949772495788,
          1.3836844520315403,
          1.389973926813502,
          1.3962634015954636,
          1.402552876377425,
          1.4088423511593866,
          1.4151318259413481,
          1.4214213007233096,
          1.4277107755052711,
          1.4340002502872329,
          1.4402897250691944,
          1.446579199851156,
          1.4528686746331174,
          1.459158149415079,
          1.4654476241970404,
          1.4717370989790022,
          1.4780265737609637,
          1.4843160485429252,
          1.4906055233248867,
          1.4968949981068482,
          1.5031844728888097,
          1.5094739476707715,
          1.515763422452733,
          1.5220528972346945,
          1.528342372016656,
          1.5346318467986175,
          1.540921321580579,
          1.5472107963625406,
          1.5535002711445023,
          1.5597897459264638,
          1.5660792207084253,
          1.5723686954903868,
          1.5786581702723483,
          1.5849476450543099,
          1.5912371198362716,
          1.597526594618233,
          1.6038160694001946,
          1.6101055441821561,
          1.6163950189641176,
          1.6226844937460791,
          1.6289739685280407,
          1.6352634433100024,
          1.641552918091964,
          1.6478423928739254,
          1.654131867655887,
          1.6604213424378484,
          1.66671081721981,
          1.6730002920017717,
          1.6792897667837332,
          1.6855792415656947,
          1.6918687163476562,
          1.6981581911296177,
          1.7044476659115793,
          1.7107371406935408,
          1.7170266154755025,
          1.723316090257464,
          1.7296055650394255,
          1.735895039821387,
          1.7421845146033486,
          1.74847398938531,
          1.7547634641672718,
          1.7610529389492333,
          1.7673424137311948,
          1.7736318885131563,
          1.7799213632951179,
          1.7862108380770794,
          1.792500312859041,
          1.7987897876410026,
          1.8050792624229641,
          1.8113687372049256,
          1.8176582119868872,
          1.8239476867688487,
          1.8302371615508102,
          1.836526636332772,
          1.8428161111147334,
          1.849105585896695,
          1.8553950606786564,
          1.861684535460618,
          1.8679740102425795,
          1.8742634850245412,
          1.8805529598065027,
          1.8868424345884642,
          1.8931319093704257,
          1.8994213841523873,
          1.9057108589343488,
          1.9120003337163105,
          1.918289808498272,
          1.9245792832802335,
          1.930868758062195,
          1.9371582328441566,
          1.943447707626118,
          1.9497371824080796,
          1.9560266571900413,
          1.9623161319720028,
          1.9686056067539643,
          1.9748950815359259,
          1.9811845563178874,
          1.9874740310998489,
          1.9937635058818106,
          2.000052980663772,
          2.0063424554457336,
          2.012631930227695,
          2.0189214050096567,
          2.025210879791618,
          2.0315003545735797,
          2.037789829355541,
          2.0440793041375027,
          2.0503687789194642,
          2.056658253701426,
          2.0629477284833877,
          2.069237203265349,
          2.0755266780473107,
          2.0818161528292722,
          2.0881056276112337,
          2.0943951023931953,
          2.1006845771751568,
          2.1069740519571183,
          2.11326352673908,
          2.1195530015210413,
          2.125842476303003,
          2.1321319510849643,
          2.1384214258669263,
          2.144710900648888,
          2.1510003754308493,
          2.157289850212811,
          2.1635793249947723,
          2.169868799776734,
          2.1761582745586954,
          2.182447749340657,
          2.1887372241226184,
          2.19502669890458,
          2.2013161736865414,
          2.207605648468503,
          2.213895123250465,
          2.2201845980324264,
          2.226474072814388,
          2.2327635475963494,
          2.239053022378311,
          2.2453424971602725,
          2.251631971942234,
          2.2579214467241955,
          2.264210921506157,
          2.2705003962881185,
          2.27678987107008,
          2.2830793458520415,
          2.289368820634003,
          2.295658295415965,
          2.3019477701979265,
          2.308237244979888,
          2.3145267197618495,
          2.320816194543811,
          2.3271056693257726,
          2.333395144107734,
          2.3396846188896956,
          2.345974093671657,
          2.3522635684536186,
          2.35855304323558,
          2.3648425180175416,
          2.371131992799503,
          2.377421467581465,
          2.3837109423634266,
          2.390000417145388,
          2.3962898919273496,
          2.402579366709311,
          2.4088688414912727,
          2.415158316273234,
          2.4214477910551957,
          2.427737265837157,
          2.4340267406191187,
          2.4403162154010802,
          2.4466056901830417,
          2.4528951649650033,
          2.459184639746965,
          2.4654741145289267,
          2.4717635893108882,
          2.4780530640928498,
          2.4843425388748113,
          2.490632013656773,
          2.4969214884387343,
          2.503210963220696,
          2.5095004380026573,
          2.515789912784619,
          2.5220793875665803,
          2.528368862348542,
          2.5346583371305034,
          2.5409478119124653,
          2.547237286694427,
          2.5535267614763884,
          2.55981623625835,
          2.5661057110403114,
          2.572395185822273,
          2.5786846606042344,
          2.584974135386196,
          2.5912636101681574,
          2.597553084950119,
          2.6038425597320805,
          2.610132034514042,
          2.6164215092960035,
          2.6227109840779654,
          2.629000458859927,
          2.6352899336418885,
          2.64157940842385,
          2.6478688832058115,
          2.654158357987773,
          2.6604478327697345,
          2.666737307551696,
          2.6730267823336575,
          2.679316257115619,
          2.6856057318975806,
          2.691895206679542,
          2.698184681461504,
          2.7044741562434655,
          2.710763631025427,
          2.7170531058073886,
          2.72334258058935,
          2.7296320553713116,
          2.735921530153273,
          2.7422110049352346,
          2.748500479717196,
          2.7547899544991576,
          2.761079429281119,
          2.7673689040630807,
          2.773658378845042,
          2.779947853627004,
          2.7862373284089657,
          2.792526803190927,
          2.7988162779728887,
          2.80510575275485,
          2.8113952275368117,
          2.817684702318773,
          2.8239741771007347,
          2.8302636518826962,
          2.8365531266646578,
          2.8428426014466193,
          2.849132076228581,
          2.8554215510105423,
          2.8617110257925042,
          2.8680005005744658,
          2.8742899753564273,
          2.880579450138389,
          2.8868689249203503,
          2.893158399702312,
          2.8994478744842733,
          2.905737349266235,
          2.9120268240481963,
          2.918316298830158,
          2.9246057736121194,
          2.930895248394081,
          2.9371847231760424,
          2.9434741979580044,
          2.949763672739966,
          2.9560531475219274,
          2.962342622303889,
          2.9686320970858504,
          2.974921571867812,
          2.9812110466497734,
          2.987500521431735,
          2.9937899962136965,
          3.000079470995658,
          3.0063689457776195,
          3.012658420559581,
          3.018947895341543,
          3.0252373701235045,
          3.031526844905466,
          3.0378163196874275,
          3.044105794469389,
          3.0503952692513505,
          3.056684744033312,
          3.0629742188152735,
          3.069263693597235,
          3.0755531683791966,
          3.081842643161158,
          3.0881321179431196,
          3.094421592725081,
          3.100711067507043,
          3.1070005422890046,
          3.113290017070966,
          3.1195794918529276,
          3.125868966634889,
          3.1321584414168506,
          3.138447916198812,
          3.1447373909807737,
          3.151026865762735,
          3.1573163405446967,
          3.163605815326658,
          3.1698952901086197,
          3.176184764890581,
          3.182474239672543,
          3.1887637144545047,
          3.195053189236466,
          3.2013426640184277,
          3.207632138800389,
          3.2139216135823507,
          3.2202110883643122,
          3.2265005631462738,
          3.2327900379282353,
          3.239079512710197,
          3.2453689874921583,
          3.25165846227412,
          3.2579479370560813,
          3.2642374118380433,
          3.270526886620005,
          3.2768163614019663,
          3.283105836183928,
          3.2893953109658893,
          3.295684785747851,
          3.3019742605298124,
          3.308263735311774,
          3.3145532100937354,
          3.320842684875697,
          3.3271321596576584,
          3.33342163443962,
          3.3397111092215814,
          3.3460005840035434,
          3.352290058785505,
          3.3585795335674664,
          3.364869008349428,
          3.3711584831313894,
          3.377447957913351,
          3.3837374326953125,
          3.390026907477274,
          3.3963163822592355,
          3.402605857041197,
          3.4088953318231585,
          3.41518480660512,
          3.4214742813870815,
          3.4277637561690435,
          3.434053230951005,
          3.4403427057329665,
          3.446632180514928,
          3.4529216552968895,
          3.459211130078851,
          3.4655006048608126,
          3.471790079642774,
          3.4780795544247356,
          3.484369029206697,
          3.4906585039886586,
          3.49694797877062,
          3.503237453552582,
          3.5095269283345436,
          3.515816403116505,
          3.5221058778984666,
          3.528395352680428,
          3.5346848274623897,
          3.540974302244351,
          3.5472637770263127,
          3.553553251808274,
          3.5598427265902357,
          3.566132201372197,
          3.5724216761541587,
          3.5787111509361202,
          3.585000625718082,
          3.5912901005000437,
          3.5975795752820052,
          3.6038690500639667,
          3.6101585248459283,
          3.6164479996278898,
          3.6227374744098513,
          3.629026949191813,
          3.6353164239737743,
          3.641605898755736,
          3.6478953735376973,
          3.654184848319659,
          3.6604743231016204,
          3.6667637978835823,
          3.673053272665544,
          3.6793427474475053,
          3.685632222229467,
          3.6919216970114284,
          3.69821117179339,
          3.7045006465753514,
          3.710790121357313,
          3.7170795961392744,
          3.723369070921236,
          3.7296585457031974,
          3.735948020485159,
          3.7422374952671205,
          3.7485269700490824,
          3.754816444831044,
          3.7611059196130054,
          3.767395394394967,
          3.7736848691769285,
          3.77997434395889,
          3.7862638187408515,
          3.792553293522813,
          3.7988427683047745,
          3.805132243086736,
          3.8114217178686975,
          3.817711192650659,
          3.824000667432621,
          3.8302901422145825,
          3.836579616996544,
          3.8428690917785056,
          3.849158566560467,
          3.8554480413424286,
          3.86173751612439,
          3.8680269909063516,
          3.874316465688313,
          3.8806059404702746,
          3.886895415252236,
          3.8931848900341977,
          3.899474364816159,
          3.905763839598121,
          3.9120533143800826,
          3.918342789162044,
          3.9246322639440057,
          3.930921738725967,
          3.9372112135079287,
          3.94350068828989,
          3.9497901630718517,
          3.9560796378538132,
          3.9623691126357747,
          3.9686585874177362,
          3.9749480621996978,
          3.9812375369816593,
          3.9875270117636212,
          3.9938164865455827,
          4.000105961327544,
          4.006395436109505,
          4.012684910891467,
          4.018974385673428,
          4.02526386045539,
          4.031553335237352,
          4.037842810019313,
          4.044132284801275,
          4.050421759583236,
          4.056711234365198,
          4.063000709147159,
          4.069290183929121,
          4.075579658711082,
          4.081869133493044,
          4.088158608275005,
          4.094448083056967,
          4.1007375578389285,
          4.10702703262089,
          4.113316507402852,
          4.119605982184813,
          4.125895456966775,
          4.1321849317487365,
          4.138474406530698,
          4.1447638813126595,
          4.1510533560946214,
          4.1573428308765825,
          4.1636323056585445,
          4.1699217804405055,
          4.1762112552224675,
          4.182500730004429,
          4.1887902047863905,
          4.1950796795683525,
          4.2013691543503136,
          4.2076586291322755,
          4.213948103914237,
          4.2202375786961985,
          4.22652705347816,
          4.232816528260122,
          4.239106003042083,
          4.245395477824045,
          4.251684952606006,
          4.257974427387968,
          4.264263902169929,
          4.270553376951891,
          4.276842851733853,
          4.283132326515814,
          4.289421801297776,
          4.295711276079737,
          4.302000750861699,
          4.30829022564366,
          4.314579700425622,
          4.320869175207583,
          4.327158649989545,
          4.333448124771506,
          4.339737599553468,
          4.346027074335429,
          4.352316549117391,
          4.358606023899353,
          4.364895498681314,
          4.371184973463276,
          4.377474448245237,
          4.383763923027199,
          4.39005339780916,
          4.396342872591122,
          4.402632347373083,
          4.408921822155045,
          4.415211296937006,
          4.421500771718968,
          4.42779024650093,
          4.434079721282891,
          4.440369196064853,
          4.446658670846814,
          4.452948145628776,
          4.459237620410737,
          4.465527095192699,
          4.47181656997466,
          4.478106044756622,
          4.484395519538583,
          4.490684994320545,
          4.496974469102506,
          4.503263943884468,
          4.50955341866643,
          4.515842893448391,
          4.522132368230353,
          4.528421843012314,
          4.534711317794276,
          4.541000792576237,
          4.547290267358199,
          4.55357974214016,
          4.559869216922122,
          4.566158691704083,
          4.572448166486045,
          4.578737641268006,
          4.585027116049968,
          4.59131659083193,
          4.597606065613891,
          4.603895540395853,
          4.610185015177814,
          4.616474489959776,
          4.622763964741737,
          4.629053439523699,
          4.63534291430566,
          4.641632389087622,
          4.647921863869583,
          4.654211338651545,
          4.660500813433506,
          4.666790288215468,
          4.67307976299743,
          4.679369237779391,
          4.685658712561353,
          4.691948187343314,
          4.698237662125276,
          4.704527136907237,
          4.710816611689199,
          4.71710608647116,
          4.723395561253122,
          4.729685036035083,
          4.735974510817045,
          4.742263985599006,
          4.748553460380968,
          4.75484293516293,
          4.761132409944891,
          4.767421884726853,
          4.773711359508814,
          4.780000834290776,
          4.786290309072737,
          4.792579783854699,
          4.79886925863666,
          4.805158733418622,
          4.811448208200583,
          4.817737682982545,
          4.824027157764506,
          4.830316632546468,
          4.83660610732843,
          4.842895582110391,
          4.849185056892353,
          4.855474531674314,
          4.861764006456276,
          4.8680534812382374,
          4.874342956020199,
          4.8806324308021605,
          4.886921905584122,
          4.8932113803660835,
          4.8995008551480455,
          4.9057903299300065,
          4.9120798047119685,
          4.91836927949393,
          4.9246587542758915,
          4.9309482290578535,
          4.9372377038398145,
          4.9435271786217765,
          4.9498166534037376,
          4.9561061281856995,
          4.962395602967661,
          4.9686850777496225,
          4.974974552531584,
          4.981264027313546,
          4.987553502095507,
          4.993842976877469,
          5.0001324516594305,
          5.006421926441392,
          5.012711401223354,
          5.019000876005315,
          5.025290350787277,
          5.031579825569238,
          5.0378693003512,
          5.044158775133161,
          5.050448249915123,
          5.056737724697084,
          5.063027199479046,
          5.069316674261007,
          5.075606149042969,
          5.081895623824931,
          5.088185098606892,
          5.094474573388854,
          5.100764048170815,
          5.107053522952777,
          5.113342997734738,
          5.1196324725167,
          5.125921947298661,
          5.132211422080623,
          5.138500896862584,
          5.144790371644546,
          5.151079846426507,
          5.157369321208469,
          5.163658795990431,
          5.169948270772392,
          5.176237745554354,
          5.182527220336315,
          5.188816695118277,
          5.195106169900238,
          5.2013956446822,
          5.207685119464161,
          5.213974594246123,
          5.220264069028084,
          5.226553543810046,
          5.232843018592007,
          5.239132493373969,
          5.245421968155931,
          5.251711442937892,
          5.258000917719854,
          5.264290392501815,
          5.270579867283777,
          5.276869342065738,
          5.2831588168477,
          5.289448291629661,
          5.295737766411623,
          5.302027241193584,
          5.308316715975546,
          5.314606190757508,
          5.320895665539469,
          5.327185140321431,
          5.333474615103392,
          5.339764089885354,
          5.346053564667315,
          5.352343039449277,
          5.358632514231238,
          5.3649219890132,
          5.371211463795161,
          5.377500938577123,
          5.383790413359084,
          5.390079888141046,
          5.396369362923008,
          5.402658837704969,
          5.408948312486931,
          5.415237787268892,
          5.421527262050854,
          5.427816736832815,
          5.434106211614777,
          5.440395686396738,
          5.4466851611787,
          5.452974635960661,
          5.459264110742623,
          5.465553585524584,
          5.471843060306546,
          5.478132535088508,
          5.484422009870469,
          5.490711484652431,
          5.497000959434392,
          5.503290434216354,
          5.509579908998315,
          5.515869383780277,
          5.522158858562238,
          5.5284483333442,
          5.534737808126161,
          5.541027282908123,
          5.547316757690084,
          5.553606232472046,
          5.559895707254008,
          5.566185182035969,
          5.572474656817931,
          5.578764131599892,
          5.585053606381854,
          5.591343081163815,
          5.597632555945777,
          5.603922030727738,
          5.6102115055097,
          5.6165009802916614,
          5.622790455073623,
          5.6290799298555845,
          5.635369404637546,
          5.641658879419508,
          5.6479483542014695,
          5.654237828983431,
          5.6605273037653925,
          5.666816778547354,
          5.6731062533293155,
          5.6793957281112775,
          5.6856852028932385,
          5.6919746776752005,
          5.698264152457162,
          5.7045536272391235,
          5.710843102021085,
          5.7171325768030465,
          5.7234220515850085,
          5.72971152636697,
          5.7360010011489315,
          5.742290475930893,
          5.7485799507128545,
          5.754869425494816,
          5.761158900276778,
          5.767448375058739,
          5.773737849840701,
          5.780027324622662,
          5.786316799404624,
          5.792606274186585,
          5.798895748968547,
          5.805185223750509,
          5.81147469853247,
          5.817764173314432,
          5.824053648096393,
          5.830343122878355,
          5.836632597660316,
          5.842922072442278,
          5.849211547224239,
          5.855501022006201,
          5.861790496788162,
          5.868079971570124,
          5.874369446352085,
          5.880658921134047,
          5.886948395916009,
          5.89323787069797,
          5.899527345479932,
          5.905816820261893,
          5.912106295043855,
          5.918395769825816,
          5.924685244607778,
          5.930974719389739,
          5.937264194171701,
          5.943553668953662,
          5.949843143735624,
          5.956132618517585,
          5.962422093299547,
          5.968711568081509,
          5.97500104286347,
          5.981290517645432,
          5.987579992427393,
          5.993869467209355,
          6.000158941991316,
          6.006448416773278,
          6.012737891555239,
          6.019027366337201,
          6.025316841119162,
          6.031606315901124,
          6.037895790683086,
          6.044185265465047,
          6.050474740247009,
          6.05676421502897,
          6.063053689810932,
          6.069343164592893,
          6.075632639374855,
          6.081922114156816,
          6.088211588938778,
          6.094501063720739,
          6.100790538502701,
          6.107080013284662,
          6.113369488066624,
          6.119658962848586,
          6.125948437630547,
          6.132237912412509,
          6.13852738719447,
          6.144816861976432,
          6.151106336758393,
          6.157395811540355,
          6.163685286322316,
          6.169974761104278,
          6.176264235886239,
          6.182553710668201,
          6.188843185450162,
          6.195132660232124,
          6.201422135014086,
          6.207711609796047,
          6.214001084578009,
          6.22029055935997,
          6.226580034141932,
          6.232869508923893,
          6.239158983705855,
          6.245448458487816,
          6.251737933269778,
          6.258027408051739,
          6.264316882833701,
          6.270606357615662,
          6.276895832397624,
          6.283185307179586
         ],
         "xaxis": "x",
         "y": [
          0,
          0.0062895577152254235,
          0.012579613061530192,
          0.0188706638274968,
          0.02516320811681998,
          0.031457744506127816,
          0.037754772203121165,
          0.044054791205138076,
          0.050358302458250424,
          0.056665808017000434,
          0.06297781120488577,
          0.06929481677570247,
          0.0756173310758561,
          0.08194586220775289,
          0.08828092019438324,
          0.09462301714521211,
          0.1009726674234918,
          0.10733038781511467,
          0.11369669769912476,
          0.12007211922000958,
          0.1264571774618955,
          0.13285240062477183,
          0.13925832020287202,
          0.14567547116534205,
          0.1521043921393297,
          0.15854562559563046,
          0.16499971803702976,
          0.17146722018948382,
          0.17794868719628515,
          0.1844446788153628,
          0.19095575961987024,
          0.19748249920221908,
          0.20402547238172042,
          0.21058525941600023,
          0.21716244621635986,
          0.22375762456725834,
          0.23037139235009724,
          0.23700435377149603,
          0.24365711959624978,
          0.2503303073851686,
          0.257024541738004,
          0.26374045454167444,
          0.2704786852240078,
          0.27723988101322933,
          0.2840246972034262,
          0.2908337974262341,
          0.2976678539289935,
          0.3045275478596369,
          0.31141356955857596,
          0.3183266188578651,
          0.3252674053879333,
          0.3322366488921817,
          0.3392350795497575,
          0.3462634383068289,
          0.3533224772166929,
          0.36041295978906707,
          0.36753566134892374,
          0.37469136940524445,
          0.38188088403008347,
          0.38910501824834876,
          0.3963645984387198,
          0.40366046474614525,
          0.4109934715063765,
          0.4183644876830138,
          0.4257743973175629,
          0.43322409999301775,
          0.44071451131151107,
          0.4482465633865931,
          0.45582120535072573,
          0.4634394038786053,
          0.47110214372695,
          0.4788104282914209,
          0.4865652801813723,
          0.4943677418131564,
          0.5022188760227451,
          0.5101197666984602,
          0.5180715194346434,
          0.5260752622071333,
          0.5341321460714578,
          0.5422433458846908,
          0.5504100610519695,
          0.5586335162987099,
          0.5669149624696144,
          0.5752556773556095,
          0.5836569665499148,
          0.5921201643344937,
          0.6006466345982019,
          0.6092377717880159,
          0.6178950018947853,
          0.6266197834750294,
          0.6354136087103742,
          0.6442780045063012,
          0.6532145336319706,
          0.662224795902965,
          0.6713104294089002,
          0.6804731117879416,
          0.68971456155038,
          0.699036539453528,
          0.7084408499303142,
          0.7179293425740859,
          0.7275039136822591,
          0.737166507861596,
          0.7469191196980447,
          0.7567637954942328,
          0.7667026350778738,
          0.7767377936845308,
          0.7868714839183658,
          0.7971059777947166,
          0.807443608868546,
          0.8178867744530509,
          0.8284379379329561,
          0.8390996311772799,
          0.849874457056638,
          0.8607650920704478,
          0.8717742890897088,
          0.8829048802213734,
          0.8941597798006848,
          0.9055419875182353,
          0.9170545916889137,
          0.9287007726703514,
          0.9404838064389369,
          0.9524070683319766,
          0.9644740369651184,
          0.9766882983347199,
          0.9890535501154716,
          1.001573606164234,
          1.0142524012417689,
          1.027093995964793,
          1.0401025820016052,
          1.0532824875254236,
          1.0666381829404923,
          1.0801742868970554,
          1.0938955726123767,
          1.1078069745161578,
          1.1219135952399848,
          1.1362207129717987,
          1.1507337891978562,
          1.1654584768562475,
          1.180400628927758,
          1.1955663074917262,
          1.2109617932765573,
          1.2265935957367438,
          1.2424684636906076,
          1.25859339655553,
          1.2749756562202346,
          1.2916227795967006,
          1.3085425918975617,
          1.3257432206884294,
          1.3432331107684556,
          1.3610210399366858,
          1.3791161357063682,
          1.3975278930344304,
          1.4162661931388152,
          1.4353413234823982,
          1.4547639990087773,
          1.4745453847224255,
          1.49469711971359,
          1.5152313427369863,
          1.536160719462835,
          1.5574984715292444,
          1.5792584075364358,
          1.6014549561359872,
          1.6241032013822116,
          1.6472189205282193,
          1.670818624466235,
          1.6949196010305732,
          1.7195399614025575,
          1.744698689879774,
          1.7704156972977518,
          1.7967118784206908,
          1.8236091736496247,
          1.851130635431791,
          1.8793004997944849,
          1.908144263470766,
          1.9376887671337724,
          1.9679622853116898,
          1.998994623617472,
          2.0308172239971425,
          2.063463278778997,
          2.0969678543944443,
          2.131368025741151,
          2.1667030222720527,
          2.2030143870217738,
          2.240346149927198,
          2.278745016963986,
          2.31826057680891,
          2.3589455269523705,
          2.40085592143088,
          2.444051442630341,
          2.4885956999337218,
          2.5345565583580782,
          2.5820065007541406,
          2.6310230276366346,
          2.681689099287039,
          2.7340936254365213,
          2.7883320086123766,
          2.8445067481367,
          2.9027281128259297,
          2.9631148916841665,
          3.0257952333479925,
          3.0909075867704736,
          3.1586017576812453,
          3.229040097795105,
          3.302398846645871,
          3.378869649398065,
          3.458661278163615,
          3.542001589384433,
          3.629139755934912,
          3.720348820005178,
          3.815928621868546,
          3.916209170726606,
          4.021554537491181,
          4.13236736628609,
          4.249094122520157,
          4.372231221755202,
          4.502332216795333,
          4.640016262480479,
          4.7859781312813015,
          4.941000121604375,
          5.105966289668585,
          5.281879551675344,
          5.469882355126817,
          5.671281819617707,
          5.8875805166826085,
          6.120514421645911,
          6.372100065919543,
          6.644693601459458,
          6.941065442660487,
          7.264495499118004,
          7.6188959455728655,
          8.00897128905413,
          8.44042965750648,
          8.920265509924675,
          9.457143615788972,
          10.061929312379709,
          10.748434459981423,
          11.534488904811516,
          12.44351615979622,
          13.506913688294839,
          14.767761718273276,
          16.286814403659754,
          18.152599210628125,
          20.499335183583096,
          23.540778558684917,
          27.6393855393106,
          33.46283857735767,
          42.3910147046299,
          57.81088476905984,
          90.85106719510891,
          211.99281182737008,
          -635.9826284723022,
          -127.19400989375528,
          -70.66007756373867,
          -48.91496718138151,
          -37.40186316834667,
          -30.27390464735795,
          -25.42622168134367,
          -21.915251866388875,
          -19.254917584357162,
          -17.169336929485915,
          -15.490289214534,
          -14.109365540316281,
          -12.953555820974632,
          -11.971890741200975,
          -11.127708152523043,
          -10.39396219891937,
          -9.750264457590854,
          -9.180954248158821,
          -8.673803360755844,
          -8.219124505230482,
          -7.809143923549774,
          -7.437551146934421,
          -7.099170166799519,
          -6.789715464806666,
          -6.505608406613927,
          -6.24383726483299,
          -6.0018492367384795,
          -5.777466237893832,
          -5.568818580316266,
          -5.374292255120163,
          -5.192486671495139,
          -5.022180509799751,
          -4.862303927567543,
          -4.71191578097012,
          -4.5701848366803794,
          -4.436374181715979,
          -4.309828213722067,
          -4.1899617267784395,
          -4.076250709236548,
          -3.9682245482561083,
          -3.865459396397954,
          -3.767572503075669,
          -3.6742173510077607,
          -3.5850794673812687,
          -3.499872802992756,
          -3.4183365915028294,
          -3.340232616138311,
          -3.265342823479463,
          -3.193467233977945,
          -3.124422107030593,
          -3.058038325148458,
          -2.9941599672959573,
          -2.9326430460567208,
          -2.87335438709025,
          -2.8161706325192672,
          -2.7609773525461465,
          -2.70766825182988,
          -2.656144459037173,
          -2.6063138895724647,
          -2.558090672841269,
          -2.51139463654918,
          -2.466150841518183,
          -2.422289161339602,
          -2.3797439019015143,
          -2.3384534564463517,
          -2.298359992346989,
          -2.2594091662499496,
          -2.2215498646329994,
          -2.184733967170536,
          -2.1489161306012634,
          -2.1140535910552454,
          -2.0801059830267596,
          -2.0470351733802135,
          -2.0148051089525114,
          -1.9833816764700452,
          -1.952732573634764,
          -1.922827190353952,
          -1.8936364991945447,
          -1.8651329542367885,
          -1.837290397585313,
          -1.8100839728697142,
          -1.7834900451324422,
          -1.7574861265603992,
          -1.7320508075688783,
          -1.7071636927931344,
          -1.6828053415846094,
          -1.6589572126462104,
          -1.6356016124745656,
          -1.6127216473072812,
          -1.590301178300293,
          -1.5683247796847726,
          -1.5467776996750235,
          -1.5256458239185928,
          -1.504915641297785,
          -1.4845742119079144,
          -1.4646091370523233,
          -1.4450085311074923,
          -1.4257609951236232,
          -1.406855592037046,
          -1.388281823380764,
          -1.3700296073885183,
          -1.3520892583960344,
          -1.3344514674506265,
          -1.3171072840472493,
          -1.300048098915331,
          -1.283265627786521,
          -1.2667518960787043,
          -1.2504992244364799,
          -1.2345002150727131,
          -1.2187477388598285,
          -1.2032349231232329,
          -1.1879551400926867,
          -1.172901995970582,
          -1.1580693205789954,
          -1.1434511575500432,
          -1.1290417550265353,
          -1.1148355568421986,
          -1.1008271941528174,
          -1.08701147749161,
          -1.0733833892239186,
          -1.0599380763779642,
          -1.0466708438299506,
          -1.033577147823217,
          -1.0206525898024605,
          -1.0078929105452734,
          -0.9952939845743657,
          -0.9828518148349082,
          -0.9705625276224004,
          -0.9584223677473813,
          -0.9464276939241554,
          -0.9345749743714694,
          -0.922860782613849,
          -0.9112817934729504,
          -0.8998347792389428,
          -0.8885166060125249,
          -0.8773242302087344,
          -0.8662546952142313,
          -0.8553051281902168,
          -0.8444727370136053,
          -0.8337548073494905,
          -0.8231486998483429,
          -0.8126518474617472,
          -0.8022617528708408,
          -0.7919759860219252,
          -0.7817921817640555,
          -0.7717080375836695,
          -0.7617213114316086,
          -0.7518298196381259,
          -0.7420314349117151,
          -0.7323240844178213,
          -0.7227057479336965,
          -0.7131744560758696,
          -0.7037282885968758,
          -0.6943653727480746,
          -0.685083881705542,
          -0.675882033056186,
          -0.6667580873413649,
          -0.6577103466554507,
          -0.6487371532968822,
          -0.639836888469394,
          -0.6310079710312149,
          -0.6222488562901402,
          -0.6135580348424846,
          -0.604934031454022,
          -0.5963754039811068,
          -0.5878807423302611,
          -0.5794486674545953,
          -0.5710778303855023,
          -0.5627669112981479,
          -0.5545146186093357,
          -0.5463196881064102,
          -0.5381808821059065,
          -0.5300969886407235,
          -0.5220668206746515,
          -0.5140892153431389,
          -0.506163033219233,
          -0.4982871576036759,
          -0.4904604938381871,
          -0.48268196864099966,
          -0.4749505294637665,
          -0.46726514386898765,
          -0.45962479892714103,
          -0.45202850063274963,
          -0.44447527333863457,
          -0.43696415920764586,
          -0.4294942176811888,
          -0.42206452496389374,
          -0.4146741735238044,
          -0.4073222716074852,
          -0.40000794276947305,
          -0.39273032541552433,
          -0.38548857235912637,
          -0.3782818503907679,
          -0.3711093398594843,
          -0.36397023426620256,
          -0.3568637398684477,
          -0.3497890752959722,
          -0.3427454711768964,
          -0.33573216977396225,
          -0.3287484246305163,
          -0.3217935002258543,
          -0.3148666716395723,
          -0.30796722422458384,
          -0.30109445328847284,
          -0.294247663782868,
          -0.2874261700005307,
          -0.28062929527986746,
          -0.2738563717165738,
          -0.2671067398821474,
          -0.2603797485489982,
          -0.2536747544219037,
          -0.2469911218755621,
          -0.24032822269800636,
          -0.2336854358396475,
          -0.2270621471677259,
          -0.22045774922595446,
          -0.21387164099914507,
          -0.20730322768261678,
          -0.20075192045618878,
          -0.19421713626257184,
          -0.18769829758996642,
          -0.18119483225869823,
          -0.17470617321171053,
          -0.16823175830874723,
          -0.1617710301240619,
          -0.1553234357474932,
          -0.148888426588751,
          -0.14246545818476167,
          -0.1360539900099245,
          -0.12965348528913537,
          -0.12326341081343578,
          -0.11688323675815278,
          -0.11051243650338786,
          -0.10415048645673236,
          -0.097796865878073,
          -0.09145105670636396,
          -0.08511254338824036,
          -0.07878081270835112,
          -0.07245535362129105,
          -0.06613565708501376,
          -0.059821215895609105,
          -0.05351152452333004,
          -0.047206078949755495,
          -0.040904376505976774,
          -0.034605915711699,
          -0.02831019611514131,
          -0.022016718133635545,
          -0.015724982894808715,
          -0.009434492078244462,
          -0.003144747757516061,
          0.003144747757515372,
          0.009434492078243772,
          0.015724982894808028,
          0.022016718133634854,
          0.028310196115140622,
          0.03460591571169831,
          0.04090437650597653,
          0.04720607894975481,
          0.05351152452332934,
          0.05982121589560841,
          0.06613565708501307,
          0.07245535362129035,
          0.07878081270835043,
          0.08511254338823966,
          0.09145105670636326,
          0.0977968658780723,
          0.10415048645673167,
          0.11051243650338717,
          0.11688323675815207,
          0.12326341081343553,
          0.12965348528913467,
          0.1360539900099238,
          0.14246545818476095,
          0.1488884265887503,
          0.1553234357474925,
          0.1617710301240612,
          0.16823175830874654,
          0.17470617321170984,
          0.1811948322586975,
          0.18769829758996573,
          0.19421713626257114,
          0.20075192045618806,
          0.20730322768261605,
          0.21387164099914435,
          0.22045774922595374,
          0.2270621471677252,
          0.23368543583964677,
          0.24032822269800563,
          0.24699112187556138,
          0.25367475442190296,
          0.2603797485489975,
          0.26710673988214667,
          0.27385637171657307,
          0.28062929527986674,
          0.28742617000053,
          0.2942476637828672,
          0.3010944532884721,
          0.3079672242245831,
          0.3148666716395716,
          0.3217935002258535,
          0.32874842463051557,
          0.33573216977396153,
          0.34274547117689563,
          0.3497890752959714,
          0.35686373986844694,
          0.3639702342662018,
          0.3711093398594835,
          0.3782818503907676,
          0.38548857235912554,
          0.39273032541552355,
          0.40000794276947227,
          0.40732227160748435,
          0.41467417352380365,
          0.42206452496389296,
          0.42949421768118795,
          0.43696415920764503,
          0.44447527333863374,
          0.4520285006327488,
          0.4596247989271402,
          0.4672651438689868,
          0.47495052946376615,
          0.48268196864099877,
          0.49046049383818624,
          0.4982871576036751,
          0.5061630332192321,
          0.514089215343138,
          0.5220668206746506,
          0.5300969886407226,
          0.5381808821059056,
          0.5463196881064093,
          0.5545146186093348,
          0.562766911298147,
          0.5710778303855014,
          0.5794486674545944,
          0.5878807423302601,
          0.5963754039811058,
          0.6049340314540211,
          0.6135580348424837,
          0.6222488562901392,
          0.631007971031214,
          0.639836888469393,
          0.6487371532968812,
          0.6577103466554497,
          0.6667580873413639,
          0.675882033056185,
          0.685083881705541,
          0.6943653727480736,
          0.7037282885968748,
          0.7131744560758685,
          0.7227057479336955,
          0.7323240844178202,
          0.7420314349117141,
          0.7518298196381248,
          0.7617213114316076,
          0.7717080375836683,
          0.7817921817640544,
          0.7919759860219241,
          0.8022617528708397,
          0.8126518474617468,
          0.8231486998483417,
          0.8337548073494893,
          0.844472737013604,
          0.8553051281902155,
          0.86625469521423,
          0.8773242302087332,
          0.8885166060125237,
          0.8998347792389416,
          0.9112817934729491,
          0.9228607826138477,
          0.9345749743714681,
          0.9464276939241542,
          0.9584223677473809,
          0.970562527622399,
          0.9828518148349069,
          0.9952939845743644,
          1.007892910545272,
          1.0206525898024592,
          1.0335771478232154,
          1.0466708438299492,
          1.0599380763779627,
          1.073383389223917,
          1.0870114774916086,
          1.1008271941528158,
          1.114835556842197,
          1.1290417550265346,
          1.1434511575500417,
          1.1580693205789938,
          1.1729019959705793,
          1.1879551400926849,
          1.2032349231232302,
          1.2187477388598267,
          1.2345002150727125,
          1.250499224436478,
          1.2667518960787036,
          1.2832656277865193,
          1.3000480989153302,
          1.3171072840472473,
          1.3344514674506258,
          1.3520892583960311,
          1.3700296073885163,
          1.3882818233807606,
          1.406855592037044,
          1.4257609951236196,
          1.4450085311074903,
          1.4646091370523227,
          1.4845742119079122,
          1.5049156412977844,
          1.5256458239185904,
          1.5467776996750227,
          1.5683247796847704,
          1.5903011783002905,
          1.6127216473072772,
          1.635601612474563,
          1.6589572126462062,
          1.6828053415846067,
          1.70716369279313,
          1.7320508075688754,
          1.757486126560398,
          1.7834900451324394,
          1.8100839728697131,
          1.8372903975853099,
          1.8651329542367874,
          1.8936364991945416,
          1.9228271903539487,
          1.9527325736347585,
          1.9833816764700418,
          2.0148051089525056,
          2.04703517338021,
          2.080105983026754,
          2.114053591055242,
          2.148916130601262,
          2.184733967170532,
          2.221549864632998,
          2.259409166249944,
          2.298359992346986,
          2.3384534564463455,
          2.379743901901511,
          2.4222891613395956,
          2.46615084151818,
          2.511394636549172,
          2.5580906728412636,
          2.606313889572456,
          2.6561444590371672,
          2.707668251829878,
          2.7609773525461407,
          2.816170632519265,
          2.8733543870902416,
          2.9326430460567163,
          2.994159967295948,
          3.0580383251484533,
          3.124422107030583,
          3.19346723397794,
          3.2653428234794495,
          3.3402326161383025,
          3.4183365915028263,
          3.4998728029927473,
          3.585079467381265,
          3.6742173510077505,
          3.767572503075662,
          3.8654593963979393,
          3.9682245482561003,
          4.076250709236531,
          4.1899617267784315,
          4.309828213722049,
          4.436374181715969,
          4.570184836680355,
          4.711915780970104,
          4.862303927567536,
          5.022180509799734,
          5.192486671495132,
          5.374292255120142,
          5.568818580316251,
          5.777466237893801,
          6.001849236738462,
          6.243837264832954,
          6.505608406613907,
          6.789715464806624,
          7.0991701667994835,
          7.437551146934357,
          7.8091439235497315,
          8.219124505230466,
          8.673803360755793,
          9.180954248158802,
          9.750264457590788,
          10.39396219891932,
          11.12770815252293,
          11.971890741200907,
          12.953555820974477,
          14.109365540316189,
          15.49028921453378,
          17.169336929485713,
          19.254917584356743,
          21.91525186638854,
          25.42622168134351,
          30.27390464735732,
          37.401863168346324,
          48.914967181379865,
          70.66007756373634,
          127.19400989374054,
          635.9826284721132,
          -211.99281182741103,
          -90.85106719511276,
          -57.81088476906288,
          -42.39101470463115,
          -33.46283857735894,
          -27.639385539311125,
          -23.54077855868505,
          -20.499335183583387,
          -18.152599210628203,
          -16.28681440365994,
          -14.767761718273379,
          -13.506913688295006,
          -12.443516159796292,
          -11.534488904811639,
          -10.748434459981478,
          -10.061929312379801,
          -9.457143615789034,
          -8.920265509924766,
          -8.44042965750653,
          -8.008971289054147,
          -7.618895945572906,
          -7.264495499118017,
          -6.941065442660532,
          -6.64469360145948,
          -6.372100065919581,
          -6.12051442164593,
          -5.887580516682641,
          -5.671281819617723,
          -5.4698823551268445,
          -5.281879551675364,
          -5.105966289668615,
          -4.941000121604393,
          -4.785978131281308,
          -4.640016262480494,
          -4.502332216795338,
          -4.37223122175522,
          -4.249094122520166,
          -4.132367366286107,
          -4.021554537491189,
          -3.9162091707266207,
          -3.8159286218685535,
          -3.720348820005195,
          -3.6291397559349217,
          -3.5420015893844488,
          -3.4586612781636243,
          -3.3788696493980677,
          -3.302398846645879,
          -3.2290400977951075,
          -3.1586017576812555,
          -3.0909075867704785,
          -3.025795233348002,
          -2.963114891684171,
          -2.902728112825938,
          -2.844506748136704,
          -2.788332008612387,
          -2.734093625436527,
          -2.681689099287048,
          -2.6310230276366404,
          -2.5820065007541424,
          -2.534556558358083,
          -2.4885956999337235,
          -2.444051442630347,
          -2.400855921430883,
          -2.3589455269523762,
          -2.3182605768089126,
          -2.278745016963992,
          -2.2403461499272006,
          -2.2030143870217804,
          -2.1667030222720567,
          -2.131368025741158,
          -2.096967854394448,
          -2.063463278778998,
          -2.030817223997146,
          -1.9989946236174732,
          -1.9679622853116943,
          -1.9376887671337746,
          -1.9081442634707702,
          -1.879300499794487,
          -1.851130635431795,
          -1.8236091736496267,
          -1.7967118784206957,
          -1.7704156972977547,
          -1.7446986898797785,
          -1.7195399614025602,
          -1.694919601030574,
          -1.6708186244662377,
          -1.647218920528221,
          -1.624103201382215,
          -1.6014549561359888,
          -1.5792584075364389,
          -1.557498471529246,
          -1.5361607194628386,
          -1.5152313427369881,
          -1.4946971197135934,
          -1.4745453847224275,
          -1.4547639990087782,
          -1.4353413234824002,
          -1.416266193138816,
          -1.3975278930344328,
          -1.3791161357063693,
          -1.361021039936688,
          -1.343233110768457,
          -1.3257432206884319,
          -1.3085425918975628,
          -1.2916227795967032,
          -1.2749756562202361,
          -1.2585933965555325,
          -1.2424684636906094,
          -1.2265935957367444,
          -1.2109617932765588,
          -1.195566307491727,
          -1.18040062892776,
          -1.1654584768562484,
          -1.1507337891978582,
          -1.1362207129717996,
          -1.1219135952399868,
          -1.107806974516159,
          -1.0938955726123791,
          -1.0801742868970567,
          -1.0666381829404945,
          -1.0532824875254252,
          -1.0401025820016059,
          -1.0270939959647942,
          -1.0142524012417697,
          -1.0015736061642355,
          -0.9890535501154724,
          -0.9766882983347218,
          -0.9644740369651194,
          -0.9524070683319784,
          -0.9404838064389378,
          -0.9287007726703533,
          -0.9170545916889148,
          -0.9055419875182372,
          -0.8941597798006861,
          -0.8829048802213738,
          -0.8717742890897099,
          -0.8607650920704484,
          -0.8498744570566394,
          -0.8390996311772806,
          -0.8284379379329576,
          -0.8178867744530517,
          -0.8074436088685476,
          -0.7971059777947175,
          -0.7868714839183675,
          -0.7767377936845318,
          -0.7667026350778757,
          -0.7567637954942339,
          -0.746919119698045,
          -0.737166507861597,
          -0.7275039136822596,
          -0.7179293425740871,
          -0.7084408499303146,
          -0.6990365394535293,
          -0.6897145615503807,
          -0.6804731117879429,
          -0.6713104294089011,
          -0.6622247959029666,
          -0.6532145336319714,
          -0.6442780045063028,
          -0.6354136087103752,
          -0.6266197834750298,
          -0.6178950018947863,
          -0.6092377717880163,
          -0.600646634598203,
          -0.5921201643344942,
          -0.5836569665499161,
          -0.5752556773556101,
          -0.5669149624696156,
          -0.5586335162987107,
          -0.5504100610519709,
          -0.5422433458846916,
          -0.5341321460714591,
          -0.5260752622071342,
          -0.5180715194346437,
          -0.5101197666984612,
          -0.5022188760227455,
          -0.4943677418131574,
          -0.4865652801813728,
          -0.478810428291422,
          -0.47110214372695053,
          -0.4634394038786065,
          -0.45582120535072645,
          -0.4482465633865943,
          -0.44071451131151185,
          -0.43322409999301903,
          -0.42577439731756367,
          -0.41836448768301415,
          -0.4109934715063774,
          -0.40366046474614564,
          -0.39636459843872074,
          -0.38910501824834925,
          -0.3818808840300845,
          -0.37469136940524495,
          -0.36753566134892485,
          -0.36041295978906773,
          -0.3533224772166941,
          -0.3462634383068296,
          -0.3392350795497588,
          -0.33223664889218246,
          -0.32526740538793364,
          -0.3183266188578659,
          -0.31141356955857635,
          -0.30452754785963787,
          -0.2976678539289939,
          -0.29083379742623505,
          -0.2840246972034267,
          -0.2772398810132303,
          -0.2704786852240084,
          -0.26374045454167555,
          -0.25702454173800465,
          -0.2503303073851688,
          -0.24365711959625053,
          -0.23700435377149637,
          -0.23037139235009807,
          -0.2237576245672587,
          -0.21716244621636077,
          -0.21058525941600068,
          -0.2040254723817214,
          -0.19748249920221958,
          -0.19095575961987124,
          -0.1844446788153634,
          -0.17794868719628623,
          -0.17146722018948446,
          -0.16499971803703,
          -0.15854562559563118,
          -0.15210439213933,
          -0.14567547116534285,
          -0.13925832020287238,
          -0.1328524006247727,
          -0.12645717746189594,
          -0.12007211922001051,
          -0.11369669769912527,
          -0.10733038781511568,
          -0.10097266742349238,
          -0.09462301714521316,
          -0.0882809201943839,
          -0.08194586220775313,
          -0.07561733107585682,
          -0.06929481677570277,
          -0.06297781120488656,
          -0.056665808017000815,
          -0.05035830245825128,
          -0.04405479120513852,
          -0.03775477220312209,
          -0.03145774450612833,
          -0.025163208116820976,
          -0.018870663827497382,
          -0.012579613061531256,
          -0.0062895577152260775,
          -2.4492935982947064e-16
         ],
         "yaxis": "y"
        }
       ],
       "layout": {
        "coloraxis": {
         "colorbar": {
          "title": {
           "text": "color"
          }
         },
         "colorscale": [
          [
           0,
           "#0d0887"
          ],
          [
           0.1111111111111111,
           "#46039f"
          ],
          [
           0.2222222222222222,
           "#7201a8"
          ],
          [
           0.3333333333333333,
           "#9c179e"
          ],
          [
           0.4444444444444444,
           "#bd3786"
          ],
          [
           0.5555555555555556,
           "#d8576b"
          ],
          [
           0.6666666666666666,
           "#ed7953"
          ],
          [
           0.7777777777777778,
           "#fb9f3a"
          ],
          [
           0.8888888888888888,
           "#fdca26"
          ],
          [
           1,
           "#f0f921"
          ]
         ]
        },
        "legend": {
         "tracegroupgap": 0
        },
        "margin": {
         "t": 60
        },
        "template": {
         "data": {
          "bar": [
           {
            "error_x": {
             "color": "#2a3f5f"
            },
            "error_y": {
             "color": "#2a3f5f"
            },
            "marker": {
             "line": {
              "color": "#E5ECF6",
              "width": 0.5
             },
             "pattern": {
              "fillmode": "overlay",
              "size": 10,
              "solidity": 0.2
             }
            },
            "type": "bar"
           }
          ],
          "barpolar": [
           {
            "marker": {
             "line": {
              "color": "#E5ECF6",
              "width": 0.5
             },
             "pattern": {
              "fillmode": "overlay",
              "size": 10,
              "solidity": 0.2
             }
            },
            "type": "barpolar"
           }
          ],
          "carpet": [
           {
            "aaxis": {
             "endlinecolor": "#2a3f5f",
             "gridcolor": "white",
             "linecolor": "white",
             "minorgridcolor": "white",
             "startlinecolor": "#2a3f5f"
            },
            "baxis": {
             "endlinecolor": "#2a3f5f",
             "gridcolor": "white",
             "linecolor": "white",
             "minorgridcolor": "white",
             "startlinecolor": "#2a3f5f"
            },
            "type": "carpet"
           }
          ],
          "choropleth": [
           {
            "colorbar": {
             "outlinewidth": 0,
             "ticks": ""
            },
            "type": "choropleth"
           }
          ],
          "contour": [
           {
            "colorbar": {
             "outlinewidth": 0,
             "ticks": ""
            },
            "colorscale": [
             [
              0,
              "#0d0887"
             ],
             [
              0.1111111111111111,
              "#46039f"
             ],
             [
              0.2222222222222222,
              "#7201a8"
             ],
             [
              0.3333333333333333,
              "#9c179e"
             ],
             [
              0.4444444444444444,
              "#bd3786"
             ],
             [
              0.5555555555555556,
              "#d8576b"
             ],
             [
              0.6666666666666666,
              "#ed7953"
             ],
             [
              0.7777777777777778,
              "#fb9f3a"
             ],
             [
              0.8888888888888888,
              "#fdca26"
             ],
             [
              1,
              "#f0f921"
             ]
            ],
            "type": "contour"
           }
          ],
          "contourcarpet": [
           {
            "colorbar": {
             "outlinewidth": 0,
             "ticks": ""
            },
            "type": "contourcarpet"
           }
          ],
          "heatmap": [
           {
            "colorbar": {
             "outlinewidth": 0,
             "ticks": ""
            },
            "colorscale": [
             [
              0,
              "#0d0887"
             ],
             [
              0.1111111111111111,
              "#46039f"
             ],
             [
              0.2222222222222222,
              "#7201a8"
             ],
             [
              0.3333333333333333,
              "#9c179e"
             ],
             [
              0.4444444444444444,
              "#bd3786"
             ],
             [
              0.5555555555555556,
              "#d8576b"
             ],
             [
              0.6666666666666666,
              "#ed7953"
             ],
             [
              0.7777777777777778,
              "#fb9f3a"
             ],
             [
              0.8888888888888888,
              "#fdca26"
             ],
             [
              1,
              "#f0f921"
             ]
            ],
            "type": "heatmap"
           }
          ],
          "heatmapgl": [
           {
            "colorbar": {
             "outlinewidth": 0,
             "ticks": ""
            },
            "colorscale": [
             [
              0,
              "#0d0887"
             ],
             [
              0.1111111111111111,
              "#46039f"
             ],
             [
              0.2222222222222222,
              "#7201a8"
             ],
             [
              0.3333333333333333,
              "#9c179e"
             ],
             [
              0.4444444444444444,
              "#bd3786"
             ],
             [
              0.5555555555555556,
              "#d8576b"
             ],
             [
              0.6666666666666666,
              "#ed7953"
             ],
             [
              0.7777777777777778,
              "#fb9f3a"
             ],
             [
              0.8888888888888888,
              "#fdca26"
             ],
             [
              1,
              "#f0f921"
             ]
            ],
            "type": "heatmapgl"
           }
          ],
          "histogram": [
           {
            "marker": {
             "pattern": {
              "fillmode": "overlay",
              "size": 10,
              "solidity": 0.2
             }
            },
            "type": "histogram"
           }
          ],
          "histogram2d": [
           {
            "colorbar": {
             "outlinewidth": 0,
             "ticks": ""
            },
            "colorscale": [
             [
              0,
              "#0d0887"
             ],
             [
              0.1111111111111111,
              "#46039f"
             ],
             [
              0.2222222222222222,
              "#7201a8"
             ],
             [
              0.3333333333333333,
              "#9c179e"
             ],
             [
              0.4444444444444444,
              "#bd3786"
             ],
             [
              0.5555555555555556,
              "#d8576b"
             ],
             [
              0.6666666666666666,
              "#ed7953"
             ],
             [
              0.7777777777777778,
              "#fb9f3a"
             ],
             [
              0.8888888888888888,
              "#fdca26"
             ],
             [
              1,
              "#f0f921"
             ]
            ],
            "type": "histogram2d"
           }
          ],
          "histogram2dcontour": [
           {
            "colorbar": {
             "outlinewidth": 0,
             "ticks": ""
            },
            "colorscale": [
             [
              0,
              "#0d0887"
             ],
             [
              0.1111111111111111,
              "#46039f"
             ],
             [
              0.2222222222222222,
              "#7201a8"
             ],
             [
              0.3333333333333333,
              "#9c179e"
             ],
             [
              0.4444444444444444,
              "#bd3786"
             ],
             [
              0.5555555555555556,
              "#d8576b"
             ],
             [
              0.6666666666666666,
              "#ed7953"
             ],
             [
              0.7777777777777778,
              "#fb9f3a"
             ],
             [
              0.8888888888888888,
              "#fdca26"
             ],
             [
              1,
              "#f0f921"
             ]
            ],
            "type": "histogram2dcontour"
           }
          ],
          "mesh3d": [
           {
            "colorbar": {
             "outlinewidth": 0,
             "ticks": ""
            },
            "type": "mesh3d"
           }
          ],
          "parcoords": [
           {
            "line": {
             "colorbar": {
              "outlinewidth": 0,
              "ticks": ""
             }
            },
            "type": "parcoords"
           }
          ],
          "pie": [
           {
            "automargin": true,
            "type": "pie"
           }
          ],
          "scatter": [
           {
            "fillpattern": {
             "fillmode": "overlay",
             "size": 10,
             "solidity": 0.2
            },
            "type": "scatter"
           }
          ],
          "scatter3d": [
           {
            "line": {
             "colorbar": {
              "outlinewidth": 0,
              "ticks": ""
             }
            },
            "marker": {
             "colorbar": {
              "outlinewidth": 0,
              "ticks": ""
             }
            },
            "type": "scatter3d"
           }
          ],
          "scattercarpet": [
           {
            "marker": {
             "colorbar": {
              "outlinewidth": 0,
              "ticks": ""
             }
            },
            "type": "scattercarpet"
           }
          ],
          "scattergeo": [
           {
            "marker": {
             "colorbar": {
              "outlinewidth": 0,
              "ticks": ""
             }
            },
            "type": "scattergeo"
           }
          ],
          "scattergl": [
           {
            "marker": {
             "colorbar": {
              "outlinewidth": 0,
              "ticks": ""
             }
            },
            "type": "scattergl"
           }
          ],
          "scattermapbox": [
           {
            "marker": {
             "colorbar": {
              "outlinewidth": 0,
              "ticks": ""
             }
            },
            "type": "scattermapbox"
           }
          ],
          "scatterpolar": [
           {
            "marker": {
             "colorbar": {
              "outlinewidth": 0,
              "ticks": ""
             }
            },
            "type": "scatterpolar"
           }
          ],
          "scatterpolargl": [
           {
            "marker": {
             "colorbar": {
              "outlinewidth": 0,
              "ticks": ""
             }
            },
            "type": "scatterpolargl"
           }
          ],
          "scatterternary": [
           {
            "marker": {
             "colorbar": {
              "outlinewidth": 0,
              "ticks": ""
             }
            },
            "type": "scatterternary"
           }
          ],
          "surface": [
           {
            "colorbar": {
             "outlinewidth": 0,
             "ticks": ""
            },
            "colorscale": [
             [
              0,
              "#0d0887"
             ],
             [
              0.1111111111111111,
              "#46039f"
             ],
             [
              0.2222222222222222,
              "#7201a8"
             ],
             [
              0.3333333333333333,
              "#9c179e"
             ],
             [
              0.4444444444444444,
              "#bd3786"
             ],
             [
              0.5555555555555556,
              "#d8576b"
             ],
             [
              0.6666666666666666,
              "#ed7953"
             ],
             [
              0.7777777777777778,
              "#fb9f3a"
             ],
             [
              0.8888888888888888,
              "#fdca26"
             ],
             [
              1,
              "#f0f921"
             ]
            ],
            "type": "surface"
           }
          ],
          "table": [
           {
            "cells": {
             "fill": {
              "color": "#EBF0F8"
             },
             "line": {
              "color": "white"
             }
            },
            "header": {
             "fill": {
              "color": "#C8D4E3"
             },
             "line": {
              "color": "white"
             }
            },
            "type": "table"
           }
          ]
         },
         "layout": {
          "annotationdefaults": {
           "arrowcolor": "#2a3f5f",
           "arrowhead": 0,
           "arrowwidth": 1
          },
          "autotypenumbers": "strict",
          "coloraxis": {
           "colorbar": {
            "outlinewidth": 0,
            "ticks": ""
           }
          },
          "colorscale": {
           "diverging": [
            [
             0,
             "#8e0152"
            ],
            [
             0.1,
             "#c51b7d"
            ],
            [
             0.2,
             "#de77ae"
            ],
            [
             0.3,
             "#f1b6da"
            ],
            [
             0.4,
             "#fde0ef"
            ],
            [
             0.5,
             "#f7f7f7"
            ],
            [
             0.6,
             "#e6f5d0"
            ],
            [
             0.7,
             "#b8e186"
            ],
            [
             0.8,
             "#7fbc41"
            ],
            [
             0.9,
             "#4d9221"
            ],
            [
             1,
             "#276419"
            ]
           ],
           "sequential": [
            [
             0,
             "#0d0887"
            ],
            [
             0.1111111111111111,
             "#46039f"
            ],
            [
             0.2222222222222222,
             "#7201a8"
            ],
            [
             0.3333333333333333,
             "#9c179e"
            ],
            [
             0.4444444444444444,
             "#bd3786"
            ],
            [
             0.5555555555555556,
             "#d8576b"
            ],
            [
             0.6666666666666666,
             "#ed7953"
            ],
            [
             0.7777777777777778,
             "#fb9f3a"
            ],
            [
             0.8888888888888888,
             "#fdca26"
            ],
            [
             1,
             "#f0f921"
            ]
           ],
           "sequentialminus": [
            [
             0,
             "#0d0887"
            ],
            [
             0.1111111111111111,
             "#46039f"
            ],
            [
             0.2222222222222222,
             "#7201a8"
            ],
            [
             0.3333333333333333,
             "#9c179e"
            ],
            [
             0.4444444444444444,
             "#bd3786"
            ],
            [
             0.5555555555555556,
             "#d8576b"
            ],
            [
             0.6666666666666666,
             "#ed7953"
            ],
            [
             0.7777777777777778,
             "#fb9f3a"
            ],
            [
             0.8888888888888888,
             "#fdca26"
            ],
            [
             1,
             "#f0f921"
            ]
           ]
          },
          "colorway": [
           "#636efa",
           "#EF553B",
           "#00cc96",
           "#ab63fa",
           "#FFA15A",
           "#19d3f3",
           "#FF6692",
           "#B6E880",
           "#FF97FF",
           "#FECB52"
          ],
          "font": {
           "color": "#2a3f5f"
          },
          "geo": {
           "bgcolor": "white",
           "lakecolor": "white",
           "landcolor": "#E5ECF6",
           "showlakes": true,
           "showland": true,
           "subunitcolor": "white"
          },
          "hoverlabel": {
           "align": "left"
          },
          "hovermode": "closest",
          "mapbox": {
           "style": "light"
          },
          "paper_bgcolor": "white",
          "plot_bgcolor": "#E5ECF6",
          "polar": {
           "angularaxis": {
            "gridcolor": "white",
            "linecolor": "white",
            "ticks": ""
           },
           "bgcolor": "#E5ECF6",
           "radialaxis": {
            "gridcolor": "white",
            "linecolor": "white",
            "ticks": ""
           }
          },
          "scene": {
           "xaxis": {
            "backgroundcolor": "#E5ECF6",
            "gridcolor": "white",
            "gridwidth": 2,
            "linecolor": "white",
            "showbackground": true,
            "ticks": "",
            "zerolinecolor": "white"
           },
           "yaxis": {
            "backgroundcolor": "#E5ECF6",
            "gridcolor": "white",
            "gridwidth": 2,
            "linecolor": "white",
            "showbackground": true,
            "ticks": "",
            "zerolinecolor": "white"
           },
           "zaxis": {
            "backgroundcolor": "#E5ECF6",
            "gridcolor": "white",
            "gridwidth": 2,
            "linecolor": "white",
            "showbackground": true,
            "ticks": "",
            "zerolinecolor": "white"
           }
          },
          "shapedefaults": {
           "line": {
            "color": "#2a3f5f"
           }
          },
          "ternary": {
           "aaxis": {
            "gridcolor": "white",
            "linecolor": "white",
            "ticks": ""
           },
           "baxis": {
            "gridcolor": "white",
            "linecolor": "white",
            "ticks": ""
           },
           "bgcolor": "#E5ECF6",
           "caxis": {
            "gridcolor": "white",
            "linecolor": "white",
            "ticks": ""
           }
          },
          "title": {
           "x": 0.05
          },
          "xaxis": {
           "automargin": true,
           "gridcolor": "white",
           "linecolor": "white",
           "ticks": "",
           "title": {
            "standoff": 15
           },
           "zerolinecolor": "white",
           "zerolinewidth": 2
          },
          "yaxis": {
           "automargin": true,
           "gridcolor": "white",
           "linecolor": "white",
           "ticks": "",
           "title": {
            "standoff": 15
           },
           "zerolinecolor": "white",
           "zerolinewidth": 2
          }
         }
        },
        "xaxis": {
         "anchor": "y",
         "domain": [
          0,
          1
         ],
         "title": {
          "text": "x"
         }
        },
        "yaxis": {
         "anchor": "x",
         "domain": [
          0,
          1
         ],
         "title": {
          "text": "y"
         }
        }
       }
      }
     },
     "metadata": {},
     "output_type": "display_data"
    }
   ],
   "source": [
    "x = np.linspace(0,2*np.pi,1000)\n",
    "y= np.tan(x)\n",
    "fig = px.scatter(x=x,y=y,color=y)\n",
    "fig.show()"
   ]
  },
  {
   "cell_type": "code",
   "execution_count": 24,
   "id": "74db8e36",
   "metadata": {},
   "outputs": [
    {
     "data": {
      "application/vnd.plotly.v1+json": {
       "config": {
        "plotlyServerURL": "https://plot.ly"
       },
       "data": [
        {
         "hovertemplate": "x=%{x}<br>y=%{y}<br>color=%{marker.color}<extra></extra>",
         "legendgroup": "",
         "marker": {
          "color": [
           0,
           865051903.1141869,
           3460207612.4567475,
           7785467128.027682,
           13840830449.82699,
           21626297577.854675,
           31141868512.11073,
           42387543252.59516,
           55363321799.30796,
           70069204152.24915,
           86505190311.4187,
           104671280276.81662,
           124567474048.44292,
           146193771626.29758,
           169550173010.38065,
           194636678200.69205,
           221453287197.23184,
           250000000000,
           280276816608.9966,
           312283737024.22144,
           346020761245.6748,
           381487889273.3564,
           418685121107.2665,
           457612456747.40485,
           498269896193.77167,
           540657439446.36676,
           584775086505.1903,
           630622837370.2422,
           678200692041.5226,
           727508650519.0311,
           778546712802.7682,
           831314878892.7335,
           885813148788.9274,
           942041522491.3496,
           1000000000000
          ],
          "coloraxis": "coloraxis",
          "symbol": "circle"
         },
         "mode": "markers",
         "name": "",
         "orientation": "v",
         "showlegend": false,
         "type": "scatter",
         "x": [
          0,
          29411.764705882353,
          58823.529411764706,
          88235.29411764706,
          117647.05882352941,
          147058.82352941178,
          176470.58823529413,
          205882.35294117648,
          235294.11764705883,
          264705.8823529412,
          294117.64705882355,
          323529.4117647059,
          352941.17647058825,
          382352.9411764706,
          411764.70588235295,
          441176.4705882353,
          470588.23529411765,
          500000,
          529411.7647058824,
          558823.5294117647,
          588235.2941176471,
          617647.0588235294,
          647058.8235294118,
          676470.5882352941,
          705882.3529411765,
          735294.1176470588,
          764705.8823529412,
          794117.6470588235,
          823529.4117647059,
          852941.1764705882,
          882352.9411764706,
          911764.7058823529,
          941176.4705882353,
          970588.2352941177,
          1000000
         ],
         "xaxis": "x",
         "y": [
          0,
          865051903.1141869,
          3460207612.4567475,
          7785467128.027682,
          13840830449.82699,
          21626297577.854675,
          31141868512.11073,
          42387543252.59516,
          55363321799.30796,
          70069204152.24915,
          86505190311.4187,
          104671280276.81662,
          124567474048.44292,
          146193771626.29758,
          169550173010.38065,
          194636678200.69205,
          221453287197.23184,
          250000000000,
          280276816608.9966,
          312283737024.22144,
          346020761245.6748,
          381487889273.3564,
          418685121107.2665,
          457612456747.40485,
          498269896193.77167,
          540657439446.36676,
          584775086505.1903,
          630622837370.2422,
          678200692041.5226,
          727508650519.0311,
          778546712802.7682,
          831314878892.7335,
          885813148788.9274,
          942041522491.3496,
          1000000000000
         ],
         "yaxis": "y"
        }
       ],
       "layout": {
        "coloraxis": {
         "colorbar": {
          "title": {
           "text": "color"
          }
         },
         "colorscale": [
          [
           0,
           "#0d0887"
          ],
          [
           0.1111111111111111,
           "#46039f"
          ],
          [
           0.2222222222222222,
           "#7201a8"
          ],
          [
           0.3333333333333333,
           "#9c179e"
          ],
          [
           0.4444444444444444,
           "#bd3786"
          ],
          [
           0.5555555555555556,
           "#d8576b"
          ],
          [
           0.6666666666666666,
           "#ed7953"
          ],
          [
           0.7777777777777778,
           "#fb9f3a"
          ],
          [
           0.8888888888888888,
           "#fdca26"
          ],
          [
           1,
           "#f0f921"
          ]
         ]
        },
        "legend": {
         "tracegroupgap": 0
        },
        "margin": {
         "t": 60
        },
        "template": {
         "data": {
          "bar": [
           {
            "error_x": {
             "color": "#2a3f5f"
            },
            "error_y": {
             "color": "#2a3f5f"
            },
            "marker": {
             "line": {
              "color": "#E5ECF6",
              "width": 0.5
             },
             "pattern": {
              "fillmode": "overlay",
              "size": 10,
              "solidity": 0.2
             }
            },
            "type": "bar"
           }
          ],
          "barpolar": [
           {
            "marker": {
             "line": {
              "color": "#E5ECF6",
              "width": 0.5
             },
             "pattern": {
              "fillmode": "overlay",
              "size": 10,
              "solidity": 0.2
             }
            },
            "type": "barpolar"
           }
          ],
          "carpet": [
           {
            "aaxis": {
             "endlinecolor": "#2a3f5f",
             "gridcolor": "white",
             "linecolor": "white",
             "minorgridcolor": "white",
             "startlinecolor": "#2a3f5f"
            },
            "baxis": {
             "endlinecolor": "#2a3f5f",
             "gridcolor": "white",
             "linecolor": "white",
             "minorgridcolor": "white",
             "startlinecolor": "#2a3f5f"
            },
            "type": "carpet"
           }
          ],
          "choropleth": [
           {
            "colorbar": {
             "outlinewidth": 0,
             "ticks": ""
            },
            "type": "choropleth"
           }
          ],
          "contour": [
           {
            "colorbar": {
             "outlinewidth": 0,
             "ticks": ""
            },
            "colorscale": [
             [
              0,
              "#0d0887"
             ],
             [
              0.1111111111111111,
              "#46039f"
             ],
             [
              0.2222222222222222,
              "#7201a8"
             ],
             [
              0.3333333333333333,
              "#9c179e"
             ],
             [
              0.4444444444444444,
              "#bd3786"
             ],
             [
              0.5555555555555556,
              "#d8576b"
             ],
             [
              0.6666666666666666,
              "#ed7953"
             ],
             [
              0.7777777777777778,
              "#fb9f3a"
             ],
             [
              0.8888888888888888,
              "#fdca26"
             ],
             [
              1,
              "#f0f921"
             ]
            ],
            "type": "contour"
           }
          ],
          "contourcarpet": [
           {
            "colorbar": {
             "outlinewidth": 0,
             "ticks": ""
            },
            "type": "contourcarpet"
           }
          ],
          "heatmap": [
           {
            "colorbar": {
             "outlinewidth": 0,
             "ticks": ""
            },
            "colorscale": [
             [
              0,
              "#0d0887"
             ],
             [
              0.1111111111111111,
              "#46039f"
             ],
             [
              0.2222222222222222,
              "#7201a8"
             ],
             [
              0.3333333333333333,
              "#9c179e"
             ],
             [
              0.4444444444444444,
              "#bd3786"
             ],
             [
              0.5555555555555556,
              "#d8576b"
             ],
             [
              0.6666666666666666,
              "#ed7953"
             ],
             [
              0.7777777777777778,
              "#fb9f3a"
             ],
             [
              0.8888888888888888,
              "#fdca26"
             ],
             [
              1,
              "#f0f921"
             ]
            ],
            "type": "heatmap"
           }
          ],
          "heatmapgl": [
           {
            "colorbar": {
             "outlinewidth": 0,
             "ticks": ""
            },
            "colorscale": [
             [
              0,
              "#0d0887"
             ],
             [
              0.1111111111111111,
              "#46039f"
             ],
             [
              0.2222222222222222,
              "#7201a8"
             ],
             [
              0.3333333333333333,
              "#9c179e"
             ],
             [
              0.4444444444444444,
              "#bd3786"
             ],
             [
              0.5555555555555556,
              "#d8576b"
             ],
             [
              0.6666666666666666,
              "#ed7953"
             ],
             [
              0.7777777777777778,
              "#fb9f3a"
             ],
             [
              0.8888888888888888,
              "#fdca26"
             ],
             [
              1,
              "#f0f921"
             ]
            ],
            "type": "heatmapgl"
           }
          ],
          "histogram": [
           {
            "marker": {
             "pattern": {
              "fillmode": "overlay",
              "size": 10,
              "solidity": 0.2
             }
            },
            "type": "histogram"
           }
          ],
          "histogram2d": [
           {
            "colorbar": {
             "outlinewidth": 0,
             "ticks": ""
            },
            "colorscale": [
             [
              0,
              "#0d0887"
             ],
             [
              0.1111111111111111,
              "#46039f"
             ],
             [
              0.2222222222222222,
              "#7201a8"
             ],
             [
              0.3333333333333333,
              "#9c179e"
             ],
             [
              0.4444444444444444,
              "#bd3786"
             ],
             [
              0.5555555555555556,
              "#d8576b"
             ],
             [
              0.6666666666666666,
              "#ed7953"
             ],
             [
              0.7777777777777778,
              "#fb9f3a"
             ],
             [
              0.8888888888888888,
              "#fdca26"
             ],
             [
              1,
              "#f0f921"
             ]
            ],
            "type": "histogram2d"
           }
          ],
          "histogram2dcontour": [
           {
            "colorbar": {
             "outlinewidth": 0,
             "ticks": ""
            },
            "colorscale": [
             [
              0,
              "#0d0887"
             ],
             [
              0.1111111111111111,
              "#46039f"
             ],
             [
              0.2222222222222222,
              "#7201a8"
             ],
             [
              0.3333333333333333,
              "#9c179e"
             ],
             [
              0.4444444444444444,
              "#bd3786"
             ],
             [
              0.5555555555555556,
              "#d8576b"
             ],
             [
              0.6666666666666666,
              "#ed7953"
             ],
             [
              0.7777777777777778,
              "#fb9f3a"
             ],
             [
              0.8888888888888888,
              "#fdca26"
             ],
             [
              1,
              "#f0f921"
             ]
            ],
            "type": "histogram2dcontour"
           }
          ],
          "mesh3d": [
           {
            "colorbar": {
             "outlinewidth": 0,
             "ticks": ""
            },
            "type": "mesh3d"
           }
          ],
          "parcoords": [
           {
            "line": {
             "colorbar": {
              "outlinewidth": 0,
              "ticks": ""
             }
            },
            "type": "parcoords"
           }
          ],
          "pie": [
           {
            "automargin": true,
            "type": "pie"
           }
          ],
          "scatter": [
           {
            "fillpattern": {
             "fillmode": "overlay",
             "size": 10,
             "solidity": 0.2
            },
            "type": "scatter"
           }
          ],
          "scatter3d": [
           {
            "line": {
             "colorbar": {
              "outlinewidth": 0,
              "ticks": ""
             }
            },
            "marker": {
             "colorbar": {
              "outlinewidth": 0,
              "ticks": ""
             }
            },
            "type": "scatter3d"
           }
          ],
          "scattercarpet": [
           {
            "marker": {
             "colorbar": {
              "outlinewidth": 0,
              "ticks": ""
             }
            },
            "type": "scattercarpet"
           }
          ],
          "scattergeo": [
           {
            "marker": {
             "colorbar": {
              "outlinewidth": 0,
              "ticks": ""
             }
            },
            "type": "scattergeo"
           }
          ],
          "scattergl": [
           {
            "marker": {
             "colorbar": {
              "outlinewidth": 0,
              "ticks": ""
             }
            },
            "type": "scattergl"
           }
          ],
          "scattermapbox": [
           {
            "marker": {
             "colorbar": {
              "outlinewidth": 0,
              "ticks": ""
             }
            },
            "type": "scattermapbox"
           }
          ],
          "scatterpolar": [
           {
            "marker": {
             "colorbar": {
              "outlinewidth": 0,
              "ticks": ""
             }
            },
            "type": "scatterpolar"
           }
          ],
          "scatterpolargl": [
           {
            "marker": {
             "colorbar": {
              "outlinewidth": 0,
              "ticks": ""
             }
            },
            "type": "scatterpolargl"
           }
          ],
          "scatterternary": [
           {
            "marker": {
             "colorbar": {
              "outlinewidth": 0,
              "ticks": ""
             }
            },
            "type": "scatterternary"
           }
          ],
          "surface": [
           {
            "colorbar": {
             "outlinewidth": 0,
             "ticks": ""
            },
            "colorscale": [
             [
              0,
              "#0d0887"
             ],
             [
              0.1111111111111111,
              "#46039f"
             ],
             [
              0.2222222222222222,
              "#7201a8"
             ],
             [
              0.3333333333333333,
              "#9c179e"
             ],
             [
              0.4444444444444444,
              "#bd3786"
             ],
             [
              0.5555555555555556,
              "#d8576b"
             ],
             [
              0.6666666666666666,
              "#ed7953"
             ],
             [
              0.7777777777777778,
              "#fb9f3a"
             ],
             [
              0.8888888888888888,
              "#fdca26"
             ],
             [
              1,
              "#f0f921"
             ]
            ],
            "type": "surface"
           }
          ],
          "table": [
           {
            "cells": {
             "fill": {
              "color": "#EBF0F8"
             },
             "line": {
              "color": "white"
             }
            },
            "header": {
             "fill": {
              "color": "#C8D4E3"
             },
             "line": {
              "color": "white"
             }
            },
            "type": "table"
           }
          ]
         },
         "layout": {
          "annotationdefaults": {
           "arrowcolor": "#2a3f5f",
           "arrowhead": 0,
           "arrowwidth": 1
          },
          "autotypenumbers": "strict",
          "coloraxis": {
           "colorbar": {
            "outlinewidth": 0,
            "ticks": ""
           }
          },
          "colorscale": {
           "diverging": [
            [
             0,
             "#8e0152"
            ],
            [
             0.1,
             "#c51b7d"
            ],
            [
             0.2,
             "#de77ae"
            ],
            [
             0.3,
             "#f1b6da"
            ],
            [
             0.4,
             "#fde0ef"
            ],
            [
             0.5,
             "#f7f7f7"
            ],
            [
             0.6,
             "#e6f5d0"
            ],
            [
             0.7,
             "#b8e186"
            ],
            [
             0.8,
             "#7fbc41"
            ],
            [
             0.9,
             "#4d9221"
            ],
            [
             1,
             "#276419"
            ]
           ],
           "sequential": [
            [
             0,
             "#0d0887"
            ],
            [
             0.1111111111111111,
             "#46039f"
            ],
            [
             0.2222222222222222,
             "#7201a8"
            ],
            [
             0.3333333333333333,
             "#9c179e"
            ],
            [
             0.4444444444444444,
             "#bd3786"
            ],
            [
             0.5555555555555556,
             "#d8576b"
            ],
            [
             0.6666666666666666,
             "#ed7953"
            ],
            [
             0.7777777777777778,
             "#fb9f3a"
            ],
            [
             0.8888888888888888,
             "#fdca26"
            ],
            [
             1,
             "#f0f921"
            ]
           ],
           "sequentialminus": [
            [
             0,
             "#0d0887"
            ],
            [
             0.1111111111111111,
             "#46039f"
            ],
            [
             0.2222222222222222,
             "#7201a8"
            ],
            [
             0.3333333333333333,
             "#9c179e"
            ],
            [
             0.4444444444444444,
             "#bd3786"
            ],
            [
             0.5555555555555556,
             "#d8576b"
            ],
            [
             0.6666666666666666,
             "#ed7953"
            ],
            [
             0.7777777777777778,
             "#fb9f3a"
            ],
            [
             0.8888888888888888,
             "#fdca26"
            ],
            [
             1,
             "#f0f921"
            ]
           ]
          },
          "colorway": [
           "#636efa",
           "#EF553B",
           "#00cc96",
           "#ab63fa",
           "#FFA15A",
           "#19d3f3",
           "#FF6692",
           "#B6E880",
           "#FF97FF",
           "#FECB52"
          ],
          "font": {
           "color": "#2a3f5f"
          },
          "geo": {
           "bgcolor": "white",
           "lakecolor": "white",
           "landcolor": "#E5ECF6",
           "showlakes": true,
           "showland": true,
           "subunitcolor": "white"
          },
          "hoverlabel": {
           "align": "left"
          },
          "hovermode": "closest",
          "mapbox": {
           "style": "light"
          },
          "paper_bgcolor": "white",
          "plot_bgcolor": "#E5ECF6",
          "polar": {
           "angularaxis": {
            "gridcolor": "white",
            "linecolor": "white",
            "ticks": ""
           },
           "bgcolor": "#E5ECF6",
           "radialaxis": {
            "gridcolor": "white",
            "linecolor": "white",
            "ticks": ""
           }
          },
          "scene": {
           "xaxis": {
            "backgroundcolor": "#E5ECF6",
            "gridcolor": "white",
            "gridwidth": 2,
            "linecolor": "white",
            "showbackground": true,
            "ticks": "",
            "zerolinecolor": "white"
           },
           "yaxis": {
            "backgroundcolor": "#E5ECF6",
            "gridcolor": "white",
            "gridwidth": 2,
            "linecolor": "white",
            "showbackground": true,
            "ticks": "",
            "zerolinecolor": "white"
           },
           "zaxis": {
            "backgroundcolor": "#E5ECF6",
            "gridcolor": "white",
            "gridwidth": 2,
            "linecolor": "white",
            "showbackground": true,
            "ticks": "",
            "zerolinecolor": "white"
           }
          },
          "shapedefaults": {
           "line": {
            "color": "#2a3f5f"
           }
          },
          "ternary": {
           "aaxis": {
            "gridcolor": "white",
            "linecolor": "white",
            "ticks": ""
           },
           "baxis": {
            "gridcolor": "white",
            "linecolor": "white",
            "ticks": ""
           },
           "bgcolor": "#E5ECF6",
           "caxis": {
            "gridcolor": "white",
            "linecolor": "white",
            "ticks": ""
           }
          },
          "title": {
           "x": 0.05
          },
          "xaxis": {
           "automargin": true,
           "gridcolor": "white",
           "linecolor": "white",
           "ticks": "",
           "title": {
            "standoff": 15
           },
           "zerolinecolor": "white",
           "zerolinewidth": 2
          },
          "yaxis": {
           "automargin": true,
           "gridcolor": "white",
           "linecolor": "white",
           "ticks": "",
           "title": {
            "standoff": 15
           },
           "zerolinecolor": "white",
           "zerolinewidth": 2
          }
         }
        },
        "xaxis": {
         "anchor": "y",
         "domain": [
          0,
          1
         ],
         "title": {
          "text": "x"
         }
        },
        "yaxis": {
         "anchor": "x",
         "domain": [
          0,
          1
         ],
         "title": {
          "text": "y"
         }
        }
       }
      }
     },
     "metadata": {},
     "output_type": "display_data"
    }
   ],
   "source": [
    "x = np.linspace(0,1000000,35)\n",
    "y= np.square(x)\n",
    "fig = px.scatter(x=x,y=y,color=y)\n",
    "fig.show()"
   ]
  },
  {
   "cell_type": "code",
   "execution_count": null,
   "id": "c3ca11d4",
   "metadata": {},
   "outputs": [],
   "source": []
  },
  {
   "cell_type": "code",
   "execution_count": null,
   "id": "44bf7dc7",
   "metadata": {},
   "outputs": [],
   "source": []
  }
 ],
 "metadata": {
  "kernelspec": {
   "display_name": "Python 3.10.12 64-bit",
   "language": "python",
   "name": "python3"
  },
  "language_info": {
   "codemirror_mode": {
    "name": "ipython",
    "version": 3
   },
   "file_extension": ".py",
   "mimetype": "text/x-python",
   "name": "python",
   "nbconvert_exporter": "python",
   "pygments_lexer": "ipython3",
   "version": "3.10.12"
  },
  "vscode": {
   "interpreter": {
    "hash": "e7370f93d1d0cde622a1f8e1c04877d8463912d04d973331ad4851f04de6915a"
   }
  }
 },
 "nbformat": 4,
 "nbformat_minor": 5
}
