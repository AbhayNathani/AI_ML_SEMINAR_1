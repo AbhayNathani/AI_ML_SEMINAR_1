{
 "cells": [
  {
   "cell_type": "markdown",
   "id": "d2b83b34",
   "metadata": {},
   "source": [
    "# Graphs In Python Using PLOTLY\n",
    "---\n",
    "![plotly](./img/Plotly-logo.png)\n",
    "![plotly](./img/1_plotly.png)\n",
    "\n",
    "\n",
    "#### Plotly is a Python graphing library that produces interactive, publication-quality visualizations in a variety of formats, including charts, plots, and dashboards, ideal for data analysis and exploration.\n"
   ]
  },
  {
   "cell_type": "code",
   "execution_count": null,
   "id": "39cd2327",
   "metadata": {},
   "outputs": [],
   "source": [
    "# Import PLotly Library\n",
    "import plotly.express as px\n",
    "\n",
    "import pandas as pd"
   ]
  },
  {
   "cell_type": "code",
   "execution_count": null,
   "id": "653fd99e",
   "metadata": {},
   "outputs": [],
   "source": [
    "df = pd.read_csv(\"./data/Iris.csv\")\n",
    "df.head()"
   ]
  },
  {
   "cell_type": "code",
   "execution_count": null,
   "id": "000005bf",
   "metadata": {},
   "outputs": [],
   "source": [
    "df.describe()"
   ]
  },
  {
   "cell_type": "code",
   "execution_count": null,
   "id": "7511ef5a",
   "metadata": {},
   "outputs": [],
   "source": [
    "fig = px.line(df,x=\"PetalLengthCm\",y=\"Species\")\n",
    "fig.show()"
   ]
  },
  {
   "cell_type": "code",
   "execution_count": null,
   "id": "f41b9f87",
   "metadata": {},
   "outputs": [],
   "source": [
    "fig = px.histogram(df,x=\"SepalLengthCm\",y=\"PetalLengthCm\")\n",
    "fig.show()"
   ]
  },
  {
   "cell_type": "code",
   "execution_count": null,
   "id": "79cb1615",
   "metadata": {},
   "outputs": [],
   "source": [
    "fig = px.scatter(df,x=\"SepalLengthCm\",y=\"PetalLengthCm\",color=\"Species\",size=\"SepalWidthCm\")\n",
    "fig.show()"
   ]
  },
  {
   "cell_type": "code",
   "execution_count": null,
   "id": "cc226036",
   "metadata": {},
   "outputs": [],
   "source": [
    "fig = px.scatter(df,x=\"PetalWidthCm\",y=\"Species\",color=\"Species\")\n",
    "fig.show()"
   ]
  },
  {
   "cell_type": "code",
   "execution_count": null,
   "id": "2bb292e1",
   "metadata": {},
   "outputs": [],
   "source": [
    "fig = px.scatter(df,x=\"SepalWidthCm\",y=\"Species\",color=\"Species\")\n",
    "fig.show()"
   ]
  },
  {
   "cell_type": "code",
   "execution_count": null,
   "id": "1b361238",
   "metadata": {},
   "outputs": [],
   "source": [
    "fig = px.scatter(df,x=\"PetalLengthCm\",y=\"Species\",color=\"Species\")\n",
    "fig.show()"
   ]
  },
  {
   "cell_type": "code",
   "execution_count": null,
   "id": "02f11086",
   "metadata": {},
   "outputs": [],
   "source": [
    "fig = px.scatter(df,x=\"PetalLengthCm\",y=\"SepalLengthCm\",color=\"Species\")\n",
    "fig.show()"
   ]
  },
  {
   "cell_type": "code",
   "execution_count": null,
   "id": "81dc2fee",
   "metadata": {},
   "outputs": [],
   "source": [
    "fig = px.box(df,y=\"SepalLengthCm\",color=\"Species\")\n",
    "fig.show()"
   ]
  },
  {
   "cell_type": "code",
   "execution_count": null,
   "id": "e68d7780",
   "metadata": {},
   "outputs": [],
   "source": [
    "fig = px.box(df,x=\"Species\",y=\"SepalLengthCm\",color=\"Species\")\n",
    "fig.show()"
   ]
  },
  {
   "cell_type": "code",
   "execution_count": null,
   "id": "ec60bc2b",
   "metadata": {},
   "outputs": [],
   "source": [
    "fig = px.box(df,x=\"Species\",y=\"SepalWidthCm\",color=\"Species\")\n",
    "fig.show()"
   ]
  },
  {
   "cell_type": "code",
   "execution_count": null,
   "id": "7e403b47",
   "metadata": {},
   "outputs": [],
   "source": [
    "fig = px.box(df,x=\"Species\",y=\"PetalLengthCm\",color=\"Species\")\n",
    "fig.show()"
   ]
  },
  {
   "cell_type": "code",
   "execution_count": null,
   "id": "733f3efe",
   "metadata": {},
   "outputs": [],
   "source": [
    "fig = px.box(df,x=\"Species\",y=\"PetalWidthCm\",color=\"Species\")\n",
    "fig.show()"
   ]
  },
  {
   "cell_type": "markdown",
   "id": "709ca7a9",
   "metadata": {},
   "source": [
    "## Numpy , Maths And Graphs"
   ]
  },
  {
   "cell_type": "code",
   "execution_count": null,
   "id": "511c7733",
   "metadata": {},
   "outputs": [],
   "source": [
    "def f(x):return x**2\n",
    "\n",
    "x = [i for i in range(0,100,1)]\n",
    "y = [f(i) for i in x ]"
   ]
  },
  {
   "cell_type": "code",
   "execution_count": null,
   "id": "4c52a5ca",
   "metadata": {},
   "outputs": [],
   "source": [
    "fig = px.line(x=x,y=y)\n",
    "fig.show()"
   ]
  },
  {
   "cell_type": "code",
   "execution_count": null,
   "id": "68c54add",
   "metadata": {},
   "outputs": [],
   "source": [
    "fig = px.scatter(x=x,y=y,color=y)\n",
    "fig.show()"
   ]
  },
  {
   "cell_type": "code",
   "execution_count": null,
   "id": "06f992d4",
   "metadata": {},
   "outputs": [],
   "source": [
    "import numpy as np\n",
    "x = np.arange(0,100,1)\n",
    "y= np.vectorize(f)(x)"
   ]
  },
  {
   "cell_type": "code",
   "execution_count": null,
   "id": "575dfad0",
   "metadata": {},
   "outputs": [],
   "source": [
    "y= np.vectorize(f)(x)\n",
    "fig = px.scatter(x=x,y=y,color_discrete_sequence=['orange'])\n",
    "fig.show()"
   ]
  },
  {
   "cell_type": "code",
   "execution_count": null,
   "id": "00eef172",
   "metadata": {},
   "outputs": [],
   "source": [
    "y= np.vectorize(lambda x:0.37*x**3-36*x**2+5*x+20)(x)\n",
    "fig = px.scatter(x=x,y=y,color=y)\n",
    "fig.show()"
   ]
  },
  {
   "cell_type": "code",
   "execution_count": null,
   "id": "a3416513",
   "metadata": {},
   "outputs": [],
   "source": [
    "x = np.linspace(0,8*np.pi,1000)\n",
    "y= np.sin(x)\n",
    "fig = px.scatter(x=x,y=y,color=y)\n",
    "fig.show()"
   ]
  },
  {
   "cell_type": "code",
   "execution_count": null,
   "id": "c61d6509",
   "metadata": {},
   "outputs": [],
   "source": [
    "x = np.linspace(0,2*np.pi,1000)\n",
    "y= np.tan(x)\n",
    "fig = px.scatter(x=x,y=y,color=y)\n",
    "fig.show()"
   ]
  },
  {
   "cell_type": "code",
   "execution_count": null,
   "id": "74db8e36",
   "metadata": {},
   "outputs": [],
   "source": [
    "x = np.linspace(0,1000000,35)\n",
    "y= np.square(x)\n",
    "fig = px.scatter(x=x,y=y,color=y)\n",
    "fig.show()"
   ]
  },
  {
   "cell_type": "code",
   "execution_count": null,
   "id": "c3ca11d4",
   "metadata": {},
   "outputs": [],
   "source": []
  },
  {
   "cell_type": "code",
   "execution_count": null,
   "id": "44bf7dc7",
   "metadata": {},
   "outputs": [],
   "source": []
  }
 ],
 "metadata": {
  "kernelspec": {
   "display_name": "Python 3.10.12 64-bit",
   "language": "python",
   "name": "python3"
  },
  "language_info": {
   "codemirror_mode": {
    "name": "ipython",
    "version": 3
   },
   "file_extension": ".py",
   "mimetype": "text/x-python",
   "name": "python",
   "nbconvert_exporter": "python",
   "pygments_lexer": "ipython3",
   "version": "3.10.12"
  },
  "vscode": {
   "interpreter": {
    "hash": "e7370f93d1d0cde622a1f8e1c04877d8463912d04d973331ad4851f04de6915a"
   }
  }
 },
 "nbformat": 4,
 "nbformat_minor": 5
}
